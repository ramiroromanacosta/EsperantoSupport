{
 "metadata": {
  "language_info": {
   "codemirror_mode": {
    "name": "ipython",
    "version": 3
   },
   "file_extension": ".py",
   "mimetype": "text/x-python",
   "name": "python",
   "nbconvert_exporter": "python",
   "pygments_lexer": "ipython3",
   "version": "3.7.12"
  },
  "orig_nbformat": 2,
  "kernelspec": {
   "name": "python3712jvsc74a57bd04cd7ab41f5fca4b9b44701077e38c5ffd31fe66a6cab21e0214b68d958d0e462",
   "display_name": "Python 3.7.12 64-bit"
  },
  "metadata": {
   "interpreter": {
    "hash": "4cd7ab41f5fca4b9b44701077e38c5ffd31fe66a6cab21e0214b68d958d0e462"
   }
  }
 },
 "nbformat": 4,
 "nbformat_minor": 2,
 "cells": [
  {
   "source": [
    "### Step 1. Load required packages"
   ],
   "cell_type": "markdown",
   "metadata": {}
  },
  {
   "cell_type": "code",
   "execution_count": 1,
   "metadata": {},
   "outputs": [],
   "source": [
    "import pandas as pd\n",
    "import pandasql as ps\n",
    "from pathlib import Path\n",
    "workFolder = '/content/drive/Shareddrives/Esperanto/Supports/Suppliers/Work/1_Suppliers_Interface'"
   ]
  },
  {
   "source": [
    "### Step 2. Read required data"
   ],
   "cell_type": "markdown",
   "metadata": {}
  },
  {
   "cell_type": "code",
   "execution_count": 2,
   "metadata": {},
   "outputs": [],
   "source": [
    "reducedDf = pd.read_csv(Path(workFolder,'reducedDf.csv'), encoding='utf-8')\n",
    "duplicateRecordsWithClassificationDf = pd.read_csv(Path(workFolder,'duplicateRecordsWithClassificationDf.csv'), encoding='utf-8')"
   ]
  },
  {
   "source": [
    "### Step 3 - Identify Scenarios - Cases with more observations"
   ],
   "cell_type": "markdown",
   "metadata": {}
  },
  {
   "cell_type": "code",
   "execution_count": 3,
   "metadata": {},
   "outputs": [
    {
     "output_type": "stream",
     "name": "stdout",
     "text": [
      "2 65407\n3 11252\n4 1634\n5 25\n6 6\n7 1\n8 1\n10 1\n"
     ]
    }
   ],
   "source": [
    "sql_query = '''\n",
    "SELECT numObs,COUNT(*) AS numCases FROM duplicateRecordsWithClassificationDf\n",
    "GROUP BY numObs\n",
    "ORDER BY numCases DESC\n",
    "'''\n",
    "result = ps.sqldf(sql_query)\n",
    "for index, row in result.iterrows():\n",
    "    print(row['numObs'],row['numCases'])"
   ]
  },
  {
   "source": [
    "### Step 4 - Analisis of specific scenario"
   ],
   "cell_type": "markdown",
   "metadata": {}
  },
  {
   "cell_type": "code",
   "execution_count": 4,
   "metadata": {},
   "outputs": [
    {
     "output_type": "stream",
     "name": "stdout",
     "text": [
      "1 0 0 64670\n1 0 1 733\n1 1 0 3\n0 1 0 1\n"
     ]
    }
   ],
   "source": [
    "sql_query = '''\n",
    "SELECT multiple_feeds,multiples_ids,multiples_names,COUNT(*) AS numCases FROM\n",
    "(SELECT * FROM duplicateRecordsWithClassificationDf\n",
    "WHERE numObs=2)\n",
    "GROUP BY multiple_feeds,multiples_ids,multiples_names\n",
    "ORDER BY numCases DESC\n",
    "'''\n",
    "result = ps.sqldf(sql_query)\n",
    "for index, row in result.iterrows():\n",
    "    print(row['multiple_feeds'], row['multiples_ids'], row['multiples_names'], row['numCases'])"
   ]
  },
  {
   "cell_type": "code",
   "execution_count": 5,
   "metadata": {},
   "outputs": [
    {
     "output_type": "stream",
     "name": "stdout",
     "text": [
      "    Unnamed: 0 SISTEMA_LEGADO NUMERO_PROVEEDOR  \\\n0            0     CONSTRUNET            15239   \n1            1     CONSTRUNET            15795   \n2            2     CONSTRUNET            16109   \n3            3     CONSTRUNET            18077   \n4            4     CONSTRUNET            18785   \n..         ...            ...              ...   \n95          95         GASTOS    AIVC791215IM5   \n96          96         GASTOS     AMG960314812   \n97          97         GASTOS     ANO840306PL5   \n98          98         GASTOS    AOCJ920325N61   \n99          99         GASTOS    AOCP8411225Z1   \n\n                               VENDOR_NAME       NUM_1099  \n0             GRUPO SANDSTORM GAM SA DE CV   GSG010404212  \n1          JORGE GUADALUPE RODRIGUEZ OCHOA  ROOJ570206L7A  \n2                       SERNA RAMIREZ CRUZ  SERC660826UZ9  \n3         ELIZABETH ARACELI RIVAS ESPINOZA  RIEE641221PS4  \n4            CEMENTO EXPRESS S DE RL DE CV   CEX010613652  \n..                                     ...            ...  \n95           AVILA VAZQUEZ CLAUDIA GALICIA  AIVC791215IM5  \n96  ARRENDADORA DE MAQUINARIA DEL GOLFO SA   AMG960314812  \n97         AUTOMOTRIZ DEL NORESTE SA DE CV   ANO840306PL5  \n98               ANTONIO DE LA CRUZ JANETH  AOCJ920325N61  \n99                       ACOSTA CEJA PEDRO  AOCP8411225Z1  \n\n[100 rows x 5 columns]\n"
     ]
    }
   ],
   "source": [
    "print(reducedDf.head(100))"
   ]
  },
  {
   "cell_type": "code",
   "execution_count": 17,
   "metadata": {},
   "outputs": [
    {
     "output_type": "stream",
     "name": "stdout",
     "text": [
      "  SISTEMA_LEGADO NUMERO_PROVEEDOR                   VENDOR_NAME  \\\n0         GASTOS     &JE040614N51  A & J EXPORTACIONES SA DE CV   \n1          OBRAS     &JE040614N51  A & J EXPORTACIONES SA DE CV   \n2         GASTOS    00AL570409DC8      OSORIO ALVAREZ JOSE LUIS   \n3          OBRAS    00AL570409DC8      OSORIO ALVAREZ JOSE LUIS   \n4         GASTOS    00BR5103152L7        ORDOÑEZ BARBA RAYMUNDO   \n5          OBRAS    00BR5103152L7        ORDOÑEZ BARBA RAYMUNDO   \n6         GASTOS    00CE810603TI4             OROSCO CORIA EMMA   \n7          OBRAS    00CE810603TI4             OROSCO CORIA EMMA   \n8         GASTOS     A&G060523IW9          DE ANDA & GRACIA S C   \n9          OBRAS     A&G060523IW9          DE ANDA & GRACIA S C   \n\n        NUM_1099  numObs  caseNum  multiple_feeds  multiples_ids  \\\n0   &JE040614N51       2    12921               1              0   \n1   &JE040614N51       2    12921               1              0   \n2  00AL570409DC8       2    12922               1              0   \n3  00AL570409DC8       2    12922               1              0   \n4  00BR5103152L7       2    12923               1              0   \n5  00BR5103152L7       2    12923               1              0   \n6  00CE810603TI4       2    12924               1              0   \n7  00CE810603TI4       2    12924               1              0   \n8   A&G060523IW9       2    12927               1              0   \n9   A&G060523IW9       2    12927               1              0   \n\n   multiples_names  \n0                0  \n1                0  \n2                0  \n3                0  \n4                0  \n5                0  \n6                0  \n7                0  \n8                0  \n9                0  \n"
     ]
    }
   ],
   "source": [
    "sql_query = '''\n",
    "SELECT B.SISTEMA_LEGADO,B.NUMERO_PROVEEDOR,B.VENDOR_NAME,A.NUM_1099,\n",
    "A.numObs,A.caseNum,A.multiple_feeds,A.multiples_ids,A.multiples_names\n",
    "FROM\n",
    "(SELECT NUM_1099,numObs,caseNum,multiple_feeds,multiples_ids,multiples_names\n",
    "FROM duplicateRecordsWithClassificationDf\n",
    "WHERE numObs=2 AND multiple_feeds=1 AND multiples_ids=0 AND multiples_names=0) AS A\n",
    "LEFT JOIN\n",
    "(SELECT SISTEMA_LEGADO,NUMERO_PROVEEDOR,VENDOR_NAME,NUM_1099 FROM reducedDf) AS B\n",
    "ON (A.NUM_1099=B.NUM_1099)\n",
    "ORDER BY A.NUM_1099\n",
    "'''\n",
    "result = ps.sqldf(sql_query)\n",
    "print(result.head(10))\n",
    "result.to_csv(str(Path(workFolder,'duplicateRecords_2Obs_multipleFeeds.csv', encoding='utf-8')))"
   ]
  },
  {
   "cell_type": "code",
   "execution_count": null,
   "metadata": {},
   "outputs": [],
   "source": []
  }
 ]
}