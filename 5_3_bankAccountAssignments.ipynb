{
 "metadata": {
  "language_info": {
   "codemirror_mode": {
    "name": "ipython",
    "version": 3
   },
   "file_extension": ".py",
   "mimetype": "text/x-python",
   "name": "python",
   "nbconvert_exporter": "python",
   "pygments_lexer": "ipython3",
   "version": "3.7.12"
  },
  "orig_nbformat": 2,
  "kernelspec": {
   "name": "python2",
   "display_name": "Python 3.7.12 64-bit"
  }
 },
 "nbformat": 4,
 "nbformat_minor": 2,
 "cells": [
  {
   "source": [
    "## Data from File 5.3 Suppliers Bank Account Assignments"
   ],
   "cell_type": "markdown",
   "metadata": {}
  },
  {
   "source": [
    "### Step 1. Load required package"
   ],
   "cell_type": "markdown",
   "metadata": {}
  },
  {
   "cell_type": "code",
   "execution_count": 1,
   "metadata": {},
   "outputs": [],
   "source": [
    "import pandas as pd\n",
    "import pandasql as ps\n",
    "from pathlib import Path"
   ]
  },
  {
   "source": [
    "### Step 2 - Get sample from source file"
   ],
   "cell_type": "markdown",
   "metadata": {}
  },
  {
   "cell_type": "code",
   "execution_count": 3,
   "metadata": {},
   "outputs": [
    {
     "output_type": "stream",
     "name": "stdout",
     "text": [
      "SISTEMA_LEGADO,NUMERO_PROVEEDOR,FEEDER_IMPORT_BATCH_ID,TEMP_EXT_PAYEE_ID,TEMP_EXT_BANK_ACCT_ID,TEMP_PMT_INSTR_USE_ID,PRIMARY_FLAG,START_DATE,END_DATE\n\nOBRAS,GAVE860528F18,100,9,9,9,Y,,\n\nGASTOS,BIO111108JC6,100,12,12,12,Y,,\n\nOBRAS,BIO111108JC6,100,13,13,13,Y,,\n\nGASTOS,DSE090511EW5,100,18,18,18,Y,,\n\nOBRAS,DSE090511EW5,100,19,19,19,Y,,\n\nOBRAS,TVC8607234U2,100,23,23,23,Y,,\n\nGASTOS,TVC8607234U2,100,24,24,24,Y,,\n\nGASTOS,ABS110113195,100,27,27,27,Y,,\n\nOBRAS,ABS110113195,100,28,28,28,Y,,\n\nOBRAS,DUO7511286H3,100,37,37,37,Y,,\n\n"
     ]
    }
   ],
   "source": [
    "sourceFolder = '/content/drive/Shareddrives/Esperanto/Supports/Suppliers/5_Suppliers_Payees_BankAccounts'\n",
    "workFolder = '/content/drive/Shareddrives/Esperanto/Supports/Suppliers/Work/5_Bank_Accounts'\n",
    "fileName = '5.3. SUPPLIER_BANK_ACCOUNT_ASSIGNMENTS_COPPEL.csv'\n",
    "inputTextFile = open(Path(sourceFolder, fileName), 'r', encoding='latin-1')\n",
    "if inputTextFile:\n",
    "    numTextLines = 0\n",
    "    while True:\n",
    "        numTextLines += 1\n",
    "        textLine = inputTextFile.readline()\n",
    "        print(textLine)\n",
    "        if numTextLines >10:\n",
    "            break\n",
    "    inputTextFile.close()"
   ]
  },
  {
   "source": [
    "### Step 3 - Load supplier bank assignments data"
   ],
   "cell_type": "markdown",
   "metadata": {}
  },
  {
   "cell_type": "code",
   "execution_count": 7,
   "metadata": {},
   "outputs": [
    {
     "output_type": "stream",
     "name": "stdout",
     "text": [
      "  SISTEMA_LEGADO NUMERO_PROVEEDOR  FEEDER_IMPORT_BATCH_ID  TEMP_EXT_PAYEE_ID  \\\n0          OBRAS    GAVE860528F18                     100                  9   \n1         GASTOS     BIO111108JC6                     100                 12   \n2          OBRAS     BIO111108JC6                     100                 13   \n3         GASTOS     DSE090511EW5                     100                 18   \n4          OBRAS     DSE090511EW5                     100                 19   \n5          OBRAS     TVC8607234U2                     100                 23   \n6         GASTOS     TVC8607234U2                     100                 24   \n7         GASTOS     ABS110113195                     100                 27   \n8          OBRAS     ABS110113195                     100                 28   \n9          OBRAS     DUO7511286H3                     100                 37   \n\n   TEMP_EXT_BANK_ACCT_ID  TEMP_PMT_INSTR_USE_ID PRIMARY_FLAG  START_DATE  \\\n0                      9                      9            Y         NaN   \n1                     12                     12            Y         NaN   \n2                     13                     13            Y         NaN   \n3                     18                     18            Y         NaN   \n4                     19                     19            Y         NaN   \n5                     23                     23            Y         NaN   \n6                     24                     24            Y         NaN   \n7                     27                     27            Y         NaN   \n8                     28                     28            Y         NaN   \n9                     37                     37            Y         NaN   \n\n   END_DATE  \n0       NaN  \n1       NaN  \n2       NaN  \n3       NaN  \n4       NaN  \n5       NaN  \n6       NaN  \n7       NaN  \n8       NaN  \n9       NaN  \n171966  records found. \n"
     ]
    }
   ],
   "source": [
    "df = pd.read_csv(Path(sourceFolder,fileName), sep=',', encoding='latin-1')\n",
    "print(df.head(10))\n",
    "print(len(df.index), ' records found. ')"
   ]
  },
  {
   "cell_type": "code",
   "execution_count": 8,
   "metadata": {},
   "outputs": [
    {
     "output_type": "execute_result",
     "data": {
      "text/plain": [
       "SISTEMA_LEGADO             object\n",
       "NUMERO_PROVEEDOR           object\n",
       "FEEDER_IMPORT_BATCH_ID      int64\n",
       "TEMP_EXT_PAYEE_ID           int64\n",
       "TEMP_EXT_BANK_ACCT_ID       int64\n",
       "TEMP_PMT_INSTR_USE_ID       int64\n",
       "PRIMARY_FLAG               object\n",
       "START_DATE                float64\n",
       "END_DATE                  float64\n",
       "dtype: object"
      ]
     },
     "metadata": {},
     "execution_count": 8
    }
   ],
   "source": [
    "df.dtypes"
   ]
  },
  {
   "source": [
    "### Step 4 - Creates a modified dataset with key field as strings"
   ],
   "cell_type": "markdown",
   "metadata": {}
  },
  {
   "cell_type": "code",
   "execution_count": 9,
   "metadata": {},
   "outputs": [
    {
     "output_type": "stream",
     "name": "stdout",
     "text": [
      "  SISTEMA_LEGADO NUMERO_PROVEEDOR  FEEDER_IMPORT_BATCH_ID  TEMP_EXT_PAYEE_ID  \\\n0          OBRAS    GAVE860528F18                     100                  9   \n1         GASTOS     BIO111108JC6                     100                 12   \n2          OBRAS     BIO111108JC6                     100                 13   \n3         GASTOS     DSE090511EW5                     100                 18   \n4          OBRAS     DSE090511EW5                     100                 19   \n5          OBRAS     TVC8607234U2                     100                 23   \n6         GASTOS     TVC8607234U2                     100                 24   \n7         GASTOS     ABS110113195                     100                 27   \n8          OBRAS     ABS110113195                     100                 28   \n9          OBRAS     DUO7511286H3                     100                 37   \n\n   TEMP_EXT_BANK_ACCT_ID  TEMP_PMT_INSTR_USE_ID PRIMARY_FLAG  START_DATE  \\\n0                      9                      9            Y         NaN   \n1                     12                     12            Y         NaN   \n2                     13                     13            Y         NaN   \n3                     18                     18            Y         NaN   \n4                     19                     19            Y         NaN   \n5                     23                     23            Y         NaN   \n6                     24                     24            Y         NaN   \n7                     27                     27            Y         NaN   \n8                     28                     28            Y         NaN   \n9                     37                     37            Y         NaN   \n\n   END_DATE  \n0       NaN  \n1       NaN  \n2       NaN  \n3       NaN  \n4       NaN  \n5       NaN  \n6       NaN  \n7       NaN  \n8       NaN  \n9       NaN  \nSISTEMA_LEGADO             string\nNUMERO_PROVEEDOR           string\nFEEDER_IMPORT_BATCH_ID      int64\nTEMP_EXT_PAYEE_ID           int64\nTEMP_EXT_BANK_ACCT_ID       int64\nTEMP_PMT_INSTR_USE_ID       int64\nPRIMARY_FLAG               string\nSTART_DATE                float64\nEND_DATE                  float64\ndtype: object\n"
     ]
    }
   ],
   "source": [
    "modDf = df\n",
    "modDf['SISTEMA_LEGADO']=modDf['SISTEMA_LEGADO'].astype(pd.StringDtype())\n",
    "modDf['NUMERO_PROVEEDOR']=modDf['NUMERO_PROVEEDOR'].astype(pd.StringDtype())\n",
    "modDf['PRIMARY_FLAG']=modDf['PRIMARY_FLAG'].astype(pd.StringDtype())\n",
    "print(modDf.head(10))\n",
    "print(modDf.dtypes)"
   ]
  },
  {
   "source": [
    "### Step 5 - Reads Data in Scope"
   ],
   "cell_type": "markdown",
   "metadata": {}
  },
  {
   "cell_type": "code",
   "execution_count": 10,
   "metadata": {},
   "outputs": [
    {
     "output_type": "stream",
     "name": "stdout",
     "text": [
      "   Unnamed: 0 NUMERO_PROVEEDOR          ATTRIBUTE1\n0           0     &JE040614N51   12276001452967570\n1           1    00AL570409DC8   12650014247123077\n2           2    00BR5103152L7  137542104238981574\n3           3    00CE810603TI4  137282103200730959\n4           4             1482    2052093730305436\n5           5             1482   12320001445245786\n6           6            15020   21910040156221600\n7           7            15025   12180001719871518\n8           8            15026   30730232441602010\n9           9            15039   21743040145993103\n"
     ]
    }
   ],
   "source": [
    "dataInScopeDf = pd.read_csv(Path(workFolder, 'dataInScopeDfs.csv'), encoding='utf-8')\n",
    "print(dataInScopeDf.head(10))"
   ]
  },
  {
   "source": [
    "### Step 6 - Get Tax Id's or Supplier Id's in scope"
   ],
   "cell_type": "markdown",
   "metadata": {}
  },
  {
   "cell_type": "code",
   "execution_count": 11,
   "metadata": {},
   "outputs": [
    {
     "output_type": "stream",
     "name": "stdout",
     "text": [
      "NUMERO_PROVEEDOR    object\ndtype: object\n76565  suppliers in scope.\n  NUMERO_PROVEEDOR\n0     &JE040614N51\n1    00AL570409DC8\n2    00BR5103152L7\n3    00CE810603TI4\n4             1482\n5            15020\n6            15025\n7            15026\n8            15039\n9            15043\n"
     ]
    }
   ],
   "source": [
    "sql_query = '''\n",
    "SELECT NUMERO_PROVEEDOR FROM\n",
    "(SELECT DISTINCT NUMERO_PROVEEDOR FROM dataInScopeDf)\n",
    "ORDER BY NUMERO_PROVEEDOR ASC\n",
    "'''\n",
    "SuppliersInScope = ps.sqldf(sql_query)\n",
    "print(SuppliersInScope.dtypes)\n",
    "print(len(SuppliersInScope.index), ' suppliers in scope.')\n",
    "print(SuppliersInScope.head(10))"
   ]
  },
  {
   "source": [
    "### Step 5 - Merge Suppliers in Scope with 5.3 Table data"
   ],
   "cell_type": "markdown",
   "metadata": {}
  },
  {
   "cell_type": "code",
   "execution_count": 12,
   "metadata": {},
   "outputs": [
    {
     "output_type": "stream",
     "name": "stdout",
     "text": [
      "164946  records obtained.\n  NUMERO_PROVEEDOR      SISTEMA_LEGADO  FEEDER_IMPORT_BATCH_ID  \\\n0     &JE040614N51              GASTOS                     100   \n1     &JE040614N51               OBRAS                     100   \n2    00AL570409DC8              GASTOS                     100   \n3    00AL570409DC8               OBRAS                     100   \n4    00BR5103152L7               OBRAS                     100   \n5    00BR5103152L7              GASTOS                     100   \n6    00CE810603TI4               OBRAS                     100   \n7    00CE810603TI4              GASTOS                     100   \n8             1482         PORTAL SARI                     100   \n9             1482  NEGOCIOS AFILIADOS                     100   \n\n   TEMP_EXT_PAYEE_ID  TEMP_EXT_BANK_ACCT_ID  TEMP_PMT_INSTR_USE_ID  \\\n0                139                    134                    134   \n1                140                    135                    135   \n2             166443                  67376                  67376   \n3             166445                  67378                  67378   \n4             164158                  65088                  65088   \n5             164159                  65089                  65089   \n6             164715                  65649                  65649   \n7             164716                  65650                  65650   \n8              39271                  39365                  39365   \n9             177717                  78661                  78661   \n\n  PRIMARY_FLAG  START_DATE  END_DATE  \n0            Y         NaN       NaN  \n1            Y         NaN       NaN  \n2            Y         NaN       NaN  \n3            Y         NaN       NaN  \n4            Y         NaN       NaN  \n5            Y         NaN       NaN  \n6            Y         NaN       NaN  \n7            Y         NaN       NaN  \n8            Y         NaN       NaN  \n9            Y         NaN       NaN  \n"
     ]
    }
   ],
   "source": [
    "subSetDf = SuppliersInScope.merge(modDf, on='NUMERO_PROVEEDOR', how='left')\n",
    "subSetDf = subSetDf[subSetDf['SISTEMA_LEGADO'].notna()]\n",
    "print(len(subSetDf.index), ' records obtained.')\n",
    "print(subSetDf.head(10))"
   ]
  },
  {
   "source": [
    "### Steps6 - Validate Legacy Systems in Scope"
   ],
   "cell_type": "markdown",
   "metadata": {}
  },
  {
   "cell_type": "code",
   "execution_count": 13,
   "metadata": {},
   "outputs": [
    {
     "output_type": "stream",
     "name": "stdout",
     "text": [
      "11  records found.\n['GASTOS', 'OBRAS', 'PORTAL SARI', 'NEGOCIOS AFILIADOS', 'CONSTRUNET', 'SIM', 'REFACCIONARIA', 'TECNOLOGIA', 'SIE', 'MARKETPLACE', 'MOTOR DE SEGUIMIENTO']\n"
     ]
    }
   ],
   "source": [
    "legacySystemsFound = subSetDf.SISTEMA_LEGADO.unique()\n",
    "print(len(legacySystemsFound), ' records found.')\n",
    "print(list(legacySystemsFound))"
   ]
  },
  {
   "source": [
    "### Steps 7 - check distribution of records per legacy system"
   ],
   "cell_type": "markdown",
   "metadata": {}
  },
  {
   "cell_type": "code",
   "execution_count": 14,
   "metadata": {},
   "outputs": [
    {
     "output_type": "stream",
     "name": "stdout",
     "text": [
      "GASTOS , 74871\nOBRAS , 74871\nMOTOR DE SEGUIMIENTO , 11147\nCONSTRUNET , 1922\nSIM , 1921\nNEGOCIOS AFILIADOS , 107\nTECNOLOGIA , 77\nSIE , 11\nMARKETPLACE , 10\nREFACCIONARIA , 8\nPORTAL SARI , 1\n"
     ]
    }
   ],
   "source": [
    "sql_query = '''\n",
    "SELECT SISTEMA_LEGADO,COUNT(*) AS numObs FROM subSetDf\n",
    "GROUP BY SISTEMA_LEGADO\n",
    "ORDER BY numObs DESC\n",
    "'''\n",
    "distPerLegacySystemDf = ps.sqldf(sql_query)\n",
    "for index, row in distPerLegacySystemDf.iterrows():\n",
    "    print(row['SISTEMA_LEGADO'], ',', row['numObs'])"
   ]
  },
  {
   "cell_type": "code",
   "execution_count": null,
   "metadata": {},
   "outputs": [],
   "source": []
  }
 ]
}