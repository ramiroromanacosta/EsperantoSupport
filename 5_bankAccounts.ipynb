{
 "metadata": {
  "language_info": {
   "codemirror_mode": {
    "name": "ipython",
    "version": 3
   },
   "file_extension": ".py",
   "mimetype": "text/x-python",
   "name": "python",
   "nbconvert_exporter": "python",
   "pygments_lexer": "ipython3",
   "version": "3.7.12"
  },
  "orig_nbformat": 2,
  "kernelspec": {
   "name": "python3712jvsc74a57bd04cd7ab41f5fca4b9b44701077e38c5ffd31fe66a6cab21e0214b68d958d0e462",
   "display_name": "Python 3.7.12 64-bit"
  },
  "metadata": {
   "interpreter": {
    "hash": "4cd7ab41f5fca4b9b44701077e38c5ffd31fe66a6cab21e0214b68d958d0e462"
   }
  }
 },
 "nbformat": 4,
 "nbformat_minor": 2,
 "cells": [
  {
   "source": [
    "### Step 1. Load required packages"
   ],
   "cell_type": "markdown",
   "metadata": {}
  },
  {
   "cell_type": "code",
   "execution_count": 1,
   "metadata": {},
   "outputs": [],
   "source": [
    "import pandas as pd\n",
    "import pandasql as ps\n",
    "from pathlib import Path"
   ]
  },
  {
   "source": [
    "### Step 2 Load bank account data"
   ],
   "cell_type": "markdown",
   "metadata": {}
  },
  {
   "cell_type": "code",
   "execution_count": 2,
   "metadata": {},
   "outputs": [],
   "source": [
    "sourceFolder = '/content/drive/Shareddrives/Esperanto/Supports/Suppliers/5_Suppliers_Payees_BankAccounts'\n",
    "filename = '5.2. SUPPLIER_BANK_ACCOUNTS_COPPEL.csv'\n",
    "df = pd.read_csv(Path(sourceFolder,filename), sep=';', quotechar=chr(39), encoding='latin-1')"
   ]
  },
  {
   "cell_type": "code",
   "execution_count": 3,
   "metadata": {
    "tags": []
   },
   "outputs": [
    {
     "output_type": "stream",
     "name": "stdout",
     "text": [
      "  SISTEMA_LEGADO NUMERO_PROVEEDOR  FEEDER_IMPORT_BATCH_ID  TEMP_EXT_PAYEE_ID  \\\n0          OBRAS    GAVE860528F18                     100                  9   \n1         GASTOS     BIO111108JC6                     100                 12   \n2          OBRAS     BIO111108JC6                     100                 13   \n3         GASTOS     DSE090511EW5                     100                 18   \n4          OBRAS     DSE090511EW5                     100                 19   \n5          OBRAS     TVC8607234U2                     100                 23   \n6         GASTOS     TVC8607234U2                     100                 24   \n7         GASTOS     ABS110113195                     100                 27   \n8          OBRAS     ABS110113195                     100                 28   \n9          OBRAS     DUO7511286H3                     100                 37   \n\n   TEMP_EXT_BANK_ACCT_ID   BANK_NAME  BRANCH_NAME COUNTRY_CODE  \\\n0                      9        HSBC  PROVEEDORES           MX   \n1                     12     BANORTE  PROVEEDORES           MX   \n2                     13     BANORTE  PROVEEDORES           MX   \n3                     18      AFIRME  PROVEEDORES           MX   \n4                     19      AFIRME  PROVEEDORES           MX   \n5                     23  SCOTIABANK  PROVEEDORES           MX   \n6                     24  SCOTIABANK  PROVEEDORES           MX   \n7                     27   SANTANDER  PROVEEDORES           MX   \n8                     28   SANTANDER  PROVEEDORES           MX   \n9                     37     BANAMEX  PROVEEDORES           MX   \n\n   BANK_ACCOUNT_NAME  BANK_ACCOUNT_NUM  ... ATTRIBUTE8 ATTRIBUTE9  \\\n0                NaN      4.057367e+09  ...        NaN        NaN   \n1                NaN      8.083514e+08  ...        NaN        NaN   \n2                NaN      8.083514e+08  ...        NaN        NaN   \n3                NaN      1.081199e+08  ...        NaN        NaN   \n4                NaN      1.081199e+08  ...        NaN        NaN   \n5                NaN      1.066360e+08  ...        NaN        NaN   \n6                NaN      1.066360e+08  ...        NaN        NaN   \n7                NaN      2.001660e+09  ...        NaN        NaN   \n8                NaN      2.001660e+09  ...        NaN        NaN   \n9                NaN      4.680781e+07  ...        NaN        NaN   \n\n   ATTRIBUTE10  ATTRIBUTE11  ATTRIBUTE12  ATTRIBUTE13  ATTRIBUTE14  \\\n0          NaN          NaN          NaN          NaN          NaN   \n1          NaN          NaN          NaN          NaN          NaN   \n2          NaN          NaN          NaN          NaN          NaN   \n3          NaN          NaN          NaN          NaN          NaN   \n4          NaN          NaN          NaN          NaN          NaN   \n5          NaN          NaN          NaN          NaN          NaN   \n6          NaN          NaN          NaN          NaN          NaN   \n7          NaN          NaN          NaN          NaN          NaN   \n8          NaN          NaN          NaN          NaN          NaN   \n9          NaN          NaN          NaN          NaN          NaN   \n\n   ATTRIBUTE15  CLABE_NUMCHAR  CLABE_VALIDATION  \n0          NaN             18              True  \n1          NaN             18              True  \n2          NaN             18              True  \n3          NaN             18              True  \n4          NaN             18              True  \n5          NaN             18              True  \n6          NaN             18              True  \n7          NaN             18              True  \n8          NaN             18              True  \n9          NaN             18              True  \n\n[10 rows x 43 columns]\n"
     ]
    }
   ],
   "source": [
    "df['CLABE_NUMCHAR'] = 0\n",
    "df['CLABE_VALIDATION'] = False \n",
    "df['ATTRIBUTE1'] = df['ATTRIBUTE1'].astype(str)\n",
    "for index, row in df.iterrows():\n",
    "    accountNum = row['ATTRIBUTE1'].replace('.0','')\n",
    "    numChars = len(accountNum)\n",
    "    df.loc[index, 'CLABE_NUMCHAR'] = numChars\n",
    "    if numChars = 18:\n",
    "        df.loc[index, 'CLABE_VALIDATION'] = True\n",
    "print(df.head(10))"
   ]
  },
  {
   "cell_type": "code",
   "execution_count": 5,
   "metadata": {},
   "outputs": [
    {
     "output_type": "stream",
     "name": "stdout",
     "text": [
      "1 ,  164872\n0 ,  7094\n"
     ]
    }
   ],
   "source": [
    "sql_query = '''\n",
    "SELECT CLABE_VALIDATION,COUNT(*) AS NumCases FROM df\n",
    "GROUP BY CLABE_VALIDATION\n",
    "ORDER BY NumCases DESC\n",
    "'''\n",
    "result = ps.sqldf(sql_query)\n",
    "for index, row in result.iterrows():\n",
    "    print(row['CLABE_VALIDATION'], ', ', row['NumCases'])\n"
   ]
  },
  {
   "cell_type": "code",
   "execution_count": 6,
   "metadata": {},
   "outputs": [
    {
     "output_type": "stream",
     "name": "stdout",
     "text": [
      "20  : 36\n18  : 164836\n17  : 78\n16  : 16\n15  : 4\n11  : 2\n10  : 2\n9  : 2\n1  : 6990\n"
     ]
    }
   ],
   "source": [
    "sql_query = '''\n",
    "SELECT CLABE_NUMCHAR,COUNT(*) AS NumCases FROM df\n",
    "GROUP BY CLABE_NUMCHAR\n",
    "ORDER BY CLABE_NUMCHAR DESC\n",
    "'''\n",
    "result = ps.sqldf(sql_query)\n",
    "for index, row in result.iterrows():\n",
    "    print(row['CLABE_NUMCHAR'],' :', row['NumCases'])"
   ]
  },
  {
   "cell_type": "code",
   "execution_count": null,
   "metadata": {},
   "outputs": [],
   "source": [
    "ValidAccountDf = df.loc[df['CLABE_VALIDATION'] == some_value]"
   ]
  }
 ]
}