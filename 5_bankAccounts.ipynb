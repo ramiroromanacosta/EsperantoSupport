{
 "metadata": {
  "language_info": {
   "codemirror_mode": {
    "name": "ipython",
    "version": 3
   },
   "file_extension": ".py",
   "mimetype": "text/x-python",
   "name": "python",
   "nbconvert_exporter": "python",
   "pygments_lexer": "ipython3",
   "version": "3.7.12"
  },
  "orig_nbformat": 2,
  "kernelspec": {
   "name": "python3712jvsc74a57bd04cd7ab41f5fca4b9b44701077e38c5ffd31fe66a6cab21e0214b68d958d0e462",
   "display_name": "Python 3.7.12 64-bit"
  },
  "metadata": {
   "interpreter": {
    "hash": "4cd7ab41f5fca4b9b44701077e38c5ffd31fe66a6cab21e0214b68d958d0e462"
   }
  }
 },
 "nbformat": 4,
 "nbformat_minor": 2,
 "cells": [
  {
   "source": [
    "### Step 1. Load required packages"
   ],
   "cell_type": "markdown",
   "metadata": {}
  },
  {
   "cell_type": "code",
   "execution_count": 1,
   "metadata": {},
   "outputs": [],
   "source": [
    "import pandas as pd\n",
    "import pandasql as ps\n",
    "from pathlib import Path"
   ]
  },
  {
   "source": [
    "### Step 2 Load bank account data"
   ],
   "cell_type": "markdown",
   "metadata": {}
  },
  {
   "cell_type": "code",
   "execution_count": 2,
   "metadata": {},
   "outputs": [],
   "source": [
    "sourceFolder = '/content/drive/Shareddrives/Esperanto/Supports/Suppliers/5_Suppliers_Payees_BankAccounts'\n",
    "filename = '5.2. SUPPLIER_BANK_ACCOUNTS_COPPEL.csv'\n",
    "df = pd.read_csv(Path(sourceFolder,filename), sep=';', quotechar=chr(39), encoding='latin-1')"
   ]
  },
  {
   "cell_type": "code",
   "execution_count": 3,
   "metadata": {
    "tags": []
   },
   "outputs": [
    {
     "output_type": "error",
     "ename": "SyntaxError",
     "evalue": "invalid syntax (<ipython-input-3-db096e5c0a44>, line 8)",
     "traceback": [
      "\u001b[0;36m  File \u001b[0;32m\"<ipython-input-3-db096e5c0a44>\"\u001b[0;36m, line \u001b[0;32m8\u001b[0m\n\u001b[0;31m    if numChars = 18:\u001b[0m\n\u001b[0m                ^\u001b[0m\n\u001b[0;31mSyntaxError\u001b[0m\u001b[0;31m:\u001b[0m invalid syntax\n"
     ]
    }
   ],
   "source": [
    "df['CLABE_NUMCHAR'] = 0\n",
    "df['CLABE_VALIDATION'] = False \n",
    "df['ATTRIBUTE1'] = df['ATTRIBUTE1'].astype(str)\n",
    "for index, row in df.iterrows():\n",
    "    accountNum = row['ATTRIBUTE1'].replace('.0','')\n",
    "    numChars = len(accountNum)\n",
    "    df.loc[index, 'CLABE_NUMCHAR'] = numChars\n",
    "    if numChars == 18:\n",
    "        df.loc[index, 'CLABE_VALIDATION'] = True\n",
    "print(df.head(10))"
   ]
  },
  {
   "cell_type": "code",
   "execution_count": 5,
   "metadata": {},
   "outputs": [
    {
     "output_type": "stream",
     "name": "stdout",
     "text": [
      "1 ,  164872\n0 ,  7094\n"
     ]
    }
   ],
   "source": [
    "sql_query = '''\n",
    "SELECT CLABE_VALIDATION,COUNT(*) AS NumCases FROM df\n",
    "GROUP BY CLABE_VALIDATION\n",
    "ORDER BY NumCases DESC\n",
    "'''\n",
    "result = ps.sqldf(sql_query)\n",
    "for index, row in result.iterrows():\n",
    "    print(row['CLABE_VALIDATION'], ', ', row['NumCases'])\n"
   ]
  },
  {
   "cell_type": "code",
   "execution_count": 6,
   "metadata": {},
   "outputs": [
    {
     "output_type": "stream",
     "name": "stdout",
     "text": [
      "20  : 36\n18  : 164836\n17  : 78\n16  : 16\n15  : 4\n11  : 2\n10  : 2\n9  : 2\n1  : 6990\n"
     ]
    }
   ],
   "source": [
    "sql_query = '''\n",
    "SELECT CLABE_NUMCHAR,COUNT(*) AS NumCases FROM df\n",
    "GROUP BY CLABE_NUMCHAR\n",
    "ORDER BY CLABE_NUMCHAR DESC\n",
    "'''\n",
    "result = ps.sqldf(sql_query)\n",
    "for index, row in result.iterrows():\n",
    "    print(row['CLABE_NUMCHAR'],' :', row['NumCases'])"
   ]
  },
  {
   "cell_type": "code",
   "execution_count": null,
   "metadata": {},
   "outputs": [],
   "source": [
    "ValidAccountDf = df.loc[df['CLABE_VALIDATION'] == True]"
   ]
  }
 ]
}