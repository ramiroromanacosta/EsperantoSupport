{
 "metadata": {
  "language_info": {
   "codemirror_mode": {
    "name": "ipython",
    "version": 3
   },
   "file_extension": ".py",
   "mimetype": "text/x-python",
   "name": "python",
   "nbconvert_exporter": "python",
   "pygments_lexer": "ipython3",
   "version": "3.7.12"
  },
  "orig_nbformat": 2,
  "kernelspec": {
   "name": "python3712jvsc74a57bd04cd7ab41f5fca4b9b44701077e38c5ffd31fe66a6cab21e0214b68d958d0e462",
   "display_name": "Python 3.7.12 64-bit"
  },
  "metadata": {
   "interpreter": {
    "hash": "4cd7ab41f5fca4b9b44701077e38c5ffd31fe66a6cab21e0214b68d958d0e462"
   }
  }
 },
 "nbformat": 4,
 "nbformat_minor": 2,
 "cells": [
  {
   "source": [
    "### Step 1. Load required packages"
   ],
   "cell_type": "markdown",
   "metadata": {}
  },
  {
   "cell_type": "code",
   "execution_count": 8,
   "metadata": {},
   "outputs": [],
   "source": [
    "import pandas as pd\n",
    "import pandasql as ps\n",
    "from pathlib import Path"
   ]
  },
  {
   "source": [
    "### Step 2 Load bank account data"
   ],
   "cell_type": "markdown",
   "metadata": {}
  },
  {
   "cell_type": "code",
   "execution_count": 2,
   "metadata": {},
   "outputs": [],
   "source": [
    "sourceFolder = '/content/drive/Shareddrives/Esperanto/Supports/Suppliers/5_Suppliers_Payees_BankAccounts'\n",
    "filename = '5.2. SUPPLIER_BANK_ACCOUNTS_COPPEL.csv'\n",
    "df = pd.read_csv(Path(sourceFolder,filename), sep=';', quotechar=chr(39), encoding='latin-1')"
   ]
  },
  {
   "cell_type": "code",
   "execution_count": 3,
   "metadata": {
    "tags": []
   },
   "outputs": [
    {
     "output_type": "stream",
     "name": "stdout",
     "text": [
      "  SISTEMA_LEGADO NUMERO_PROVEEDOR  FEEDER_IMPORT_BATCH_ID  TEMP_EXT_PAYEE_ID  \\\n0          OBRAS    GAVE860528F18                     100                  9   \n1         GASTOS     BIO111108JC6                     100                 12   \n2          OBRAS     BIO111108JC6                     100                 13   \n3         GASTOS     DSE090511EW5                     100                 18   \n4          OBRAS     DSE090511EW5                     100                 19   \n5          OBRAS     TVC8607234U2                     100                 23   \n6         GASTOS     TVC8607234U2                     100                 24   \n7         GASTOS     ABS110113195                     100                 27   \n8          OBRAS     ABS110113195                     100                 28   \n9          OBRAS     DUO7511286H3                     100                 37   \n\n   TEMP_EXT_BANK_ACCT_ID   BANK_NAME  BRANCH_NAME COUNTRY_CODE  \\\n0                      9        HSBC  PROVEEDORES           MX   \n1                     12     BANORTE  PROVEEDORES           MX   \n2                     13     BANORTE  PROVEEDORES           MX   \n3                     18      AFIRME  PROVEEDORES           MX   \n4                     19      AFIRME  PROVEEDORES           MX   \n5                     23  SCOTIABANK  PROVEEDORES           MX   \n6                     24  SCOTIABANK  PROVEEDORES           MX   \n7                     27   SANTANDER  PROVEEDORES           MX   \n8                     28   SANTANDER  PROVEEDORES           MX   \n9                     37     BANAMEX  PROVEEDORES           MX   \n\n   BANK_ACCOUNT_NAME BANK_ACCOUNT_NUM  ... ATTRIBUTE9 ATTRIBUTE10  \\\n0                NaN     4057367294.0  ...        NaN         NaN   \n1                NaN      808351359.0  ...        NaN         NaN   \n2                NaN      808351359.0  ...        NaN         NaN   \n3                NaN      108119934.0  ...        NaN         NaN   \n4                NaN      108119934.0  ...        NaN         NaN   \n5                NaN      106635989.0  ...        NaN         NaN   \n6                NaN      106635989.0  ...        NaN         NaN   \n7                NaN     2001659940.0  ...        NaN         NaN   \n8                NaN     2001659940.0  ...        NaN         NaN   \n9                NaN       46807810.0  ...        NaN         NaN   \n\n   ATTRIBUTE11  ATTRIBUTE12  ATTRIBUTE13  ATTRIBUTE14  ATTRIBUTE15  \\\n0          NaN          NaN          NaN          NaN          NaN   \n1          NaN          NaN          NaN          NaN          NaN   \n2          NaN          NaN          NaN          NaN          NaN   \n3          NaN          NaN          NaN          NaN          NaN   \n4          NaN          NaN          NaN          NaN          NaN   \n5          NaN          NaN          NaN          NaN          NaN   \n6          NaN          NaN          NaN          NaN          NaN   \n7          NaN          NaN          NaN          NaN          NaN   \n8          NaN          NaN          NaN          NaN          NaN   \n9          NaN          NaN          NaN          NaN          NaN   \n\n   BANK_ACCOUNT_NUM_STRING  BANK_ACCOUNT_NUM_NUMCHAR  \\\n0                     None                        10   \n1                     None                         9   \n2                     None                         9   \n3                     None                         9   \n4                     None                         9   \n5                     None                         9   \n6                     None                         9   \n7                     None                        10   \n8                     None                        10   \n9                     None                         8   \n\n   BANK_ACCOUNT_NUM_VALIDATION  \n0                        False  \n1                        False  \n2                        False  \n3                        False  \n4                        False  \n5                        False  \n6                        False  \n7                        False  \n8                        False  \n9                        False  \n\n[10 rows x 44 columns]\n"
     ]
    }
   ],
   "source": [
    "df['CLABE_NUMCHAR'] = 0\n",
    "df['CLABE_VALIDATION'] = False \n",
    "df['ATTRIBUTE1'] = df['ATTRIBUTE1'].astype(str)\n",
    "for index, row in df.iterrows():\n",
    "    accountNum = row['ATTRIBUTE1'].replace('.0','')\n",
    "    numChars = len(accountNum)\n",
    "    df.loc[index, 'CLABE_NUMCHAR'] = numChars\n",
    "    if numChars >= 18:\n",
    "        df.loc[index, 'CLABE_VALIDATION'] = True\n",
    "print(df.head(10))"
   ]
  },
  {
   "cell_type": "code",
   "execution_count": 4,
   "metadata": {},
   "outputs": [
    {
     "output_type": "stream",
     "name": "stdout",
     "text": [
      "BANK_ACCOUNT_NUM_VALIDATION         0\nNumCases                       171966\nName: 0, dtype: int64\n"
     ]
    }
   ],
   "source": [
    "sql_query = '''\n",
    "SELECT BANK_ACCOUNT_NUM_VALIDATION,COUNT(*) AS NumCases FROM df\n",
    "GROUP BY BANK_ACCOUNT_NUM_VALIDATION\n",
    "ORDER BY NumCases DESC\n",
    "'''\n",
    "result = ps.sqldf(sql_query)\n",
    "for index, row in result.iterrows():\n",
    "    print(row)\n"
   ]
  },
  {
   "cell_type": "code",
   "execution_count": 6,
   "metadata": {},
   "outputs": [
    {
     "output_type": "stream",
     "name": "stdout",
     "text": [
      "15  : 12\n14  : 100\n13  : 4\n12  : 11\n11  : 32728\n10  : 19648\n9  : 86448\n8  : 17127\n7  : 9212\n6  : 1748\n5  : 3191\n4  : 691\n3  : 863\n2  : 16\n1  : 167\n"
     ]
    }
   ],
   "source": [
    "sql_query = '''\n",
    "SELECT BANK_ACCOUNT_NUM_NUMCHAR,COUNT(*) AS NumCases FROM df\n",
    "GROUP BY BANK_ACCOUNT_NUM_NUMCHAR\n",
    "ORDER BY BANK_ACCOUNT_NUM_NUMCHAR DESC\n",
    "'''\n",
    "result = ps.sqldf(sql_query)\n",
    "for index, row in result.iterrows():\n",
    "    print(row['BANK_ACCOUNT_NUM_NUMCHAR'],' :', row['NumCases'])"
   ]
  },
  {
   "cell_type": "code",
   "execution_count": null,
   "metadata": {},
   "outputs": [],
   "source": [
    "for column in list(df.columns):\n",
    "    print(colum)"
   ]
  }
 ]
}