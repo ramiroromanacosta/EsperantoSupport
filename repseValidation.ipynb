{
 "metadata": {
  "language_info": {
   "codemirror_mode": {
    "name": "ipython",
    "version": 3
   },
   "file_extension": ".py",
   "mimetype": "text/x-python",
   "name": "python",
   "nbconvert_exporter": "python",
   "pygments_lexer": "ipython3",
   "version": "3.7.12"
  },
  "orig_nbformat": 2,
  "kernelspec": {
   "name": "python2",
   "display_name": "Python 3.7.12 64-bit"
  }
 },
 "nbformat": 4,
 "nbformat_minor": 2,
 "cells": [
  {
   "cell_type": "code",
   "execution_count": 1,
   "metadata": {},
   "outputs": [],
   "source": [
    "import pandas as pd\n",
    "import pandasql as ps\n",
    "from pathlib import Path"
   ]
  },
  {
   "cell_type": "code",
   "execution_count": 2,
   "metadata": {},
   "outputs": [
    {
     "output_type": "stream",
     "name": "stdout",
     "text": [
      "                                              NOMBRE  \\\n0                 JUAN PABLO MIGUEL VALDIVIA VAZQUEZ   \n1                              VERONICA PRADO LLAMAS   \n2  SISTEMAS DE OPERACIONES INDUSTRIALES Y SUMINIS...   \n3                       JESUS ABRAHAM PORTILLO LOPEZ   \n4  SERVICIOS INTEGRALES Y ELECTRICOS DE SALTILLO ...   \n5                                  SAMUEL VEGA MURAD   \n6                               DANIEL ZAMORA ROMERO   \n7                       MILTON CARLOS RIVERA OBREGON   \n8                                    SIC DE VICTORIA   \n9      SANCHEZ CONSTRUCTORA DE TABASCO S DE RL DE CV   \n\n                                     CampoValidacion  AptoValidacion  \n0                 VALDIVIA VAZQUEZ JUAN PABLO MIGUEL            True  \n1                              PRADO LLAMAS VERONICA            True  \n2  SISTEMAS DE OPERACIONES INDUSTRIALES Y SUMINIS...            True  \n3                       JESUS ABRAHAM PORTILLO LOPEZ            True  \n4  SERVICIOS INTEGRALES Y ELECTRICOS DE SALTILLO ...            True  \n5                                  VEGA MURAD SAMUEL            True  \n6                               ZAMORA ROMERO DANIEL            True  \n7                       RIVERA OBREGON MILTON CARLOS            True  \n8                                    SIC DE VICTORIA            True  \n9      SANCHEZ CONSTRUCTORA DE TABASCO S DE RL DE CV            True  \n             RFC                                  NombreComercial  \\\n0  AAAM900204640                    ALVARADO ARMENTA MIGUEL ANGEL   \n1  AACB850212JL9                      AYALA CUEVAS BRENDA JOCELYN   \n2  AACT421003NZ8                   MARIA TERESA ALFARO CABANILLAS   \n3   AAE980220TL5                  AGENCIA ADUANAL ESQUER LUKEN SC   \n4  AAGL740303BB9                        ALVAREZ GOMEZ LUIS DANIEL   \n5  AAHJ900125497               JESSICA MONERRAT ALVAREZ HERNANDEZ   \n6   AAI940623QCA                                 AAIRESA SA DE CV   \n7   AAM090224BC2  COMPAÑIA ALBORADA DE AMÉRICA S. DE R.L. DE C.V.   \n8   AAM090224BC2  COMPAÑIA ALBORADA DE AMÉRICA S. DE R.L. DE C.V.   \n9  AANV811216BL8                      ARAIZA NAVA VICTOR EMMANUEL   \n\n                                       RazonSocial  \\\n0                    ALVARADO ARMENTA MIGUEL ANGEL   \n1                      AYALA CUEVAS BRENDA JOCELYN   \n2                   MARIA TERESA ALFARO CABANILLAS   \n3                  AGENCIA ADUANAL ESQUER LUKEN SC   \n4                        ALVAREZ GOMEZ LUIS DANIEL   \n5               JESSICA MONERRAT ALVAREZ HERNANDEZ   \n6                                 AAIRESA SA DE CV   \n7  COMPAÑIA ALBORADA DE AMÉRICA S. DE R.L. DE C.V.   \n8  COMPAÑIA ALBORADA DE AMÉRICA S. DE R.L. DE C.V.   \n9                      ARAIZA NAVA VICTOR EMMANUEL   \n\n                           Email cveplantilla Cargado Rechazado  \\\n0            MAAR_60@HOTMAIL.COM      pFisica      NO        NO   \n1         CMI_MEXICO@OUTLOOK.COM      pFisica      SI        NO   \n2  carpinteriatresrios@gmail.com      pFisica      SI        NO   \n3        lgarate@esquerluken.com       pMoral      SI        NO   \n4           DANIALV.SM@GMAIL.COM      pFisica      NO        NO   \n5        jalvarez25345@gmail.com      pFisica      SI        NO   \n6         aairesa.mtto@gmail.com       pMoral      NO        NO   \n7            jjnieto@kiin.com.mx       pMoral      NO        NO   \n8            jjnieto@kiin.com.mx       pMoral      SI        NO   \n9        vearaiza.vean@gmail.com      pFisica      SI        NO   \n\n   DocumentosRequeridos  DocumentosCargados  DocumentosFaltantes  \\\n0                   7.0                 0.0                  7.0   \n1                   7.0                 5.0                  2.0   \n2                   7.0                 7.0                  0.0   \n3                  10.0                10.0                  0.0   \n4                   7.0                 0.0                  7.0   \n5                   7.0                 7.0                  0.0   \n6                  10.0                 0.0                 10.0   \n7                  10.0                 9.0                  1.0   \n8                  10.0                 9.0                  1.0   \n9                   7.0                 7.0                  0.0   \n\n   DocumentosFaltantes.1                             CampoValidacion  \\\n0                    7.0               ALVARADO ARMENTA MIGUEL ANGEL   \n1                    2.0                 AYALA CUEVAS BRENDA JOCELYN   \n2                    0.0              ALFARO CABANILLAS MARIA TERESA   \n3                    0.0             AGENCIA ADUANAL ESQUER LUKEN SC   \n4                    7.0                   ALVAREZ GOMEZ LUIS DANIEL   \n5                    0.0          ALVAREZ HERNANDEZ JESSICA MONERRAT   \n6                   10.0                            AAIRESA SA DE CV   \n7                    1.0  COMPAÑIA ALBORADA DE AMERICA S DE RL DE CV   \n8                    1.0  COMPAÑIA ALBORADA DE AMERICA S DE RL DE CV   \n9                    0.0                 ARAIZA NAVA VICTOR EMMANUEL   \n\n   AptoValidacion  \n0            True  \n1            True  \n2            True  \n3            True  \n4            True  \n5            True  \n6            True  \n7            True  \n8            True  \n9            True  \n"
     ]
    }
   ],
   "source": [
    "workFolder = '/content/drive/Shareddrives/Esperanto/Supports/REPSE'\n",
    "with pd.ExcelFile(Path(workFolder,'Comparativa proveedores vs REPSE.xlsx')) as reader:\n",
    "    ProveedoresDf = pd.read_excel(reader, sheet_name='Proveedores')\n",
    "    RepseDf = pd.read_excel(reader, sheet_name='REPSE')\n",
    "print(ProveedoresDf.head(10))\n",
    "print(RepseDf.head(10))"
   ]
  },
  {
   "cell_type": "code",
   "execution_count": 3,
   "metadata": {},
   "outputs": [
    {
     "output_type": "stream",
     "name": "stdout",
     "text": [
      "1729  records on REPSE\n922  records loaded and not rejected from REPSE\n"
     ]
    }
   ],
   "source": [
    "RepseCargadoNoRechazadoDf = RepseDf[(RepseDf['Cargado']=='SI') & (RepseDf['Rechazado']=='NO')]\n",
    "RepseCargadoYRechazadoDf = RepseDf[(RepseDf['Cargado']=='SI') & (RepseDf['Rechazado']=='SI')]\n",
    "RepseNoCargadoYRechazadoDf = RepseDf[(RepseDf['Cargado']=='NO') & (RepseDf['Rechazado']=='NO')]\n",
    "print(len(RepseDf.index), ' records on REPSE')\n",
    "print(len(RepseCargadoNoRechazadoDf.index), ' records loaded and not rejected from REPSE')"
   ]
  },
  {
   "cell_type": "code",
   "execution_count": 9,
   "metadata": {},
   "outputs": [
    {
     "output_type": "stream",
     "name": "stdout",
     "text": [
      "118  Proveedores validos\n                                    NOMBRE  \\\n1                    VERONICA PRADO LLAMAS   \n5                        SAMUEL VEGA MURAD   \n6                     DANIEL ZAMORA ROMERO   \n7             MILTON CARLOS RIVERA OBREGON   \n12                  RODOLFO SANCHEZ TORRES   \n13                       SSIGA S.A DE C.V.   \n15            JOSE MANUEL VELAZQUEZ ORTEGA   \n16           VICTOR ISRAEL VAZQUEZ REYNOSO   \n17                  RICARDO RUIZ HERNANDEZ   \n21                SOLARSINNAY S.A. DE C.V.   \n24  SANIDAD Y CONTROL DE PLAGAS S DE RL MI   \n25         VILLALOBOS PARTIDA FLOR ADRIANA   \n27                SANTOS GONZALEZ RAYMUNDO   \n29                ANDRES ORLANDO TUN BALAM   \n30         FLOR ADRIANA VILLALOBOS PARTIDA   \n32                  MARIO SAUCEDO GONZALEZ   \n34  RECICLAJE Y REMEDIACION ECO DEL NTE SA   \n35  RECICLAJE Y REMEDIACION ECO DEL NTE SA   \n36       UNIVERSAL EXTINTORES S.A. DE C.V.   \n39               ORTIZ PATIÑO LUIS ANTONIO   \n\n                           CampoValidacion  AptoValidacion_x            RFC  \\\n1                    PRADO LLAMAS VERONICA              True  PALV7505166J5   \n5                        VEGA MURAD SAMUEL              True  VEMS7406257HA   \n6                     ZAMORA ROMERO DANIEL              True  ZARD720905NS3   \n7             RIVERA OBREGON MILTON CARLOS              True  RIOM890108AU4   \n12                  SANCHEZ TORRES RODOLFO              True  SATR6401079N9   \n13                          SSIGA SA DE CV              True   SSI080515LB8   \n15            VELAZQUEZ ORTEGA JOSE MANUEL              True  VEOM7611212L0   \n16           VAZQUEZ REYNOSO VICTOR ISRAEL              True  VARV911223EV8   \n17                  RUIZ HERNANDEZ RICARDO              True  RUHR801209PW0   \n21                    SOLARSINNAY SA DE CV              True   SOL1707288Z3   \n24  SANIDAD Y CONTROL DE PLAGAS S DE RL MI              True   SCP061005J51   \n25         VILLALOBOS PARTIDA FLOR ADRIANA              True  VIPF760322T12   \n27                SANTOS GONZALEZ RAYMUNDO              True  SAGR770425NJA   \n29                TUN BALAM ANDRES ORLANDO              True  TUBA9810236Y9   \n30         VILLALOBOS PARTIDA FLOR ADRIANA              True  VIPF760322T12   \n32                  SAUCEDO GONZALEZ MARIO              True  SAGM611005QS1   \n34  RECICLAJE Y REMEDIACION ECO DEL NTE SA              True   RRE100908F38   \n35  RECICLAJE Y REMEDIACION ECO DEL NTE SA              True   RRE100908F38   \n36           UNIVERSAL EXTINTORES SA DE CV              True   UEX061010HL7   \n39               ORTIZ PATIÑO LUIS ANTONIO              True  OIPL9409117GA   \n\n                           NombreComercial  \\\n1                    PRADO LLAMAS VERONICA   \n5                        VEGA MURAD SAMUEL   \n6                     DANIEL ZAMORA ROMERO   \n7             RIVERA OBREGON MILTON CARLOS   \n12                  SANCHEZ TORRES RODOLFO   \n13                          SSIGA SA DE CV   \n15            VELAZQUEZ ORTEGA JOSE MANUEL   \n16           VAZQUEZ REYNOSO VICTOR ISRAEL   \n17                  RUIZ HERNANDEZ RICARDO   \n21                    SOLARSINNAY SA DE CV   \n24  SANIDAD Y CONTROL DE PLAGAS S DE RL MI   \n25         VILLALOBOS PARTIDA FLOR ADRIANA   \n27                SANTOS GONZALEZ RAYMUNDO   \n29                ANDRES ORLANDO TUN BALAM   \n30         VILLALOBOS PARTIDA FLOR ADRIANA   \n32                  SAUCEDO GONZALEZ MARIO   \n34  RECICLAJE Y REMEDIACION ECO DEL NTE SA   \n35  RECICLAJE Y REMEDIACION ECO DEL NTE SA   \n36           UNIVERSAL EXTINTORES SA DE CV   \n39               ORTIZ PATIÑO LUIS ANTONIO   \n\n                               RazonSocial  \\\n1                    PRADO LLAMAS VERONICA   \n5                        VEGA MURAD SAMUEL   \n6                     DANIEL ZAMORA ROMERO   \n7             RIVERA OBREGON MILTON CARLOS   \n12                  SANCHEZ TORRES RODOLFO   \n13                          SSIGA SA DE CV   \n15            VELAZQUEZ ORTEGA JOSE MANUEL   \n16           VAZQUEZ REYNOSO VICTOR ISRAEL   \n17                  RUIZ HERNANDEZ RICARDO   \n21                    SOLARSINNAY SA DE CV   \n24  SANIDAD Y CONTROL DE PLAGAS S DE RL MI   \n25         VILLALOBOS PARTIDA FLOR ADRIANA   \n27                SANTOS GONZALEZ RAYMUNDO   \n29                ANDRES ORLANDO TUN BALAM   \n30         VILLALOBOS PARTIDA FLOR ADRIANA   \n32                  SAUCEDO GONZALEZ MARIO   \n34  RECICLAJE Y REMEDIACION ECO DEL NTE SA   \n35  RECICLAJE Y REMEDIACION ECO DEL NTE SA   \n36           UNIVERSAL EXTINTORES SA DE CV   \n39               ORTIZ PATIÑO LUIS ANTONIO   \n\n                                       Email cveplantilla Cargado Rechazado  \\\n1            SERVICIO_HERRERA@PRODIGY.NET.MX      pFisica      SI        NO   \n5              FUMIGACIONESMURAD@HOTMAIL.COM      pFisica      SI        NO   \n6                 danielzamorar@yahoo.com.mx      pFisica      SI        NO   \n7                     Milton_mty@hotmail.com      pFisica      SI        NO   \n12               SERVICIO.CARIBE@HOTMAIL.COM      pFisica      SI        NO   \n13                    PROYECTOS@SSIGA.COM.MX       pMoral      SI        NO   \n15            manny_velazquez_21@hotmail.com      pFisica      SI        NO   \n16                    grupo.emig19@gmail.com      pFisica      SI        NO   \n17                ricardo_ruiz8012@yahoo.com      pFisica      SI        NO   \n21            gpe.pacheco@solarsinnay.com.mx       pMoral      SI        NO   \n24                SANYCONMEXICO@yahoo.com.mx       pMoral      SI        NO   \n25               carmen.velazquez@diprosa.mx      pFisica      SI        NO   \n27                    ARTURO_8_8@HOTMAIL.COM      pFisica      SI        NO   \n29                      etuncuevas@gmail.com      pFisica      SI        NO   \n30               carmen.velazquez@diprosa.mx      pFisica      SI        NO   \n32                 extintoresags@hotmail.com      pFisica      SI        NO   \n34                                 PENDIENTE       pMoral      SI        NO   \n35                              info@rren.mx       pMoral      SI        NO   \n36  ventasuniversalextintores@alestra.net.mx       pMoral      SI        NO   \n39                         adm.quo@gmail.com      pFisica      SI        NO   \n\n    DocumentosRequeridos  DocumentosCargados  DocumentosFaltantes  \\\n1                    7.0                 7.0                  0.0   \n5                    7.0                 6.0                  1.0   \n6                    7.0                 7.0                  0.0   \n7                    7.0                 7.0                  0.0   \n12                   7.0                 7.0                  0.0   \n13                  10.0                 9.0                  1.0   \n15                   7.0                 6.0                  1.0   \n16                   7.0                 7.0                  0.0   \n17                   7.0                 6.0                  1.0   \n21                  10.0                 9.0                  1.0   \n24                  10.0                 9.0                  1.0   \n25                   7.0                 7.0                  0.0   \n27                   7.0                 7.0                  0.0   \n29                   7.0                 5.0                  2.0   \n30                   7.0                 7.0                  0.0   \n32                   7.0                 6.0                  1.0   \n34                  20.0                20.0                  0.0   \n35                  20.0                20.0                  0.0   \n36                  10.0                 9.0                  1.0   \n39                   7.0                 6.0                  1.0   \n\n    DocumentosFaltantes.1 AptoValidacion_y  \n1                     0.0             True  \n5                     1.0             True  \n6                     0.0             True  \n7                     0.0             True  \n12                    0.0             True  \n13                    1.0             True  \n15                    1.0             True  \n16                    0.0             True  \n17                    1.0             True  \n21                    1.0             True  \n24                    1.0             True  \n25                    0.0             True  \n27                    0.0             True  \n29                    2.0             True  \n30                    0.0             True  \n32                    1.0             True  \n34                    0.0             True  \n35                    0.0             True  \n36                    1.0             True  \n39                    1.0             True  \n"
     ]
    }
   ],
   "source": [
    "ProveedoresValidosDf = ProveedoresDf.merge(RepseCargadoNoRechazadoDf, on='CampoValidacion', how='left')\n",
    "ProveedoresValidosDf = ProveedoresValidosDf[ProveedoresValidosDf['RFC'].notna()]\n",
    "print(len(ProveedoresValidosDf.index), ' Proveedores validos')\n",
    "print(ProveedoresValidosDf.head(20))\n"
   ]
  },
  {
   "cell_type": "code",
   "execution_count": 10,
   "metadata": {},
   "outputs": [],
   "source": [
    "from pandas import ExcelWriter\n",
    "with ExcelWriter(Path(workFolder,'Comparativa proveedores vs REPSE v2.xlsx')) as writer:\n",
    "    ProveedoresDf.to_excel(writer,'Proveedores P P')\n",
    "    RepseCargadoNoRechazadoDf.to_excel(writer,'REPSE C Y N R')\n",
    "    RepseCargadoYRechazadoDf.to_excel(writer,'REPSE C Y R')\n",
    "    RepseNoCargadoYRechazadoDf.to_excel(writer,'REPSE N C Y R')\n",
    "    ProveedoresValidosDf.to_excel(writer,'Provedores V P')\n"
   ]
  },
  {
   "cell_type": "code",
   "execution_count": 6,
   "metadata": {},
   "outputs": [
    {
     "output_type": "stream",
     "name": "stdout",
     "text": [
      "201  suppliers\n"
     ]
    }
   ],
   "source": [
    "print(len(ProveedoresDf.index), ' suppliers')"
   ]
  },
  {
   "cell_type": "code",
   "execution_count": null,
   "metadata": {},
   "outputs": [],
   "source": []
  }
 ]
}