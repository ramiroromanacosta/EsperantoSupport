{
 "metadata": {
  "language_info": {
   "codemirror_mode": {
    "name": "ipython",
    "version": 3
   },
   "file_extension": ".py",
   "mimetype": "text/x-python",
   "name": "python",
   "nbconvert_exporter": "python",
   "pygments_lexer": "ipython3",
   "version": "3.7.12"
  },
  "orig_nbformat": 2,
  "kernelspec": {
   "name": "python2",
   "display_name": "Python 3.7.12 64-bit"
  }
 },
 "nbformat": 4,
 "nbformat_minor": 2,
 "cells": [
  {
   "cell_type": "code",
   "execution_count": 1,
   "metadata": {},
   "outputs": [],
   "source": [
    "import pandas as pd\n",
    "import pandasql as ps\n",
    "from pathlib import Path"
   ]
  },
  {
   "cell_type": "code",
   "execution_count": 2,
   "metadata": {},
   "outputs": [
    {
     "output_type": "stream",
     "name": "stdout",
     "text": [
      "                                              NOMBRE  \\\n0                 JUAN PABLO MIGUEL VALDIVIA VAZQUEZ   \n1                              VERONICA PRADO LLAMAS   \n2  SISTEMAS DE OPERACIONES INDUSTRIALES Y SUMINIS...   \n3                       JESUS ABRAHAM PORTILLO LOPEZ   \n4  SERVICIOS INTEGRALES Y ELECTRICOS DE SALTILLO ...   \n5                                  SAMUEL VEGA MURAD   \n6                               DANIEL ZAMORA ROMERO   \n7                       MILTON CARLOS RIVERA OBREGON   \n8                                    SIC DE VICTORIA   \n9      SANCHEZ CONSTRUCTORA DE TABASCO S DE RL DE CV   \n\n                                     CampoValidacion  AptoValidacion  \n0                 VALDIVIA VAZQUEZ JUAN PABLO MIGUEL            True  \n1                              PRADO LLAMAS VERONICA            True  \n2  SISTEMAS DE OPERACIONES INDUSTRIALES Y SUMINIS...            True  \n3                       JESUS ABRAHAM PORTILLO LOPEZ            True  \n4  SERVICIOS INTEGRALES Y ELECTRICOS DE SALTILLO ...            True  \n5                                  VEGA MURAD SAMUEL            True  \n6                               ZAMORA ROMERO DANIEL            True  \n7                       RIVERA OBREGON MILTON CARLOS            True  \n8                                    SIC DE VICTORIA            True  \n9      SANCHEZ CONSTRUCTORA DE TABASCO S DE RL DE CV            True  \n             RFC                                  NombreComercial  \\\n0  AAAM900204640                    ALVARADO ARMENTA MIGUEL ANGEL   \n1  AACB850212JL9                      AYALA CUEVAS BRENDA JOCELYN   \n2  AACT421003NZ8                   MARIA TERESA ALFARO CABANILLAS   \n3   AAE980220TL5                  AGENCIA ADUANAL ESQUER LUKEN SC   \n4  AAGL740303BB9                        ALVAREZ GOMEZ LUIS DANIEL   \n5  AAHJ900125497               JESSICA MONERRAT ALVAREZ HERNANDEZ   \n6   AAI940623QCA                                 AAIRESA SA DE CV   \n7   AAM090224BC2  COMPAÑIA ALBORADA DE AMÉRICA S. DE R.L. DE C.V.   \n8   AAM090224BC2  COMPAÑIA ALBORADA DE AMÉRICA S. DE R.L. DE C.V.   \n9  AANV811216BL8                      ARAIZA NAVA VICTOR EMMANUEL   \n\n                                       RazonSocial  \\\n0                    ALVARADO ARMENTA MIGUEL ANGEL   \n1                      AYALA CUEVAS BRENDA JOCELYN   \n2                   MARIA TERESA ALFARO CABANILLAS   \n3                  AGENCIA ADUANAL ESQUER LUKEN SC   \n4                        ALVAREZ GOMEZ LUIS DANIEL   \n5               JESSICA MONERRAT ALVAREZ HERNANDEZ   \n6                                 AAIRESA SA DE CV   \n7  COMPAÑIA ALBORADA DE AMÉRICA S. DE R.L. DE C.V.   \n8  COMPAÑIA ALBORADA DE AMÉRICA S. DE R.L. DE C.V.   \n9                      ARAIZA NAVA VICTOR EMMANUEL   \n\n                           Email cveplantilla Cargado Rechazado  \\\n0            MAAR_60@HOTMAIL.COM      pFisica      NO        NO   \n1         CMI_MEXICO@OUTLOOK.COM      pFisica      SI        NO   \n2  carpinteriatresrios@gmail.com      pFisica      SI        NO   \n3        lgarate@esquerluken.com       pMoral      SI        NO   \n4           DANIALV.SM@GMAIL.COM      pFisica      NO        NO   \n5        jalvarez25345@gmail.com      pFisica      SI        NO   \n6         aairesa.mtto@gmail.com       pMoral      NO        NO   \n7            jjnieto@kiin.com.mx       pMoral      NO        NO   \n8            jjnieto@kiin.com.mx       pMoral      SI        NO   \n9        vearaiza.vean@gmail.com      pFisica      SI        NO   \n\n   DocumentosRequeridos  DocumentosCargados  DocumentosFaltantes  \\\n0                   7.0                 0.0                  7.0   \n1                   7.0                 5.0                  2.0   \n2                   7.0                 7.0                  0.0   \n3                  10.0                10.0                  0.0   \n4                   7.0                 0.0                  7.0   \n5                   7.0                 7.0                  0.0   \n6                  10.0                 0.0                 10.0   \n7                  10.0                 9.0                  1.0   \n8                  10.0                 9.0                  1.0   \n9                   7.0                 7.0                  0.0   \n\n   DocumentosFaltantes.1                             CampoValidacion  \\\n0                    7.0               ALVARADO ARMENTA MIGUEL ANGEL   \n1                    2.0                 AYALA CUEVAS BRENDA JOCELYN   \n2                    0.0              ALFARO CABANILLAS MARIA TERESA   \n3                    0.0             AGENCIA ADUANAL ESQUER LUKEN SC   \n4                    7.0                   ALVAREZ GOMEZ LUIS DANIEL   \n5                    0.0          ALVAREZ HERNANDEZ JESSICA MONERRAT   \n6                   10.0                            AAIRESA SA DE CV   \n7                    1.0  COMPAÑIA ALBORADA DE AMERICA S DE RL DE CV   \n8                    1.0  COMPAÑIA ALBORADA DE AMERICA S DE RL DE CV   \n9                    0.0                 ARAIZA NAVA VICTOR EMMANUEL   \n\n   AptoValidacion  \n0            True  \n1            True  \n2            True  \n3            True  \n4            True  \n5            True  \n6            True  \n7            True  \n8            True  \n9            True  \n"
     ]
    }
   ],
   "source": [
    "workFolder = '/content/drive/Shareddrives/Esperanto/Supports/REPSE'\n",
    "with pd.ExcelFile(Path(workFolder,'Comparativa proveedores vs REPSE.xlsx')) as reader:\n",
    "    ProveedoresDf = pd.read_excel(reader, sheet_name='Proveedores')\n",
    "    RepseDf = pd.read_excel(reader, sheet_name='REPSE')\n",
    "print(ProveedoresDf.head(10))\n",
    "print(RepseDf.head(10))"
   ]
  },
  {
   "cell_type": "code",
   "execution_count": 3,
   "metadata": {},
   "outputs": [
    {
     "output_type": "stream",
     "name": "stdout",
     "text": [
      "1729  records on REPSE\n922  records loaded and not rejected from REPSE\n"
     ]
    }
   ],
   "source": [
    "RepseCargadoNoRechazadoDf = RepseDf[(RepseDf['Cargado']=='SI') & (RepseDf['Rechazado']=='NO')]\n",
    "RepseCargadoYRechazadoDf = RepseDf[(RepseDf['Cargado']=='SI') & (RepseDf['Rechazado']=='SI')]\n",
    "RepseNoCargadoYRechazadoDf = RepseDf[(RepseDf['Cargado']=='NO') & (RepseDf['Rechazado']=='NO')]\n",
    "print(len(RepseDf.index), ' records on REPSE')\n",
    "print(len(RepseCargadoNoRechazadoDf.index), ' records loaded and not rejected from REPSE')"
   ]
  },
  {
   "cell_type": "code",
   "execution_count": 4,
   "metadata": {},
   "outputs": [
    {
     "output_type": "stream",
     "name": "stdout",
     "text": [
      "202  Proveedores validos\n"
     ]
    }
   ],
   "source": [
    "ProveedoresValidosDf = ProveedoresDf.merge(RepseCargadoNoRechazadoDf, on='CampoValidacion', how='left')\n",
    "print(len(ProveedoresValidosDf.index), ' Proveedores validos')"
   ]
  },
  {
   "cell_type": "code",
   "execution_count": 5,
   "metadata": {},
   "outputs": [],
   "source": [
    "from pandas import ExcelWriter\n",
    "with ExcelWriter(Path(workFolder,'Comparativa proveedores vs REPSE v2.xlsx')) as writer:\n",
    "    ProveedoresDf.to_excel(writer,'Proveedores P P')\n",
    "    RepseCargadoNoRechazadoDf.to_excel(writer,'REPSE C Y N R')\n",
    "    RepseCargadoYRechazadoDf.to_excel(writer,'REPSE C Y R')\n",
    "    RepseNoCargadoYRechazadoDf.to_excel(writer,'REPSE N C Y R')\n",
    "    ProveedoresValidosDf.to_excel(writer,'Provedores V P')\n"
   ]
  },
  {
   "cell_type": "code",
   "execution_count": null,
   "metadata": {},
   "outputs": [],
   "source": []
  }
 ]
}