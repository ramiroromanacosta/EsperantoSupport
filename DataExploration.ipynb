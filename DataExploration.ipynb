{
 "metadata": {
  "language_info": {
   "codemirror_mode": {
    "name": "ipython",
    "version": 3
   },
   "file_extension": ".py",
   "mimetype": "text/x-python",
   "name": "python",
   "nbconvert_exporter": "python",
   "pygments_lexer": "ipython3",
   "version": "3.7.12"
  },
  "orig_nbformat": 2,
  "kernelspec": {
   "name": "python3712jvsc74a57bd04cd7ab41f5fca4b9b44701077e38c5ffd31fe66a6cab21e0214b68d958d0e462",
   "display_name": "Python 3.7.12 64-bit"
  },
  "metadata": {
   "interpreter": {
    "hash": "4cd7ab41f5fca4b9b44701077e38c5ffd31fe66a6cab21e0214b68d958d0e462"
   }
  }
 },
 "nbformat": 4,
 "nbformat_minor": 2,
 "cells": [
  {
   "source": [
    "### Step 1 - Loads packages required"
   ],
   "cell_type": "markdown",
   "metadata": {}
  },
  {
   "cell_type": "code",
   "execution_count": 1,
   "metadata": {},
   "outputs": [],
   "source": [
    "import pandas as pd\n",
    "import pandasql as ps"
   ]
  },
  {
   "source": [
    "### Step 2 - Interface file exploration to validate separators and text qualifiers"
   ],
   "cell_type": "markdown",
   "metadata": {}
  },
  {
   "cell_type": "code",
   "execution_count": 4,
   "metadata": {},
   "outputs": [
    {
     "output_type": "error",
     "ename": "IndentationError",
     "evalue": "expected an indented block (<ipython-input-4-eb20b14e757f>, line 14)",
     "traceback": [
      "\u001b[0;36m  File \u001b[0;32m\"<ipython-input-4-eb20b14e757f>\"\u001b[0;36m, line \u001b[0;32m14\u001b[0m\n\u001b[0;31m    textLine = textFile.readline().strip()\u001b[0m\n\u001b[0m           ^\u001b[0m\n\u001b[0;31mIndentationError\u001b[0m\u001b[0;31m:\u001b[0m expected an indented block\n"
     ]
    }
   ],
   "source": [
    "from custom_procedures import newestFile\n",
    "sourceFolder = '/content/drive/Shareddrives/Esperanto/Supports/Suppliers/'\n",
    "sourceFile = newestFile(sourceFolder)\n",
    "if sourceFile:\n",
    "    print(sourceFile)\n",
    "    if os.path.exists(sourceFile):\n",
    "        textFile = open(sourceFile, mode=\"r\", encoding=\"utf-8\")\n",
    "        if textFile:\n",
    "            textLine = textFile.readline().strip()\n",
    "            print(textLine)\n",
    "            numTextLines = 0\n",
    "            while textLine:\n",
    "                #if numTextLines <= 10:\n",
    "                textLine = textFile.readline().strip()\n",
    "                print(textLine)\n",
    "                numTextLines += 1\n",
    "            print(numTextLines, ' text lines read')"
   ]
  },
  {
   "source": [
    "### Step 3 - Loads interface data"
   ],
   "cell_type": "markdown",
   "metadata": {}
  },
  {
   "cell_type": "code",
   "execution_count": null,
   "metadata": {},
   "outputs": [],
   "source": [
    "df = pd.read_csv(sourceFile, sep=';')\n",
    "if df:\n",
    "    print(df.columns)"
   ]
  },
  {
   "cell_type": "code",
   "execution_count": null,
   "metadata": {},
   "outputs": [],
   "source": [
    "### Step 4 - "
   ]
  }
 ]
}