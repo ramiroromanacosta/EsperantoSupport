{
 "metadata": {
  "language_info": {
   "codemirror_mode": {
    "name": "ipython",
    "version": 3
   },
   "file_extension": ".py",
   "mimetype": "text/x-python",
   "name": "python",
   "nbconvert_exporter": "python",
   "pygments_lexer": "ipython3",
   "version": "3.7.12"
  },
  "orig_nbformat": 2,
  "kernelspec": {
   "name": "python3712jvsc74a57bd04cd7ab41f5fca4b9b44701077e38c5ffd31fe66a6cab21e0214b68d958d0e462",
   "display_name": "Python 3.7.12 64-bit"
  },
  "metadata": {
   "interpreter": {
    "hash": "4cd7ab41f5fca4b9b44701077e38c5ffd31fe66a6cab21e0214b68d958d0e462"
   }
  }
 },
 "nbformat": 4,
 "nbformat_minor": 2,
 "cells": [
  {
   "source": [
    "### Step 1 - Loads packages required"
   ],
   "cell_type": "markdown",
   "metadata": {}
  },
  {
   "cell_type": "code",
   "execution_count": 1,
   "metadata": {},
   "outputs": [],
   "source": [
    "import pandas as pd\n",
    "import pandasql as ps"
   ]
  },
  {
   "source": [
    "### Step 2 - Interface file exploration to validate separators and text qualifiers"
   ],
   "cell_type": "markdown",
   "metadata": {}
  },
  {
   "cell_type": "code",
   "execution_count": 2,
   "metadata": {
    "tags": []
   },
   "outputs": [
    {
     "output_type": "stream",
     "name": "stdout",
     "text": [
      "/content/drive/Shareddrives/Esperanto/Supports/Suppliers/1. SUPPLIERS_INTERFACE_COPPEL.csv\n",
      "'SISTEMA_LEGADO';'NUMERO_PROVEEDOR';'BATCH_ID';'IMPORT_ACTION';'VENDOR_NAME';'VENDOR_NAME_NEW';'SEGMENT1';'VENDOR_NAME_ALT';'ORGANIZATION_TYPE_LOOKUP_CODE';'VENDOR_TYPE_LOOKUP_CODE';'END_DATE_ACTIVE';'BUSINESS_RELATIONSHIP';'PARENT_SUPPLIER_NAME';'ALIAS';'DUNS_NUMBER';'ONE_TIME_FLAG';'CUSTOMER_NUM';'STANDARD_INDUSTRY_CLASS';'NI_NUMBER';'CORPORATE_WEBSITE';'CHIEF_EXECUTIVE_TITLE';'CHIEF_EXECUTIVE_NAME';'BUS_CLASS_NOT_APPLICABLE';'TAX_COUNTRY_CODE';'NUM_1099';'FEDERAL_REPORTABLE_FLAG';'TYPE_1099';'STATE_REPORTABLE_FLAG';'TAX_REPORTING_NAME';'NAME_CONTROL';'TAX_VERIFICATION_DATE';'ALLOW_AWT_FLAG';'AWT_GROUP_NAME';'VAT_CODE';'VAT_REGISTRATION_NUM';'AUTO_TAX_CALC_OVERRIDE';'PAYMENT_METHOD_LOOKUP_CODE';'DELIVERY_CHANNEL';'BRANK_INSTRUCTION1';'BRANK_INSTRUCTION2';'BRANK_INSTRUCTION_DETAILS';'SETTLEMENT_PRIORITY';'PAYMENT_TEXT_MESSAGE_1';'PAYMENT_TEXT_MESSAGE_2';'PAYMENT_TEXT_MESSAGE_3';'IBY_BANK_CHARGE_BEARER';'PAYMENT_REASON_CODE';'PAYMENT_REASON_COMMENTS';'PAYMENT_FORMAT_CODE';'ATTRIBUTE_CATEGORY';'ATTRIBUTE1';'ATTRIBUTE2';'ATTRIBUTE3';'ATTRIBUTE4';'ATTRIBUTE5';'ATTRIBUTE6';'ATTRIBUTE7';'ATTRIBUTE8';'ATTRIBUTE9';'ATTRIBUTE10';'ATTRIBUTE11';'ATTRIBUTE12';'ATTRIBUTE13';'ATTRIBUTE14';'ATTRIBUTE15';'ATTRIBUTE16';'ATTRIBUTE17';'ATTRIBUTE18';'ATTRIBUTE19';'ATTRIBUTE20';'ATTRIBUTE_DATE1';'ATTRIBUTE_DATE2';'ATTRIBUTE_DATE3';'ATTRIBUTE_DATE4';'ATTRIBUTE_DATE5';'ATTRIBUTE_DATE6';'ATTRIBUTE_DATE7';'ATTRIBUTE_DATE8';'ATTRIBUTE_DATE9';'ATTRIBUTE_DATE10';'ATTRIBUTE_TIMESTAMP1';'ATTRIBUTE_TIMESTAMP2';'ATTRIBUTE_TIMESTAMP3';'ATTRIBUTE_TIMESTAMP4';'ATTRIBUTE_TIMESTAMP5';'ATTRIBUTE_TIMESTAMP6';'ATTRIBUTE_TIMESTAMP7';'ATTRIBUTE_TIMESTAMP8';'ATTRIBUTE_TIMESTAMP9';'ATTRIBUTE_TIMESTAMP10';'ATTRIBUTE_NUMBER1';'ATTRIBUTE_NUMBER2';'ATTRIBUTE_NUMBER3';'ATTRIBUTE_NUMBER4';'ATTRIBUTE_NUMBER5';'ATTRIBUTE_NUMBER6';'ATTRIBUTE_NUMBER7';'ATTRIBUTE_NUMBER8';'ATTRIBUTE_NUMBER9';'ATTRIBUTE_NUMBER10';'GLOBAL_ATTRIBUTE_CATEGORY';'GLOBAL_ATTRIBUTE1';'GLOBAL_ATTRIBUTE2';'GLOBAL_ATTRIBUTE3';'GLOBAL_ATTRIBUTE4';'GLOBAL_ATTRIBUTE5';'GLOBAL_ATTRIBUTE6';'GLOBAL_ATTRIBUTE7';'GLOBAL_ATTRIBUTE8';'GLOBAL_ATTRIBUTE9';'GLOBAL_ATTRIBUTE10';'GLOBAL_ATTRIBUTE11';'GLOBAL_ATTRIBUTE12';'GLOBAL_ATTRIBUTE13';'GLOBAL_ATTRIBUTE14';'GLOBAL_ATTRIBUTE15';'GLOBAL_ATTRIBUTE16';'GLOBAL_ATTRIBUTE17';'GLOBAL_ATTRIBUTE18';'GLOBAL_ATTRIBUTE19';'GLOBAL_ATTRIBUTE20';'GLOBAL_ATTRIBUTE_DATE1';'GLOBAL_ATTRIBUTE_DATE2';'GLOBAL_ATTRIBUTE_DATE3';'GLOBAL_ATTRIBUTE_DATE4';'GLOBAL_ATTRIBUTE_DATE5';'GLOBAL_ATTRIBUTE_DATE6';'GLOBAL_ATTRIBUTE_DATE7';'GLOBAL_ATTRIBUTE_DATE8';'GLOBAL_ATTRIBUTE_DATE9';'GLOBAL_ATTRIBUTE_DATE10';'GLOBAL_ATTRIBUTE_TIMESTAMP1';'GLOBAL_ATTRIBUTE_TIMESTAMP2';'GLOBAL_ATTRIBUTE_TIMESTAMP3';'GLOBAL_ATTRIBUTE_TIMESTAMP4';'GLOBAL_ATTRIBUTE_TIMESTAMP5';'GLOBAL_ATTRIBUTE_TIMESTAMP6';'GLOBAL_ATTRIBUTE_TIMESTAMP7';'GLOBAL_ATTRIBUTE_TIMESTAMP8';'GLOBAL_ATTRIBUTE_TIMESTAMP9';'GLOBAL_ATTRIBUTE_TIMESTAMP10';'GLOBAL_ATTRIBUTE_NUMBER1';'GLOBAL_ATTRIBUTE_NUMBER2';'GLOBAL_ATTRIBUTE_NUMBER3';'GLOBAL_ATTRIBUTE_NUMBER4';'GLOBAL_ATTRIBUTE_NUMBER5';'GLOBAL_ATTRIBUTE_NUMBER6';'GLOBAL_ATTRIBUTE_NUMBER7';'GLOBAL_ATTRIBUTE_NUMBER8';'GLOBAL_ATTRIBUTE_NUMBER9';'GLOBAL_ATTRIBUTE_NUMBER10';'PARTY_NUMBER';'SERVICE_LEVEL_CODE';'EXCLUSIVE_PAYMENT_FLAG';'REMIT_ADVICE_DELIVERY_METHOD';'REMIT_ADVICE_EMAIL';'REMIT_ADVICE_FAX';'DATAFOX_COMPANY_ID'\n",
      "'CONSTRUNET';'15239';'';'CREATE';'GRUPO SANDSTORM GAM SA DE CV';'';'';'';'Corporation';'Supplier';'';'SPEND_AUTHORIZED';'';'';'';'';'';'';'';'';'';'';'';'MX';'GSG010404212';'';'';'';'';'';'';'N';'';'';'';'';'Transferencia';'';'';'';'';'';'';'';'';'';'';'';'';'';'';'';'';'';'';'';'';'';'';'';'';'';'';'';'';'';'';'';'';'';'';'';'';'';'';'';'';'';'';'';'';'';'';'';'';'';'';'';'';'';'';'';'';'';'';'';'';'';'';'';'';'';'';'';'';'';'';'';'';'';'';'';'';'';'';'';'';'';'';'';'';'';'';'';'';'';'';'';'';'';'';'';'';'';'';'';'';'';'';'';'';'';'';'';'';'';'';'';'';'';'';'';'';'';'';'';'';''\n",
      "'CONSTRUNET';'15795';'';'CREATE';'JORGE GUADALUPE RODRIGUEZ OCHOA';'';'';'';'Corporation';'Supplier';'';'SPEND_AUTHORIZED';'';'';'';'';'';'';'';'';'';'';'';'MX';'ROOJ570206L7A';'';'';'';'';'';'';'N';'';'';'';'';'Transferencia';'';'';'';'';'';'';'';'';'';'';'';'';'';'';'';'';'';'';'';'';'';'';'';'';'';'';'';'';'';'';'';'';'';'';'';'';'';'';'';'';'';'';'';'';'';'';'';'';'';'';'';'';'';'';'';'';'';'';'';'';'';'';'';'';'';'';'';'';'';'';'';'';'';'';'';'';'';'';'';'';'';'';'';'';'';'';'';'';'';'';'';'';'';'';'';'';'';'';'';'';'';'';'';'';'';'';'';'';'';'';'';'';'';'';'';'';'';'';'';'';''\n",
      "'CONSTRUNET';'16109';'';'CREATE';'SERNA RAMIREZ CRUZ';'';'';'';'Corporation';'Supplier';'';'SPEND_AUTHORIZED';'';'';'';'';'';'';'';'';'';'';'';'MX';'SERC660826UZ9';'';'';'';'';'';'';'N';'';'';'';'';'Transferencia';'';'';'';'';'';'';'';'';'';'';'';'';'';'';'';'';'';'';'';'';'';'';'';'';'';'';'';'';'';'';'';'';'';'';'';'';'';'';'';'';'';'';'';'';'';'';'';'';'';'';'';'';'';'';'';'';'';'';'';'';'';'';'';'';'';'';'';'';'';'';'';'';'';'';'';'';'';'';'';'';'';'';'';'';'';'';'';'';'';'';'';'';'';'';'';'';'';'';'';'';'';'';'';'';'';'';'';'';'';'';'';'';'';'';'';'';'';'';'';'';''\n",
      "'CONSTRUNET';'18077';'';'CREATE';'ELIZABETH ARACELI RIVAS ESPINOZA';'';'';'';'Corporation';'Supplier';'';'SPEND_AUTHORIZED';'';'';'';'';'';'';'';'';'';'';'';'MX';'RIEE641221PS4';'';'';'';'';'';'';'N';'';'';'';'';'Transferencia';'';'';'';'';'';'';'';'';'';'';'';'';'';'';'';'';'';'';'';'';'';'';'';'';'';'';'';'';'';'';'';'';'';'';'';'';'';'';'';'';'';'';'';'';'';'';'';'';'';'';'';'';'';'';'';'';'';'';'';'';'';'';'';'';'';'';'';'';'';'';'';'';'';'';'';'';'';'';'';'';'';'';'';'';'';'';'';'';'';'';'';'';'';'';'';'';'';'';'';'';'';'';'';'';'';'';'';'';'';'';'';'';'';'';'';'';'';'';'';'';''\n",
      "'CONSTRUNET';'18785';'';'CREATE';'CEMENTO EXPRESS S DE RL DE CV';'';'';'';'Corporation';'Supplier';'';'SPEND_AUTHORIZED';'';'';'';'';'';'';'';'';'';'';'';'MX';'CEX010613652';'';'';'';'';'';'';'N';'';'';'';'';'Transferencia';'';'';'';'';'';'';'';'';'';'';'';'';'';'';'';'';'';'';'';'';'';'';'';'';'';'';'';'';'';'';'';'';'';'';'';'';'';'';'';'';'';'';'';'';'';'';'';'';'';'';'';'';'';'';'';'';'';'';'';'';'';'';'';'';'';'';'';'';'';'';'';'';'';'';'';'';'';'';'';'';'';'';'';'';'';'';'';'';'';'';'';'';'';'';'';'';'';'';'';'';'';'';'';'';'';'';'';'';'';'';'';'';'';'';'';'';'';'';'';'';''\n",
      "'CONSTRUNET';'19236';'';'CREATE';'JUAN FRANCISCO VALDEZ SIFUENTES';'';'';'';'Corporation';'Supplier';'';'SPEND_AUTHORIZED';'';'';'';'';'';'';'';'';'';'';'';'MX';'VASJ450818PU7';'';'';'';'';'';'';'N';'';'';'';'';'Transferencia';'';'';'';'';'';'';'';'';'';'';'';'';'';'';'';'';'';'';'';'';'';'';'';'';'';'';'';'';'';'';'';'';'';'';'';'';'';'';'';'';'';'';'';'';'';'';'';'';'';'';'';'';'';'';'';'';'';'';'';'';'';'';'';'';'';'';'';'';'';'';'';'';'';'';'';'';'';'';'';'';'';'';'';'';'';'';'';'';'';'';'';'';'';'';'';'';'';'';'';'';'';'';'';'';'';'';'';'';'';'';'';'';'';'';'';'';'';'';'';'';''\n",
      "'CONSTRUNET';'19260';'';'CREATE';'MARIA LAURA GARDU O GUZMAN';'';'';'';'Corporation';'Supplier';'';'SPEND_AUTHORIZED';'';'';'';'';'';'';'';'';'';'';'';'MX';'GAGL730227376';'';'';'';'';'';'';'N';'';'';'';'';'Transferencia';'';'';'';'';'';'';'';'';'';'';'';'';'';'';'';'';'';'';'';'';'';'';'';'';'';'';'';'';'';'';'';'';'';'';'';'';'';'';'';'';'';'';'';'';'';'';'';'';'';'';'';'';'';'';'';'';'';'';'';'';'';'';'';'';'';'';'';'';'';'';'';'';'';'';'';'';'';'';'';'';'';'';'';'';'';'';'';'';'';'';'';'';'';'';'';'';'';'';'';'';'';'';'';'';'';'';'';'';'';'';'';'';'';'';'';'';'';'';'';'';''\n",
      "'CONSTRUNET';'20224';'';'CREATE';'LOMR860826SQ3';'';'';'';'Corporation';'Supplier';'';'SPEND_AUTHORIZED';'';'';'';'';'';'';'';'';'';'';'';'MX';'LOMR860826SQ3';'';'';'';'';'';'';'N';'';'';'';'';'Transferencia';'';'';'';'';'';'';'';'';'';'';'';'';'';'';'';'';'';'';'';'';'';'';'';'';'';'';'';'';'';'';'';'';'';'';'';'';'';'';'';'';'';'';'';'';'';'';'';'';'';'';'';'';'';'';'';'';'';'';'';'';'';'';'';'';'';'';'';'';'';'';'';'';'';'';'';'';'';'';'';'';'';'';'';'';'';'';'';'';'';'';'';'';'';'';'';'';'';'';'';'';'';'';'';'';'';'';'';'';'';'';'';'';'';'';'';'';'';'';'';'';''\n",
      "'CONSTRUNET';'20614';'';'CREATE';'PINTURAS DE SALAMANCA SA DE CV';'';'';'';'Corporation';'Supplier';'';'SPEND_AUTHORIZED';'';'';'';'';'';'';'';'';'';'';'';'MX';'PSA870425887';'';'';'';'';'';'';'N';'';'';'';'';'Transferencia';'';'';'';'';'';'';'';'';'';'';'';'';'';'';'';'';'';'';'';'';'';'';'';'';'';'';'';'';'';'';'';'';'';'';'';'';'';'';'';'';'';'';'';'';'';'';'';'';'';'';'';'';'';'';'';'';'';'';'';'';'';'';'';'';'';'';'';'';'';'';'';'';'';'';'';'';'';'';'';'';'';'';'';'';'';'';'';'';'';'';'';'';'';'';'';'';'';'';'';'';'';'';'';'';'';'';'';'';'';'';'';'';'';'';'';'';'';'';'';'';''\n",
      "'CONSTRUNET';'21946';'';'CREATE';'ELECTRICA DOMINIO SA DE CV';'';'';'';'Corporation';'Supplier';'';'SPEND_AUTHORIZED';'';'';'';'';'';'';'';'';'';'';'';'MX';'EDO990204IH9';'';'';'';'';'';'';'N';'';'';'';'';'Transferencia';'';'';'';'';'';'';'';'';'';'';'';'';'';'';'';'';'';'';'';'';'';'';'';'';'';'';'';'';'';'';'';'';'';'';'';'';'';'';'';'';'';'';'';'';'';'';'';'';'';'';'';'';'';'';'';'';'';'';'';'';'';'';'';'';'';'';'';'';'';'';'';'';'';'';'';'';'';'';'';'';'';'';'';'';'';'';'';'';'';'';'';'';'';'';'';'';'';'';'';'';'';'';'';'';'';'';'';'';'';'';'';'';'';'';'';'';'';'';'';'';''\n",
      "'CONSTRUNET';'22752';'';'CREATE';'GERARDO ARREDONDO HERNANDEZ';'';'';'';'Corporation';'Supplier';'';'SPEND_AUTHORIZED';'';'';'';'';'';'';'';'';'';'';'';'MX';'AEHG700517662';'';'';'';'';'';'';'N';'';'';'';'';'Transferencia';'';'';'';'';'';'';'';'';'';'';'';'';'';'';'';'';'';'';'';'';'';'';'';'';'';'';'';'';'';'';'';'';'';'';'';'';'';'';'';'';'';'';'';'';'';'';'';'';'';'';'';'';'';'';'';'';'';'';'';'';'';'';'';'';'';'';'';'';'';'';'';'';'';'';'';'';'';'';'';'';'';'';'';'';'';'';'';'';'';'';'';'';'';'';'';'';'';'';'';'';'';'';'';'';'';'';'';'';'';'';'';'';'';'';'';'';'';'';'';'';''\n",
      "11  text lines read\n"
     ]
    }
   ],
   "source": [
    "from custom_procedures import newestFile\n",
    "sourceFolder = '/content/drive/Shareddrives/Esperanto/Supports/Suppliers/'\n",
    "sourceFile = newestFile(sourceFolder)\n",
    "if sourceFile:\n",
    "    print(sourceFile)\n",
    "    if os.path.exists(sourceFile):\n",
    "        #textFile = open(sourceFile, mode=\"r\", encoding=\"utf-8\")\n",
    "        textFile = open(sourceFile, mode=\"r\", encoding='latin-1')\n",
    "        if textFile:\n",
    "            textLine = textFile.readline().strip()\n",
    "            print(textLine)\n",
    "            numTextLines = 0\n",
    "            while textLine:\n",
    "                if numTextLines <= 10:\n",
    "                    textLine = textFile.readline().strip()\n",
    "                    print(textLine)\n",
    "                else:\n",
    "                    break\n",
    "                numTextLines += 1\n",
    "            print(numTextLines, ' text lines read')"
   ]
  },
  {
   "source": [
    "### Step 3 - Loads interface data"
   ],
   "cell_type": "markdown",
   "metadata": {}
  },
  {
   "cell_type": "code",
   "execution_count": 3,
   "metadata": {},
   "outputs": [
    {
     "output_type": "stream",
     "name": "stdout",
     "text": [
      "SISTEMA_LEGADO\nNUMERO_PROVEEDOR\nBATCH_ID\nIMPORT_ACTION\nVENDOR_NAME\nVENDOR_NAME_NEW\nSEGMENT1\nVENDOR_NAME_ALT\nORGANIZATION_TYPE_LOOKUP_CODE\nVENDOR_TYPE_LOOKUP_CODE\nEND_DATE_ACTIVE\nBUSINESS_RELATIONSHIP\nPARENT_SUPPLIER_NAME\nALIAS\nDUNS_NUMBER\nONE_TIME_FLAG\nCUSTOMER_NUM\nSTANDARD_INDUSTRY_CLASS\nNI_NUMBER\nCORPORATE_WEBSITE\nCHIEF_EXECUTIVE_TITLE\nCHIEF_EXECUTIVE_NAME\nBUS_CLASS_NOT_APPLICABLE\nTAX_COUNTRY_CODE\nNUM_1099\nFEDERAL_REPORTABLE_FLAG\nTYPE_1099\nSTATE_REPORTABLE_FLAG\nTAX_REPORTING_NAME\nNAME_CONTROL\nTAX_VERIFICATION_DATE\nALLOW_AWT_FLAG\nAWT_GROUP_NAME\nVAT_CODE\nVAT_REGISTRATION_NUM\nAUTO_TAX_CALC_OVERRIDE\nPAYMENT_METHOD_LOOKUP_CODE\nDELIVERY_CHANNEL\nBRANK_INSTRUCTION1\nBRANK_INSTRUCTION2\nBRANK_INSTRUCTION_DETAILS\nSETTLEMENT_PRIORITY\nPAYMENT_TEXT_MESSAGE_1\nPAYMENT_TEXT_MESSAGE_2\nPAYMENT_TEXT_MESSAGE_3\nIBY_BANK_CHARGE_BEARER\nPAYMENT_REASON_CODE\nPAYMENT_REASON_COMMENTS\nPAYMENT_FORMAT_CODE\nATTRIBUTE_CATEGORY\nATTRIBUTE1\nATTRIBUTE2\nATTRIBUTE3\nATTRIBUTE4\nATTRIBUTE5\nATTRIBUTE6\nATTRIBUTE7\nATTRIBUTE8\nATTRIBUTE9\nATTRIBUTE10\nATTRIBUTE11\nATTRIBUTE12\nATTRIBUTE13\nATTRIBUTE14\nATTRIBUTE15\nATTRIBUTE16\nATTRIBUTE17\nATTRIBUTE18\nATTRIBUTE19\nATTRIBUTE20\nATTRIBUTE_DATE1\nATTRIBUTE_DATE2\nATTRIBUTE_DATE3\nATTRIBUTE_DATE4\nATTRIBUTE_DATE5\nATTRIBUTE_DATE6\nATTRIBUTE_DATE7\nATTRIBUTE_DATE8\nATTRIBUTE_DATE9\nATTRIBUTE_DATE10\nATTRIBUTE_TIMESTAMP1\nATTRIBUTE_TIMESTAMP2\nATTRIBUTE_TIMESTAMP3\nATTRIBUTE_TIMESTAMP4\nATTRIBUTE_TIMESTAMP5\nATTRIBUTE_TIMESTAMP6\nATTRIBUTE_TIMESTAMP7\nATTRIBUTE_TIMESTAMP8\nATTRIBUTE_TIMESTAMP9\nATTRIBUTE_TIMESTAMP10\nATTRIBUTE_NUMBER1\nATTRIBUTE_NUMBER2\nATTRIBUTE_NUMBER3\nATTRIBUTE_NUMBER4\nATTRIBUTE_NUMBER5\nATTRIBUTE_NUMBER6\nATTRIBUTE_NUMBER7\nATTRIBUTE_NUMBER8\nATTRIBUTE_NUMBER9\nATTRIBUTE_NUMBER10\nGLOBAL_ATTRIBUTE_CATEGORY\nGLOBAL_ATTRIBUTE1\nGLOBAL_ATTRIBUTE2\nGLOBAL_ATTRIBUTE3\nGLOBAL_ATTRIBUTE4\nGLOBAL_ATTRIBUTE5\nGLOBAL_ATTRIBUTE6\nGLOBAL_ATTRIBUTE7\nGLOBAL_ATTRIBUTE8\nGLOBAL_ATTRIBUTE9\nGLOBAL_ATTRIBUTE10\nGLOBAL_ATTRIBUTE11\nGLOBAL_ATTRIBUTE12\nGLOBAL_ATTRIBUTE13\nGLOBAL_ATTRIBUTE14\nGLOBAL_ATTRIBUTE15\nGLOBAL_ATTRIBUTE16\nGLOBAL_ATTRIBUTE17\nGLOBAL_ATTRIBUTE18\nGLOBAL_ATTRIBUTE19\nGLOBAL_ATTRIBUTE20\nGLOBAL_ATTRIBUTE_DATE1\nGLOBAL_ATTRIBUTE_DATE2\nGLOBAL_ATTRIBUTE_DATE3\nGLOBAL_ATTRIBUTE_DATE4\nGLOBAL_ATTRIBUTE_DATE5\nGLOBAL_ATTRIBUTE_DATE6\nGLOBAL_ATTRIBUTE_DATE7\nGLOBAL_ATTRIBUTE_DATE8\nGLOBAL_ATTRIBUTE_DATE9\nGLOBAL_ATTRIBUTE_DATE10\nGLOBAL_ATTRIBUTE_TIMESTAMP1\nGLOBAL_ATTRIBUTE_TIMESTAMP2\nGLOBAL_ATTRIBUTE_TIMESTAMP3\nGLOBAL_ATTRIBUTE_TIMESTAMP4\nGLOBAL_ATTRIBUTE_TIMESTAMP5\nGLOBAL_ATTRIBUTE_TIMESTAMP6\nGLOBAL_ATTRIBUTE_TIMESTAMP7\nGLOBAL_ATTRIBUTE_TIMESTAMP8\nGLOBAL_ATTRIBUTE_TIMESTAMP9\nGLOBAL_ATTRIBUTE_TIMESTAMP10\nGLOBAL_ATTRIBUTE_NUMBER1\nGLOBAL_ATTRIBUTE_NUMBER2\nGLOBAL_ATTRIBUTE_NUMBER3\nGLOBAL_ATTRIBUTE_NUMBER4\nGLOBAL_ATTRIBUTE_NUMBER5\nGLOBAL_ATTRIBUTE_NUMBER6\nGLOBAL_ATTRIBUTE_NUMBER7\nGLOBAL_ATTRIBUTE_NUMBER8\nGLOBAL_ATTRIBUTE_NUMBER9\nGLOBAL_ATTRIBUTE_NUMBER10\nPARTY_NUMBER\nSERVICE_LEVEL_CODE\nEXCLUSIVE_PAYMENT_FLAG\nREMIT_ADVICE_DELIVERY_METHOD\nREMIT_ADVICE_EMAIL\nREMIT_ADVICE_FAX\nDATAFOX_COMPANY_ID\n"
     ]
    }
   ],
   "source": [
    "df = pd.read_csv(sourceFile, sep=';', quotechar=chr(39), encoding='latin-1')\n",
    "for columnName in df.columns: \n",
    "    print(columnName)\n"
   ]
  },
  {
   "source": [
    "### Step 4 - "
   ],
   "cell_type": "markdown",
   "metadata": {}
  },
  {
   "cell_type": "code",
   "execution_count": 4,
   "metadata": {},
   "outputs": [
    {
     "output_type": "stream",
     "name": "stdout",
     "text": [
      "<bound method NDFrame.head of        SISTEMA_LEGADO NUMERO_PROVEEDOR  BATCH_ID IMPORT_ACTION  \\\n0          CONSTRUNET            15239       NaN        CREATE   \n1          CONSTRUNET            15795       NaN        CREATE   \n2          CONSTRUNET            16109       NaN        CREATE   \n3          CONSTRUNET            18077       NaN        CREATE   \n4          CONSTRUNET            18785       NaN        CREATE   \n...               ...              ...       ...           ...   \n171544            SIM            46928       NaN        CREATE   \n171545            SIM            49868       NaN        CREATE   \n171546            SIM            50499       NaN        CREATE   \n171547            SIM            53816       NaN        CREATE   \n171548            SIM            54130       NaN        CREATE   \n\n                                      VENDOR_NAME  VENDOR_NAME_NEW  SEGMENT1  \\\n0                    GRUPO SANDSTORM GAM SA DE CV              NaN       NaN   \n1                 JORGE GUADALUPE RODRIGUEZ OCHOA              NaN       NaN   \n2                              SERNA RAMIREZ CRUZ              NaN       NaN   \n3                ELIZABETH ARACELI RIVAS ESPINOZA              NaN       NaN   \n4                   CEMENTO EXPRESS S DE RL DE CV              NaN       NaN   \n...                                           ...              ...       ...   \n171544                    CHOSA ACABADOS SA DE CV              NaN       NaN   \n171545  MUNICIPIO DE CONTLA DE JUAN CUAMATZI TLAX              NaN       NaN   \n171546            DISTRIBUIDORA PINTAVIG SA DE CV              NaN       NaN   \n171547               MARTHA GUADALUPE RAMOS LOPEZ              NaN       NaN   \n171548            LACER INDUSTRIALES  S A  DE C V              NaN       NaN   \n\n        VENDOR_NAME_ALT ORGANIZATION_TYPE_LOOKUP_CODE VENDOR_TYPE_LOOKUP_CODE  \\\n0                   NaN                   Corporation                Supplier   \n1                   NaN                   Corporation                Supplier   \n2                   NaN                   Corporation                Supplier   \n3                   NaN                   Corporation                Supplier   \n4                   NaN                   Corporation                Supplier   \n...                 ...                           ...                     ...   \n171544              NaN                   Corporation                Supplier   \n171545              NaN                   Corporation                Supplier   \n171546              NaN                   Corporation                Supplier   \n171547              NaN                   Corporation                Supplier   \n171548              NaN                   Corporation                Supplier   \n\n        ...  GLOBAL_ATTRIBUTE_NUMBER8 GLOBAL_ATTRIBUTE_NUMBER9  \\\n0       ...                       NaN                      NaN   \n1       ...                       NaN                      NaN   \n2       ...                       NaN                      NaN   \n3       ...                       NaN                      NaN   \n4       ...                       NaN                      NaN   \n...     ...                       ...                      ...   \n171544  ...                       NaN                      NaN   \n171545  ...                       NaN                      NaN   \n171546  ...                       NaN                      NaN   \n171547  ...                       NaN                      NaN   \n171548  ...                       NaN                      NaN   \n\n        GLOBAL_ATTRIBUTE_NUMBER10  PARTY_NUMBER  SERVICE_LEVEL_CODE  \\\n0                             NaN           NaN                 NaN   \n1                             NaN           NaN                 NaN   \n2                             NaN           NaN                 NaN   \n3                             NaN           NaN                 NaN   \n4                             NaN           NaN                 NaN   \n...                           ...           ...                 ...   \n171544                        NaN           NaN                 NaN   \n171545                        NaN           NaN                 NaN   \n171546                        NaN           NaN                 NaN   \n171547                        NaN           NaN                 NaN   \n171548                        NaN           NaN                 NaN   \n\n        EXCLUSIVE_PAYMENT_FLAG  REMIT_ADVICE_DELIVERY_METHOD  \\\n0                          NaN                           NaN   \n1                          NaN                           NaN   \n2                          NaN                           NaN   \n3                          NaN                           NaN   \n4                          NaN                           NaN   \n...                        ...                           ...   \n171544                     NaN                           NaN   \n171545                     NaN                           NaN   \n171546                     NaN                           NaN   \n171547                     NaN                           NaN   \n171548                     NaN                           NaN   \n\n        REMIT_ADVICE_EMAIL  REMIT_ADVICE_FAX  DATAFOX_COMPANY_ID  \n0                      NaN               NaN                 NaN  \n1                      NaN               NaN                 NaN  \n2                      NaN               NaN                 NaN  \n3                      NaN               NaN                 NaN  \n4                      NaN               NaN                 NaN  \n...                    ...               ...                 ...  \n171544                 NaN               NaN                 NaN  \n171545                 NaN               NaN                 NaN  \n171546                 NaN               NaN                 NaN  \n171547                 NaN               NaN                 NaN  \n171548                 NaN               NaN                 NaN  \n\n[171549 rows x 158 columns]>\n"
     ]
    }
   ],
   "source": [
    "print(df.head)"
   ]
  },
  {
   "source": [
    "### Step 5 - Create a reduced dataset to optimize response times"
   ],
   "cell_type": "markdown",
   "metadata": {}
  },
  {
   "cell_type": "code",
   "execution_count": 5,
   "metadata": {},
   "outputs": [],
   "source": [
    "sql_query = '''\n",
    "SELECT SISTEMA_LEGADO,NUMERO_PROVEEDOR,IMPORT_ACTION,VENDOR_NAME,ORGANIZATION_TYPE_LOOKUP_CODE,\n",
    "VENDOR_TYPE_LOOKUP_CODE,BUSINESS_RELATIONSHIP,TAX_COUNTRY_CODE,NUM_1099,ALLOW_AWT_FLAG,\n",
    "PAYMENT_METHOD_LOOKUP_CODE\n",
    "FROM df\n",
    "'''\n",
    "reducedDf = ps.sqldf(sql_query)"
   ]
  },
  {
   "source": [
    "### Step 6 - Exploratory Analysis what comes from where"
   ],
   "cell_type": "markdown",
   "metadata": {}
  },
  {
   "cell_type": "code",
   "execution_count": 6,
   "metadata": {},
   "outputs": [
    {
     "output_type": "stream",
     "name": "stdout",
     "text": [
      "total number of rows in dataset:\n",
      "171549\n",
      "Index(['SISTEMA_LEGADO', 'NUMERO_PROVEEDOR', 'IMPORT_ACTION', 'VENDOR_NAME',\n",
      "       'ORGANIZATION_TYPE_LOOKUP_CODE', 'VENDOR_TYPE_LOOKUP_CODE',\n",
      "       'BUSINESS_RELATIONSHIP', 'TAX_COUNTRY_CODE', 'NUM_1099',\n",
      "       'ALLOW_AWT_FLAG', 'PAYMENT_METHOD_LOOKUP_CODE'],\n",
      "      dtype='object')\n",
      "Data received from each legacy system\n",
      "GASTOS 78057\n",
      "OBRAS 78005\n",
      "MOTOR DE SEGUIMIENTO 11226\n",
      "CONSTRUNET 1905\n",
      "SIM 1905\n",
      "MXMENU 118\n",
      "RXMENU 112\n",
      "NEGOCIOS AFILIADOS 107\n",
      "TECNOLOGIA 70\n",
      "REFACCIONARIA 16\n",
      "MARKETPLACE 11\n",
      "SIE 11\n",
      "ROPA 3\n",
      "MUEBLES 2\n",
      "PORTAL SARI 1\n",
      "Total number of records,  171549\n"
     ]
    }
   ],
   "source": [
    "print('total number of rows in dataset:')\n",
    "print(len(reducedDf.index))\n",
    "print(reducedDf.columns)\n",
    "sql_query1 = '''\n",
    "SELECT SISTEMA_LEGADO,COUNT(*) aS NumRecords FROM reducedDf\n",
    "GROUP BY SISTEMA_LEGADO\n",
    "ORDER BY NumRecords DESC\n",
    "'''\n",
    "result1 = ps.sqldf(sql_query1)\n",
    "print('Data received from each legacy system')\n",
    "rowsNumberValidation = 0\n",
    "for index1, row1 in result1.iterrows():\n",
    "    print(row1['SISTEMA_LEGADO'], int(row1['NumRecords']))\n",
    "    rowsNumberValidation = rowsNumberValidation + int(row1['NumRecords'])\n",
    "print('Total number of records, ', rowsNumberValidation)"
   ]
  },
  {
   "source": [
    "### Step 7 - Duplicate Suppliers by NUM_1099"
   ],
   "cell_type": "markdown",
   "metadata": {}
  },
  {
   "cell_type": "code",
   "execution_count": 7,
   "metadata": {
    "tags": []
   },
   "outputs": [
    {
     "output_type": "stream",
     "name": "stdout",
     "text": [
      "Total number duplicated  records,  78327\n"
     ]
    }
   ],
   "source": [
    "sql_query2 = '''\n",
    "SELECT NUM_1099,numObs FROM\n",
    "(SELECT NUM_1099,COUNT(*) AS numObs FROM reducedDf\n",
    "GROUP BY NUM_1099)\n",
    "WHERE numObs>1\n",
    "ORDER BY numObs DESC\n",
    "'''\n",
    "dupsDf = ps.sqldf(sql_query2)\n",
    "print('Total number duplicated  records, ', len(dupsDf.index))"
   ]
  },
  {
   "source": [
    "### Step 8 - Create dataset with duplicated records only"
   ],
   "cell_type": "markdown",
   "metadata": {}
  },
  {
   "cell_type": "code",
   "execution_count": 8,
   "metadata": {},
   "outputs": [
    {
     "output_type": "stream",
     "name": "stdout",
     "text": [
      "total records on dataset with duplicates  171292\n"
     ]
    }
   ],
   "source": [
    "datasetWithDups = dupsDf.merge(reducedDf, on='NUM_1099', how='left')\n",
    "print('total records on dataset with duplicates ', len(datasetWithDups.index))"
   ]
  },
  {
   "cell_type": "code",
   "execution_count": 9,
   "metadata": {},
   "outputs": [
    {
     "output_type": "stream",
     "name": "stdout",
     "text": [
      "   numObs  BatchSize\n0       2      65407\n1       3      11252\n2       4       1634\n3       5         25\n4       6          6\n5       7          1\n6       8          1\n7      10          1\n"
     ]
    }
   ],
   "source": [
    "sql_query3 = '''\n",
    "SELECT numObs,COUNT(*) AS BatchSize FROM dupsDf\n",
    "GROUP BY numObs\n",
    "ORDER BY BatchSize DESC\n",
    "'''\n",
    "dupsSummary = ps.sqldf(sql_query3)\n",
    "print(dupsSummary)"
   ]
  },
  {
   "cell_type": "code",
   "execution_count": 10,
   "metadata": {},
   "outputs": [
    {
     "output_type": "stream",
     "name": "stdout",
     "text": [
      "        NUM_1099  numObs\n0  SACE650728LK6      10\n1   DBM000228J35       8\n2  MOEC6102155J0       7\n3   AMC950330JM3       6\n4   GSI910222KY9       6\n5   MPA850101D14       6\n6   RSI021017JK5       6\n7   SEI030113NX6       6\n8   TQV1204251V2       6\n9\n"
     ]
    }
   ],
   "source": [
    "sql_query4 = '''\n",
    "SELECT NUM_1099,numObs FROM\n",
    "(SELECT NUM_1099,COUNT(*) AS numObs FROM reducedDf\n",
    "GROUP BY NUM_1099)\n",
    "WHERE numObs>5\n",
    "ORDER BY numObs DESC\n",
    "'''\n",
    "setToValidate = ps.sqldf(sql_query4)\n",
    "print(setToValidate)\n",
    "print(len(setToValidate.index))"
   ]
  },
  {
   "cell_type": "code",
   "execution_count": 12,
   "metadata": {},
   "outputs": [],
   "source": [
    "sql_query5 = '''\n",
    "SELECT B.* FROM\n",
    "(SELECT NUM_1099 FROM setToValidate) AS A \n",
    "LEFT JOIN \n",
    "(SELECT * FROM df) AS B\n",
    "ON\n",
    "(A.NUM_1099=B.NUM_1099)\n",
    "ORDER BY A.NUM_1099 ASC\n",
    "'''\n",
    "results5 = ps.sqldf(sql_query5)"
   ]
  },
  {
   "cell_type": "code",
   "execution_count": 16,
   "metadata": {
    "tags": [
     "outputPrepend"
    ]
   },
   "outputs": [
    {
     "output_type": "stream",
     "name": "stdout",
     "text": [
      ",'','','','','',MX,MPA850101D14,'','','','','','',N,'','','','',Transferencia,'','','','','','','','','','','','','','','','','','','','','','','','','','','','','','','','','','','','','','','','','','','','','','','','','','','','','','','','','','','','','','','','','','','','','','','','','','','','','','','','','','','','','','','','','','','','','','','','','','','','','','','','','','','','','','','','','','','','','','','','',''\n\nGASTOS,MPA850101D14,'',CREATE,MUNICIPIO DE PAPANTLA,'','','',Corporation,Supplier,'',SPEND_AUTHORIZED,'','','','','','','','','','','',MX,MPA850101D14,'','','','','','',N,'','','','',Transferencia,'','','','','','','','','','','','','','','','','','','','','','','','','','','','','','','','','','','','','','','','','','','','','','','','','','','','','','','','','','','','','','','','','','','','','','','','','','','','','','','','','','','','','','','','','','','','','','','','','','','','','','','','','','','','','','','','','','','','','','','','',''\n\nGASTOS,MPA850101D14,'',CREATE,MUNICIPIO DE PAPANTLA VRCZ  BANCO,'','','',Corporation,Supplier,'',SPEND_AUTHORIZED,'','','','','','','','','','','',MX,MPA850101D14,'','','','','','',N,'','','','',Transferencia,'','','','','','','','','','','','','','','','','','','','','','','','','','','','','','','','','','','','','','','','','','','','','','','','','','','','','','','','','','','','','','','','','','','','','','','','','','','','','','','','','','','','','','','','','','','','','','','','','','','','','','','','','','','','','','','','','','','','','','','','',''\n\nGASTOS,MPA850101D14,'',CREATE,MUNICIPIO DE PAPANTLA VRCZ  PREDIAL,'','','',Corporation,Supplier,'',SPEND_AUTHORIZED,'','','','','','','','','','','',MX,MPA850101D14,'','','','','','',N,'','','','',Transferencia,'','','','','','','','','','','','','','','','','','','','','','','','','','','','','','','','','','','','','','','','','','','','','','','','','','','','','','','','','','','','','','','','','','','','','','','','','','','','','','','','','','','','','','','','','','','','','','','','','','','','','','','','','','','','','','','','','','','','','','','','',''\n\nOBRAS,MPA850101D14,'',CREATE,MUNICIPIO DE PAPANTLA,'','','',Corporation,Supplier,'',SPEND_AUTHORIZED,'','','','','','','','','','','',MX,MPA850101D14,'','','','','','',N,'','','','',Transferencia,'','','','','','','','','','','','','','','','','','','','','','','','','','','','','','','','','','','','','','','','','','','','','','','','','','','','','','','','','','','','','','','','','','','','','','','','','','','','','','','','','','','','','','','','','','','','','','','','','','','','','','','','','','','','','','','','','','','','','','','','',''\n\nSIM,29051,'',CREATE,MUNICIPIO DE PAPANTLA,'','','',Corporation,Supplier,'',SPEND_AUTHORIZED,'','','','','','','','','','','',MX,MPA850101D14,'','','','','','',N,'','','','',Transferencia,'','','','','','','','','','','','','','','','','','','','','','','','','','','','','','','','','','','','','','','','','','','','','','','','','','','','','','','','','','','','','','','','','','','','','','','','','','','','','','','','','','','','','','','','','','','','','','','','','','','','','','','','','','','','','','','','','','','','','','','','',''\n\nCONSTRUNET,46940,'',CREATE,RAESHER SEGURIDAD INTEGRAL PRIVADA  S A  DE C V,'','','',Corporation,Supplier,'',SPEND_AUTHORIZED,'','','','','','','','','','','',MX,RSI021017JK5,'','','','','','',N,'','','','',Transferencia,'','','','','','','','','','','','','','','','','','','','','','','','','','','','','','','','','','','','','','','','','','','','','','','','','','','','','','','','','','','','','','','','','','','','','','','','','','','','','','','','','','','','','','','','','','','','','','','','','','','','','','','','','','','','','','','','','','','','','','','','',''\n\nGASTOS,RSI021017JK5,'',CREATE,RAESHER SEGURIDAD INTEGRAL PRIVADA SA CV,'','','',Corporation,Supplier,'',SPEND_AUTHORIZED,'','','','','','','','','','','',MX,RSI021017JK5,'','','','','','',N,'','','','',Transferencia,'','','','','','','','','','','','','','','','','','','','','','','','','','','','','','','','','','','','','','','','','','','','','','','','','','','','','','','','','','','','','','','','','','','','','','','','','','','','','','','','','','','','','','','','','','','','','','','','','','','','','','','','','','','','','','','','','','','','','','','','',''\n\nOBRAS,RSI021017JK5,'',CREATE,RAESHER SEGURIDAD INTEGRAL PRIVADA SA CV,'','','',Corporation,Supplier,'',SPEND_AUTHORIZED,'','','','','','','','','','','',MX,RSI021017JK5,'','','','','','',N,'','','','',Transferencia,'','','','','','','','','','','','','','','','','','','','','','','','','','','','','','','','','','','','','','','','','','','','','','','','','','','','','','','','','','','','','','','','','','','','','','','','','','','','','','','','','','','','','','','','','','','','','','','','','','','','','','','','','','','','','','','','','','','','','','','','',''\n\nSIE,50185,'',CREATE,RAESHER SEGURIDAD INTEGRAL PRIVADA,'','','',Corporation,Supplier,'',SPEND_AUTHORIZED,'','','','','','','','','','','',MX,RSI021017JK5,'','','','','','',N,'','','','',Transferencia,'','','','','','','','','','','','','','','','','','','','','','','','','','','','','','','','','','','','','','','','','','','','','','','','','','','','','','','','','','','','','','','','','','','','','','','','','','','','','','','','','','','','','','','','','','','','','','','','','','','','','','','','','','','','','','','','','','','','','','','','',''\n\nSIM,46940,'',CREATE,RAESHER SEGURIDAD INTEGRAL PRIVADA  S A  DE C V,'','','',Corporation,Supplier,'',SPEND_AUTHORIZED,'','','','','','','','','','','',MX,RSI021017JK5,'','','','','','',N,'','','','',Transferencia,'','','','','','','','','','','','','','','','','','','','','','','','','','','','','','','','','','','','','','','','','','','','','','','','','','','','','','','','','','','','','','','','','','','','','','','','','','','','','','','','','','','','','','','','','','','','','','','','','','','','','','','','','','','','','','','','','','','','','','','','',''\n\nTECNOLOGIA,34329,'',CREATE,RAESHER SEGURIDAD INTEGRAL PRIVADA,'','','',Corporation,Supplier,'',SPEND_AUTHORIZED,'','','','','','','','','','','',MX,RSI021017JK5,'','','','','','',N,'','','','',Transferencia,'','','','','','','','','','','','','','','','','','','','','','','','','','','','','','','','','','','','','','','','','','','','','','','','','','','','','','','','','','','','','','','','','','','','','','','','','','','','','','','','','','','','','','','','','','','','','','','','','','','','','','','','','','','','','','','','','','','','','','','','',''\n\nGASTOS,SACE650728LK6,'',CREATE,SANCHEZ  CELSA,'','','',Corporation,Supplier,'',SPEND_AUTHORIZED,'','','','','','','','','','','',MX,SACE650728LK6,'','','','','','',N,'','','','',Transferencia,'','','','','','','','','','','','','','','','','','','','','','','','','','','','','','','','','','','','','','','','','','','','','','','','','','','','','','','','','','','','','','','','','','','','','','','','','','','','','','','','','','','','','','','','','','','','','','','','','','','','','','','','','','','','','','','','','','','','','','','','',''\n\nMOTOR DE SEGUIMIENTO,SACE650728LK6,'',CREATE,ABRAHAM DE JESU SALAS MOLINA                                                                        ,'','','',Corporation,Supplier,'',SPEND_AUTHORIZED,'','','','','','','','','','','',MX,SACE650728LK6,'','','','','','',N,'','','','',Transferencia,'','','','','','','','','','','','','','','','','','','','','','','','','','','','','','','','','','','','','','','','','','','','','','','','','','','','','','','','','','','','','','','','','','','','','','','','','','','','','','','','','','','','','','','','','','','','','','','','','','','','','','','','','','','','','','','','','','','','','','','','',''\n\nMOTOR DE SEGUIMIENTO,SACE650728LK6,'',CREATE,AURI BELEN MONS VIDAL SANTOS                                                                        ,'','','',Corporation,Supplier,'',SPEND_AUTHORIZED,'','','','','','','','','','','',MX,SACE650728LK6,'','','','','','',N,'','','','',Transferencia,'','','','','','','','','','','','','','','','','','','','','','','','','','','','','','','','','','','','','','','','','','','','','','','','','','','','','','','','','','','','','','','','','','','','','','','','','','','','','','','','','','','','','','','','','','','','','','','','','','','','','','','','','','','','','','','','','','','','','','','','',''\n\nMOTOR DE SEGUIMIENTO,SACE650728LK6,'',CREATE,CELSA SANCHEZ N                                                                                     ,'','','',Corporation,Supplier,'',SPEND_AUTHORIZED,'','','','','','','','','','','',MX,SACE650728LK6,'','','','','','',N,'','','','',Transferencia,'','','','','','','','','','','','','','','','','','','','','','','','','','','','','','','','','','','','','','','','','','','','','','','','','','','','','','','','','','','','','','','','','','','','','','','','','','','','','','','','','','','','','','','','','','','','','','','','','','','','','','','','','','','','','','','','','','','','','','','','',''\n\nMOTOR DE SEGUIMIENTO,SACE650728LK6,'',CREATE,MARIA ISABEL ORNELAS VAZQUEZ                                                                        ,'','','',Corporation,Supplier,'',SPEND_AUTHORIZED,'','','','','','','','','','','',MX,SACE650728LK6,'','','','','','',N,'','','','',Transferencia,'','','','','','','','','','','','','','','','','','','','','','','','','','','','','','','','','','','','','','','','','','','','','','','','','','','','','','','','','','','','','','','','','','','','','','','','','','','','','','','','','','','','','','','','','','','','','','','','','','','','','','','','','','','','','','','','','','','','','','','','',''\n\nMOTOR DE SEGUIMIENTO,SACE650728LK6,'',CREATE,NANCY PATRICIA RIZO ROCHA                                                                           ,'','','',Corporation,Supplier,'',SPEND_AUTHORIZED,'','','','','','','','','','','',MX,SACE650728LK6,'','','','','','',N,'','','','',Transferencia,'','','','','','','','','','','','','','','','','','','','','','','','','','','','','','','','','','','','','','','','','','','','','','','','','','','','','','','','','','','','','','','','','','','','','','','','','','','','','','','','','','','','','','','','','','','','','','','','','','','','','','','','','','','','','','','','','','','','','','','','',''\n\nMOTOR DE SEGUIMIENTO,SACE650728LK6,'',CREATE,OLGA VENTURA BARCENAS                                                                               ,'','','',Corporation,Supplier,'',SPEND_AUTHORIZED,'','','','','','','','','','','',MX,SACE650728LK6,'','','','','','',N,'','','','',Transferencia,'','','','','','','','','','','','','','','','','','','','','','','','','','','','','','','','','','','','','','','','','','','','','','','','','','','','','','','','','','','','','','','','','','','','','','','','','','','','','','','','','','','','','','','','','','','','','','','','','','','','','','','','','','','','','','','','','','','','','','','','',''\n\nMOTOR DE SEGUIMIENTO,SACE650728LK6,'',CREATE,OMAR ISRAEL MORA FRANCO                                                                             ,'','','',Corporation,Supplier,'',SPEND_AUTHORIZED,'','','','','','','','','','','',MX,SACE650728LK6,'','','','','','',N,'','','','',Transferencia,'','','','','','','','','','','','','','','','','','','','','','','','','','','','','','','','','','','','','','','','','','','','','','','','','','','','','','','','','','','','','','','','','','','','','','','','','','','','','','','','','','','','','','','','','','','','','','','','','','','','','','','','','','','','','','','','','','','','','','','','',''\n\nMOTOR DE SEGUIMIENTO,SACE650728LK6,'',CREATE,ROMAN VALDIVIA CASTAÑEDA                                                                            ,'','','',Corporation,Supplier,'',SPEND_AUTHORIZED,'','','','','','','','','','','',MX,SACE650728LK6,'','','','','','',N,'','','','',Transferencia,'','','','','','','','','','','','','','','','','','','','','','','','','','','','','','','','','','','','','','','','','','','','','','','','','','','','','','','','','','','','','','','','','','','','','','','','','','','','','','','','','','','','','','','','','','','','','','','','','','','','','','','','','','','','','','','','','','','','','','','','',''\n\nOBRAS,SACE650728LK6,'',CREATE,SANCHEZ  CELSA,'','','',Corporation,Supplier,'',SPEND_AUTHORIZED,'','','','','','','','','','','',MX,SACE650728LK6,'','','','','','',N,'','','','',Transferencia,'','','','','','','','','','','','','','','','','','','','','','','','','','','','','','','','','','','','','','','','','','','','','','','','','','','','','','','','','','','','','','','','','','','','','','','','','','','','','','','','','','','','','','','','','','','','','','','','','','','','','','','','','','','','','','','','','','','','','','','','',''\n\nCONSTRUNET,15166,'',CREATE,SERVICIOS ELECTRICOS E INGENIERIAS SA DE CV,'','','',Corporation,Supplier,'',SPEND_AUTHORIZED,'','','','','','','','','','','',MX,SEI030113NX6,'','','','','','',N,'','','','',Transferencia,'','','','','','','','','','','','','','','','','','','','','','','','','','','','','','','','','','','','','','','','','','','','','','','','','','','','','','','','','','','','','','','','','','','','','','','','','','','','','','','','','','','','','','','','','','','','','','','','','','','','','','','','','','','','','','','','','','','','','','','','',''\n\nCONSTRUNET,16974,'',CREATE,SERVICIOS ELECTRICOS E INGENIERIA SA DE CV,'','','',Corporation,Supplier,'',SPEND_AUTHORIZED,'','','','','','','','','','','',MX,SEI030113NX6,'','','','','','',N,'','','','',Transferencia,'','','','','','','','','','','','','','','','','','','','','','','','','','','','','','','','','','','','','','','','','','','','','','','','','','','','','','','','','','','','','','','','','','','','','','','','','','','','','','','','','','','','','','','','','','','','','','','','','','','','','','','','','','','','','','','','','','','','','','','','',''\n\nGASTOS,SEI030113NX6,'',CREATE,SERVICIOS ELECTRICOS E INGENIERIA SA CV,'','','',Corporation,Supplier,'',SPEND_AUTHORIZED,'','','','','','','','','','','',MX,SEI030113NX6,'','','','','','',N,'','','','',Transferencia,'','','','','','','','','','','','','','','','','','','','','','','','','','','','','','','','','','','','','','','','','','','','','','','','','','','','','','','','','','','','','','','','','','','','','','','','','','','','','','','','','','','','','','','','','','','','','','','','','','','','','','','','','','','','','','','','','','','','','','','','',''\n\nOBRAS,SEI030113NX6,'',CREATE,SERVICIOS ELECTRICOS E INGENIERIA SA CV,'','','',Corporation,Supplier,'',SPEND_AUTHORIZED,'','','','','','','','','','','',MX,SEI030113NX6,'','','','','','',N,'','','','',Transferencia,'','','','','','','','','','','','','','','','','','','','','','','','','','','','','','','','','','','','','','','','','','','','','','','','','','','','','','','','','','','','','','','','','','','','','','','','','','','','','','','','','','','','','','','','','','','','','','','','','','','','','','','','','','','','','','','','','','','','','','','','',''\n\nSIM,15166,'',CREATE,SERVICIOS ELECTRICOS E INGENIERIAS SA DE CV,'','','',Corporation,Supplier,'',SPEND_AUTHORIZED,'','','','','','','','','','','',MX,SEI030113NX6,'','','','','','',N,'','','','',Transferencia,'','','','','','','','','','','','','','','','','','','','','','','','','','','','','','','','','','','','','','','','','','','','','','','','','','','','','','','','','','','','','','','','','','','','','','','','','','','','','','','','','','','','','','','','','','','','','','','','','','','','','','','','','','','','','','','','','','','','','','','','',''\n\nSIM,16974,'',CREATE,SERVICIOS ELECTRICOS E INGENIERIA SA DE CV,'','','',Corporation,Supplier,'',SPEND_AUTHORIZED,'','','','','','','','','','','',MX,SEI030113NX6,'','','','','','',N,'','','','',Transferencia,'','','','','','','','','','','','','','','','','','','','','','','','','','','','','','','','','','','','','','','','','','','','','','','','','','','','','','','','','','','','','','','','','','','','','','','','','','','','','','','','','','','','','','','','','','','','','','','','','','','','','','','','','','','','','','','','','','','','','','','','',''\n\nGASTOS,TQV1204251V2,'',CREATE,TREFO QUERETARO LA VICTORIA MTTO SA CV,'','','',Corporation,Supplier,'',SPEND_AUTHORIZED,'','','','','','','','','','','',MX,TQV1204251V2,'','','','','','',N,'','','','',Transferencia,'','','','','','','','','','','','','','','','','','','','','','','','','','','','','','','','','','','','','','','','','','','','','','','','','','','','','','','','','','','','','','','','','','','','','','','','','','','','','','','','','','','','','','','','','','','','','','','','','','','','','','','','','','','','','','','','','','','','','','','','',''\n\nGASTOS,TQV1204251V2,'',CREATE,TREFO QUERETARO LA VICTORIA RENTA SA CV,'','','',Corporation,Supplier,'',SPEND_AUTHORIZED,'','','','','','','','','','','',MX,TQV1204251V2,'','','','','','',N,'','','','',Transferencia,'','','','','','','','','','','','','','','','','','','','','','','','','','','','','','','','','','','','','','','','','','','','','','','','','','','','','','','','','','','','','','','','','','','','','','','','','','','','','','','','','','','','','','','','','','','','','','','','','','','','','','','','','','','','','','','','','','','','','','','','',''\n\nGASTOS,TQV1204251V2,'',CREATE,TREFO QUERETARO LA VICTORIA SA DE CV,'','','',Corporation,Supplier,'',SPEND_AUTHORIZED,'','','','','','','','','','','',MX,TQV1204251V2,'','','','','','',N,'','','','',Transferencia,'','','','','','','','','','','','','','','','','','','','','','','','','','','','','','','','','','','','','','','','','','','','','','','','','','','','','','','','','','','','','','','','','','','','','','','','','','','','','','','','','','','','','','','','','','','','','','','','','','','','','','','','','','','','','','','','','','','','','','','','',''\n\nOBRAS,TQV1204251V2,'',CREATE,TREFO QUERETARO LA VICTORIA MTTO SA CV,'','','',Corporation,Supplier,'',SPEND_AUTHORIZED,'','','','','','','','','','','',MX,TQV1204251V2,'','','','','','',N,'','','','',Transferencia,'','','','','','','','','','','','','','','','','','','','','','','','','','','','','','','','','','','','','','','','','','','','','','','','','','','','','','','','','','','','','','','','','','','','','','','','','','','','','','','','','','','','','','','','','','','','','','','','','','','','','','','','','','','','','','','','','','','','','','','','',''\n\nOBRAS,TQV1204251V2,'',CREATE,TREFO QUERETARO LA VICTORIA RENTA SA CV,'','','',Corporation,Supplier,'',SPEND_AUTHORIZED,'','','','','','','','','','','',MX,TQV1204251V2,'','','','','','',N,'','','','',Transferencia,'','','','','','','','','','','','','','','','','','','','','','','','','','','','','','','','','','','','','','','','','','','','','','','','','','','','','','','','','','','','','','','','','','','','','','','','','','','','','','','','','','','','','','','','','','','','','','','','','','','','','','','','','','','','','','','','','','','','','','','','',''\n\nOBRAS,TQV1204251V2,'',CREATE,TREFO QUERETARO LA VICTORIA SA DE CV,'','','',Corporation,Supplier,'',SPEND_AUTHORIZED,'','','','','','','','','','','',MX,TQV1204251V2,'','','','','','',N,'','','','',Transferencia,'','','','','','','','','','','','','','','','','','','','','','','','','','','','','','','','','','','','','','','','','','','','','','','','','','','','','','','','','','','','','','','','','','','','','','','','','','','','','','','','','','','','','','','','','','','','','','','','','','','','','','','','','','','','','','','','','','','','','','','','',''\n\n"
     ]
    }
   ],
   "source": [
    "outputFile = '/content/drive/Shareddrives/Esperanto/Supports/tmp/Duplicates_Sample.csv'\n",
    "with open(outputFile, 'w') as textFile:\n",
    "    headersList = results5.columns.to_list() \n",
    "    textLine = chr(44).join(headersList) + '\\n'\n",
    "    textFile.write(textLine)\n",
    "    for index5, row5 in results5.iterrows():\n",
    "        tmpVector = row5.to_list()\n",
    "        tmpList =  [\"''\" if value is None else value for value in tmpVector]\n",
    "        textLine = chr(44).join(tmpList) + '\\n'\n",
    "        textFile.write(textLine)\n",
    "textFile.close()"
   ]
  },
  {
   "cell_type": "code",
   "execution_count": null,
   "metadata": {},
   "outputs": [],
   "source": []
  }
 ]
}