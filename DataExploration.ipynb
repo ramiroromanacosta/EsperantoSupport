{
 "metadata": {
  "language_info": {
   "codemirror_mode": {
    "name": "ipython",
    "version": 3
   },
   "file_extension": ".py",
   "mimetype": "text/x-python",
   "name": "python",
   "nbconvert_exporter": "python",
   "pygments_lexer": "ipython3",
   "version": "3.7.12"
  },
  "orig_nbformat": 2,
  "kernelspec": {
   "name": "python3712jvsc74a57bd04cd7ab41f5fca4b9b44701077e38c5ffd31fe66a6cab21e0214b68d958d0e462",
   "display_name": "Python 3.7.12 64-bit"
  },
  "metadata": {
   "interpreter": {
    "hash": "4cd7ab41f5fca4b9b44701077e38c5ffd31fe66a6cab21e0214b68d958d0e462"
   }
  }
 },
 "nbformat": 4,
 "nbformat_minor": 2,
 "cells": [
  {
   "source": [
    "### Step 1 - Loads packages required"
   ],
   "cell_type": "markdown",
   "metadata": {}
  },
  {
   "cell_type": "code",
   "execution_count": 1,
   "metadata": {},
   "outputs": [],
   "source": [
    "import pandas as pd\n",
    "import pandasql as ps"
   ]
  },
  {
   "source": [
    "### Step 2 - Interface file exploration to validate separators and text qualifiers"
   ],
   "cell_type": "markdown",
   "metadata": {}
  },
  {
   "cell_type": "code",
   "execution_count": null,
   "metadata": {
    "tags": []
   },
   "outputs": [],
   "source": [
    "from custom_procedures import newestFile\n",
    "sourceFolder = '/content/drive/Shareddrives/Esperanto/Supports/Suppliers/'\n",
    "sourceFile = newestFile(sourceFolder)\n",
    "if sourceFile:\n",
    "    print(sourceFile)\n",
    "    if os.path.exists(sourceFile):\n",
    "        #textFile = open(sourceFile, mode=\"r\", encoding=\"utf-8\")\n",
    "        textFile = open(sourceFile, mode=\"r\", encoding='latin-1')\n",
    "        if textFile:\n",
    "            textLine = textFile.readline().strip()\n",
    "            print(textLine)\n",
    "            numTextLines = 0\n",
    "            while textLine:\n",
    "                if numTextLines <= 10:\n",
    "                    textLine = textFile.readline().strip()\n",
    "                    print(textLine)\n",
    "                numTextLines += 1\n",
    "            print(numTextLines, ' text lines read')"
   ]
  },
  {
   "source": [
    "### Step 3 - Loads interface data"
   ],
   "cell_type": "markdown",
   "metadata": {}
  },
  {
   "cell_type": "code",
   "execution_count": 14,
   "metadata": {},
   "outputs": [
    {
     "output_type": "stream",
     "name": "stdout",
     "text": [
      "SISTEMA_LEGADO\nNUMERO_PROVEEDOR\nBATCH_ID\nIMPORT_ACTION\nVENDOR_NAME\nVENDOR_NAME_NEW\nSEGMENT1\nVENDOR_NAME_ALT\nORGANIZATION_TYPE_LOOKUP_CODE\nVENDOR_TYPE_LOOKUP_CODE\nEND_DATE_ACTIVE\nBUSINESS_RELATIONSHIP\nPARENT_SUPPLIER_NAME\nALIAS\nDUNS_NUMBER\nONE_TIME_FLAG\nCUSTOMER_NUM\nSTANDARD_INDUSTRY_CLASS\nNI_NUMBER\nCORPORATE_WEBSITE\nCHIEF_EXECUTIVE_TITLE\nCHIEF_EXECUTIVE_NAME\nBUS_CLASS_NOT_APPLICABLE\nTAX_COUNTRY_CODE\nNUM_1099\nFEDERAL_REPORTABLE_FLAG\nTYPE_1099\nSTATE_REPORTABLE_FLAG\nTAX_REPORTING_NAME\nNAME_CONTROL\nTAX_VERIFICATION_DATE\nALLOW_AWT_FLAG\nAWT_GROUP_NAME\nVAT_CODE\nVAT_REGISTRATION_NUM\nAUTO_TAX_CALC_OVERRIDE\nPAYMENT_METHOD_LOOKUP_CODE\nDELIVERY_CHANNEL\nBRANK_INSTRUCTION1\nBRANK_INSTRUCTION2\nBRANK_INSTRUCTION_DETAILS\nSETTLEMENT_PRIORITY\nPAYMENT_TEXT_MESSAGE_1\nPAYMENT_TEXT_MESSAGE_2\nPAYMENT_TEXT_MESSAGE_3\nIBY_BANK_CHARGE_BEARER\nPAYMENT_REASON_CODE\nPAYMENT_REASON_COMMENTS\nPAYMENT_FORMAT_CODE\nATTRIBUTE_CATEGORY\nATTRIBUTE1\nATTRIBUTE2\nATTRIBUTE3\nATTRIBUTE4\nATTRIBUTE5\nATTRIBUTE6\nATTRIBUTE7\nATTRIBUTE8\nATTRIBUTE9\nATTRIBUTE10\nATTRIBUTE11\nATTRIBUTE12\nATTRIBUTE13\nATTRIBUTE14\nATTRIBUTE15\nATTRIBUTE16\nATTRIBUTE17\nATTRIBUTE18\nATTRIBUTE19\nATTRIBUTE20\nATTRIBUTE_DATE1\nATTRIBUTE_DATE2\nATTRIBUTE_DATE3\nATTRIBUTE_DATE4\nATTRIBUTE_DATE5\nATTRIBUTE_DATE6\nATTRIBUTE_DATE7\nATTRIBUTE_DATE8\nATTRIBUTE_DATE9\nATTRIBUTE_DATE10\nATTRIBUTE_TIMESTAMP1\nATTRIBUTE_TIMESTAMP2\nATTRIBUTE_TIMESTAMP3\nATTRIBUTE_TIMESTAMP4\nATTRIBUTE_TIMESTAMP5\nATTRIBUTE_TIMESTAMP6\nATTRIBUTE_TIMESTAMP7\nATTRIBUTE_TIMESTAMP8\nATTRIBUTE_TIMESTAMP9\nATTRIBUTE_TIMESTAMP10\nATTRIBUTE_NUMBER1\nATTRIBUTE_NUMBER2\nATTRIBUTE_NUMBER3\nATTRIBUTE_NUMBER4\nATTRIBUTE_NUMBER5\nATTRIBUTE_NUMBER6\nATTRIBUTE_NUMBER7\nATTRIBUTE_NUMBER8\nATTRIBUTE_NUMBER9\nATTRIBUTE_NUMBER10\nGLOBAL_ATTRIBUTE_CATEGORY\nGLOBAL_ATTRIBUTE1\nGLOBAL_ATTRIBUTE2\nGLOBAL_ATTRIBUTE3\nGLOBAL_ATTRIBUTE4\nGLOBAL_ATTRIBUTE5\nGLOBAL_ATTRIBUTE6\nGLOBAL_ATTRIBUTE7\nGLOBAL_ATTRIBUTE8\nGLOBAL_ATTRIBUTE9\nGLOBAL_ATTRIBUTE10\nGLOBAL_ATTRIBUTE11\nGLOBAL_ATTRIBUTE12\nGLOBAL_ATTRIBUTE13\nGLOBAL_ATTRIBUTE14\nGLOBAL_ATTRIBUTE15\nGLOBAL_ATTRIBUTE16\nGLOBAL_ATTRIBUTE17\nGLOBAL_ATTRIBUTE18\nGLOBAL_ATTRIBUTE19\nGLOBAL_ATTRIBUTE20\nGLOBAL_ATTRIBUTE_DATE1\nGLOBAL_ATTRIBUTE_DATE2\nGLOBAL_ATTRIBUTE_DATE3\nGLOBAL_ATTRIBUTE_DATE4\nGLOBAL_ATTRIBUTE_DATE5\nGLOBAL_ATTRIBUTE_DATE6\nGLOBAL_ATTRIBUTE_DATE7\nGLOBAL_ATTRIBUTE_DATE8\nGLOBAL_ATTRIBUTE_DATE9\nGLOBAL_ATTRIBUTE_DATE10\nGLOBAL_ATTRIBUTE_TIMESTAMP1\nGLOBAL_ATTRIBUTE_TIMESTAMP2\nGLOBAL_ATTRIBUTE_TIMESTAMP3\nGLOBAL_ATTRIBUTE_TIMESTAMP4\nGLOBAL_ATTRIBUTE_TIMESTAMP5\nGLOBAL_ATTRIBUTE_TIMESTAMP6\nGLOBAL_ATTRIBUTE_TIMESTAMP7\nGLOBAL_ATTRIBUTE_TIMESTAMP8\nGLOBAL_ATTRIBUTE_TIMESTAMP9\nGLOBAL_ATTRIBUTE_TIMESTAMP10\nGLOBAL_ATTRIBUTE_NUMBER1\nGLOBAL_ATTRIBUTE_NUMBER2\nGLOBAL_ATTRIBUTE_NUMBER3\nGLOBAL_ATTRIBUTE_NUMBER4\nGLOBAL_ATTRIBUTE_NUMBER5\nGLOBAL_ATTRIBUTE_NUMBER6\nGLOBAL_ATTRIBUTE_NUMBER7\nGLOBAL_ATTRIBUTE_NUMBER8\nGLOBAL_ATTRIBUTE_NUMBER9\nGLOBAL_ATTRIBUTE_NUMBER10\nPARTY_NUMBER\nSERVICE_LEVEL_CODE\nEXCLUSIVE_PAYMENT_FLAG\nREMIT_ADVICE_DELIVERY_METHOD\nREMIT_ADVICE_EMAIL\nREMIT_ADVICE_FAX\nDATAFOX_COMPANY_ID\n"
     ]
    }
   ],
   "source": [
    "df = pd.read_csv(sourceFile, sep=';', quotechar=chr(39), encoding='latin-1')\n",
    "for columnName in df.columns: \n",
    "    print(columnName)\n"
   ]
  },
  {
   "cell_type": "code",
   "execution_count": null,
   "metadata": {},
   "outputs": [],
   "source": [
    "### Step 4 - "
   ]
  },
  {
   "cell_type": "code",
   "execution_count": 15,
   "metadata": {},
   "outputs": [
    {
     "output_type": "stream",
     "name": "stdout",
     "text": [
      "<bound method NDFrame.head of        SISTEMA_LEGADO NUMERO_PROVEEDOR  ...  REMIT_ADVICE_FAX DATAFOX_COMPANY_ID\n0          CONSTRUNET            15239  ...               NaN                NaN\n1          CONSTRUNET            15795  ...               NaN                NaN\n2          CONSTRUNET            16109  ...               NaN                NaN\n3          CONSTRUNET            18077  ...               NaN                NaN\n4          CONSTRUNET            18785  ...               NaN                NaN\n...               ...              ...  ...               ...                ...\n171544            SIM            46928  ...               NaN                NaN\n171545            SIM            49868  ...               NaN                NaN\n171546            SIM            50499  ...               NaN                NaN\n171547            SIM            53816  ...               NaN                NaN\n171548            SIM            54130  ...               NaN                NaN\n\n[171549 rows x 158 columns]>\n"
     ]
    }
   ],
   "source": [
    "print(df.head)"
   ]
  },
  {
   "cell_type": "code",
   "execution_count": null,
   "metadata": {},
   "outputs": [],
   "source": []
  }
 ]
}