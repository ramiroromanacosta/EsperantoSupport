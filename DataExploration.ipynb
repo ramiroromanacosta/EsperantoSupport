{
 "metadata": {
  "language_info": {
   "codemirror_mode": {
    "name": "ipython",
    "version": 3
   },
   "file_extension": ".py",
   "mimetype": "text/x-python",
   "name": "python",
   "nbconvert_exporter": "python",
   "pygments_lexer": "ipython3",
   "version": "3.7.12"
  },
  "orig_nbformat": 2,
  "kernelspec": {
   "name": "python3712jvsc74a57bd04cd7ab41f5fca4b9b44701077e38c5ffd31fe66a6cab21e0214b68d958d0e462",
   "display_name": "Python 3.7.12 64-bit"
  },
  "metadata": {
   "interpreter": {
    "hash": "4cd7ab41f5fca4b9b44701077e38c5ffd31fe66a6cab21e0214b68d958d0e462"
   }
  }
 },
 "nbformat": 4,
 "nbformat_minor": 2,
 "cells": [
  {
   "source": [
    "### Step 1 - Loads packages required"
   ],
   "cell_type": "markdown",
   "metadata": {}
  },
  {
   "cell_type": "code",
   "execution_count": 1,
   "metadata": {},
   "outputs": [],
   "source": [
    "import pandas as pd\n",
    "import pandasql as ps"
   ]
  },
  {
   "source": [
    "### Step 2 - Interface file exploration to validate separators and text qualifiers"
   ],
   "cell_type": "markdown",
   "metadata": {}
  },
  {
   "cell_type": "code",
   "execution_count": 7,
   "metadata": {
    "tags": []
   },
   "outputs": [
    {
     "output_type": "stream",
     "name": "stdout",
     "text": [
      "/content/drive/Shareddrives/Esperanto/Supports/Suppliers/1. SUPPLIERS_INTERFACE_COPPEL.csv\n'SISTEMA_LEGADO';'NUMERO_PROVEEDOR';'BATCH_ID';'IMPORT_ACTION';'VENDOR_NAME';'VENDOR_NAME_NEW';'SEGMENT1';'VENDOR_NAME_ALT';'ORGANIZATION_TYPE_LOOKUP_CODE';'VENDOR_TYPE_LOOKUP_CODE';'END_DATE_ACTIVE';'BUSINESS_RELATIONSHIP';'PARENT_SUPPLIER_NAME';'ALIAS';'DUNS_NUMBER';'ONE_TIME_FLAG';'CUSTOMER_NUM';'STANDARD_INDUSTRY_CLASS';'NI_NUMBER';'CORPORATE_WEBSITE';'CHIEF_EXECUTIVE_TITLE';'CHIEF_EXECUTIVE_NAME';'BUS_CLASS_NOT_APPLICABLE';'TAX_COUNTRY_CODE';'NUM_1099';'FEDERAL_REPORTABLE_FLAG';'TYPE_1099';'STATE_REPORTABLE_FLAG';'TAX_REPORTING_NAME';'NAME_CONTROL';'TAX_VERIFICATION_DATE';'ALLOW_AWT_FLAG';'AWT_GROUP_NAME';'VAT_CODE';'VAT_REGISTRATION_NUM';'AUTO_TAX_CALC_OVERRIDE';'PAYMENT_METHOD_LOOKUP_CODE';'DELIVERY_CHANNEL';'BRANK_INSTRUCTION1';'BRANK_INSTRUCTION2';'BRANK_INSTRUCTION_DETAILS';'SETTLEMENT_PRIORITY';'PAYMENT_TEXT_MESSAGE_1';'PAYMENT_TEXT_MESSAGE_2';'PAYMENT_TEXT_MESSAGE_3';'IBY_BANK_CHARGE_BEARER';'PAYMENT_REASON_CODE';'PAYMENT_REASON_COMMENTS';'PAYMENT_FORMAT_CODE';'ATTRIBUTE_CATEGORY';'ATTRIBUTE1';'ATTRIBUTE2';'ATTRIBUTE3';'ATTRIBUTE4';'ATTRIBUTE5';'ATTRIBUTE6';'ATTRIBUTE7';'ATTRIBUTE8';'ATTRIBUTE9';'ATTRIBUTE10';'ATTRIBUTE11';'ATTRIBUTE12';'ATTRIBUTE13';'ATTRIBUTE14';'ATTRIBUTE15';'ATTRIBUTE16';'ATTRIBUTE17';'ATTRIBUTE18';'ATTRIBUTE19';'ATTRIBUTE20';'ATTRIBUTE_DATE1';'ATTRIBUTE_DATE2';'ATTRIBUTE_DATE3';'ATTRIBUTE_DATE4';'ATTRIBUTE_DATE5';'ATTRIBUTE_DATE6';'ATTRIBUTE_DATE7';'ATTRIBUTE_DATE8';'ATTRIBUTE_DATE9';'ATTRIBUTE_DATE10';'ATTRIBUTE_TIMESTAMP1';'ATTRIBUTE_TIMESTAMP2';'ATTRIBUTE_TIMESTAMP3';'ATTRIBUTE_TIMESTAMP4';'ATTRIBUTE_TIMESTAMP5';'ATTRIBUTE_TIMESTAMP6';'ATTRIBUTE_TIMESTAMP7';'ATTRIBUTE_TIMESTAMP8';'ATTRIBUTE_TIMESTAMP9';'ATTRIBUTE_TIMESTAMP10';'ATTRIBUTE_NUMBER1';'ATTRIBUTE_NUMBER2';'ATTRIBUTE_NUMBER3';'ATTRIBUTE_NUMBER4';'ATTRIBUTE_NUMBER5';'ATTRIBUTE_NUMBER6';'ATTRIBUTE_NUMBER7';'ATTRIBUTE_NUMBER8';'ATTRIBUTE_NUMBER9';'ATTRIBUTE_NUMBER10';'GLOBAL_ATTRIBUTE_CATEGORY';'GLOBAL_ATTRIBUTE1';'GLOBAL_ATTRIBUTE2';'GLOBAL_ATTRIBUTE3';'GLOBAL_ATTRIBUTE4';'GLOBAL_ATTRIBUTE5';'GLOBAL_ATTRIBUTE6';'GLOBAL_ATTRIBUTE7';'GLOBAL_ATTRIBUTE8';'GLOBAL_ATTRIBUTE9';'GLOBAL_ATTRIBUTE10';'GLOBAL_ATTRIBUTE11';'GLOBAL_ATTRIBUTE12';'GLOBAL_ATTRIBUTE13';'GLOBAL_ATTRIBUTE14';'GLOBAL_ATTRIBUTE15';'GLOBAL_ATTRIBUTE16';'GLOBAL_ATTRIBUTE17';'GLOBAL_ATTRIBUTE18';'GLOBAL_ATTRIBUTE19';'GLOBAL_ATTRIBUTE20';'GLOBAL_ATTRIBUTE_DATE1';'GLOBAL_ATTRIBUTE_DATE2';'GLOBAL_ATTRIBUTE_DATE3';'GLOBAL_ATTRIBUTE_DATE4';'GLOBAL_ATTRIBUTE_DATE5';'GLOBAL_ATTRIBUTE_DATE6';'GLOBAL_ATTRIBUTE_DATE7';'GLOBAL_ATTRIBUTE_DATE8';'GLOBAL_ATTRIBUTE_DATE9';'GLOBAL_ATTRIBUTE_DATE10';'GLOBAL_ATTRIBUTE_TIMESTAMP1';'GLOBAL_ATTRIBUTE_TIMESTAMP2';'GLOBAL_ATTRIBUTE_TIMESTAMP3';'GLOBAL_ATTRIBUTE_TIMESTAMP4';'GLOBAL_ATTRIBUTE_TIMESTAMP5';'GLOBAL_ATTRIBUTE_TIMESTAMP6';'GLOBAL_ATTRIBUTE_TIMESTAMP7';'GLOBAL_ATTRIBUTE_TIMESTAMP8';'GLOBAL_ATTRIBUTE_TIMESTAMP9';'GLOBAL_ATTRIBUTE_TIMESTAMP10';'GLOBAL_ATTRIBUTE_NUMBER1';'GLOBAL_ATTRIBUTE_NUMBER2';'GLOBAL_ATTRIBUTE_NUMBER3';'GLOBAL_ATTRIBUTE_NUMBER4';'GLOBAL_ATTRIBUTE_NUMBER5';'GLOBAL_ATTRIBUTE_NUMBER6';'GLOBAL_ATTRIBUTE_NUMBER7';'GLOBAL_ATTRIBUTE_NUMBER8';'GLOBAL_ATTRIBUTE_NUMBER9';'GLOBAL_ATTRIBUTE_NUMBER10';'PARTY_NUMBER';'SERVICE_LEVEL_CODE';'EXCLUSIVE_PAYMENT_FLAG';'REMIT_ADVICE_DELIVERY_METHOD';'REMIT_ADVICE_EMAIL';'REMIT_ADVICE_FAX';'DATAFOX_COMPANY_ID'\n"
     ]
    },
    {
     "output_type": "error",
     "ename": "UnicodeDecodeError",
     "evalue": "'utf-8' codec can't decode byte 0xd1 in position 3774: invalid continuation byte",
     "traceback": [
      "\u001b[0;31m---------------------------------------------------------------------------\u001b[0m",
      "\u001b[0;31mUnicodeDecodeError\u001b[0m                        Traceback (most recent call last)",
      "\u001b[0;32m<ipython-input-7-f932d5258de8>\u001b[0m in \u001b[0;36m<module>\u001b[0;34m()\u001b[0m\n\u001b[1;32m     13\u001b[0m             \u001b[0;32mwhile\u001b[0m \u001b[0mtextLine\u001b[0m\u001b[0;34m:\u001b[0m\u001b[0;34m\u001b[0m\u001b[0;34m\u001b[0m\u001b[0m\n\u001b[1;32m     14\u001b[0m                 \u001b[0;31m#if numTextLines <= 10:\u001b[0m\u001b[0;34m\u001b[0m\u001b[0;34m\u001b[0m\u001b[0;34m\u001b[0m\u001b[0m\n\u001b[0;32m---> 15\u001b[0;31m                 \u001b[0mtextLine\u001b[0m \u001b[0;34m=\u001b[0m \u001b[0mtextFile\u001b[0m\u001b[0;34m.\u001b[0m\u001b[0mreadline\u001b[0m\u001b[0;34m(\u001b[0m\u001b[0;34m)\u001b[0m\u001b[0;34m.\u001b[0m\u001b[0mstrip\u001b[0m\u001b[0;34m(\u001b[0m\u001b[0;34m)\u001b[0m\u001b[0;34m\u001b[0m\u001b[0;34m\u001b[0m\u001b[0m\n\u001b[0m\u001b[1;32m     16\u001b[0m                 \u001b[0;31m#print(textLine)\u001b[0m\u001b[0;34m\u001b[0m\u001b[0;34m\u001b[0m\u001b[0;34m\u001b[0m\u001b[0m\n\u001b[1;32m     17\u001b[0m                 \u001b[0mnumTextLines\u001b[0m \u001b[0;34m+=\u001b[0m \u001b[0;36m1\u001b[0m\u001b[0;34m\u001b[0m\u001b[0;34m\u001b[0m\u001b[0m\n",
      "\u001b[0;32m/usr/lib/python3.7/codecs.py\u001b[0m in \u001b[0;36mdecode\u001b[0;34m(self, input, final)\u001b[0m\n\u001b[1;32m    320\u001b[0m         \u001b[0;31m# decode input (taking the buffer into account)\u001b[0m\u001b[0;34m\u001b[0m\u001b[0;34m\u001b[0m\u001b[0;34m\u001b[0m\u001b[0m\n\u001b[1;32m    321\u001b[0m         \u001b[0mdata\u001b[0m \u001b[0;34m=\u001b[0m \u001b[0mself\u001b[0m\u001b[0;34m.\u001b[0m\u001b[0mbuffer\u001b[0m \u001b[0;34m+\u001b[0m \u001b[0minput\u001b[0m\u001b[0;34m\u001b[0m\u001b[0;34m\u001b[0m\u001b[0m\n\u001b[0;32m--> 322\u001b[0;31m         \u001b[0;34m(\u001b[0m\u001b[0mresult\u001b[0m\u001b[0;34m,\u001b[0m \u001b[0mconsumed\u001b[0m\u001b[0;34m)\u001b[0m \u001b[0;34m=\u001b[0m \u001b[0mself\u001b[0m\u001b[0;34m.\u001b[0m\u001b[0m_buffer_decode\u001b[0m\u001b[0;34m(\u001b[0m\u001b[0mdata\u001b[0m\u001b[0;34m,\u001b[0m \u001b[0mself\u001b[0m\u001b[0;34m.\u001b[0m\u001b[0merrors\u001b[0m\u001b[0;34m,\u001b[0m \u001b[0mfinal\u001b[0m\u001b[0;34m)\u001b[0m\u001b[0;34m\u001b[0m\u001b[0;34m\u001b[0m\u001b[0m\n\u001b[0m\u001b[1;32m    323\u001b[0m         \u001b[0;31m# keep undecoded input until the next call\u001b[0m\u001b[0;34m\u001b[0m\u001b[0;34m\u001b[0m\u001b[0;34m\u001b[0m\u001b[0m\n\u001b[1;32m    324\u001b[0m         \u001b[0mself\u001b[0m\u001b[0;34m.\u001b[0m\u001b[0mbuffer\u001b[0m \u001b[0;34m=\u001b[0m \u001b[0mdata\u001b[0m\u001b[0;34m[\u001b[0m\u001b[0mconsumed\u001b[0m\u001b[0;34m:\u001b[0m\u001b[0;34m]\u001b[0m\u001b[0;34m\u001b[0m\u001b[0;34m\u001b[0m\u001b[0m\n",
      "\u001b[0;31mUnicodeDecodeError\u001b[0m: 'utf-8' codec can't decode byte 0xd1 in position 3774: invalid continuation byte"
     ]
    }
   ],
   "source": [
    "from custom_procedures import newestFile\n",
    "sourceFolder = '/content/drive/Shareddrives/Esperanto/Supports/Suppliers/'\n",
    "sourceFile = newestFile(sourceFolder)\n",
    "if sourceFile:\n",
    "    print(sourceFile)\n",
    "    if os.path.exists(sourceFile):\n",
    "        #textFile = open(sourceFile, mode=\"r\", encoding=\"utf-8\")\n",
    "        textFile = open(sourceFile, mode=\"r\")\n",
    "        if textFile:\n",
    "            textLine = textFile.readline().strip()\n",
    "            print(textLine)\n",
    "            numTextLines = 0\n",
    "            while textLine:\n",
    "                #if numTextLines <= 10:\n",
    "                textLine = textFile.readline().strip()\n",
    "                #print(textLine)\n",
    "                numTextLines += 1\n",
    "            print(numTextLines, ' text lines read')"
   ]
  },
  {
   "source": [
    "### Step 3 - Loads interface data"
   ],
   "cell_type": "markdown",
   "metadata": {}
  },
  {
   "cell_type": "code",
   "execution_count": null,
   "metadata": {},
   "outputs": [],
   "source": [
    "df = pd.read_csv(sourceFile, sep=';')\n",
    "if df:\n",
    "    print(df.columns)"
   ]
  },
  {
   "cell_type": "code",
   "execution_count": null,
   "metadata": {},
   "outputs": [],
   "source": [
    "### Step 4 - "
   ]
  }
 ]
}