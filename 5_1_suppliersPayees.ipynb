{
 "metadata": {
  "language_info": {
   "codemirror_mode": {
    "name": "ipython",
    "version": 3
   },
   "file_extension": ".py",
   "mimetype": "text/x-python",
   "name": "python",
   "nbconvert_exporter": "python",
   "pygments_lexer": "ipython3",
   "version": "3.7.12"
  },
  "orig_nbformat": 2,
  "kernelspec": {
   "name": "python3712jvsc74a57bd04cd7ab41f5fca4b9b44701077e38c5ffd31fe66a6cab21e0214b68d958d0e462",
   "display_name": "Python 3.7.12 64-bit"
  },
  "metadata": {
   "interpreter": {
    "hash": "4cd7ab41f5fca4b9b44701077e38c5ffd31fe66a6cab21e0214b68d958d0e462"
   }
  }
 },
 "nbformat": 4,
 "nbformat_minor": 2,
 "cells": [
  {
   "source": [
    "## Data from File 5.1 Suppliers Payees"
   ],
   "cell_type": "markdown",
   "metadata": {}
  },
  {
   "source": [
    "### Step 1. Load required package"
   ],
   "cell_type": "markdown",
   "metadata": {}
  },
  {
   "cell_type": "code",
   "execution_count": 1,
   "metadata": {},
   "outputs": [],
   "source": [
    "import pandas as pd\n",
    "import pandasql as ps\n",
    "from pathlib import Path"
   ]
  },
  {
   "source": [
    "### Step 2 - Get sample from source file"
   ],
   "cell_type": "markdown",
   "metadata": {}
  },
  {
   "cell_type": "code",
   "execution_count": 2,
   "metadata": {},
   "outputs": [
    {
     "output_type": "stream",
     "name": "stdout",
     "text": [
      "'SISTEMA_LEGADO';'NUMERO_PROVEEDOR';'FEEDER_IMPORT_BATCH_ID';'TEMP_EXT_PAYEE_ID';'BUSINESS_UNIT';'VENDOR_NUM';'VENDOR_SITE_CODE';'EXCLUSIVE_PAYMENT_FLAG';'DEFAULT_PAYMENT_METHOD_CODE';'DELIVERY_CHANNEL_CODE';'SETTLEMENT_PRIORITY';'REMIT_ADVICE_DELIVERY_METHOD';'REMIT_ADVICE_EMAIL';'REMIT_ADVICE_FAX';'BANK_INSTRUCTION1_CODE';'BANK_INSTRUCTION2_CODE';'BANK_INSTRUCTION_DETAILS';'PAYMENT_REASON_CODE';'PAYMENT_REASON_COMMENTS';'PAYMENT_TEXT_MESSAGE1';'PAYMENT_TEXT_MESSAGE2';'PAYMENT_TEXT_MESSAGE3';'BANK_CHARGE_BEARER'\n\n'SAJ';'3';'100';'7';'BU_CSACV';'';'SJ3MXN004';'N';'Transferencia';'';'';'';'';'';'';'';'';'';'';'';'';'';''\n\n'OBRAS';'GAVE860528F18';'100';'9';'BU_CSACV';'0 VERGARA EFRAIN';'SOGAVE860528F18';'N';'Transferencia';'';'';'';'';'';'';'';'';'';'';'';'';'';''\n\n'OBRAS';'CST050404CH3';'100';'11';'BU_CSACV';'04 ST SC';'SOCST050404CH3';'N';'Transferencia';'';'';'';'';'';'';'';'';'';'';'';'';'';''\n\n'GASTOS';'BIO111108JC6';'100';'12';'BU_CSACV';'100% BIORESPONSABLES SA DE CV';'GTBIO111108JC6';'N';'Transferencia';'';'';'';'';'';'';'';'';'';'';'';'';'';''\n\n'OBRAS';'BIO111108JC6';'100';'13';'BU_CSACV';'100% BIORESPONSABLES SA DE CV';'SOBIO111108JC6';'N';'Transferencia';'';'';'';'';'';'';'';'';'';'';'';'';'';''\n\n'OBRAS';'CDC150325SZ0';'100';'16';'BU_CSACV';'102 CONSTRUCTORES SA DE CV';'SOCDC150325SZ0';'N';'Transferencia';'';'';'';'';'';'';'';'';'';'';'';'';'';''\n\n'GASTOS';'DSE090511EW5';'100';'18';'BU_CSACV';'12 SUAREZ EDIFICACIONES SA DE CV';'GTDSE090511EW5';'N';'Transferencia';'';'';'';'';'';'';'';'';'';'';'';'';'';''\n\n'OBRAS';'DSE090511EW5';'100';'19';'BU_CSACV';'12 SUAREZ EDIFICACIONES SA DE CV';'SODSE090511EW5';'N';'Transferencia';'';'';'';'';'';'';'';'';'';'';'';'';'';''\n\n'GASTOS';'TVC8607234U2';'100';'24';'BU_CSACV';'13 29 CONSTRUCCIONES SA DE CV';'GTTVC8607234U2';'N';'Transferencia';'';'';'';'';'';'';'';'';'';'';'';'';'';''\n\n'OBRAS';'TVC8607234U2';'100';'23';'BU_CSACV';'13 29 CONSTRUCCIONES SA DE CV';'SOTVC8607234U2';'N';'Transferencia';'';'';'';'';'';'';'';'';'';'';'';'';'';''\n\n"
     ]
    }
   ],
   "source": [
    "sourceFolder = '/content/drive/Shareddrives/Esperanto/Supports/Suppliers/5_Suppliers_Payees_BankAccounts'\n",
    "workFolder = '/content/drive/Shareddrives/Esperanto/Supports/Suppliers/Work/5_Bank_Accounts'\n",
    "fileName = '5.1. SUPPLIER_PAYEES_COPPEL.csv'\n",
    "inputTextFile = open(Path(sourceFolder, fileName), 'r', encoding='latin-1')\n",
    "if inputTextFile:\n",
    "    numTextLines = 0\n",
    "    while True:\n",
    "        numTextLines += 1\n",
    "        textLine = inputTextFile.readline()\n",
    "        print(textLine)\n",
    "        if numTextLines >10:\n",
    "            break\n",
    "    inputTextFile.close()"
   ]
  },
  {
   "source": [
    "### Step 3 - Load supplier payee data"
   ],
   "cell_type": "markdown",
   "metadata": {}
  },
  {
   "cell_type": "code",
   "execution_count": 3,
   "metadata": {},
   "outputs": [
    {
     "output_type": "stream",
     "name": "stdout",
     "text": [
      "  SISTEMA_LEGADO NUMERO_PROVEEDOR  FEEDER_IMPORT_BATCH_ID  TEMP_EXT_PAYEE_ID  \\\n0            SAJ                3                     100                  7   \n1          OBRAS    GAVE860528F18                     100                  9   \n2          OBRAS     CST050404CH3                     100                 11   \n3         GASTOS     BIO111108JC6                     100                 12   \n4          OBRAS     BIO111108JC6                     100                 13   \n5          OBRAS     CDC150325SZ0                     100                 16   \n6         GASTOS     DSE090511EW5                     100                 18   \n7          OBRAS     DSE090511EW5                     100                 19   \n8         GASTOS     TVC8607234U2                     100                 24   \n9          OBRAS     TVC8607234U2                     100                 23   \n\n  BUSINESS_UNIT                        VENDOR_NUM VENDOR_SITE_CODE  \\\n0      BU_CSACV                               NaN        SJ3MXN004   \n1      BU_CSACV                  0 VERGARA EFRAIN  SOGAVE860528F18   \n2      BU_CSACV                          04 ST SC   SOCST050404CH3   \n3      BU_CSACV     100% BIORESPONSABLES SA DE CV   GTBIO111108JC6   \n4      BU_CSACV     100% BIORESPONSABLES SA DE CV   SOBIO111108JC6   \n5      BU_CSACV        102 CONSTRUCTORES SA DE CV   SOCDC150325SZ0   \n6      BU_CSACV  12 SUAREZ EDIFICACIONES SA DE CV   GTDSE090511EW5   \n7      BU_CSACV  12 SUAREZ EDIFICACIONES SA DE CV   SODSE090511EW5   \n8      BU_CSACV     13 29 CONSTRUCCIONES SA DE CV   GTTVC8607234U2   \n9      BU_CSACV     13 29 CONSTRUCCIONES SA DE CV   SOTVC8607234U2   \n\n  EXCLUSIVE_PAYMENT_FLAG DEFAULT_PAYMENT_METHOD_CODE  DELIVERY_CHANNEL_CODE  \\\n0                      N               Transferencia                    NaN   \n1                      N               Transferencia                    NaN   \n2                      N               Transferencia                    NaN   \n3                      N               Transferencia                    NaN   \n4                      N               Transferencia                    NaN   \n5                      N               Transferencia                    NaN   \n6                      N               Transferencia                    NaN   \n7                      N               Transferencia                    NaN   \n8                      N               Transferencia                    NaN   \n9                      N               Transferencia                    NaN   \n\n   ...  REMIT_ADVICE_FAX  BANK_INSTRUCTION1_CODE  BANK_INSTRUCTION2_CODE  \\\n0  ...               NaN                     NaN                     NaN   \n1  ...               NaN                     NaN                     NaN   \n2  ...               NaN                     NaN                     NaN   \n3  ...               NaN                     NaN                     NaN   \n4  ...               NaN                     NaN                     NaN   \n5  ...               NaN                     NaN                     NaN   \n6  ...               NaN                     NaN                     NaN   \n7  ...               NaN                     NaN                     NaN   \n8  ...               NaN                     NaN                     NaN   \n9  ...               NaN                     NaN                     NaN   \n\n   BANK_INSTRUCTION_DETAILS  PAYMENT_REASON_CODE  PAYMENT_REASON_COMMENTS  \\\n0                       NaN                  NaN                      NaN   \n1                       NaN                  NaN                      NaN   \n2                       NaN                  NaN                      NaN   \n3                       NaN                  NaN                      NaN   \n4                       NaN                  NaN                      NaN   \n5                       NaN                  NaN                      NaN   \n6                       NaN                  NaN                      NaN   \n7                       NaN                  NaN                      NaN   \n8                       NaN                  NaN                      NaN   \n9                       NaN                  NaN                      NaN   \n\n   PAYMENT_TEXT_MESSAGE1  PAYMENT_TEXT_MESSAGE2  PAYMENT_TEXT_MESSAGE3  \\\n0                    NaN                    NaN                    NaN   \n1                    NaN                    NaN                    NaN   \n2                    NaN                    NaN                    NaN   \n3                    NaN                    NaN                    NaN   \n4                    NaN                    NaN                    NaN   \n5                    NaN                    NaN                    NaN   \n6                    NaN                    NaN                    NaN   \n7                    NaN                    NaN                    NaN   \n8                    NaN                    NaN                    NaN   \n9                    NaN                    NaN                    NaN   \n\n   BANK_CHARGE_BEARER  \n0                 NaN  \n1                 NaN  \n2                 NaN  \n3                 NaN  \n4                 NaN  \n5                 NaN  \n6                 NaN  \n7                 NaN  \n8                 NaN  \n9                 NaN  \n\n[10 rows x 23 columns]\n186261  records found. \n"
     ]
    }
   ],
   "source": [
    "df = pd.read_csv(Path(sourceFolder,fileName), sep=';', quotechar=chr(39), encoding='latin-1')\n",
    "print(df.head(10))\n",
    "print(len(df.index), ' records found. ')"
   ]
  },
  {
   "cell_type": "code",
   "execution_count": 4,
   "metadata": {},
   "outputs": [
    {
     "output_type": "execute_result",
     "data": {
      "text/plain": [
       "SISTEMA_LEGADO                   object\n",
       "NUMERO_PROVEEDOR                 object\n",
       "FEEDER_IMPORT_BATCH_ID            int64\n",
       "TEMP_EXT_PAYEE_ID                 int64\n",
       "BUSINESS_UNIT                    object\n",
       "VENDOR_NUM                       object\n",
       "VENDOR_SITE_CODE                 object\n",
       "EXCLUSIVE_PAYMENT_FLAG           object\n",
       "DEFAULT_PAYMENT_METHOD_CODE      object\n",
       "DELIVERY_CHANNEL_CODE           float64\n",
       "SETTLEMENT_PRIORITY             float64\n",
       "REMIT_ADVICE_DELIVERY_METHOD    float64\n",
       "REMIT_ADVICE_EMAIL              float64\n",
       "REMIT_ADVICE_FAX                float64\n",
       "BANK_INSTRUCTION1_CODE          float64\n",
       "BANK_INSTRUCTION2_CODE          float64\n",
       "BANK_INSTRUCTION_DETAILS        float64\n",
       "PAYMENT_REASON_CODE             float64\n",
       "PAYMENT_REASON_COMMENTS         float64\n",
       "PAYMENT_TEXT_MESSAGE1           float64\n",
       "PAYMENT_TEXT_MESSAGE2           float64\n",
       "PAYMENT_TEXT_MESSAGE3           float64\n",
       "BANK_CHARGE_BEARER              float64\n",
       "dtype: object"
      ]
     },
     "metadata": {},
     "execution_count": 4
    }
   ],
   "source": [
    "df.dtypes"
   ]
  },
  {
   "source": [
    "### Step 4 - Creates a modified dataset with key field as strings"
   ],
   "cell_type": "markdown",
   "metadata": {}
  },
  {
   "cell_type": "code",
   "execution_count": 5,
   "metadata": {},
   "outputs": [
    {
     "output_type": "stream",
     "name": "stdout",
     "text": [
      "  SISTEMA_LEGADO NUMERO_PROVEEDOR  FEEDER_IMPORT_BATCH_ID  TEMP_EXT_PAYEE_ID  \\\n0            SAJ                3                     100                  7   \n1          OBRAS    GAVE860528F18                     100                  9   \n2          OBRAS     CST050404CH3                     100                 11   \n3         GASTOS     BIO111108JC6                     100                 12   \n4          OBRAS     BIO111108JC6                     100                 13   \n5          OBRAS     CDC150325SZ0                     100                 16   \n6         GASTOS     DSE090511EW5                     100                 18   \n7          OBRAS     DSE090511EW5                     100                 19   \n8         GASTOS     TVC8607234U2                     100                 24   \n9          OBRAS     TVC8607234U2                     100                 23   \n\n  BUSINESS_UNIT                        VENDOR_NUM VENDOR_SITE_CODE  \\\n0      BU_CSACV                              <NA>        SJ3MXN004   \n1      BU_CSACV                  0 VERGARA EFRAIN  SOGAVE860528F18   \n2      BU_CSACV                          04 ST SC   SOCST050404CH3   \n3      BU_CSACV     100% BIORESPONSABLES SA DE CV   GTBIO111108JC6   \n4      BU_CSACV     100% BIORESPONSABLES SA DE CV   SOBIO111108JC6   \n5      BU_CSACV        102 CONSTRUCTORES SA DE CV   SOCDC150325SZ0   \n6      BU_CSACV  12 SUAREZ EDIFICACIONES SA DE CV   GTDSE090511EW5   \n7      BU_CSACV  12 SUAREZ EDIFICACIONES SA DE CV   SODSE090511EW5   \n8      BU_CSACV     13 29 CONSTRUCCIONES SA DE CV   GTTVC8607234U2   \n9      BU_CSACV     13 29 CONSTRUCCIONES SA DE CV   SOTVC8607234U2   \n\n  EXCLUSIVE_PAYMENT_FLAG DEFAULT_PAYMENT_METHOD_CODE  DELIVERY_CHANNEL_CODE  \\\n0                      N               Transferencia                    NaN   \n1                      N               Transferencia                    NaN   \n2                      N               Transferencia                    NaN   \n3                      N               Transferencia                    NaN   \n4                      N               Transferencia                    NaN   \n5                      N               Transferencia                    NaN   \n6                      N               Transferencia                    NaN   \n7                      N               Transferencia                    NaN   \n8                      N               Transferencia                    NaN   \n9                      N               Transferencia                    NaN   \n\n   ...  BANK_INSTRUCTION1_CODE  BANK_INSTRUCTION2_CODE  \\\n0  ...                     NaN                     NaN   \n1  ...                     NaN                     NaN   \n2  ...                     NaN                     NaN   \n3  ...                     NaN                     NaN   \n4  ...                     NaN                     NaN   \n5  ...                     NaN                     NaN   \n6  ...                     NaN                     NaN   \n7  ...                     NaN                     NaN   \n8  ...                     NaN                     NaN   \n9  ...                     NaN                     NaN   \n\n   BANK_INSTRUCTION_DETAILS  PAYMENT_REASON_CODE  PAYMENT_REASON_COMMENTS  \\\n0                       NaN                  NaN                      NaN   \n1                       NaN                  NaN                      NaN   \n2                       NaN                  NaN                      NaN   \n3                       NaN                  NaN                      NaN   \n4                       NaN                  NaN                      NaN   \n5                       NaN                  NaN                      NaN   \n6                       NaN                  NaN                      NaN   \n7                       NaN                  NaN                      NaN   \n8                       NaN                  NaN                      NaN   \n9                       NaN                  NaN                      NaN   \n\n   PAYMENT_TEXT_MESSAGE1  PAYMENT_TEXT_MESSAGE2  PAYMENT_TEXT_MESSAGE3  \\\n0                    NaN                    NaN                    NaN   \n1                    NaN                    NaN                    NaN   \n2                    NaN                    NaN                    NaN   \n3                    NaN                    NaN                    NaN   \n4                    NaN                    NaN                    NaN   \n5                    NaN                    NaN                    NaN   \n6                    NaN                    NaN                    NaN   \n7                    NaN                    NaN                    NaN   \n8                    NaN                    NaN                    NaN   \n9                    NaN                    NaN                    NaN   \n\n   BANK_CHARGE_BEARER  TAXID_VALIDATION  \n0                 NaN             False  \n1                 NaN             False  \n2                 NaN             False  \n3                 NaN             False  \n4                 NaN             False  \n5                 NaN             False  \n6                 NaN             False  \n7                 NaN             False  \n8                 NaN             False  \n9                 NaN             False  \n\n[10 rows x 24 columns]\nSISTEMA_LEGADO                   string\nNUMERO_PROVEEDOR                 string\nFEEDER_IMPORT_BATCH_ID            int64\nTEMP_EXT_PAYEE_ID                 int64\nBUSINESS_UNIT                    string\nVENDOR_NUM                       string\nVENDOR_SITE_CODE                 string\nEXCLUSIVE_PAYMENT_FLAG           string\nDEFAULT_PAYMENT_METHOD_CODE      string\nDELIVERY_CHANNEL_CODE           float64\nSETTLEMENT_PRIORITY             float64\nREMIT_ADVICE_DELIVERY_METHOD    float64\nREMIT_ADVICE_EMAIL              float64\nREMIT_ADVICE_FAX                float64\nBANK_INSTRUCTION1_CODE          float64\nBANK_INSTRUCTION2_CODE          float64\nBANK_INSTRUCTION_DETAILS        float64\nPAYMENT_REASON_CODE             float64\nPAYMENT_REASON_COMMENTS         float64\nPAYMENT_TEXT_MESSAGE1           float64\nPAYMENT_TEXT_MESSAGE2           float64\nPAYMENT_TEXT_MESSAGE3           float64\nBANK_CHARGE_BEARER              float64\nTAXID_VALIDATION                   bool\ndtype: object\n"
     ]
    }
   ],
   "source": [
    "modDf = df\n",
    "modDf['TAXID_VALIDATION'] = False\n",
    "modDf['SISTEMA_LEGADO']=modDf['SISTEMA_LEGADO'].astype(pd.StringDtype())\n",
    "modDf['NUMERO_PROVEEDOR']=modDf['NUMERO_PROVEEDOR'].astype(pd.StringDtype())\n",
    "modDf['BUSINESS_UNIT']=modDf['BUSINESS_UNIT'].astype(pd.StringDtype())\n",
    "modDf['VENDOR_NUM']=modDf['VENDOR_NUM'].astype(pd.StringDtype())\n",
    "modDf['VENDOR_SITE_CODE']=modDf['VENDOR_SITE_CODE'].astype(pd.StringDtype())\n",
    "modDf['EXCLUSIVE_PAYMENT_FLAG']=modDf['EXCLUSIVE_PAYMENT_FLAG'].astype(pd.StringDtype())\n",
    "modDf['DEFAULT_PAYMENT_METHOD_CODE']=modDf['DEFAULT_PAYMENT_METHOD_CODE'].astype(pd.StringDtype())\n",
    "print(modDf.head(10))\n",
    "print(modDf.dtypes)"
   ]
  },
  {
   "source": [
    "### Step 5 - Reads Data in Scope"
   ],
   "cell_type": "markdown",
   "metadata": {}
  },
  {
   "cell_type": "code",
   "execution_count": 8,
   "metadata": {},
   "outputs": [
    {
     "output_type": "stream",
     "name": "stdout",
     "text": [
      "   Unnamed: 0 NUMERO_PROVEEDOR          ATTRIBUTE1\n0           0     &JE040614N51   12276001452967570\n1           1    00AL570409DC8   12650014247123077\n2           2    00BR5103152L7  137542104238981574\n3           3    00CE810603TI4  137282103200730959\n4           4             1482    2052093730305436\n5           5             1482   12320001445245786\n6           6            15020   21910040156221600\n7           7            15025   12180001719871518\n8           8            15026   30730232441602010\n9           9            15039   21743040145993103\n"
     ]
    }
   ],
   "source": [
    "dataInScopeDf = pd.read_csv(Path(workFolder, 'dataInScopeDfs.csv'), encoding='utf-8')\n",
    "print(dataInScopeDf.head(10))"
   ]
  },
  {
   "source": [
    "### Step 6 - Get Tax Id's or Supplier Id's in scope"
   ],
   "cell_type": "markdown",
   "metadata": {}
  },
  {
   "cell_type": "code",
   "execution_count": 13,
   "metadata": {},
   "outputs": [
    {
     "output_type": "stream",
     "name": "stdout",
     "text": [
      "NUMERO_PROVEEDOR    object\ndtype: object\n76565  suppliers in scope.\n  NUMERO_PROVEEDOR\n0     &JE040614N51\n1    00AL570409DC8\n2    00BR5103152L7\n3    00CE810603TI4\n4             1482\n5            15020\n6            15025\n7            15026\n8            15039\n9            15043\n"
     ]
    }
   ],
   "source": [
    "sql_query = '''\n",
    "SELECT NUMERO_PROVEEDOR FROM\n",
    "(SELECT DISTINCT NUMERO_PROVEEDOR FROM dataInScopeDf)\n",
    "ORDER BY NUMERO_PROVEEDOR ASC\n",
    "'''\n",
    "SuppliersInScope = ps.sqldf(sql_query)\n",
    "print(SuppliersInScope.dtypes)\n",
    "print(len(SuppliersInScope.index), ' suppliers in scope.')\n",
    "print(SuppliersInScope.head(10))"
   ]
  },
  {
   "source": [
    "### Step 5 - Merge Suppliers in Scope with 5.1 Table data"
   ],
   "cell_type": "markdown",
   "metadata": {}
  },
  {
   "cell_type": "code",
   "execution_count": 14,
   "metadata": {},
   "outputs": [
    {
     "output_type": "stream",
     "name": "stdout",
     "text": [
      "164488  records obtained.\n  NUMERO_PROVEEDOR      SISTEMA_LEGADO  FEEDER_IMPORT_BATCH_ID  \\\n0     &JE040614N51              GASTOS                     100   \n1     &JE040614N51               OBRAS                     100   \n2    00AL570409DC8              GASTOS                     100   \n3    00AL570409DC8               OBRAS                     100   \n4    00BR5103152L7               OBRAS                     100   \n5    00BR5103152L7              GASTOS                     100   \n6    00CE810603TI4               OBRAS                     100   \n7    00CE810603TI4              GASTOS                     100   \n8             1482         PORTAL SARI                     100   \n9             1482  NEGOCIOS AFILIADOS                     100   \n\n   TEMP_EXT_PAYEE_ID BUSINESS_UNIT                    VENDOR_NUM  \\\n0                139      BU_CSACV  A & J EXPORTACIONES SA DE CV   \n1                140      BU_CSACV  A & J EXPORTACIONES SA DE CV   \n2             166443      BU_CSACV      OSORIO ALVAREZ JOSE LUIS   \n3             166445      BU_CSACV      OSORIO ALVAREZ JOSE LUIS   \n4             164158      BU_CSACV        ORDOÑEZ BARBA RAYMUNDO   \n5             164159      BU_CSACV        ORDOÑEZ BARBA RAYMUNDO   \n6             164715      BU_CSACV             OROSCO CORIA EMMA   \n7             164716      BU_CSACV             OROSCO CORIA EMMA   \n8              39271      BU_CSACV    CHONG BARRERA OSCAR EMILIO   \n9             177717      BU_CSACV    PROCOMEX MAZATLAN SA DE CV   \n\n  VENDOR_SITE_CODE EXCLUSIVE_PAYMENT_FLAG DEFAULT_PAYMENT_METHOD_CODE  \\\n0   GT&JE040614N51                      N               Transferencia   \n1   SO&JE040614N51                      N               Transferencia   \n2  GT00AL570409DC8                      N               Transferencia   \n3  SO00AL570409DC8                      N               Transferencia   \n4  SO00BR5103152L7                      N               Transferencia   \n5  GT00BR5103152L7                      N               Transferencia   \n6  SO00CE810603TI4                      N               Transferencia   \n7  GT00CE810603TI4                      N               Transferencia   \n8     SA1482MXN000                      N               Transferencia   \n9           NA1482                      N               Transferencia   \n\n   DELIVERY_CHANNEL_CODE  ...  BANK_INSTRUCTION1_CODE  BANK_INSTRUCTION2_CODE  \\\n0                    NaN  ...                     NaN                     NaN   \n1                    NaN  ...                     NaN                     NaN   \n2                    NaN  ...                     NaN                     NaN   \n3                    NaN  ...                     NaN                     NaN   \n4                    NaN  ...                     NaN                     NaN   \n5                    NaN  ...                     NaN                     NaN   \n6                    NaN  ...                     NaN                     NaN   \n7                    NaN  ...                     NaN                     NaN   \n8                    NaN  ...                     NaN                     NaN   \n9                    NaN  ...                     NaN                     NaN   \n\n   BANK_INSTRUCTION_DETAILS  PAYMENT_REASON_CODE  PAYMENT_REASON_COMMENTS  \\\n0                       NaN                  NaN                      NaN   \n1                       NaN                  NaN                      NaN   \n2                       NaN                  NaN                      NaN   \n3                       NaN                  NaN                      NaN   \n4                       NaN                  NaN                      NaN   \n5                       NaN                  NaN                      NaN   \n6                       NaN                  NaN                      NaN   \n7                       NaN                  NaN                      NaN   \n8                       NaN                  NaN                      NaN   \n9                       NaN                  NaN                      NaN   \n\n   PAYMENT_TEXT_MESSAGE1  PAYMENT_TEXT_MESSAGE2  PAYMENT_TEXT_MESSAGE3  \\\n0                    NaN                    NaN                    NaN   \n1                    NaN                    NaN                    NaN   \n2                    NaN                    NaN                    NaN   \n3                    NaN                    NaN                    NaN   \n4                    NaN                    NaN                    NaN   \n5                    NaN                    NaN                    NaN   \n6                    NaN                    NaN                    NaN   \n7                    NaN                    NaN                    NaN   \n8                    NaN                    NaN                    NaN   \n9                    NaN                    NaN                    NaN   \n\n   BANK_CHARGE_BEARER  TAXID_VALIDATION  \n0                 NaN             False  \n1                 NaN             False  \n2                 NaN             False  \n3                 NaN             False  \n4                 NaN             False  \n5                 NaN             False  \n6                 NaN             False  \n7                 NaN             False  \n8                 NaN             False  \n9                 NaN             False  \n\n[10 rows x 24 columns]\n"
     ]
    }
   ],
   "source": [
    "subSetDf = SuppliersInScope.merge(modDf, on='NUMERO_PROVEEDOR', how='left')\n",
    "subSetDf = subSetDf[subSetDf['VENDOR_SITE_CODE'].notna()]\n",
    "print(len(subSetDf.index), ' records obtained.')\n",
    "print(subSetDf.head(10))"
   ]
  },
  {
   "source": [
    "### Steps6 - Validate Legacy Systems in Scope"
   ],
   "cell_type": "markdown",
   "metadata": {}
  },
  {
   "cell_type": "code",
   "execution_count": 17,
   "metadata": {},
   "outputs": [
    {
     "output_type": "stream",
     "name": "stdout",
     "text": [
      "14  records found.\n['GASTOS', 'OBRAS', 'PORTAL SARI', 'NEGOCIOS AFILIADOS', 'SIM', 'CONSTRUNET', 'REFACCIONARIA', 'RXMENU', 'MXMENU', 'MUEBLES', 'TECNOLOGIA', 'SIE', 'MARKETPLACE', 'MOTOR DE SEGUIMIENTO']\n"
     ]
    }
   ],
   "source": [
    "legacySystemsFound = subSetDf.SISTEMA_LEGADO.unique()\n",
    "print(len(legacySystemsFound), ' records found.')\n",
    "print(list(legacySystemsFound))"
   ]
  },
  {
   "source": [
    "### Steps 7 - check distribution of records per legacy system"
   ],
   "cell_type": "markdown",
   "metadata": {}
  },
  {
   "cell_type": "code",
   "execution_count": 22,
   "metadata": {},
   "outputs": [
    {
     "output_type": "stream",
     "name": "stdout",
     "text": [
      "GASTOS , 74690\nOBRAS , 74643\nMOTOR DE SEGUIMIENTO , 11226\nCONSTRUNET , 1922\nSIM , 1786\nNEGOCIOS AFILIADOS , 107\nTECNOLOGIA , 77\nSIE , 11\nMARKETPLACE , 10\nREFACCIONARIA , 8\nMXMENU , 4\nRXMENU , 2\nMUEBLES , 1\nPORTAL SARI , 1\n"
     ]
    }
   ],
   "source": [
    "sql_query = '''\n",
    "SELECT SISTEMA_LEGADO,COUNT(*) AS numObs FROM subSetDf\n",
    "GROUP BY SISTEMA_LEGADO\n",
    "ORDER BY numObs DESC\n",
    "'''\n",
    "distPerLegacySystemDf = ps.sqldf(sql_query)\n",
    "for index, row in distPerLegacySystemDf.iterrows():\n",
    "    print(row['SISTEMA_LEGADO'], ',', row['numObs'])"
   ]
  },
  {
   "cell_type": "code",
   "execution_count": 25,
   "metadata": {},
   "outputs": [
    {
     "output_type": "stream",
     "name": "stdout",
     "text": [
      "164357  records in scope\n",
      "  NUMERO_PROVEEDOR  numBUs  numVSCs\n",
      "0            16291       1        1\n",
      "1            16826       1        1\n",
      "2            17147       1        1\n",
      "3             1796       1        1\n",
      "4            18005       1        1\n",
      "5            18247       1        1\n",
      "6            18337       1        1\n",
      "7            18434       1        1\n",
      "8            18606       1        1\n",
      "9            18798       1        1\n",
      "   numBUs  numVSCs  numObs\n",
      "0       2        2   65118\n",
      "1       3        3   11223\n",
      "2       1        1     160\n",
      "3       4        4      43\n",
      "4       5        5      16\n"
     ]
    }
   ],
   "source": [
    "sql_query = '''\n",
    "SELECT DISTINCT NUMERO_PROVEEDOR,BUSINESS_UNIT,VENDOR_SITE_CODE FROM subSetDf\n",
    "'''\n",
    "SupplierBUAndVSTDf = ps.sqldf(sql_query)\n",
    "print(len(SupplierBUAndVSTDf.index), ' records in scope')\n",
    "SupplierBUAndVSTDf.to_csv(Path(workFolder, 'SupplierBUAndVSTDf.csv'), encoding='utf-8')\n",
    "sql_query = '''\n",
    "SELECT NUMERO_PROVEEDOR,COUNT(BUSINESS_UNIT) AS numBUs,\n",
    "       COUNT(VENDOR_SITE_CODE) AS numVSCs FROM SupplierBUAndVSTDf\n",
    "GROUP BY NUMERO_PROVEEDOR\n",
    "ORDER BY numBUs,numVSCs DESC\n",
    "'''\n",
    "result = ps.sqldf(sql_query)\n",
    "print(result.head(10))\n",
    "sql_query = '''\n",
    "SELECT numBUs,numVSCs,COUNT(*) AS numObs FROM result\n",
    "GROUP BY numBUs,numVSCs\n",
    "ORDER BY numObs DESC\n",
    "'''\n",
    "result2 = ps.sqldf(sql_query)\n",
    "print(result2.head())"
   ]
  },
  {
   "cell_type": "code",
   "execution_count": 21,
   "metadata": {},
   "outputs": [
    {
     "output_type": "stream",
     "name": "stdout",
     "text": [
      "160559  records saved.\n"
     ]
    }
   ],
   "source": [
    "dataToSaveDf = subSetValidTaxIdDf[['SISTEMA_LEGADO','NUMERO_PROVEEDOR','FEEDER_IMPORT_BATCH_ID','TEMP_EXT_PAYEE_ID','BUSINESS_UNIT','VENDOR_NUM','VENDOR_SITE_CODE','EXCLUSIVE_PAYMENT_FLAG','DEFAULT_PAYMENT_METHOD_CODE']]\n",
    "dataToSaveDf.to_csv(Path(workFolder, '5_1_Suppliers_Payees.csv'), encoding='utf-8')\n",
    "print(len(dataToSaveDf.index), ' records saved.')"
   ]
  },
  {
   "cell_type": "code",
   "execution_count": 22,
   "metadata": {},
   "outputs": [
    {
     "output_type": "execute_result",
     "data": {
      "text/plain": [
       "SISTEMA_LEGADO                 object\n",
       "NUMERO_PROVEEDOR               object\n",
       "FEEDER_IMPORT_BATCH_ID          int64\n",
       "TEMP_EXT_PAYEE_ID               int64\n",
       "BUSINESS_UNIT                  object\n",
       "VENDOR_NUM                     object\n",
       "VENDOR_SITE_CODE               object\n",
       "EXCLUSIVE_PAYMENT_FLAG         object\n",
       "DEFAULT_PAYMENT_METHOD_CODE    object\n",
       "dtype: object"
      ]
     },
     "metadata": {},
     "execution_count": 22
    }
   ],
   "source": [
    "dataToSaveDf.dtypes"
   ]
  },
  {
   "cell_type": "code",
   "execution_count": 27,
   "metadata": {},
   "outputs": [
    {
     "output_type": "stream",
     "name": "stdout",
     "text": [
      "160559  records not null\n"
     ]
    }
   ],
   "source": [
    "exceptions=dataToSaveDf['NUMERO_PROVEEDOR'].notnull()\n",
    "print(len(exceptions.index), ' records not null')"
   ]
  },
  {
   "cell_type": "code",
   "execution_count": null,
   "metadata": {},
   "outputs": [],
   "source": []
  }
 ]
}