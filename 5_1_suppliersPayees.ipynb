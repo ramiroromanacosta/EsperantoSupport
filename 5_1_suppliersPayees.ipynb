{
 "metadata": {
  "language_info": {
   "codemirror_mode": {
    "name": "ipython",
    "version": 3
   },
   "file_extension": ".py",
   "mimetype": "text/x-python",
   "name": "python",
   "nbconvert_exporter": "python",
   "pygments_lexer": "ipython3",
   "version": "3.7.12"
  },
  "orig_nbformat": 2,
  "kernelspec": {
   "name": "python2",
   "display_name": "Python 3.7.12 64-bit"
  }
 },
 "nbformat": 4,
 "nbformat_minor": 2,
 "cells": [
  {
   "source": [
    "## Data from File 5.1 Suppliers Payees"
   ],
   "cell_type": "markdown",
   "metadata": {}
  },
  {
   "source": [
    "### Step 1. Load required packag"
   ],
   "cell_type": "markdown",
   "metadata": {}
  },
  {
   "cell_type": "code",
   "execution_count": 2,
   "metadata": {},
   "outputs": [],
   "source": [
    "import pandas as pd\n",
    "import pandasql as ps\n",
    "from pathlib import Path"
   ]
  },
  {
   "source": [
    "### Step 2 - Get sample from source file"
   ],
   "cell_type": "markdown",
   "metadata": {}
  },
  {
   "cell_type": "code",
   "execution_count": 3,
   "metadata": {},
   "outputs": [
    {
     "output_type": "stream",
     "name": "stdout",
     "text": [
      "'SISTEMA_LEGADO';'NUMERO_PROVEEDOR';'FEEDER_IMPORT_BATCH_ID';'TEMP_EXT_PAYEE_ID';'BUSINESS_UNIT';'VENDOR_NUM';'VENDOR_SITE_CODE';'EXCLUSIVE_PAYMENT_FLAG';'DEFAULT_PAYMENT_METHOD_CODE';'DELIVERY_CHANNEL_CODE';'SETTLEMENT_PRIORITY';'REMIT_ADVICE_DELIVERY_METHOD';'REMIT_ADVICE_EMAIL';'REMIT_ADVICE_FAX';'BANK_INSTRUCTION1_CODE';'BANK_INSTRUCTION2_CODE';'BANK_INSTRUCTION_DETAILS';'PAYMENT_REASON_CODE';'PAYMENT_REASON_COMMENTS';'PAYMENT_TEXT_MESSAGE1';'PAYMENT_TEXT_MESSAGE2';'PAYMENT_TEXT_MESSAGE3';'BANK_CHARGE_BEARER'\n\n'SAJ';'3';'100';'7';'BU_CSACV';'';'SJ3MXN004';'N';'Transferencia';'';'';'';'';'';'';'';'';'';'';'';'';'';''\n\n'OBRAS';'GAVE860528F18';'100';'9';'BU_CSACV';'0 VERGARA EFRAIN';'SOGAVE860528F18';'N';'Transferencia';'';'';'';'';'';'';'';'';'';'';'';'';'';''\n\n'OBRAS';'CST050404CH3';'100';'11';'BU_CSACV';'04 ST SC';'SOCST050404CH3';'N';'Transferencia';'';'';'';'';'';'';'';'';'';'';'';'';'';''\n\n'GASTOS';'BIO111108JC6';'100';'12';'BU_CSACV';'100% BIORESPONSABLES SA DE CV';'GTBIO111108JC6';'N';'Transferencia';'';'';'';'';'';'';'';'';'';'';'';'';'';''\n\n'OBRAS';'BIO111108JC6';'100';'13';'BU_CSACV';'100% BIORESPONSABLES SA DE CV';'SOBIO111108JC6';'N';'Transferencia';'';'';'';'';'';'';'';'';'';'';'';'';'';''\n\n'OBRAS';'CDC150325SZ0';'100';'16';'BU_CSACV';'102 CONSTRUCTORES SA DE CV';'SOCDC150325SZ0';'N';'Transferencia';'';'';'';'';'';'';'';'';'';'';'';'';'';''\n\n'GASTOS';'DSE090511EW5';'100';'18';'BU_CSACV';'12 SUAREZ EDIFICACIONES SA DE CV';'GTDSE090511EW5';'N';'Transferencia';'';'';'';'';'';'';'';'';'';'';'';'';'';''\n\n'OBRAS';'DSE090511EW5';'100';'19';'BU_CSACV';'12 SUAREZ EDIFICACIONES SA DE CV';'SODSE090511EW5';'N';'Transferencia';'';'';'';'';'';'';'';'';'';'';'';'';'';''\n\n'GASTOS';'TVC8607234U2';'100';'24';'BU_CSACV';'13 29 CONSTRUCCIONES SA DE CV';'GTTVC8607234U2';'N';'Transferencia';'';'';'';'';'';'';'';'';'';'';'';'';'';''\n\n'OBRAS';'TVC8607234U2';'100';'23';'BU_CSACV';'13 29 CONSTRUCCIONES SA DE CV';'SOTVC8607234U2';'N';'Transferencia';'';'';'';'';'';'';'';'';'';'';'';'';'';''\n\n"
     ]
    }
   ],
   "source": [
    "sourceFolder = '/content/drive/Shareddrives/Esperanto/Supports/Suppliers/5_Suppliers_Payees_BankAccounts'\n",
    "workFolder = '/content/drive/Shareddrives/Esperanto/Supports/Suppliers/Work/5_Bank_Accounts'\n",
    "fileName = '5.1. SUPPLIER_PAYEES_COPPEL.csv'\n",
    "inputTextFile = open(Path(sourceFolder, fileName), 'r', encoding='latin-1')\n",
    "if inputTextFile:\n",
    "    numTextLines = 0\n",
    "    while True:\n",
    "        numTextLines += 1\n",
    "        textLine = inputTextFile.readline()\n",
    "        print(textLine)\n",
    "        if numTextLines >10:\n",
    "            break\n",
    "    inputTextFile.close()"
   ]
  },
  {
   "source": [
    "### Step 3 - Load supplier payee data"
   ],
   "cell_type": "markdown",
   "metadata": {}
  },
  {
   "cell_type": "code",
   "execution_count": 4,
   "metadata": {},
   "outputs": [
    {
     "output_type": "execute_result",
     "data": {
      "text/plain": [
       "SISTEMA_LEGADO                   object\n",
       "NUMERO_PROVEEDOR                 object\n",
       "FEEDER_IMPORT_BATCH_ID            int64\n",
       "TEMP_EXT_PAYEE_ID                 int64\n",
       "BUSINESS_UNIT                    object\n",
       "VENDOR_NUM                       object\n",
       "VENDOR_SITE_CODE                 object\n",
       "EXCLUSIVE_PAYMENT_FLAG           object\n",
       "DEFAULT_PAYMENT_METHOD_CODE      object\n",
       "DELIVERY_CHANNEL_CODE           float64\n",
       "SETTLEMENT_PRIORITY             float64\n",
       "REMIT_ADVICE_DELIVERY_METHOD    float64\n",
       "REMIT_ADVICE_EMAIL              float64\n",
       "REMIT_ADVICE_FAX                float64\n",
       "BANK_INSTRUCTION1_CODE          float64\n",
       "BANK_INSTRUCTION2_CODE          float64\n",
       "BANK_INSTRUCTION_DETAILS        float64\n",
       "PAYMENT_REASON_CODE             float64\n",
       "PAYMENT_REASON_COMMENTS         float64\n",
       "PAYMENT_TEXT_MESSAGE1           float64\n",
       "PAYMENT_TEXT_MESSAGE2           float64\n",
       "PAYMENT_TEXT_MESSAGE3           float64\n",
       "BANK_CHARGE_BEARER              float64\n",
       "dtype: object"
      ]
     },
     "metadata": {},
     "execution_count": 4
    }
   ],
   "source": [
    "df = pd.read_csv(Path(sourceFolder,fileName), sep=';', quotechar=chr(39), encoding='latin-1')\n",
    "df.dtypes"
   ]
  },
  {
   "cell_type": "code",
   "execution_count": 5,
   "metadata": {},
   "outputs": [
    {
     "output_type": "stream",
     "name": "stdout",
     "text": [
      "  SISTEMA_LEGADO NUMERO_PROVEEDOR  FEEDER_IMPORT_BATCH_ID  TEMP_EXT_PAYEE_ID  \\\n0            SAJ                3                     100                  7   \n1          OBRAS    GAVE860528F18                     100                  9   \n2          OBRAS     CST050404CH3                     100                 11   \n3         GASTOS     BIO111108JC6                     100                 12   \n4          OBRAS     BIO111108JC6                     100                 13   \n5          OBRAS     CDC150325SZ0                     100                 16   \n6         GASTOS     DSE090511EW5                     100                 18   \n7          OBRAS     DSE090511EW5                     100                 19   \n8         GASTOS     TVC8607234U2                     100                 24   \n9          OBRAS     TVC8607234U2                     100                 23   \n\n  BUSINESS_UNIT                        VENDOR_NUM VENDOR_SITE_CODE  \\\n0      BU_CSACV                               NaN        SJ3MXN004   \n1      BU_CSACV                  0 VERGARA EFRAIN  SOGAVE860528F18   \n2      BU_CSACV                          04 ST SC   SOCST050404CH3   \n3      BU_CSACV     100% BIORESPONSABLES SA DE CV   GTBIO111108JC6   \n4      BU_CSACV     100% BIORESPONSABLES SA DE CV   SOBIO111108JC6   \n5      BU_CSACV        102 CONSTRUCTORES SA DE CV   SOCDC150325SZ0   \n6      BU_CSACV  12 SUAREZ EDIFICACIONES SA DE CV   GTDSE090511EW5   \n7      BU_CSACV  12 SUAREZ EDIFICACIONES SA DE CV   SODSE090511EW5   \n8      BU_CSACV     13 29 CONSTRUCCIONES SA DE CV   GTTVC8607234U2   \n9      BU_CSACV     13 29 CONSTRUCCIONES SA DE CV   SOTVC8607234U2   \n\n  EXCLUSIVE_PAYMENT_FLAG DEFAULT_PAYMENT_METHOD_CODE  DELIVERY_CHANNEL_CODE  \\\n0                      N               Transferencia                    NaN   \n1                      N               Transferencia                    NaN   \n2                      N               Transferencia                    NaN   \n3                      N               Transferencia                    NaN   \n4                      N               Transferencia                    NaN   \n5                      N               Transferencia                    NaN   \n6                      N               Transferencia                    NaN   \n7                      N               Transferencia                    NaN   \n8                      N               Transferencia                    NaN   \n9                      N               Transferencia                    NaN   \n\n   ...  REMIT_ADVICE_FAX  BANK_INSTRUCTION1_CODE  BANK_INSTRUCTION2_CODE  \\\n0  ...               NaN                     NaN                     NaN   \n1  ...               NaN                     NaN                     NaN   \n2  ...               NaN                     NaN                     NaN   \n3  ...               NaN                     NaN                     NaN   \n4  ...               NaN                     NaN                     NaN   \n5  ...               NaN                     NaN                     NaN   \n6  ...               NaN                     NaN                     NaN   \n7  ...               NaN                     NaN                     NaN   \n8  ...               NaN                     NaN                     NaN   \n9  ...               NaN                     NaN                     NaN   \n\n   BANK_INSTRUCTION_DETAILS  PAYMENT_REASON_CODE  PAYMENT_REASON_COMMENTS  \\\n0                       NaN                  NaN                      NaN   \n1                       NaN                  NaN                      NaN   \n2                       NaN                  NaN                      NaN   \n3                       NaN                  NaN                      NaN   \n4                       NaN                  NaN                      NaN   \n5                       NaN                  NaN                      NaN   \n6                       NaN                  NaN                      NaN   \n7                       NaN                  NaN                      NaN   \n8                       NaN                  NaN                      NaN   \n9                       NaN                  NaN                      NaN   \n\n   PAYMENT_TEXT_MESSAGE1  PAYMENT_TEXT_MESSAGE2  PAYMENT_TEXT_MESSAGE3  \\\n0                    NaN                    NaN                    NaN   \n1                    NaN                    NaN                    NaN   \n2                    NaN                    NaN                    NaN   \n3                    NaN                    NaN                    NaN   \n4                    NaN                    NaN                    NaN   \n5                    NaN                    NaN                    NaN   \n6                    NaN                    NaN                    NaN   \n7                    NaN                    NaN                    NaN   \n8                    NaN                    NaN                    NaN   \n9                    NaN                    NaN                    NaN   \n\n   BANK_CHARGE_BEARER  \n0                 NaN  \n1                 NaN  \n2                 NaN  \n3                 NaN  \n4                 NaN  \n5                 NaN  \n6                 NaN  \n7                 NaN  \n8                 NaN  \n9                 NaN  \n\n[10 rows x 23 columns]\n"
     ]
    }
   ],
   "source": [
    "print(df.head(10))"
   ]
  },
  {
   "source": [
    "### Step 4 - Validate Tax ID by \"NUMERO PROVEEDOR\""
   ],
   "cell_type": "markdown",
   "metadata": {}
  },
  {
   "cell_type": "code",
   "execution_count": 6,
   "metadata": {},
   "outputs": [
    {
     "output_type": "stream",
     "name": "stdout",
     "text": [
      "  SISTEMA_LEGADO NUMERO_PROVEEDOR  FEEDER_IMPORT_BATCH_ID  TEMP_EXT_PAYEE_ID  \\\n0            SAJ                3                     100                  7   \n1          OBRAS    GAVE860528F18                     100                  9   \n2          OBRAS     CST050404CH3                     100                 11   \n3         GASTOS     BIO111108JC6                     100                 12   \n4          OBRAS     BIO111108JC6                     100                 13   \n5          OBRAS     CDC150325SZ0                     100                 16   \n6         GASTOS     DSE090511EW5                     100                 18   \n7          OBRAS     DSE090511EW5                     100                 19   \n8         GASTOS     TVC8607234U2                     100                 24   \n9          OBRAS     TVC8607234U2                     100                 23   \n\n  BUSINESS_UNIT                        VENDOR_NUM VENDOR_SITE_CODE  \\\n0      BU_CSACV                               NaN        SJ3MXN004   \n1      BU_CSACV                  0 VERGARA EFRAIN  SOGAVE860528F18   \n2      BU_CSACV                          04 ST SC   SOCST050404CH3   \n3      BU_CSACV     100% BIORESPONSABLES SA DE CV   GTBIO111108JC6   \n4      BU_CSACV     100% BIORESPONSABLES SA DE CV   SOBIO111108JC6   \n5      BU_CSACV        102 CONSTRUCTORES SA DE CV   SOCDC150325SZ0   \n6      BU_CSACV  12 SUAREZ EDIFICACIONES SA DE CV   GTDSE090511EW5   \n7      BU_CSACV  12 SUAREZ EDIFICACIONES SA DE CV   SODSE090511EW5   \n8      BU_CSACV     13 29 CONSTRUCCIONES SA DE CV   GTTVC8607234U2   \n9      BU_CSACV     13 29 CONSTRUCCIONES SA DE CV   SOTVC8607234U2   \n\n  EXCLUSIVE_PAYMENT_FLAG DEFAULT_PAYMENT_METHOD_CODE  DELIVERY_CHANNEL_CODE  \\\n0                      N               Transferencia                    NaN   \n1                      N               Transferencia                    NaN   \n2                      N               Transferencia                    NaN   \n3                      N               Transferencia                    NaN   \n4                      N               Transferencia                    NaN   \n5                      N               Transferencia                    NaN   \n6                      N               Transferencia                    NaN   \n7                      N               Transferencia                    NaN   \n8                      N               Transferencia                    NaN   \n9                      N               Transferencia                    NaN   \n\n   ...  BANK_INSTRUCTION1_CODE  BANK_INSTRUCTION2_CODE  \\\n0  ...                     NaN                     NaN   \n1  ...                     NaN                     NaN   \n2  ...                     NaN                     NaN   \n3  ...                     NaN                     NaN   \n4  ...                     NaN                     NaN   \n5  ...                     NaN                     NaN   \n6  ...                     NaN                     NaN   \n7  ...                     NaN                     NaN   \n8  ...                     NaN                     NaN   \n9  ...                     NaN                     NaN   \n\n   BANK_INSTRUCTION_DETAILS  PAYMENT_REASON_CODE  PAYMENT_REASON_COMMENTS  \\\n0                       NaN                  NaN                      NaN   \n1                       NaN                  NaN                      NaN   \n2                       NaN                  NaN                      NaN   \n3                       NaN                  NaN                      NaN   \n4                       NaN                  NaN                      NaN   \n5                       NaN                  NaN                      NaN   \n6                       NaN                  NaN                      NaN   \n7                       NaN                  NaN                      NaN   \n8                       NaN                  NaN                      NaN   \n9                       NaN                  NaN                      NaN   \n\n   PAYMENT_TEXT_MESSAGE1  PAYMENT_TEXT_MESSAGE2  PAYMENT_TEXT_MESSAGE3  \\\n0                    NaN                    NaN                    NaN   \n1                    NaN                    NaN                    NaN   \n2                    NaN                    NaN                    NaN   \n3                    NaN                    NaN                    NaN   \n4                    NaN                    NaN                    NaN   \n5                    NaN                    NaN                    NaN   \n6                    NaN                    NaN                    NaN   \n7                    NaN                    NaN                    NaN   \n8                    NaN                    NaN                    NaN   \n9                    NaN                    NaN                    NaN   \n\n   BANK_CHARGE_BEARER  TAXID_VALIDATION  \n0                 NaN             False  \n1                 NaN              True  \n2                 NaN              True  \n3                 NaN              True  \n4                 NaN              True  \n5                 NaN              True  \n6                 NaN              True  \n7                 NaN              True  \n8                 NaN              True  \n9                 NaN              True  \n\n[10 rows x 24 columns]\n"
     ]
    }
   ],
   "source": [
    "modDf = df\n",
    "modDf['TAXID_VALIDATION'] = False\n",
    "for index, row in modDf.iterrows():\n",
    "    taxID = row['NUMERO_PROVEEDOR']\n",
    "    if len(taxID)==12 or len(taxID)==13:\n",
    "        modDf.loc[index, 'TAXID_VALIDATION'] = True\n",
    "print(modDf.head(10))"
   ]
  },
  {
   "source": [
    "### Step 5 - Creates a subset with elements whose taxt id and bank account are valid"
   ],
   "cell_type": "markdown",
   "metadata": {}
  },
  {
   "cell_type": "code",
   "execution_count": 7,
   "metadata": {},
   "outputs": [
    {
     "output_type": "stream",
     "name": "stdout",
     "text": [
      "186261  records in original dataset\n178796  records with valid taxt id\n"
     ]
    }
   ],
   "source": [
    "subSetDf = modDf[modDf['TAXID_VALIDATION']==True]\n",
    "print(len(modDf.index) ,' records in original dataset')\n",
    "print(len(subSetDf.index), ' records with valid taxt id')"
   ]
  },
  {
   "source": [
    "### Steps6 - Get valid taxID from 5.2 dataset"
   ],
   "cell_type": "markdown",
   "metadata": {}
  },
  {
   "cell_type": "code",
   "execution_count": 16,
   "metadata": {},
   "outputs": [
    {
     "output_type": "stream",
     "name": "stdout",
     "text": [
      "['Unnamed: 0', 'SISTEMA_LEGADO', 'NUMERO_PROVEEDOR', 'FEEDER_IMPORT_BATCH_ID', 'TEMP_EXT_PAYEE_ID', 'TEMP_EXT_BANK_ACCT_ID', 'BANK_NAME', 'BRANCH_NAME', 'COUNTRY_CODE', 'BANK_ACCOUNT_NUM', 'CURRENCY_CODE', 'FOREING_PAYMENT_USE_FLAG', 'ATTRIBUTE1']\n74641  valid tax ids loaded.\n"
     ]
    }
   ],
   "source": [
    "tmpTaxIdDf = pd.read_csv(Path(workFolder,'5_2_Bank_Accounts.csv'), encoding='utf-8')\n",
    "print(list(tmpTaxIdDf.columns))\n",
    "tmpValidTaxIds = tmpTaxIdDf['NUMERO_PROVEEDOR'].unique()\n",
    "tmpDict = {'NUMERO_PROVEEDOR': tmpValidTaxIds}\n",
    "validTaxIdsDf = pd.DataFrame(tmpDict)\n",
    "print(len(validTaxIdsDf.index), ' valid tax ids loaded.')"
   ]
  },
  {
   "source": [
    "### Steps6 - create a subset from 5.1 dataset with valid tax ids"
   ],
   "cell_type": "markdown",
   "metadata": {}
  },
  {
   "cell_type": "code",
   "execution_count": 17,
   "metadata": {},
   "outputs": [
    {
     "output_type": "stream",
     "name": "stdout",
     "text": [
      "160559  records.\n"
     ]
    }
   ],
   "source": [
    "subSetValidTaxIdDf = validTaxIdsDf.merge(subSetDf, on='NUMERO_PROVEEDOR', how='left')\n",
    "print(len(subSetValidTaxIdDf.index), ' records.')"
   ]
  },
  {
   "cell_type": "code",
   "execution_count": 18,
   "metadata": {},
   "outputs": [
    {
     "output_type": "stream",
     "name": "stdout",
     "text": [
      "   NUMERO_PROVEEDOR SISTEMA_LEGADO  FEEDER_IMPORT_BATCH_ID  TEMP_EXT_PAYEE_ID  \\\n0     GAVE860528F18          OBRAS                     100                  9   \n1     GAVE860528F18         GASTOS                     100              82436   \n2      BIO111108JC6         GASTOS                     100                 12   \n3      BIO111108JC6          OBRAS                     100                 13   \n4      DSE090511EW5         GASTOS                     100                 18   \n5      DSE090511EW5          OBRAS                     100                 19   \n6      TVC8607234U2         GASTOS                     100                 24   \n7      TVC8607234U2          OBRAS                     100                 23   \n8      ABS110113195          OBRAS                     100                 28   \n9      ABS110113195         GASTOS                     100                 27   \n10     DUO7511286H3          OBRAS                     100                 37   \n11     DUO7511286H3         GASTOS                     100                 38   \n12     VCC110908D48          OBRAS                     100                 39   \n13     VCC110908D48         GASTOS                     100                 40   \n14     DDD1204233RA         GASTOS                     100                 46   \n15     DDD1204233RA          OBRAS                     100                 47   \n16     DMS020402IB5          OBRAS                     100                 51   \n17     DMS020402IB5         GASTOS                     100                 50   \n18     TAR161230SP2          OBRAS                     100                 55   \n19     TAR161230SP2         GASTOS                     100                 54   \n\n   BUSINESS_UNIT                                VENDOR_NUM VENDOR_SITE_CODE  \\\n0       BU_CSACV                          0 VERGARA EFRAIN  SOGAVE860528F18   \n1       BU_CSACV                     GARCIA VERGARA EFRAIN  GTGAVE860528F18   \n2       BU_CSACV             100% BIORESPONSABLES SA DE CV   GTBIO111108JC6   \n3       BU_CSACV             100% BIORESPONSABLES SA DE CV   SOBIO111108JC6   \n4       BU_CSACV          12 SUAREZ EDIFICACIONES SA DE CV   GTDSE090511EW5   \n5       BU_CSACV          12 SUAREZ EDIFICACIONES SA DE CV   SODSE090511EW5   \n6       BU_CSACV             13 29 CONSTRUCCIONES SA DE CV   GTTVC8607234U2   \n7       BU_CSACV             13 29 CONSTRUCCIONES SA DE CV   SOTVC8607234U2   \n8       BU_CSACV  1AAA BEST SOL DE TEC E INFORMACION SA CV   SOABS110113195   \n9       BU_CSACV  1AAA BEST SOL DE TEC E INFORMACION SA CV   GTABS110113195   \n10      BU_CSACV                      201 OFICIAL SA DE CV   SODUO7511286H3   \n11      BU_CSACV                      201 OFICIAL SA DE CV   GTDUO7511286H3   \n12      BU_CSACV                    23 45 AIR TIME S DE RL   SOVCC110908D48   \n13      BU_CSACV                    23 45 AIR TIME S DE RL   GTVCC110908D48   \n14      BU_CSACV        2DG DIBUJO DISEÑO Y CONST SA DE CV   GTDDD1204233RA   \n15      BU_CSACV        2DG DIBUJO DISEÑO Y CONST SA DE CV   SODDD1204233RA   \n16      BU_CSACV                         2MS S DE RL DE CV   SODMS020402IB5   \n17      BU_CSACV                         2MS S DE RL DE CV   GTDMS020402IB5   \n18      BU_CSACV                                  2TARQ SC   SOTAR161230SP2   \n19      BU_CSACV                                  2TARQ SC   GTTAR161230SP2   \n\n   EXCLUSIVE_PAYMENT_FLAG DEFAULT_PAYMENT_METHOD_CODE  DELIVERY_CHANNEL_CODE  \\\n0                       N               Transferencia                    NaN   \n1                       N               Transferencia                    NaN   \n2                       N               Transferencia                    NaN   \n3                       N               Transferencia                    NaN   \n4                       N               Transferencia                    NaN   \n5                       N               Transferencia                    NaN   \n6                       N               Transferencia                    NaN   \n7                       N               Transferencia                    NaN   \n8                       N               Transferencia                    NaN   \n9                       N               Transferencia                    NaN   \n10                      N               Transferencia                    NaN   \n11                      N               Transferencia                    NaN   \n12                      N               Transferencia                    NaN   \n13                      N               Transferencia                    NaN   \n14                      N               Transferencia                    NaN   \n15                      N               Transferencia                    NaN   \n16                      N               Transferencia                    NaN   \n17                      N               Transferencia                    NaN   \n18                      N               Transferencia                    NaN   \n19                      N               Transferencia                    NaN   \n\n    ...  BANK_INSTRUCTION1_CODE  BANK_INSTRUCTION2_CODE  \\\n0   ...                     NaN                     NaN   \n1   ...                     NaN                     NaN   \n2   ...                     NaN                     NaN   \n3   ...                     NaN                     NaN   \n4   ...                     NaN                     NaN   \n5   ...                     NaN                     NaN   \n6   ...                     NaN                     NaN   \n7   ...                     NaN                     NaN   \n8   ...                     NaN                     NaN   \n9   ...                     NaN                     NaN   \n10  ...                     NaN                     NaN   \n11  ...                     NaN                     NaN   \n12  ...                     NaN                     NaN   \n13  ...                     NaN                     NaN   \n14  ...                     NaN                     NaN   \n15  ...                     NaN                     NaN   \n16  ...                     NaN                     NaN   \n17  ...                     NaN                     NaN   \n18  ...                     NaN                     NaN   \n19  ...                     NaN                     NaN   \n\n    BANK_INSTRUCTION_DETAILS  PAYMENT_REASON_CODE  PAYMENT_REASON_COMMENTS  \\\n0                        NaN                  NaN                      NaN   \n1                        NaN                  NaN                      NaN   \n2                        NaN                  NaN                      NaN   \n3                        NaN                  NaN                      NaN   \n4                        NaN                  NaN                      NaN   \n5                        NaN                  NaN                      NaN   \n6                        NaN                  NaN                      NaN   \n7                        NaN                  NaN                      NaN   \n8                        NaN                  NaN                      NaN   \n9                        NaN                  NaN                      NaN   \n10                       NaN                  NaN                      NaN   \n11                       NaN                  NaN                      NaN   \n12                       NaN                  NaN                      NaN   \n13                       NaN                  NaN                      NaN   \n14                       NaN                  NaN                      NaN   \n15                       NaN                  NaN                      NaN   \n16                       NaN                  NaN                      NaN   \n17                       NaN                  NaN                      NaN   \n18                       NaN                  NaN                      NaN   \n19                       NaN                  NaN                      NaN   \n\n    PAYMENT_TEXT_MESSAGE1  PAYMENT_TEXT_MESSAGE2  PAYMENT_TEXT_MESSAGE3  \\\n0                     NaN                    NaN                    NaN   \n1                     NaN                    NaN                    NaN   \n2                     NaN                    NaN                    NaN   \n3                     NaN                    NaN                    NaN   \n4                     NaN                    NaN                    NaN   \n5                     NaN                    NaN                    NaN   \n6                     NaN                    NaN                    NaN   \n7                     NaN                    NaN                    NaN   \n8                     NaN                    NaN                    NaN   \n9                     NaN                    NaN                    NaN   \n10                    NaN                    NaN                    NaN   \n11                    NaN                    NaN                    NaN   \n12                    NaN                    NaN                    NaN   \n13                    NaN                    NaN                    NaN   \n14                    NaN                    NaN                    NaN   \n15                    NaN                    NaN                    NaN   \n16                    NaN                    NaN                    NaN   \n17                    NaN                    NaN                    NaN   \n18                    NaN                    NaN                    NaN   \n19                    NaN                    NaN                    NaN   \n\n    BANK_CHARGE_BEARER  TAXID_VALIDATION  \n0                  NaN              True  \n1                  NaN              True  \n2                  NaN              True  \n3                  NaN              True  \n4                  NaN              True  \n5                  NaN              True  \n6                  NaN              True  \n7                  NaN              True  \n8                  NaN              True  \n9                  NaN              True  \n10                 NaN              True  \n11                 NaN              True  \n12                 NaN              True  \n13                 NaN              True  \n14                 NaN              True  \n15                 NaN              True  \n16                 NaN              True  \n17                 NaN              True  \n18                 NaN              True  \n19                 NaN              True  \n\n[20 rows x 24 columns]\n"
     ]
    }
   ],
   "source": [
    "print(subSetValidTaxIdDf.head(20))"
   ]
  },
  {
   "cell_type": "code",
   "execution_count": 21,
   "metadata": {},
   "outputs": [
    {
     "output_type": "stream",
     "name": "stdout",
     "text": [
      "160559  records saved.\n"
     ]
    }
   ],
   "source": [
    "dataToSaveDf = subSetValidTaxIdDf[['SISTEMA_LEGADO','NUMERO_PROVEEDOR','FEEDER_IMPORT_BATCH_ID','TEMP_EXT_PAYEE_ID','BUSINESS_UNIT','VENDOR_NUM','VENDOR_SITE_CODE','EXCLUSIVE_PAYMENT_FLAG','DEFAULT_PAYMENT_METHOD_CODE']]\n",
    "dataToSaveDf.to_csv(Path(workFolder, '5_1_Suppliers_Payees.csv'), encoding='utf-8')\n",
    "print(len(dataToSaveDf.index), ' records saved.')"
   ]
  },
  {
   "cell_type": "code",
   "execution_count": 22,
   "metadata": {},
   "outputs": [
    {
     "output_type": "execute_result",
     "data": {
      "text/plain": [
       "SISTEMA_LEGADO                 object\n",
       "NUMERO_PROVEEDOR               object\n",
       "FEEDER_IMPORT_BATCH_ID          int64\n",
       "TEMP_EXT_PAYEE_ID               int64\n",
       "BUSINESS_UNIT                  object\n",
       "VENDOR_NUM                     object\n",
       "VENDOR_SITE_CODE               object\n",
       "EXCLUSIVE_PAYMENT_FLAG         object\n",
       "DEFAULT_PAYMENT_METHOD_CODE    object\n",
       "dtype: object"
      ]
     },
     "metadata": {},
     "execution_count": 22
    }
   ],
   "source": [
    "dataToSaveDf.dtypes"
   ]
  },
  {
   "cell_type": "code",
   "execution_count": 27,
   "metadata": {},
   "outputs": [
    {
     "output_type": "stream",
     "name": "stdout",
     "text": [
      "160559  records not null\n"
     ]
    }
   ],
   "source": [
    "exceptions=dataToSaveDf['NUMERO_PROVEEDOR'].notnull()\n",
    "print(len(exceptions.index), ' records not null')"
   ]
  },
  {
   "cell_type": "code",
   "execution_count": null,
   "metadata": {},
   "outputs": [],
   "source": []
  }
 ]
}