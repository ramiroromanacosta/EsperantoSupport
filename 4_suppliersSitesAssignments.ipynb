{
 "metadata": {
  "language_info": {
   "codemirror_mode": {
    "name": "ipython",
    "version": 3
   },
   "file_extension": ".py",
   "mimetype": "text/x-python",
   "name": "python",
   "nbconvert_exporter": "python",
   "pygments_lexer": "ipython3",
   "version": "3.7.12"
  },
  "orig_nbformat": 2,
  "kernelspec": {
   "name": "python2",
   "display_name": "Python 3.7.12 64-bit"
  }
 },
 "nbformat": 4,
 "nbformat_minor": 2,
 "cells": [
  {
   "source": [
    "## Data from File 4 Suppliers Sites Assignments"
   ],
   "cell_type": "markdown",
   "metadata": {}
  },
  {
   "source": [
    "### Step 1. Load required package"
   ],
   "cell_type": "markdown",
   "metadata": {}
  },
  {
   "cell_type": "code",
   "execution_count": 1,
   "metadata": {},
   "outputs": [],
   "source": [
    "import pandas as pd\n",
    "import pandasql as ps\n",
    "from pathlib import Path"
   ]
  },
  {
   "source": [
    "### Step 2 - Get sample from source file"
   ],
   "cell_type": "markdown",
   "metadata": {}
  },
  {
   "cell_type": "code",
   "execution_count": 3,
   "metadata": {},
   "outputs": [
    {
     "output_type": "stream",
     "name": "stdout",
     "text": [
      "'SISTEMA_LEGADO';'NUMERO_PROVEEDOR';'BATCH_ID';'IMPORT_ACTION';'VENDOR_NAME';'VENDOR_SITE_CODE';'PROCUREMENT_BUSINESS_UNIT_NAME';'BUSINESS_UNIT_NAME';'BILL_TO_BU_NAME';'SHIP_TO_LOCATION_CODE';'BILL_TO_LOCATION_CODE';'ALLOW_AWT_FLAG';'AWT_GROUP_NAME';'ACCTS_PAY_CONCATENATED_SEGMENTS';'ACCTS_PAY_CONCATENATED_SEGMENTS1';'FUTURE_DATED_PAYMENT_CONCATENATED_SEGMENTS';'DISTRIBUTION_SET_NAME';'INACTIVE_DATE'\n\n'SAJ';'3';'';'CREATE';'';'SJ3MXN004';'BU_CSACV';'BU_CSACV';'BU_CSACV';'';'';'N';'';'';'';'';'';'1900-01-01'\n\n'OBRAS';'GAVE860528F18';'';'CREATE';'0 VERGARA EFRAIN';'SOGAVE860528F18';'BU_CSACV';'BU_CSACV';'BU_CSACV';'';'';'N';'';'';'';'';'';'1900-01-01'\n\n'OBRAS';'CST050404CH3';'';'CREATE';'04 ST SC';'SOCST050404CH3';'BU_CSACV';'BU_CSACV';'BU_CSACV';'';'';'N';'';'';'';'';'';'1900-01-01'\n\n'GASTOS';'BIO111108JC6';'';'CREATE';'100% BIORESPONSABLES SA DE CV';'GTBIO111108JC6';'BU_CSACV';'BU_CSACV';'BU_CSACV';'';'';'N';'';'';'';'';'';'1900-01-01'\n\n'OBRAS';'BIO111108JC6';'';'CREATE';'100% BIORESPONSABLES SA DE CV';'SOBIO111108JC6';'BU_CSACV';'BU_CSACV';'BU_CSACV';'';'';'N';'';'';'';'';'';'1900-01-01'\n\n'OBRAS';'CDC150325SZ0';'';'CREATE';'102 CONSTRUCTORES SA DE CV';'SOCDC150325SZ0';'BU_CSACV';'BU_CSACV';'BU_CSACV';'';'';'N';'';'';'';'';'';'1900-01-01'\n\n'GASTOS';'DSE090511EW5';'';'CREATE';'12 SUAREZ EDIFICACIONES SA DE CV';'GTDSE090511EW5';'BU_CSACV';'BU_CSACV';'BU_CSACV';'';'';'N';'';'';'';'';'';'1900-01-01'\n\n'OBRAS';'DSE090511EW5';'';'CREATE';'12 SUAREZ EDIFICACIONES SA DE CV';'SODSE090511EW5';'BU_CSACV';'BU_CSACV';'BU_CSACV';'';'';'N';'';'';'';'';'';'1900-01-01'\n\n'GASTOS';'TVC8607234U2';'';'CREATE';'13 29 CONSTRUCCIONES SA DE CV';'GTTVC8607234U2';'BU_CSACV';'BU_CSACV';'BU_CSACV';'';'';'N';'';'';'';'';'';'1900-01-01'\n\n'OBRAS';'TVC8607234U2';'';'CREATE';'13 29 CONSTRUCCIONES SA DE CV';'SOTVC8607234U2';'BU_CSACV';'BU_CSACV';'BU_CSACV';'';'';'N';'';'';'';'';'';'1900-01-01'\n\n"
     ]
    }
   ],
   "source": [
    "sourceFolder = '/content/drive/Shareddrives/Esperanto/Supports/Suppliers/4_Suppliers_Site_Assignments'\n",
    "workFolder = '/content/drive/Shareddrives/Esperanto/Supports/Suppliers/Work/5_Bank_Accounts'\n",
    "fileName = '4. SUPPLIER_SITE_ASSIGNMENT_COPPEL.csv'\n",
    "inputTextFile = open(Path(sourceFolder, fileName), 'r', encoding='latin-1')\n",
    "if inputTextFile:\n",
    "    numTextLines = 0\n",
    "    while True:\n",
    "        numTextLines += 1\n",
    "        textLine = inputTextFile.readline()\n",
    "        print(textLine)\n",
    "        if numTextLines >10:\n",
    "            break\n",
    "    inputTextFile.close()"
   ]
  },
  {
   "source": [
    "### Step 3 - Load supplier site assignment data"
   ],
   "cell_type": "markdown",
   "metadata": {}
  },
  {
   "cell_type": "code",
   "execution_count": 4,
   "metadata": {},
   "outputs": [
    {
     "output_type": "stream",
     "name": "stdout",
     "text": [
      "  SISTEMA_LEGADO NUMERO_PROVEEDOR  BATCH_ID IMPORT_ACTION  \\\n0            SAJ                3       NaN        CREATE   \n1          OBRAS    GAVE860528F18       NaN        CREATE   \n2          OBRAS     CST050404CH3       NaN        CREATE   \n3         GASTOS     BIO111108JC6       NaN        CREATE   \n4          OBRAS     BIO111108JC6       NaN        CREATE   \n5          OBRAS     CDC150325SZ0       NaN        CREATE   \n6         GASTOS     DSE090511EW5       NaN        CREATE   \n7          OBRAS     DSE090511EW5       NaN        CREATE   \n8         GASTOS     TVC8607234U2       NaN        CREATE   \n9          OBRAS     TVC8607234U2       NaN        CREATE   \n\n                        VENDOR_NAME VENDOR_SITE_CODE  \\\n0                               NaN        SJ3MXN004   \n1                  0 VERGARA EFRAIN  SOGAVE860528F18   \n2                          04 ST SC   SOCST050404CH3   \n3     100% BIORESPONSABLES SA DE CV   GTBIO111108JC6   \n4     100% BIORESPONSABLES SA DE CV   SOBIO111108JC6   \n5        102 CONSTRUCTORES SA DE CV   SOCDC150325SZ0   \n6  12 SUAREZ EDIFICACIONES SA DE CV   GTDSE090511EW5   \n7  12 SUAREZ EDIFICACIONES SA DE CV   SODSE090511EW5   \n8     13 29 CONSTRUCCIONES SA DE CV   GTTVC8607234U2   \n9     13 29 CONSTRUCCIONES SA DE CV   SOTVC8607234U2   \n\n  PROCUREMENT_BUSINESS_UNIT_NAME BUSINESS_UNIT_NAME BILL_TO_BU_NAME  \\\n0                       BU_CSACV           BU_CSACV        BU_CSACV   \n1                       BU_CSACV           BU_CSACV        BU_CSACV   \n2                       BU_CSACV           BU_CSACV        BU_CSACV   \n3                       BU_CSACV           BU_CSACV        BU_CSACV   \n4                       BU_CSACV           BU_CSACV        BU_CSACV   \n5                       BU_CSACV           BU_CSACV        BU_CSACV   \n6                       BU_CSACV           BU_CSACV        BU_CSACV   \n7                       BU_CSACV           BU_CSACV        BU_CSACV   \n8                       BU_CSACV           BU_CSACV        BU_CSACV   \n9                       BU_CSACV           BU_CSACV        BU_CSACV   \n\n   SHIP_TO_LOCATION_CODE  BILL_TO_LOCATION_CODE ALLOW_AWT_FLAG  \\\n0                    NaN                    NaN              N   \n1                    NaN                    NaN              N   \n2                    NaN                    NaN              N   \n3                    NaN                    NaN              N   \n4                    NaN                    NaN              N   \n5                    NaN                    NaN              N   \n6                    NaN                    NaN              N   \n7                    NaN                    NaN              N   \n8                    NaN                    NaN              N   \n9                    NaN                    NaN              N   \n\n   AWT_GROUP_NAME ACCTS_PAY_CONCATENATED_SEGMENTS  \\\n0             NaN                             NaN   \n1             NaN                             NaN   \n2             NaN                             NaN   \n3             NaN                             NaN   \n4             NaN                             NaN   \n5             NaN                             NaN   \n6             NaN                             NaN   \n7             NaN                             NaN   \n8             NaN                             NaN   \n9             NaN                             NaN   \n\n   ACCTS_PAY_CONCATENATED_SEGMENTS1  \\\n0                               NaN   \n1                               NaN   \n2                               NaN   \n3                               NaN   \n4                               NaN   \n5                               NaN   \n6                               NaN   \n7                               NaN   \n8                               NaN   \n9                               NaN   \n\n   FUTURE_DATED_PAYMENT_CONCATENATED_SEGMENTS  DISTRIBUTION_SET_NAME  \\\n0                                         NaN                    NaN   \n1                                         NaN                    NaN   \n2                                         NaN                    NaN   \n3                                         NaN                    NaN   \n4                                         NaN                    NaN   \n5                                         NaN                    NaN   \n6                                         NaN                    NaN   \n7                                         NaN                    NaN   \n8                                         NaN                    NaN   \n9                                         NaN                    NaN   \n\n  INACTIVE_DATE  \n0    1900-01-01  \n1    1900-01-01  \n2    1900-01-01  \n3    1900-01-01  \n4    1900-01-01  \n5    1900-01-01  \n6    1900-01-01  \n7    1900-01-01  \n8    1900-01-01  \n9    1900-01-01  \n186259  records found. \n"
     ]
    }
   ],
   "source": [
    "df = pd.read_csv(Path(sourceFolder,fileName), sep=';', quotechar=chr(39), encoding='latin-1')\n",
    "print(df.head(10))\n",
    "print(len(df.index), ' records found. ')"
   ]
  },
  {
   "cell_type": "code",
   "execution_count": null,
   "metadata": {},
   "outputs": [],
   "source": []
  }
 ]
}