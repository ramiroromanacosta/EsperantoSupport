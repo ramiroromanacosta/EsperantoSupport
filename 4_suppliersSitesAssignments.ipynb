{
 "metadata": {
  "language_info": {
   "codemirror_mode": {
    "name": "ipython",
    "version": 3
   },
   "file_extension": ".py",
   "mimetype": "text/x-python",
   "name": "python",
   "nbconvert_exporter": "python",
   "pygments_lexer": "ipython3",
   "version": "3.7.12"
  },
  "orig_nbformat": 2,
  "kernelspec": {
   "name": "python3712jvsc74a57bd04cd7ab41f5fca4b9b44701077e38c5ffd31fe66a6cab21e0214b68d958d0e462",
   "display_name": "Python 3.7.12 64-bit"
  },
  "metadata": {
   "interpreter": {
    "hash": "4cd7ab41f5fca4b9b44701077e38c5ffd31fe66a6cab21e0214b68d958d0e462"
   }
  }
 },
 "nbformat": 4,
 "nbformat_minor": 2,
 "cells": [
  {
   "source": [
    "## Data from File 4 Suppliers Sites Assignments"
   ],
   "cell_type": "markdown",
   "metadata": {}
  },
  {
   "source": [
    "### Step 1. Load required package"
   ],
   "cell_type": "markdown",
   "metadata": {}
  },
  {
   "cell_type": "code",
   "execution_count": 1,
   "metadata": {},
   "outputs": [],
   "source": [
    "import pandas as pd\n",
    "import pandasql as ps\n",
    "from pathlib import Path"
   ]
  },
  {
   "source": [
    "### Step 2 - Get sample from source file"
   ],
   "cell_type": "markdown",
   "metadata": {}
  },
  {
   "cell_type": "code",
   "execution_count": 2,
   "metadata": {},
   "outputs": [
    {
     "output_type": "stream",
     "name": "stdout",
     "text": [
      "'SISTEMA_LEGADO';'NUMERO_PROVEEDOR';'BATCH_ID';'IMPORT_ACTION';'VENDOR_NAME';'VENDOR_SITE_CODE';'PROCUREMENT_BUSINESS_UNIT_NAME';'BUSINESS_UNIT_NAME';'BILL_TO_BU_NAME';'SHIP_TO_LOCATION_CODE';'BILL_TO_LOCATION_CODE';'ALLOW_AWT_FLAG';'AWT_GROUP_NAME';'ACCTS_PAY_CONCATENATED_SEGMENTS';'ACCTS_PAY_CONCATENATED_SEGMENTS1';'FUTURE_DATED_PAYMENT_CONCATENATED_SEGMENTS';'DISTRIBUTION_SET_NAME';'INACTIVE_DATE'\n\n'SAJ';'3';'';'CREATE';'';'SJ3MXN004';'BU_CSACV';'BU_CSACV';'BU_CSACV';'';'';'N';'';'';'';'';'';'1900-01-01'\n\n'OBRAS';'GAVE860528F18';'';'CREATE';'0 VERGARA EFRAIN';'SOGAVE860528F18';'BU_CSACV';'BU_CSACV';'BU_CSACV';'';'';'N';'';'';'';'';'';'1900-01-01'\n\n'OBRAS';'CST050404CH3';'';'CREATE';'04 ST SC';'SOCST050404CH3';'BU_CSACV';'BU_CSACV';'BU_CSACV';'';'';'N';'';'';'';'';'';'1900-01-01'\n\n'GASTOS';'BIO111108JC6';'';'CREATE';'100% BIORESPONSABLES SA DE CV';'GTBIO111108JC6';'BU_CSACV';'BU_CSACV';'BU_CSACV';'';'';'N';'';'';'';'';'';'1900-01-01'\n\n'OBRAS';'BIO111108JC6';'';'CREATE';'100% BIORESPONSABLES SA DE CV';'SOBIO111108JC6';'BU_CSACV';'BU_CSACV';'BU_CSACV';'';'';'N';'';'';'';'';'';'1900-01-01'\n\n'OBRAS';'CDC150325SZ0';'';'CREATE';'102 CONSTRUCTORES SA DE CV';'SOCDC150325SZ0';'BU_CSACV';'BU_CSACV';'BU_CSACV';'';'';'N';'';'';'';'';'';'1900-01-01'\n\n'GASTOS';'DSE090511EW5';'';'CREATE';'12 SUAREZ EDIFICACIONES SA DE CV';'GTDSE090511EW5';'BU_CSACV';'BU_CSACV';'BU_CSACV';'';'';'N';'';'';'';'';'';'1900-01-01'\n\n'OBRAS';'DSE090511EW5';'';'CREATE';'12 SUAREZ EDIFICACIONES SA DE CV';'SODSE090511EW5';'BU_CSACV';'BU_CSACV';'BU_CSACV';'';'';'N';'';'';'';'';'';'1900-01-01'\n\n'GASTOS';'TVC8607234U2';'';'CREATE';'13 29 CONSTRUCCIONES SA DE CV';'GTTVC8607234U2';'BU_CSACV';'BU_CSACV';'BU_CSACV';'';'';'N';'';'';'';'';'';'1900-01-01'\n\n'OBRAS';'TVC8607234U2';'';'CREATE';'13 29 CONSTRUCCIONES SA DE CV';'SOTVC8607234U2';'BU_CSACV';'BU_CSACV';'BU_CSACV';'';'';'N';'';'';'';'';'';'1900-01-01'\n\n"
     ]
    }
   ],
   "source": [
    "sourceFolder = '/content/drive/Shareddrives/Esperanto/Supports/Suppliers/4_Suppliers_Site_Assignments'\n",
    "workFolder = '/content/drive/Shareddrives/Esperanto/Supports/Suppliers/Work/5_Bank_Accounts'\n",
    "fileName = '4. SUPPLIER_SITE_ASSIGNMENT_COPPEL.csv'\n",
    "inputTextFile = open(Path(sourceFolder, fileName), 'r', encoding='latin-1')\n",
    "if inputTextFile:\n",
    "    numTextLines = 0\n",
    "    while True:\n",
    "        numTextLines += 1\n",
    "        textLine = inputTextFile.readline()\n",
    "        print(textLine)\n",
    "        if numTextLines >10:\n",
    "            break\n",
    "    inputTextFile.close()"
   ]
  },
  {
   "source": [
    "### Step 3 - Load supplier site assignment data"
   ],
   "cell_type": "markdown",
   "metadata": {}
  },
  {
   "cell_type": "code",
   "execution_count": 3,
   "metadata": {},
   "outputs": [
    {
     "output_type": "stream",
     "name": "stdout",
     "text": [
      "  SISTEMA_LEGADO NUMERO_PROVEEDOR  BATCH_ID IMPORT_ACTION  \\\n0            SAJ                3       NaN        CREATE   \n1          OBRAS    GAVE860528F18       NaN        CREATE   \n2          OBRAS     CST050404CH3       NaN        CREATE   \n3         GASTOS     BIO111108JC6       NaN        CREATE   \n4          OBRAS     BIO111108JC6       NaN        CREATE   \n5          OBRAS     CDC150325SZ0       NaN        CREATE   \n6         GASTOS     DSE090511EW5       NaN        CREATE   \n7          OBRAS     DSE090511EW5       NaN        CREATE   \n8         GASTOS     TVC8607234U2       NaN        CREATE   \n9          OBRAS     TVC8607234U2       NaN        CREATE   \n\n                        VENDOR_NAME VENDOR_SITE_CODE  \\\n0                               NaN        SJ3MXN004   \n1                  0 VERGARA EFRAIN  SOGAVE860528F18   \n2                          04 ST SC   SOCST050404CH3   \n3     100% BIORESPONSABLES SA DE CV   GTBIO111108JC6   \n4     100% BIORESPONSABLES SA DE CV   SOBIO111108JC6   \n5        102 CONSTRUCTORES SA DE CV   SOCDC150325SZ0   \n6  12 SUAREZ EDIFICACIONES SA DE CV   GTDSE090511EW5   \n7  12 SUAREZ EDIFICACIONES SA DE CV   SODSE090511EW5   \n8     13 29 CONSTRUCCIONES SA DE CV   GTTVC8607234U2   \n9     13 29 CONSTRUCCIONES SA DE CV   SOTVC8607234U2   \n\n  PROCUREMENT_BUSINESS_UNIT_NAME BUSINESS_UNIT_NAME BILL_TO_BU_NAME  \\\n0                       BU_CSACV           BU_CSACV        BU_CSACV   \n1                       BU_CSACV           BU_CSACV        BU_CSACV   \n2                       BU_CSACV           BU_CSACV        BU_CSACV   \n3                       BU_CSACV           BU_CSACV        BU_CSACV   \n4                       BU_CSACV           BU_CSACV        BU_CSACV   \n5                       BU_CSACV           BU_CSACV        BU_CSACV   \n6                       BU_CSACV           BU_CSACV        BU_CSACV   \n7                       BU_CSACV           BU_CSACV        BU_CSACV   \n8                       BU_CSACV           BU_CSACV        BU_CSACV   \n9                       BU_CSACV           BU_CSACV        BU_CSACV   \n\n   SHIP_TO_LOCATION_CODE  BILL_TO_LOCATION_CODE ALLOW_AWT_FLAG  \\\n0                    NaN                    NaN              N   \n1                    NaN                    NaN              N   \n2                    NaN                    NaN              N   \n3                    NaN                    NaN              N   \n4                    NaN                    NaN              N   \n5                    NaN                    NaN              N   \n6                    NaN                    NaN              N   \n7                    NaN                    NaN              N   \n8                    NaN                    NaN              N   \n9                    NaN                    NaN              N   \n\n   AWT_GROUP_NAME ACCTS_PAY_CONCATENATED_SEGMENTS  \\\n0             NaN                             NaN   \n1             NaN                             NaN   \n2             NaN                             NaN   \n3             NaN                             NaN   \n4             NaN                             NaN   \n5             NaN                             NaN   \n6             NaN                             NaN   \n7             NaN                             NaN   \n8             NaN                             NaN   \n9             NaN                             NaN   \n\n   ACCTS_PAY_CONCATENATED_SEGMENTS1  \\\n0                               NaN   \n1                               NaN   \n2                               NaN   \n3                               NaN   \n4                               NaN   \n5                               NaN   \n6                               NaN   \n7                               NaN   \n8                               NaN   \n9                               NaN   \n\n   FUTURE_DATED_PAYMENT_CONCATENATED_SEGMENTS  DISTRIBUTION_SET_NAME  \\\n0                                         NaN                    NaN   \n1                                         NaN                    NaN   \n2                                         NaN                    NaN   \n3                                         NaN                    NaN   \n4                                         NaN                    NaN   \n5                                         NaN                    NaN   \n6                                         NaN                    NaN   \n7                                         NaN                    NaN   \n8                                         NaN                    NaN   \n9                                         NaN                    NaN   \n\n  INACTIVE_DATE  \n0    1900-01-01  \n1    1900-01-01  \n2    1900-01-01  \n3    1900-01-01  \n4    1900-01-01  \n5    1900-01-01  \n6    1900-01-01  \n7    1900-01-01  \n8    1900-01-01  \n9    1900-01-01  \n186259  records found. \n"
     ]
    }
   ],
   "source": [
    "df = pd.read_csv(Path(sourceFolder,fileName), sep=';', quotechar=chr(39), encoding='latin-1')\n",
    "print(df.head(10))\n",
    "print(len(df.index), ' records found. ')"
   ]
  },
  {
   "cell_type": "code",
   "execution_count": 4,
   "metadata": {},
   "outputs": [
    {
     "output_type": "execute_result",
     "data": {
      "text/plain": [
       "SISTEMA_LEGADO                                 object\n",
       "NUMERO_PROVEEDOR                               object\n",
       "BATCH_ID                                      float64\n",
       "IMPORT_ACTION                                  object\n",
       "VENDOR_NAME                                    object\n",
       "VENDOR_SITE_CODE                               object\n",
       "PROCUREMENT_BUSINESS_UNIT_NAME                 object\n",
       "BUSINESS_UNIT_NAME                             object\n",
       "BILL_TO_BU_NAME                                object\n",
       "SHIP_TO_LOCATION_CODE                         float64\n",
       "BILL_TO_LOCATION_CODE                         float64\n",
       "ALLOW_AWT_FLAG                                 object\n",
       "AWT_GROUP_NAME                                float64\n",
       "ACCTS_PAY_CONCATENATED_SEGMENTS                object\n",
       "ACCTS_PAY_CONCATENATED_SEGMENTS1              float64\n",
       "FUTURE_DATED_PAYMENT_CONCATENATED_SEGMENTS    float64\n",
       "DISTRIBUTION_SET_NAME                         float64\n",
       "INACTIVE_DATE                                  object\n",
       "dtype: object"
      ]
     },
     "metadata": {},
     "execution_count": 4
    }
   ],
   "source": [
    "df.dtypes"
   ]
  },
  {
   "source": [
    "### Step 4 - Creates a modified dataset with key field as strings"
   ],
   "cell_type": "markdown",
   "metadata": {}
  },
  {
   "cell_type": "code",
   "execution_count": 5,
   "metadata": {},
   "outputs": [
    {
     "output_type": "stream",
     "name": "stdout",
     "text": [
      "  SISTEMA_LEGADO NUMERO_PROVEEDOR  BATCH_ID IMPORT_ACTION  \\\n0            SAJ                3       NaN        CREATE   \n1          OBRAS    GAVE860528F18       NaN        CREATE   \n2          OBRAS     CST050404CH3       NaN        CREATE   \n3         GASTOS     BIO111108JC6       NaN        CREATE   \n4          OBRAS     BIO111108JC6       NaN        CREATE   \n5          OBRAS     CDC150325SZ0       NaN        CREATE   \n6         GASTOS     DSE090511EW5       NaN        CREATE   \n7          OBRAS     DSE090511EW5       NaN        CREATE   \n8         GASTOS     TVC8607234U2       NaN        CREATE   \n9          OBRAS     TVC8607234U2       NaN        CREATE   \n\n                        VENDOR_NAME VENDOR_SITE_CODE  \\\n0                              <NA>        SJ3MXN004   \n1                  0 VERGARA EFRAIN  SOGAVE860528F18   \n2                          04 ST SC   SOCST050404CH3   \n3     100% BIORESPONSABLES SA DE CV   GTBIO111108JC6   \n4     100% BIORESPONSABLES SA DE CV   SOBIO111108JC6   \n5        102 CONSTRUCTORES SA DE CV   SOCDC150325SZ0   \n6  12 SUAREZ EDIFICACIONES SA DE CV   GTDSE090511EW5   \n7  12 SUAREZ EDIFICACIONES SA DE CV   SODSE090511EW5   \n8     13 29 CONSTRUCCIONES SA DE CV   GTTVC8607234U2   \n9     13 29 CONSTRUCCIONES SA DE CV   SOTVC8607234U2   \n\n  PROCUREMENT_BUSINESS_UNIT_NAME BUSINESS_UNIT_NAME BILL_TO_BU_NAME  \\\n0                       BU_CSACV           BU_CSACV        BU_CSACV   \n1                       BU_CSACV           BU_CSACV        BU_CSACV   \n2                       BU_CSACV           BU_CSACV        BU_CSACV   \n3                       BU_CSACV           BU_CSACV        BU_CSACV   \n4                       BU_CSACV           BU_CSACV        BU_CSACV   \n5                       BU_CSACV           BU_CSACV        BU_CSACV   \n6                       BU_CSACV           BU_CSACV        BU_CSACV   \n7                       BU_CSACV           BU_CSACV        BU_CSACV   \n8                       BU_CSACV           BU_CSACV        BU_CSACV   \n9                       BU_CSACV           BU_CSACV        BU_CSACV   \n\n   SHIP_TO_LOCATION_CODE  BILL_TO_LOCATION_CODE ALLOW_AWT_FLAG  \\\n0                    NaN                    NaN              N   \n1                    NaN                    NaN              N   \n2                    NaN                    NaN              N   \n3                    NaN                    NaN              N   \n4                    NaN                    NaN              N   \n5                    NaN                    NaN              N   \n6                    NaN                    NaN              N   \n7                    NaN                    NaN              N   \n8                    NaN                    NaN              N   \n9                    NaN                    NaN              N   \n\n   AWT_GROUP_NAME ACCTS_PAY_CONCATENATED_SEGMENTS  \\\n0             NaN                             NaN   \n1             NaN                             NaN   \n2             NaN                             NaN   \n3             NaN                             NaN   \n4             NaN                             NaN   \n5             NaN                             NaN   \n6             NaN                             NaN   \n7             NaN                             NaN   \n8             NaN                             NaN   \n9             NaN                             NaN   \n\n   ACCTS_PAY_CONCATENATED_SEGMENTS1  \\\n0                               NaN   \n1                               NaN   \n2                               NaN   \n3                               NaN   \n4                               NaN   \n5                               NaN   \n6                               NaN   \n7                               NaN   \n8                               NaN   \n9                               NaN   \n\n   FUTURE_DATED_PAYMENT_CONCATENATED_SEGMENTS  DISTRIBUTION_SET_NAME  \\\n0                                         NaN                    NaN   \n1                                         NaN                    NaN   \n2                                         NaN                    NaN   \n3                                         NaN                    NaN   \n4                                         NaN                    NaN   \n5                                         NaN                    NaN   \n6                                         NaN                    NaN   \n7                                         NaN                    NaN   \n8                                         NaN                    NaN   \n9                                         NaN                    NaN   \n\n  INACTIVE_DATE  \n0    1900-01-01  \n1    1900-01-01  \n2    1900-01-01  \n3    1900-01-01  \n4    1900-01-01  \n5    1900-01-01  \n6    1900-01-01  \n7    1900-01-01  \n8    1900-01-01  \n9    1900-01-01  \nSISTEMA_LEGADO                                 string\nNUMERO_PROVEEDOR                               string\nBATCH_ID                                      float64\nIMPORT_ACTION                                  string\nVENDOR_NAME                                    string\nVENDOR_SITE_CODE                               string\nPROCUREMENT_BUSINESS_UNIT_NAME                 string\nBUSINESS_UNIT_NAME                             string\nBILL_TO_BU_NAME                                string\nSHIP_TO_LOCATION_CODE                         float64\nBILL_TO_LOCATION_CODE                         float64\nALLOW_AWT_FLAG                                 string\nAWT_GROUP_NAME                                float64\nACCTS_PAY_CONCATENATED_SEGMENTS                object\nACCTS_PAY_CONCATENATED_SEGMENTS1              float64\nFUTURE_DATED_PAYMENT_CONCATENATED_SEGMENTS    float64\nDISTRIBUTION_SET_NAME                         float64\nINACTIVE_DATE                                  string\ndtype: object\n"
     ]
    }
   ],
   "source": [
    "modDf = df\n",
    "modDf['SISTEMA_LEGADO']=modDf['SISTEMA_LEGADO'].astype(pd.StringDtype())\n",
    "modDf['NUMERO_PROVEEDOR']=modDf['NUMERO_PROVEEDOR'].astype(pd.StringDtype())\n",
    "modDf['IMPORT_ACTION']=modDf['IMPORT_ACTION'].astype(pd.StringDtype())\n",
    "modDf['VENDOR_NAME']=modDf['VENDOR_NAME'].astype(pd.StringDtype())\n",
    "modDf['VENDOR_SITE_CODE']=modDf['VENDOR_SITE_CODE'].astype(pd.StringDtype())\n",
    "modDf['PROCUREMENT_BUSINESS_UNIT_NAME']=modDf['PROCUREMENT_BUSINESS_UNIT_NAME'].astype(pd.StringDtype())\n",
    "modDf['BUSINESS_UNIT_NAME']=modDf['BUSINESS_UNIT_NAME'].astype(pd.StringDtype())\n",
    "modDf['BILL_TO_BU_NAME']=modDf['BILL_TO_BU_NAME'].astype(pd.StringDtype())\n",
    "modDf['ALLOW_AWT_FLAG']=modDf['ALLOW_AWT_FLAG'].astype(pd.StringDtype())\n",
    "modDf['BILL_TO_BU_NAME']=modDf['BILL_TO_BU_NAME'].astype(pd.StringDtype())\n",
    "modDf['ACCTS_PAY_CONCATENATED_SEGMENTS']=modDf['ACCTS_PAY_CONCATENATED_SEGMENTS'].astype(pd.StringDtype())\n",
    "modDf['INACTIVE_DATE']=modDf['INACTIVE_DATE'].astype(pd.StringDtype())\n",
    "print(modDf.head(10))\n",
    "print(modDf.dtypes)"
   ]
  },
  {
   "source": [
    "### Step 5 - Reads Data in Scope"
   ],
   "cell_type": "markdown",
   "metadata": {}
  },
  {
   "cell_type": "code",
   "execution_count": 6,
   "metadata": {},
   "outputs": [
    {
     "output_type": "stream",
     "name": "stdout",
     "text": [
      "   Unnamed: 0 NUMERO_PROVEEDOR BUSINESS_UNIT VENDOR_SITE_CODE\n0           0     &JE040614N51      BU_CSACV   GT&JE040614N51\n1           1     &JE040614N51      BU_CSACV   SO&JE040614N51\n2           2    00AL570409DC8      BU_CSACV  GT00AL570409DC8\n3           3    00AL570409DC8      BU_CSACV  SO00AL570409DC8\n4           4    00BR5103152L7      BU_CSACV  SO00BR5103152L7\n5           5    00BR5103152L7      BU_CSACV  GT00BR5103152L7\n6           6    00CE810603TI4      BU_CSACV  SO00CE810603TI4\n7           7    00CE810603TI4      BU_CSACV  GT00CE810603TI4\n8           8             1482      BU_CSACV     SA1482MXN000\n9           9             1482      BU_CSACV           NA1482\n164357  records found.\n"
     ]
    }
   ],
   "source": [
    "dataInScopeDf = pd.read_csv(Path(workFolder, 'SupplierBUAndVSTDf.csv'), encoding='utf-8')\n",
    "print(dataInScopeDf.head(10))\n",
    "print(len(dataInScopeDf.index), ' records found.')"
   ]
  },
  {
   "source": [
    "### Step 6 - Get Tax Id's or Supplier Id's, business_unit and vendor site code in scope"
   ],
   "cell_type": "markdown",
   "metadata": {}
  },
  {
   "cell_type": "code",
   "execution_count": 7,
   "metadata": {},
   "outputs": [
    {
     "output_type": "stream",
     "name": "stdout",
     "text": [
      "NUMERO_PROVEEDOR    string\n",
      "VENDOR_SITE_CODE    string\n",
      "dtype: object\n",
      "164357  suppliers,business units and vendor site codes in scope.\n",
      "  NUMERO_PROVEEDOR VENDOR_SITE_CODE\n",
      "0     &JE040614N51   GT&JE040614N51\n",
      "1     &JE040614N51   SO&JE040614N51\n",
      "2    00AL570409DC8  GT00AL570409DC8\n",
      "3    00AL570409DC8  SO00AL570409DC8\n",
      "4    00BR5103152L7  SO00BR5103152L7\n",
      "5    00BR5103152L7  GT00BR5103152L7\n",
      "6    00CE810603TI4  SO00CE810603TI4\n",
      "7    00CE810603TI4  GT00CE810603TI4\n",
      "8             1482     SA1482MXN000\n",
      "9             1482           NA1482\n",
      "NUMERO_PROVEEDOR    string\n",
      "dtype: object\n",
      "76565  suppliers,business units and vendor site codes in scope.\n",
      "  NUMERO_PROVEEDOR\n",
      "0     &JE040614N51\n",
      "1    00AL570409DC8\n",
      "2    00BR5103152L7\n",
      "3    00CE810603TI4\n",
      "4             1482\n",
      "5            15020\n",
      "6            15025\n",
      "7            15026\n",
      "8            15039\n",
      "9            15043\n"
     ]
    }
   ],
   "source": [
    "sql_query = '''\n",
    "SELECT NUMERO_PROVEEDOR,VENDOR_SITE_CODE FROM\n",
    "(SELECT DISTINCT NUMERO_PROVEEDOR,VENDOR_SITE_CODE FROM dataInScopeDf)\n",
    "ORDER BY NUMERO_PROVEEDOR ASC\n",
    "'''\n",
    "SupplierAndVSCInScope = ps.sqldf(sql_query)\n",
    "SupplierAndVSCInScope['NUMERO_PROVEEDOR']=SupplierAndVSCInScope['NUMERO_PROVEEDOR'].astype(pd.StringDtype())\n",
    "SupplierAndVSCInScope['VENDOR_SITE_CODE']=SupplierAndVSCInScope['VENDOR_SITE_CODE'].astype(pd.StringDtype())\n",
    "#\n",
    "print(SupplierAndVSCInScope.dtypes)\n",
    "print(len(SupplierAndVSCInScope.index), ' suppliers,business units and vendor site codes in scope.')\n",
    "print(SupplierAndVSCInScope.head(10))\n",
    "sql_query = '''\n",
    "SELECT DISTINCT NUMERO_PROVEEDOR FROM SupplierAndVSCInScope\n",
    "'''\n",
    "SuppliersInScope = ps.sqldf(sql_query)\n",
    "SuppliersInScope['NUMERO_PROVEEDOR']=SuppliersInScope['NUMERO_PROVEEDOR'].astype(pd.StringDtype())\n",
    "print(SuppliersInScope.dtypes)\n",
    "print(len(SuppliersInScope.index), ' suppliers,business units and vendor site codes in scope.')\n",
    "print(SuppliersInScope.head(10))"
   ]
  },
  {
   "source": [
    "### Step 5 - Merge Suppliers,business units and vendor site codes with Table 4 data"
   ],
   "cell_type": "markdown",
   "metadata": {}
  },
  {
   "cell_type": "code",
   "execution_count": 8,
   "metadata": {},
   "outputs": [
    {
     "output_type": "stream",
     "name": "stdout",
     "text": [
      "164488  records obtained.\n  NUMERO_PROVEEDOR VENDOR_SITE_CODE      SISTEMA_LEGADO  BATCH_ID  \\\n0     &JE040614N51   GT&JE040614N51              GASTOS       NaN   \n1     &JE040614N51   SO&JE040614N51               OBRAS       NaN   \n2    00AL570409DC8  GT00AL570409DC8              GASTOS       NaN   \n3    00AL570409DC8  SO00AL570409DC8               OBRAS       NaN   \n4    00BR5103152L7  SO00BR5103152L7               OBRAS       NaN   \n5    00BR5103152L7  GT00BR5103152L7              GASTOS       NaN   \n6    00CE810603TI4  SO00CE810603TI4               OBRAS       NaN   \n7    00CE810603TI4  GT00CE810603TI4              GASTOS       NaN   \n8             1482     SA1482MXN000         PORTAL SARI       NaN   \n9             1482           NA1482  NEGOCIOS AFILIADOS       NaN   \n\n  IMPORT_ACTION                   VENDOR_NAME PROCUREMENT_BUSINESS_UNIT_NAME  \\\n0        CREATE  A & J EXPORTACIONES SA DE CV                       BU_CSACV   \n1        CREATE  A & J EXPORTACIONES SA DE CV                       BU_CSACV   \n2        CREATE      OSORIO ALVAREZ JOSE LUIS                       BU_CSACV   \n3        CREATE      OSORIO ALVAREZ JOSE LUIS                       BU_CSACV   \n4        CREATE        ORDOÑEZ BARBA RAYMUNDO                       BU_CSACV   \n5        CREATE        ORDOÑEZ BARBA RAYMUNDO                       BU_CSACV   \n6        CREATE             OROSCO CORIA EMMA                       BU_CSACV   \n7        CREATE             OROSCO CORIA EMMA                       BU_CSACV   \n8        CREATE    CHONG BARRERA OSCAR EMILIO                       BU_CSACV   \n9        CREATE    PROCOMEX MAZATLAN SA DE CV                       BU_CSACV   \n\n  BUSINESS_UNIT_NAME BILL_TO_BU_NAME  SHIP_TO_LOCATION_CODE  \\\n0           BU_CSACV        BU_CSACV                    NaN   \n1           BU_CSACV        BU_CSACV                    NaN   \n2           BU_CSACV        BU_CSACV                    NaN   \n3           BU_CSACV        BU_CSACV                    NaN   \n4           BU_CSACV        BU_CSACV                    NaN   \n5           BU_CSACV        BU_CSACV                    NaN   \n6           BU_CSACV        BU_CSACV                    NaN   \n7           BU_CSACV        BU_CSACV                    NaN   \n8           BU_CSACV        BU_CSACV                    NaN   \n9           BU_CSACV        BU_CSACV                    NaN   \n\n   BILL_TO_LOCATION_CODE ALLOW_AWT_FLAG  AWT_GROUP_NAME  \\\n0                    NaN              N             NaN   \n1                    NaN              N             NaN   \n2                    NaN              N             NaN   \n3                    NaN              N             NaN   \n4                    NaN              N             NaN   \n5                    NaN              N             NaN   \n6                    NaN              N             NaN   \n7                    NaN              N             NaN   \n8                    NaN              N             NaN   \n9                    NaN              N             NaN   \n\n  ACCTS_PAY_CONCATENATED_SEGMENTS  ACCTS_PAY_CONCATENATED_SEGMENTS1  \\\n0                             NaN                               NaN   \n1                             NaN                               NaN   \n2                             NaN                               NaN   \n3                             NaN                               NaN   \n4                             NaN                               NaN   \n5                             NaN                               NaN   \n6                             NaN                               NaN   \n7                             NaN                               NaN   \n8                             NaN                               NaN   \n9                             NaN                               NaN   \n\n   FUTURE_DATED_PAYMENT_CONCATENATED_SEGMENTS  DISTRIBUTION_SET_NAME  \\\n0                                         NaN                    NaN   \n1                                         NaN                    NaN   \n2                                         NaN                    NaN   \n3                                         NaN                    NaN   \n4                                         NaN                    NaN   \n5                                         NaN                    NaN   \n6                                         NaN                    NaN   \n7                                         NaN                    NaN   \n8                                         NaN                    NaN   \n9                                         NaN                    NaN   \n\n  INACTIVE_DATE  \n0    1900-01-01  \n1    1900-01-01  \n2    1900-01-01  \n3    1900-01-01  \n4    1900-01-01  \n5    1900-01-01  \n6    1900-01-01  \n7    1900-01-01  \n8    1900-01-01  \n9    1900-01-01  \n"
     ]
    }
   ],
   "source": [
    "subSetDf = pd.merge(SupplierAndVSCInScope, modDf, on=['NUMERO_PROVEEDOR','VENDOR_SITE_CODE'], how='left')\n",
    "subSetDf = subSetDf[subSetDf['PROCUREMENT_BUSINESS_UNIT_NAME'].notna()]\n",
    "print(len(subSetDf.index), ' records obtained.')\n",
    "print(subSetDf.head(10))"
   ]
  },
  {
   "source": [
    "### Step 6 - Validate Legacy Systems in Scope"
   ],
   "cell_type": "markdown",
   "metadata": {}
  },
  {
   "cell_type": "code",
   "execution_count": 9,
   "metadata": {},
   "outputs": [
    {
     "output_type": "stream",
     "name": "stdout",
     "text": [
      "14  records found.\n['GASTOS', 'OBRAS', 'PORTAL SARI', 'NEGOCIOS AFILIADOS', 'SIM', 'CONSTRUNET', 'REFACCIONARIA', 'RXMENU', 'MXMENU', 'MUEBLES', 'TECNOLOGIA', 'SIE', 'MARKETPLACE', 'MOTOR DE SEGUIMIENTO']\n"
     ]
    }
   ],
   "source": [
    "legacySystemsFound = subSetDf.SISTEMA_LEGADO.unique()\n",
    "print(len(legacySystemsFound), ' records found.')\n",
    "print(list(legacySystemsFound))"
   ]
  },
  {
   "source": [
    "### Steps 7 - check distribution of records per legacy system"
   ],
   "cell_type": "markdown",
   "metadata": {}
  },
  {
   "cell_type": "code",
   "execution_count": 10,
   "metadata": {},
   "outputs": [
    {
     "output_type": "stream",
     "name": "stdout",
     "text": [
      "GASTOS , 74690\nOBRAS , 74643\nMOTOR DE SEGUIMIENTO , 11226\nCONSTRUNET , 1922\nSIM , 1786\nNEGOCIOS AFILIADOS , 107\nTECNOLOGIA , 77\nSIE , 11\nMARKETPLACE , 10\nREFACCIONARIA , 8\nMXMENU , 4\nRXMENU , 2\nMUEBLES , 1\nPORTAL SARI , 1\n"
     ]
    }
   ],
   "source": [
    "sql_query = '''\n",
    "SELECT SISTEMA_LEGADO,COUNT(*) AS numObs FROM subSetDf\n",
    "GROUP BY SISTEMA_LEGADO\n",
    "ORDER BY numObs DESC\n",
    "'''\n",
    "distPerLegacySystemDf = ps.sqldf(sql_query)\n",
    "for index, row in distPerLegacySystemDf.iterrows():\n",
    "    print(row['SISTEMA_LEGADO'], ',', row['numObs'])"
   ]
  },
  {
   "cell_type": "code",
   "execution_count": 11,
   "metadata": {},
   "outputs": [
    {
     "output_type": "stream",
     "name": "stdout",
     "text": [
      "164357  records in scope\n",
      "  NUMERO_PROVEEDOR  numVSC\n",
      "0            20539      16\n",
      "1            19546       6\n",
      "2            19647       6\n",
      "3            19807       6\n",
      "4            42108       6\n",
      "5            16372       5\n",
      "6            17559       5\n",
      "7            17761       5\n",
      "8            18960       5\n",
      "9            21790       5\n",
      "   numVSC  numObs\n",
      "0       2   65118\n",
      "1       3   11223\n",
      "2       1     160\n",
      "3       4      43\n",
      "4       5      16\n",
      "5       6       4\n",
      "6      16       1\n"
     ]
    }
   ],
   "source": [
    "sql_query = '''\n",
    "SELECT DISTINCT NUMERO_PROVEEDOR,VENDOR_SITE_CODE FROM subSetDf\n",
    "'''\n",
    "SupplierandVSCValDf = ps.sqldf(sql_query)\n",
    "print(len(SupplierandVSCValDf.index), ' records in scope')\n",
    "SupplierandVSCValDf.to_csv(Path(workFolder, 'SupplierandVSCValDf.csv'), encoding='utf-8')\n",
    "sql_query = '''\n",
    "SELECT NUMERO_PROVEEDOR,COUNT(VENDOR_SITE_CODE) AS numVSC FROM SupplierandVSCValDf\n",
    "GROUP BY NUMERO_PROVEEDOR\n",
    "ORDER BY numVSC DESC\n",
    "'''\n",
    "result = ps.sqldf(sql_query)\n",
    "print(result.head(10))\n",
    "sql_query = '''\n",
    "SELECT numVSC,COUNT(*) AS numObs FROM result\n",
    "GROUP BY numVSC\n",
    "ORDER BY numObs DESC\n",
    "'''\n",
    "result2 = ps.sqldf(sql_query)\n",
    "print(result2.head(20))"
   ]
  },
  {
   "source": [
    "### Step 8 - Create new report structure"
   ],
   "cell_type": "markdown",
   "metadata": {}
  },
  {
   "cell_type": "code",
   "execution_count": 12,
   "metadata": {},
   "outputs": [
    {
     "output_type": "stream",
     "name": "stdout",
     "text": [
      "164488  in new report structure\n"
     ]
    }
   ],
   "source": [
    "newReportDf = subSetDf[['SISTEMA_LEGADO','NUMERO_PROVEEDOR','BATCH_ID','IMPORT_ACTION','VENDOR_NAME',\n",
    "'VENDOR_SITE_CODE','PROCUREMENT_BUSINESS_UNIT_NAME','BUSINESS_UNIT_NAME',\n",
    "'BILL_TO_BU_NAME','SHIP_TO_LOCATION_CODE','BILL_TO_LOCATION_CODE','ALLOW_AWT_FLAG',\n",
    "'AWT_GROUP_NAME','ACCTS_PAY_CONCATENATED_SEGMENTS','ACCTS_PAY_CONCATENATED_SEGMENTS1',\n",
    "'FUTURE_DATED_PAYMENT_CONCATENATED_SEGMENTS','DISTRIBUTION_SET_NAME','INACTIVE_DATE']]\n",
    "print(len(newReportDf.index), ' in new report structure')"
   ]
  },
  {
   "cell_type": "code",
   "execution_count": 13,
   "metadata": {},
   "outputs": [
    {
     "output_type": "stream",
     "name": "stdout",
     "text": [
      "SISTEMA_LEGADO                                 string\nNUMERO_PROVEEDOR                               string\nBATCH_ID                                      float64\nIMPORT_ACTION                                  string\nVENDOR_NAME                                    string\nVENDOR_SITE_CODE                               string\nPROCUREMENT_BUSINESS_UNIT_NAME                 string\nBUSINESS_UNIT_NAME                             string\nBILL_TO_BU_NAME                                string\nSHIP_TO_LOCATION_CODE                         float64\nBILL_TO_LOCATION_CODE                         float64\nALLOW_AWT_FLAG                                 string\nAWT_GROUP_NAME                                float64\nACCTS_PAY_CONCATENATED_SEGMENTS                object\nACCTS_PAY_CONCATENATED_SEGMENTS1              float64\nFUTURE_DATED_PAYMENT_CONCATENATED_SEGMENTS    float64\nDISTRIBUTION_SET_NAME                         float64\nINACTIVE_DATE                                  string\ndtype: object\n"
     ]
    }
   ],
   "source": [
    "print(newReportDf.dtypes)"
   ]
  },
  {
   "cell_type": "code",
   "execution_count": 14,
   "metadata": {},
   "outputs": [
    {
     "output_type": "stream",
     "name": "stdout",
     "text": [
      "164488  text lines written.\n"
     ]
    }
   ],
   "source": [
    "newReportDf.fillna('', inplace=True)\n",
    "with open(Path(workFolder,'4. SUPPLIER_SITE_ASSIGNMENT_COPPEL(NEW).csv'), 'w', encoding='utf-8') as textFile:\n",
    "    tmpVector = ['SISTEMA_LEGADO','NUMERO_PROVEEDOR','BATCH_ID','IMPORT_ACTION','VENDOR_NAME',\n",
    "                 'VENDOR_SITE_CODE','PROCUREMENT_BUSINESS_UNIT_NAME','BUSINESS_UNIT_NAME',\n",
    "                 'BILL_TO_BU_NAME','SHIP_TO_LOCATION_CODE','BILL_TO_LOCATION_CODE','ALLOW_AWT_FLAG',\n",
    "                 'AWT_GROUP_NAME','ACCTS_PAY_CONCATENATED_SEGMENTS','ACCTS_PAY_CONCATENATED_SEGMENTS1',\n",
    "                 'FUTURE_DATED_PAYMENT_CONCATENATED_SEGMENTS','DISTRIBUTION_SET_NAME','INACTIVE_DATE']\n",
    "    textLine = chr(59).join([chr(39)+str(tmpColumn)+chr(39) for tmpColumn in tmpVector]) + '\\n'\n",
    "    textFile.write(textLine)\n",
    "    linesWritten = 0\n",
    "    for index, row in newReportDf.iterrows():\n",
    "        tmpVector = row.to_list()\n",
    "        textLine = chr(59).join([chr(39)+str(tmpColumn)+chr(39) for tmpColumn in tmpVector]) + '\\n'\n",
    "        textFile.write(textLine)\n",
    "        linesWritten += 1\n",
    "    textFile.close()\n",
    "print(linesWritten, ' text lines written.')"
   ]
  },
  {
   "source": [
    "### Step 9 - Validate the number of rows on file created"
   ],
   "cell_type": "markdown",
   "metadata": {}
  },
  {
   "cell_type": "code",
   "execution_count": 15,
   "metadata": {},
   "outputs": [
    {
     "output_type": "stream",
     "name": "stdout",
     "text": [
      "'SISTEMA_LEGADO';'NUMERO_PROVEEDOR';'BATCH_ID';'IMPORT_ACTION';'VENDOR_NAME';'VENDOR_SITE_CODE';'PROCUREMENT_BUSINESS_UNIT_NAME';'BUSINESS_UNIT_NAME';'BILL_TO_BU_NAME';'SHIP_TO_LOCATION_CODE';'BILL_TO_LOCATION_CODE';'ALLOW_AWT_FLAG';'AWT_GROUP_NAME';'ACCTS_PAY_CONCATENATED_SEGMENTS';'ACCTS_PAY_CONCATENATED_SEGMENTS1';'FUTURE_DATED_PAYMENT_CONCATENATED_SEGMENTS';'DISTRIBUTION_SET_NAME';'INACTIVE_DATE'\n\n'GASTOS';'&JE040614N51';'';'CREATE';'A & J EXPORTACIONES SA DE CV';'GT&JE040614N51';'BU_CSACV';'BU_CSACV';'BU_CSACV';'';'';'N';'';'';'';'';'';'1900-01-01'\n\n'OBRAS';'&JE040614N51';'';'CREATE';'A & J EXPORTACIONES SA DE CV';'SO&JE040614N51';'BU_CSACV';'BU_CSACV';'BU_CSACV';'';'';'N';'';'';'';'';'';'1900-01-01'\n\n'GASTOS';'00AL570409DC8';'';'CREATE';'OSORIO ALVAREZ JOSE LUIS';'GT00AL570409DC8';'BU_CSACV';'BU_CSACV';'BU_CSACV';'';'';'N';'';'';'';'';'';'1900-01-01'\n\n'OBRAS';'00AL570409DC8';'';'CREATE';'OSORIO ALVAREZ JOSE LUIS';'SO00AL570409DC8';'BU_CSACV';'BU_CSACV';'BU_CSACV';'';'';'N';'';'';'';'';'';'1900-01-01'\n\n'OBRAS';'00BR5103152L7';'';'CREATE';'ORDOÑEZ BARBA RAYMUNDO';'SO00BR5103152L7';'BU_CSACV';'BU_CSACV';'BU_CSACV';'';'';'N';'';'';'';'';'';'1900-01-01'\n\n'GASTOS';'00BR5103152L7';'';'CREATE';'ORDOÑEZ BARBA RAYMUNDO';'GT00BR5103152L7';'BU_CSACV';'BU_CSACV';'BU_CSACV';'';'';'N';'';'';'';'';'';'1900-01-01'\n\n'OBRAS';'00CE810603TI4';'';'CREATE';'OROSCO CORIA EMMA';'SO00CE810603TI4';'BU_CSACV';'BU_CSACV';'BU_CSACV';'';'';'N';'';'';'';'';'';'1900-01-01'\n\n'GASTOS';'00CE810603TI4';'';'CREATE';'OROSCO CORIA EMMA';'GT00CE810603TI4';'BU_CSACV';'BU_CSACV';'BU_CSACV';'';'';'N';'';'';'';'';'';'1900-01-01'\n\n'PORTAL SARI';'1482';'';'CREATE';'CHONG BARRERA OSCAR EMILIO';'SA1482MXN000';'BU_CSACV';'BU_CSACV';'BU_CSACV';'';'';'N';'';'';'';'';'';'1900-01-01'\n\n'NEGOCIOS AFILIADOS';'1482';'';'CREATE';'PROCOMEX MAZATLAN SA DE CV';'NA1482';'BU_CSACV';'BU_CSACV';'BU_CSACV';'';'';'N';'';'';'';'';'';'1900-01-01'\n\n"
     ]
    }
   ],
   "source": [
    "textFileToValidate = open(Path(workFolder,'4. SUPPLIER_SITE_ASSIGNMENT_COPPEL(NEW).csv'), 'r', encoding='utf-8')\n",
    "if textFileToValidate:\n",
    "    numTextLines = 0\n",
    "    while True:\n",
    "        numTextLines += 1\n",
    "        textLine = textFileToValidate.readline()\n",
    "        print(textLine)\n",
    "        if numTextLines >10: break\n",
    "    inputTextFile.close()"
   ]
  },
  {
   "cell_type": "code",
   "execution_count": 16,
   "metadata": {},
   "outputs": [
    {
     "output_type": "stream",
     "name": "stdout",
     "text": [
      "164488  records found.\n",
      "/usr/local/lib/python3.7/dist-packages/IPython/core/interactiveshell.py:2882: DtypeWarning: Columns (13) have mixed types.Specify dtype option on import or set low_memory=False.\n",
      "  exec(code_obj, self.user_global_ns, self.user_ns)\n"
     ]
    }
   ],
   "source": [
    "validationDf = pd.read_csv(Path(workFolder,'4. SUPPLIER_SITE_ASSIGNMENT_COPPEL(NEW).csv'), sep=';', quotechar=chr(39), encoding='utf-8')\n",
    "validationDf.dtypes\n",
    "print(len(validationDf.index), ' records found.')"
   ]
  },
  {
   "cell_type": "code",
   "execution_count": null,
   "metadata": {},
   "outputs": [],
   "source": []
  }
 ]
}