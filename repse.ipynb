{
 "metadata": {
  "language_info": {
   "codemirror_mode": {
    "name": "ipython",
    "version": 3
   },
   "file_extension": ".py",
   "mimetype": "text/x-python",
   "name": "python",
   "nbconvert_exporter": "python",
   "pygments_lexer": "ipython3",
   "version": "3.7.12"
  },
  "orig_nbformat": 2,
  "kernelspec": {
   "name": "python2",
   "display_name": "Python 3.7.12 64-bit"
  }
 },
 "nbformat": 4,
 "nbformat_minor": 2,
 "cells": [
  {
   "source": [
    "## Repse data validation"
   ],
   "cell_type": "markdown",
   "metadata": {}
  },
  {
   "source": [
    "### Step 1. Load required packages"
   ],
   "cell_type": "markdown",
   "metadata": {}
  },
  {
   "cell_type": "code",
   "execution_count": 1,
   "metadata": {},
   "outputs": [],
   "source": [
    "import pandas as pd\n",
    "import pandasql as ps\n",
    "from pathlib import Path"
   ]
  },
  {
   "source": [
    "### Step 2 - Get sample data into dataframes"
   ],
   "cell_type": "markdown",
   "metadata": {}
  },
  {
   "cell_type": "code",
   "execution_count": 2,
   "metadata": {},
   "outputs": [
    {
     "output_type": "error",
     "ename": "TypeError",
     "evalue": "read_excel() got an unexpected keyword argument 'encoding'",
     "traceback": [
      "\u001b[0;31m---------------------------------------------------------------------------\u001b[0m",
      "\u001b[0;31mTypeError\u001b[0m                                 Traceback (most recent call last)",
      "\u001b[0;32m<ipython-input-2-e65df53c1b89>\u001b[0m in \u001b[0;36m<module>\u001b[0;34m()\u001b[0m\n\u001b[1;32m      1\u001b[0m \u001b[0mworkFolder\u001b[0m \u001b[0;34m=\u001b[0m \u001b[0;34m'/content/drive/Shareddrives/Esperanto/Supports/REPSE'\u001b[0m\u001b[0;34m\u001b[0m\u001b[0;34m\u001b[0m\u001b[0m\n\u001b[0;32m----> 2\u001b[0;31m \u001b[0mdf1\u001b[0m \u001b[0;34m=\u001b[0m \u001b[0mpd\u001b[0m\u001b[0;34m.\u001b[0m\u001b[0mread_excel\u001b[0m\u001b[0;34m(\u001b[0m\u001b[0mPath\u001b[0m\u001b[0;34m(\u001b[0m\u001b[0mworkFolder\u001b[0m\u001b[0;34m,\u001b[0m\u001b[0;34m'1738172642.xlsx'\u001b[0m\u001b[0;34m)\u001b[0m\u001b[0;34m,\u001b[0m \u001b[0mencoding\u001b[0m\u001b[0;34m=\u001b[0m\u001b[0;34m'latin-1'\u001b[0m\u001b[0;34m)\u001b[0m\u001b[0;34m\u001b[0m\u001b[0;34m\u001b[0m\u001b[0m\n\u001b[0m\u001b[1;32m      3\u001b[0m \u001b[0mdf2\u001b[0m \u001b[0;34m=\u001b[0m \u001b[0mpd\u001b[0m\u001b[0;34m.\u001b[0m\u001b[0mread_excel\u001b[0m\u001b[0;34m(\u001b[0m\u001b[0mPath\u001b[0m\u001b[0;34m(\u001b[0m\u001b[0mworkFolder\u001b[0m\u001b[0;34m,\u001b[0m\u001b[0;34m'Proveedor con tema de repse retenidos del sistema anterior.xlsx'\u001b[0m\u001b[0;34m)\u001b[0m\u001b[0;34m,\u001b[0m \u001b[0mencoding\u001b[0m\u001b[0;34m=\u001b[0m\u001b[0;34m'latin-1'\u001b[0m\u001b[0;34m)\u001b[0m\u001b[0;34m\u001b[0m\u001b[0;34m\u001b[0m\u001b[0m\n",
      "\u001b[0;32m/usr/local/lib/python3.7/dist-packages/pandas/util/_decorators.py\u001b[0m in \u001b[0;36mwrapper\u001b[0;34m(*args, **kwargs)\u001b[0m\n\u001b[1;32m    309\u001b[0m                     \u001b[0mstacklevel\u001b[0m\u001b[0;34m=\u001b[0m\u001b[0mstacklevel\u001b[0m\u001b[0;34m,\u001b[0m\u001b[0;34m\u001b[0m\u001b[0;34m\u001b[0m\u001b[0m\n\u001b[1;32m    310\u001b[0m                 )\n\u001b[0;32m--> 311\u001b[0;31m             \u001b[0;32mreturn\u001b[0m \u001b[0mfunc\u001b[0m\u001b[0;34m(\u001b[0m\u001b[0;34m*\u001b[0m\u001b[0margs\u001b[0m\u001b[0;34m,\u001b[0m \u001b[0;34m**\u001b[0m\u001b[0mkwargs\u001b[0m\u001b[0;34m)\u001b[0m\u001b[0;34m\u001b[0m\u001b[0;34m\u001b[0m\u001b[0m\n\u001b[0m\u001b[1;32m    312\u001b[0m \u001b[0;34m\u001b[0m\u001b[0m\n\u001b[1;32m    313\u001b[0m         \u001b[0;32mreturn\u001b[0m \u001b[0mwrapper\u001b[0m\u001b[0;34m\u001b[0m\u001b[0;34m\u001b[0m\u001b[0m\n",
      "\u001b[0;31mTypeError\u001b[0m: read_excel() got an unexpected keyword argument 'encoding'"
     ]
    }
   ],
   "source": [
    "workFolder = '/content/drive/Shareddrives/Esperanto/Supports/REPSE'\n",
    "df1 = pd.read_excel(Path(workFolder,'1738172642.xlsx'))\n",
    "df2 = pd.read_excel(Path(workFolder,'Proveedor con tema de repse retenidos del sistema anterior.xlsx'))\n"
   ]
  },
  {
   "cell_type": "code",
   "execution_count": 8,
   "metadata": {},
   "outputs": [
    {
     "output_type": "stream",
     "name": "stdout",
     "text": [
      "             RFC                NombreComercial  \\\n0  AAAM900204640  ALVARADO ARMENTA MIGUEL ANGEL   \n1  AAAM900204640  ALVARADO ARMENTA MIGUEL ANGEL   \n2  AAAM900204640  ALVARADO ARMENTA MIGUEL ANGEL   \n3  AAAM900204640  ALVARADO ARMENTA MIGUEL ANGEL   \n4  AAAM900204640  ALVARADO ARMENTA MIGUEL ANGEL   \n5  AAAM900204640  ALVARADO ARMENTA MIGUEL ANGEL   \n6  AAAM900204640  ALVARADO ARMENTA MIGUEL ANGEL   \n7  AACB850212JL9    AYALA CUEVAS BRENDA JOCELYN   \n8  AACB850212JL9    AYALA CUEVAS BRENDA JOCELYN   \n9  AACB850212JL9    AYALA CUEVAS BRENDA JOCELYN   \n\n                     RazonSocial                   Email cveplantilla  \\\n0  ALVARADO ARMENTA MIGUEL ANGEL     MAAR_60@HOTMAIL.COM      pFisica   \n1  ALVARADO ARMENTA MIGUEL ANGEL     MAAR_60@HOTMAIL.COM      pFisica   \n2  ALVARADO ARMENTA MIGUEL ANGEL     MAAR_60@HOTMAIL.COM      pFisica   \n3  ALVARADO ARMENTA MIGUEL ANGEL     MAAR_60@HOTMAIL.COM      pFisica   \n4  ALVARADO ARMENTA MIGUEL ANGEL     MAAR_60@HOTMAIL.COM      pFisica   \n5  ALVARADO ARMENTA MIGUEL ANGEL     MAAR_60@HOTMAIL.COM      pFisica   \n6  ALVARADO ARMENTA MIGUEL ANGEL     MAAR_60@HOTMAIL.COM      pFisica   \n7    AYALA CUEVAS BRENDA JOCELYN  CMI_MEXICO@OUTLOOK.COM      pFisica   \n8    AYALA CUEVAS BRENDA JOCELYN  CMI_MEXICO@OUTLOOK.COM      pFisica   \n9    AYALA CUEVAS BRENDA JOCELYN  CMI_MEXICO@OUTLOOK.COM      pFisica   \n\n                                     NombreDocumento Cargado Rechazado  \\\n0                              Comprobante Domicilio      NO        NO   \n1         Constancia de Situación Fiscal ante el RFC      NO        NO   \n2  Contrato Firmado con Número de Registro en el ...      NO        NO   \n3                                                INE      NO        NO   \n4                           Inscripción ante el IMSS      NO        NO   \n5  Opinión de Cumplimiento de Obligaciones ante e...      NO        NO   \n6                       Registro ante el REPSE (PDF)      NO        NO   \n7                              Comprobante Domicilio      SI        NO   \n8                                                INE      SI        NO   \n9                           Inscripción ante el IMSS      SI        NO   \n\n   DocumentosRequeridos  DocumentosCargados  DocumentosFaltantes Porcentaje  \n0                     7                   0                    7         0%  \n1                     7                   0                    7         0%  \n2                     7                   0                    7         0%  \n3                     7                   0                    7         0%  \n4                     7                   0                    7         0%  \n5                     7                   0                    7         0%  \n6                     7                   0                    7         0%  \n7                     7                   5                    2        71%  \n8                     7                   5                    2        71%  \n9                     7                   5                    2        71%  \n"
     ]
    }
   ],
   "source": [
    "print(df1.head(10))"
   ]
  },
  {
   "cell_type": "code",
   "execution_count": 11,
   "metadata": {},
   "outputs": [
    {
     "output_type": "stream",
     "name": "stdout",
     "text": [
      "1730  records.\n             RFC                                  NombreComercial  \\\n0  AAAM900204640                    ALVARADO ARMENTA MIGUEL ANGEL   \n1  AACB850212JL9                      AYALA CUEVAS BRENDA JOCELYN   \n2  AACT421003NZ8                 \\tMARIA TERESA ALFARO CABANILLAS   \n3   AAE980220TL5                  AGENCIA ADUANAL ESQUER LUKEN SC   \n4  AAGL740303BB9                        ALVAREZ GOMEZ LUIS DANIEL   \n5  AAHJ900125497               JESSICA MONERRAT ALVAREZ HERNANDEZ   \n6   AAI940623QCA                                 AAIRESA SA DE CV   \n7   AAM090224BC2  Compañia Alborada de América S. de R.L. de C.V.   \n8   AAM090224BC2  Compañia Alborada de América S. de R.L. de C.V.   \n9  AANV811216BL8                      ARAIZA NAVA VICTOR EMMANUEL   \n\n                                       RazonSocial  \\\n0                    ALVARADO ARMENTA MIGUEL ANGEL   \n1                      AYALA CUEVAS BRENDA JOCELYN   \n2                 \\tMARIA TERESA ALFARO CABANILLAS   \n3                  AGENCIA ADUANAL ESQUER LUKEN SC   \n4                        ALVAREZ GOMEZ LUIS DANIEL   \n5               JESSICA MONERRAT ALVAREZ HERNANDEZ   \n6                                 AAIRESA SA DE CV   \n7  Compañia Alborada de América S. de R.L. de C.V.   \n8  Compañia Alborada de América S. de R.L. de C.V.   \n9                      ARAIZA NAVA VICTOR EMMANUEL   \n\n                           Email cveplantilla Cargado Rechazado  \\\n0            MAAR_60@HOTMAIL.COM      pFisica      NO        NO   \n1         CMI_MEXICO@OUTLOOK.COM      pFisica      SI        NO   \n2  carpinteriatresrios@gmail.com      pFisica      SI        NO   \n3        lgarate@esquerluken.com       pMoral      SI        NO   \n4           DANIALV.SM@GMAIL.COM      pFisica      NO        NO   \n5        jalvarez25345@gmail.com      pFisica      SI        NO   \n6         aairesa.mtto@gmail.com       pMoral      NO        NO   \n7            jjnieto@kiin.com.mx       pMoral      NO        NO   \n8            jjnieto@kiin.com.mx       pMoral      SI        NO   \n9        vearaiza.vean@gmail.com      pFisica      SI        NO   \n\n   DocumentosRequeridos  DocumentosCargados  DocumentosFaltantes  \\\n0                     7                   0                    7   \n1                     7                   5                    2   \n2                     7                   7                    0   \n3                    10                  10                    0   \n4                     7                   0                    7   \n5                     7                   7                    0   \n6                    10                   0                   10   \n7                    10                   9                    1   \n8                    10                   9                    1   \n9                     7                   7                    0   \n\n   DocumentosFaltantes  \n0                    7  \n1                    2  \n2                    0  \n3                    0  \n4                    7  \n5                    0  \n6                   10  \n7                    1  \n8                    1  \n9                    0  \n"
     ]
    }
   ],
   "source": [
    "sql_query = '''\n",
    "SELECT DISTINCT RFC,NombreComercial,RazonSocial,Email,cveplantilla,\n",
    "Cargado,Rechazado,DocumentosRequeridos,DocumentosCargados,DocumentosFaltantes,DocumentosFaltantes\n",
    "FROM df1\n",
    "'''\n",
    "result = ps.sqldf(sql_query)\n",
    "print(len(result.index), ' records.')\n",
    "print(result.head(10))"
   ]
  },
  {
   "cell_type": "code",
   "execution_count": 9,
   "metadata": {},
   "outputs": [
    {
     "output_type": "stream",
     "name": "stdout",
     "text": [
      "   N C BANCOMER (0443137171)  1729098  01DIC2021  \\\n0  N C BANCOMER (0443137171)    #REF!  01DIC2021   \n1  N C BANCOMER (0443137171)    #REF!  01DIC2021   \n2  N C BANCOMER (0443137171)    #REF!  01DIC2021   \n3  N C BANCOMER (0443137171)  1729582  01DIC2021   \n4  N C BANCOMER (0443137171)  1729586  01DIC2021   \n5  N C BANCOMER (0443137171)    #REF!  01DIC2021   \n6  N C BANCOMER (0443137171)  1729950  01DIC2021   \n7  N C BANCOMER (0443137171)  1729951  01DIC2021   \n8  N C BANCOMER (0443137171)  1729952  01DIC2021   \n9  N C BANCOMER (0443137171)  1729953  01DIC2021   \n\n                  JUAN PABLO MIGUEL VALDIVIA VAZQUEZ    4060.0    20211201  \n0                              VERONICA PRADO LLAMAS   3712.00  20211201.0  \n1  SISTEMAS DE OPERACIONES INDUSTRIALES Y SUMINIS...  30229.60  20211201.0  \n2  SISTEMAS DE OPERACIONES INDUSTRIALES Y SUMINIS...  85873.64  20211201.0  \n3  SISTEMAS DE OPERACIONES INDUSTRIALES Y SUMINIS...  57995.36  20211201.0  \n4  SISTEMAS DE OPERACIONES INDUSTRIALES Y SUMINIS...  23101.69  20211201.0  \n5                       JESUS ABRAHAM PORTILLO LOPEZ   1104.97  20211201.0  \n6  SERVICIOS INTEGRALES Y ELECTRICOS DE SALTILLO ...  40490.96  20211201.0  \n7  SERVICIOS INTEGRALES Y ELECTRICOS DE SALTILLO ...  75737.56  20211201.0  \n8  SERVICIOS INTEGRALES Y ELECTRICOS DE SALTILLO ...  18880.16  20211201.0  \n9  SERVICIOS INTEGRALES Y ELECTRICOS DE SALTILLO ...  41712.44  20211201.0  \n"
     ]
    }
   ],
   "source": [
    "print(df2.head(10))"
   ]
  },
  {
   "cell_type": "code",
   "execution_count": null,
   "metadata": {},
   "outputs": [],
   "source": []
  }
 ]
}