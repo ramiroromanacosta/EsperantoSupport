{
 "metadata": {
  "language_info": {
   "codemirror_mode": {
    "name": "ipython",
    "version": 3
   },
   "file_extension": ".py",
   "mimetype": "text/x-python",
   "name": "python",
   "nbconvert_exporter": "python",
   "pygments_lexer": "ipython3",
   "version": "3.7.12"
  },
  "orig_nbformat": 2,
  "kernelspec": {
   "name": "python2",
   "display_name": "Python 3.7.12 64-bit"
  }
 },
 "nbformat": 4,
 "nbformat_minor": 2,
 "cells": [
  {
   "source": [
    "## Repse data validation"
   ],
   "cell_type": "markdown",
   "metadata": {}
  },
  {
   "source": [
    "### Step 1. Load required packages"
   ],
   "cell_type": "markdown",
   "metadata": {}
  },
  {
   "cell_type": "code",
   "execution_count": 1,
   "metadata": {},
   "outputs": [],
   "source": [
    "import pandas as pd\n",
    "import pandasql as ps\n",
    "from pathlib import Path"
   ]
  },
  {
   "source": [
    "### Step 2 - Get sample data into dataframes"
   ],
   "cell_type": "markdown",
   "metadata": {}
  },
  {
   "cell_type": "code",
   "execution_count": 2,
   "metadata": {},
   "outputs": [],
   "source": [
    "workFolder = '/content/drive/Shareddrives/Esperanto/Supports/REPSE'\n",
    "df1 = pd.read_excel(Path(workFolder,'1738172642.xlsx'))"
   ]
  },
  {
   "cell_type": "code",
   "execution_count": 3,
   "metadata": {},
   "outputs": [
    {
     "output_type": "stream",
     "name": "stdout",
     "text": [
      "             RFC                NombreComercial  \\\n0  AAAM900204640  ALVARADO ARMENTA MIGUEL ANGEL   \n1  AAAM900204640  ALVARADO ARMENTA MIGUEL ANGEL   \n2  AAAM900204640  ALVARADO ARMENTA MIGUEL ANGEL   \n3  AAAM900204640  ALVARADO ARMENTA MIGUEL ANGEL   \n4  AAAM900204640  ALVARADO ARMENTA MIGUEL ANGEL   \n5  AAAM900204640  ALVARADO ARMENTA MIGUEL ANGEL   \n6  AAAM900204640  ALVARADO ARMENTA MIGUEL ANGEL   \n7  AACB850212JL9    AYALA CUEVAS BRENDA JOCELYN   \n8  AACB850212JL9    AYALA CUEVAS BRENDA JOCELYN   \n9  AACB850212JL9    AYALA CUEVAS BRENDA JOCELYN   \n\n                     RazonSocial                   Email cveplantilla  \\\n0  ALVARADO ARMENTA MIGUEL ANGEL     MAAR_60@HOTMAIL.COM      pFisica   \n1  ALVARADO ARMENTA MIGUEL ANGEL     MAAR_60@HOTMAIL.COM      pFisica   \n2  ALVARADO ARMENTA MIGUEL ANGEL     MAAR_60@HOTMAIL.COM      pFisica   \n3  ALVARADO ARMENTA MIGUEL ANGEL     MAAR_60@HOTMAIL.COM      pFisica   \n4  ALVARADO ARMENTA MIGUEL ANGEL     MAAR_60@HOTMAIL.COM      pFisica   \n5  ALVARADO ARMENTA MIGUEL ANGEL     MAAR_60@HOTMAIL.COM      pFisica   \n6  ALVARADO ARMENTA MIGUEL ANGEL     MAAR_60@HOTMAIL.COM      pFisica   \n7    AYALA CUEVAS BRENDA JOCELYN  CMI_MEXICO@OUTLOOK.COM      pFisica   \n8    AYALA CUEVAS BRENDA JOCELYN  CMI_MEXICO@OUTLOOK.COM      pFisica   \n9    AYALA CUEVAS BRENDA JOCELYN  CMI_MEXICO@OUTLOOK.COM      pFisica   \n\n                                     NombreDocumento Cargado Rechazado  \\\n0                              Comprobante Domicilio      NO        NO   \n1         Constancia de Situación Fiscal ante el RFC      NO        NO   \n2  Contrato Firmado con Número de Registro en el ...      NO        NO   \n3                                                INE      NO        NO   \n4                           Inscripción ante el IMSS      NO        NO   \n5  Opinión de Cumplimiento de Obligaciones ante e...      NO        NO   \n6                       Registro ante el REPSE (PDF)      NO        NO   \n7                              Comprobante Domicilio      SI        NO   \n8                                                INE      SI        NO   \n9                           Inscripción ante el IMSS      SI        NO   \n\n   DocumentosRequeridos  DocumentosCargados  DocumentosFaltantes Porcentaje  \n0                     7                   0                    7         0%  \n1                     7                   0                    7         0%  \n2                     7                   0                    7         0%  \n3                     7                   0                    7         0%  \n4                     7                   0                    7         0%  \n5                     7                   0                    7         0%  \n6                     7                   0                    7         0%  \n7                     7                   5                    2        71%  \n8                     7                   5                    2        71%  \n9                     7                   5                    2        71%  \n"
     ]
    }
   ],
   "source": [
    "print(df1.head(10))"
   ]
  },
  {
   "cell_type": "code",
   "execution_count": 4,
   "metadata": {},
   "outputs": [
    {
     "output_type": "stream",
     "name": "stdout",
     "text": [
      "1730  records.\n"
     ]
    },
    {
     "output_type": "error",
     "ename": "AttributeError",
     "evalue": "'Series' object has no attribute 'upper'",
     "traceback": [
      "\u001b[0;31m---------------------------------------------------------------------------\u001b[0m",
      "\u001b[0;31mAttributeError\u001b[0m                            Traceback (most recent call last)",
      "\u001b[0;32m<ipython-input-4-c99a8dc0d378>\u001b[0m in \u001b[0;36m<module>\u001b[0;34m()\u001b[0m\n\u001b[1;32m      6\u001b[0m \u001b[0mrepsedf\u001b[0m \u001b[0;34m=\u001b[0m \u001b[0mps\u001b[0m\u001b[0;34m.\u001b[0m\u001b[0msqldf\u001b[0m\u001b[0;34m(\u001b[0m\u001b[0msql_query\u001b[0m\u001b[0;34m)\u001b[0m\u001b[0;34m\u001b[0m\u001b[0;34m\u001b[0m\u001b[0m\n\u001b[1;32m      7\u001b[0m \u001b[0mprint\u001b[0m\u001b[0;34m(\u001b[0m\u001b[0mlen\u001b[0m\u001b[0;34m(\u001b[0m\u001b[0mrepsedf\u001b[0m\u001b[0;34m.\u001b[0m\u001b[0mindex\u001b[0m\u001b[0;34m)\u001b[0m\u001b[0;34m,\u001b[0m \u001b[0;34m' records.'\u001b[0m\u001b[0;34m)\u001b[0m\u001b[0;34m\u001b[0m\u001b[0;34m\u001b[0m\u001b[0m\n\u001b[0;32m----> 8\u001b[0;31m \u001b[0mrepsedf\u001b[0m\u001b[0;34m[\u001b[0m\u001b[0;34m'NombreComercial'\u001b[0m\u001b[0;34m]\u001b[0m \u001b[0;34m=\u001b[0m \u001b[0mrepsedf\u001b[0m\u001b[0;34m[\u001b[0m\u001b[0;34m'NombreComercial'\u001b[0m\u001b[0;34m]\u001b[0m\u001b[0;34m.\u001b[0m\u001b[0mstr\u001b[0m\u001b[0;34m.\u001b[0m\u001b[0mstrip\u001b[0m\u001b[0;34m(\u001b[0m\u001b[0;34m)\u001b[0m\u001b[0;34m.\u001b[0m\u001b[0mupper\u001b[0m\u001b[0;34m(\u001b[0m\u001b[0;34m)\u001b[0m\u001b[0;34m\u001b[0m\u001b[0;34m\u001b[0m\u001b[0m\n\u001b[0m\u001b[1;32m      9\u001b[0m \u001b[0mrepsedf\u001b[0m\u001b[0;34m[\u001b[0m\u001b[0;34m'RazonSocial'\u001b[0m\u001b[0;34m]\u001b[0m \u001b[0;34m=\u001b[0m \u001b[0mrepsedf\u001b[0m\u001b[0;34m[\u001b[0m\u001b[0;34m'RazonSocial'\u001b[0m\u001b[0;34m]\u001b[0m\u001b[0;34m.\u001b[0m\u001b[0mstr\u001b[0m\u001b[0;34m.\u001b[0m\u001b[0mupper\u001b[0m\u001b[0;34m(\u001b[0m\u001b[0;34m)\u001b[0m\u001b[0;34m\u001b[0m\u001b[0;34m\u001b[0m\u001b[0m\n\u001b[1;32m     10\u001b[0m \u001b[0mprint\u001b[0m\u001b[0;34m(\u001b[0m\u001b[0mrepsedf\u001b[0m\u001b[0;34m.\u001b[0m\u001b[0mhead\u001b[0m\u001b[0;34m(\u001b[0m\u001b[0;36m10\u001b[0m\u001b[0;34m)\u001b[0m\u001b[0;34m)\u001b[0m\u001b[0;34m\u001b[0m\u001b[0;34m\u001b[0m\u001b[0m\n",
      "\u001b[0;32m/usr/local/lib/python3.7/dist-packages/pandas/core/generic.py\u001b[0m in \u001b[0;36m__getattr__\u001b[0;34m(self, name)\u001b[0m\n\u001b[1;32m   5485\u001b[0m         ):\n\u001b[1;32m   5486\u001b[0m             \u001b[0;32mreturn\u001b[0m \u001b[0mself\u001b[0m\u001b[0;34m[\u001b[0m\u001b[0mname\u001b[0m\u001b[0;34m]\u001b[0m\u001b[0;34m\u001b[0m\u001b[0;34m\u001b[0m\u001b[0m\n\u001b[0;32m-> 5487\u001b[0;31m         \u001b[0;32mreturn\u001b[0m \u001b[0mobject\u001b[0m\u001b[0;34m.\u001b[0m\u001b[0m__getattribute__\u001b[0m\u001b[0;34m(\u001b[0m\u001b[0mself\u001b[0m\u001b[0;34m,\u001b[0m \u001b[0mname\u001b[0m\u001b[0;34m)\u001b[0m\u001b[0;34m\u001b[0m\u001b[0;34m\u001b[0m\u001b[0m\n\u001b[0m\u001b[1;32m   5488\u001b[0m \u001b[0;34m\u001b[0m\u001b[0m\n\u001b[1;32m   5489\u001b[0m     \u001b[0;32mdef\u001b[0m \u001b[0m__setattr__\u001b[0m\u001b[0;34m(\u001b[0m\u001b[0mself\u001b[0m\u001b[0;34m,\u001b[0m \u001b[0mname\u001b[0m\u001b[0;34m:\u001b[0m \u001b[0mstr\u001b[0m\u001b[0;34m,\u001b[0m \u001b[0mvalue\u001b[0m\u001b[0;34m)\u001b[0m \u001b[0;34m->\u001b[0m \u001b[0;32mNone\u001b[0m\u001b[0;34m:\u001b[0m\u001b[0;34m\u001b[0m\u001b[0;34m\u001b[0m\u001b[0m\n",
      "\u001b[0;31mAttributeError\u001b[0m: 'Series' object has no attribute 'upper'"
     ]
    }
   ],
   "source": [
    "sql_query = '''\n",
    "SELECT DISTINCT RFC,NombreComercial,RazonSocial,Email,cveplantilla,\n",
    "Cargado,Rechazado,DocumentosRequeridos,DocumentosCargados,DocumentosFaltantes,DocumentosFaltantes\n",
    "FROM df1\n",
    "'''\n",
    "repsedf = ps.sqldf(sql_query)\n",
    "print(len(repsedf.index), ' records.')\n",
    "repsedf['NombreComercial'] = repsedf['NombreComercial'].str.upper()\n",
    "repsedf['RazonSocial'] = repsedf['RazonSocial'].str.upper()\n",
    "print(repsedf.head(10))\n",
    "repsedf.to_csv(Path(workFolder, 'listado_repse.csv'), encoding='utf-8')"
   ]
  },
  {
   "cell_type": "code",
   "execution_count": 12,
   "metadata": {},
   "outputs": [
    {
     "output_type": "stream",
     "name": "stdout",
     "text": [
      "202  records.\n                                              NOMBRE\n0                 JUAN PABLO MIGUEL VALDIVIA VAZQUEZ\n1                              VERONICA PRADO LLAMAS\n2  SISTEMAS DE OPERACIONES INDUSTRIALES Y SUMINIS...\n3                       JESUS ABRAHAM PORTILLO LOPEZ\n4  SERVICIOS INTEGRALES Y ELECTRICOS DE SALTILLO ...\n5                                  SAMUEL VEGA MURAD\n6                               DANIEL ZAMORA ROMERO\n7                       MILTON CARLOS RIVERA OBREGON\n8                                    SIC DE VICTORIA\n9      SANCHEZ CONSTRUCTORA DE TABASCO S DE RL DE CV\n"
     ]
    }
   ],
   "source": [
    "df2 = pd.read_excel(Path(workFolder,'Proveedor con tema de repse retenidos del sistema anterior.xlsx'))\n",
    "df2['NOMBRE'] = df2['NOMBRE'].str.upper()\n",
    "sql_query = '''\n",
    "SELECT DISTINCT NOMBRE FROM df2\n",
    "'''\n",
    "suppliersDf = ps.sqldf(sql_query)\n",
    "print(len(suppliersDf.index), ' records.')\n",
    "suppliersDf.to_csv(Path(workFolder, 'proveedores.csv'), encoding='utf-8')\n",
    "print(suppliersDf.head(10))"
   ]
  },
  {
   "source": [
    "### Step 3 - Read enhanced data"
   ],
   "cell_type": "markdown",
   "metadata": {}
  },
  {
   "cell_type": "code",
   "execution_count": 1,
   "metadata": {},
   "outputs": [
    {
     "output_type": "error",
     "ename": "NameError",
     "evalue": "name 'pd' is not defined",
     "traceback": [
      "\u001b[0;31m---------------------------------------------------------------------------\u001b[0m",
      "\u001b[0;31mNameError\u001b[0m                                 Traceback (most recent call last)",
      "\u001b[0;32m<ipython-input-1-7daee5246a68>\u001b[0m in \u001b[0;36m<module>\u001b[0;34m()\u001b[0m\n\u001b[0;32m----> 1\u001b[0;31m \u001b[0mrepseDf\u001b[0m \u001b[0;34m=\u001b[0m \u001b[0mpd\u001b[0m\u001b[0;34m.\u001b[0m\u001b[0mread_excel\u001b[0m\u001b[0;34m(\u001b[0m\u001b[0mPath\u001b[0m\u001b[0;34m(\u001b[0m\u001b[0mworkFolder\u001b[0m\u001b[0;34m,\u001b[0m\u001b[0;34m'listado_repse.csv'\u001b[0m\u001b[0;34m)\u001b[0m\u001b[0;34m)\u001b[0m\u001b[0;34m\u001b[0m\u001b[0;34m\u001b[0m\u001b[0m\n\u001b[0m\u001b[1;32m      2\u001b[0m \u001b[0msuppliersDf\u001b[0m \u001b[0;34m=\u001b[0m \u001b[0mpd\u001b[0m\u001b[0;34m.\u001b[0m\u001b[0mread_excel\u001b[0m\u001b[0;34m(\u001b[0m\u001b[0mPath\u001b[0m\u001b[0;34m(\u001b[0m\u001b[0mworkFolder\u001b[0m\u001b[0;34m,\u001b[0m\u001b[0;34m'proveedores.csv'\u001b[0m\u001b[0;34m)\u001b[0m\u001b[0;34m)\u001b[0m\u001b[0;34m\u001b[0m\u001b[0;34m\u001b[0m\u001b[0m\n",
      "\u001b[0;31mNameError\u001b[0m: name 'pd' is not defined"
     ]
    }
   ],
   "source": [
    "repseDf = pd.read_excel(Path(workFolder,'listado_repse.csv'))\n",
    "suppliersDf = pd.read_excel(Path(workFolder,'proveedores.csv'))"
   ]
  },
  {
   "cell_type": "code",
   "execution_count": null,
   "metadata": {},
   "outputs": [],
   "source": []
  }
 ]
}