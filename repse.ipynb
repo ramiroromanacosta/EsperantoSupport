{
 "metadata": {
  "language_info": {
   "codemirror_mode": {
    "name": "ipython",
    "version": 3
   },
   "file_extension": ".py",
   "mimetype": "text/x-python",
   "name": "python",
   "nbconvert_exporter": "python",
   "pygments_lexer": "ipython3",
   "version": "3.7.12"
  },
  "orig_nbformat": 2,
  "kernelspec": {
   "name": "python2",
   "display_name": "Python 3.7.12 64-bit"
  }
 },
 "nbformat": 4,
 "nbformat_minor": 2,
 "cells": [
  {
   "source": [
    "## Repse data validation"
   ],
   "cell_type": "markdown",
   "metadata": {}
  },
  {
   "source": [
    "### Step 1. Load required packages"
   ],
   "cell_type": "markdown",
   "metadata": {}
  },
  {
   "cell_type": "code",
   "execution_count": 13,
   "metadata": {},
   "outputs": [],
   "source": [
    "import pandas as pd\n",
    "import pandasql as ps\n",
    "from pathlib import Path"
   ]
  },
  {
   "source": [
    "### Step 2 - Get sample data into dataframes"
   ],
   "cell_type": "markdown",
   "metadata": {}
  },
  {
   "cell_type": "code",
   "execution_count": 6,
   "metadata": {},
   "outputs": [],
   "source": [
    "workFolder = '/content/drive/Shareddrives/Esperanto/Supports/REPSE'\n",
    "df1 = pd.read_excel(Path(workFolder,'1738172642.xlsx'))"
   ]
  },
  {
   "cell_type": "code",
   "execution_count": 7,
   "metadata": {},
   "outputs": [
    {
     "output_type": "stream",
     "name": "stdout",
     "text": [
      "             RFC                NombreComercial  \\\n0  AAAM900204640  ALVARADO ARMENTA MIGUEL ANGEL   \n1  AAAM900204640  ALVARADO ARMENTA MIGUEL ANGEL   \n2  AAAM900204640  ALVARADO ARMENTA MIGUEL ANGEL   \n3  AAAM900204640  ALVARADO ARMENTA MIGUEL ANGEL   \n4  AAAM900204640  ALVARADO ARMENTA MIGUEL ANGEL   \n5  AAAM900204640  ALVARADO ARMENTA MIGUEL ANGEL   \n6  AAAM900204640  ALVARADO ARMENTA MIGUEL ANGEL   \n7  AACB850212JL9    AYALA CUEVAS BRENDA JOCELYN   \n8  AACB850212JL9    AYALA CUEVAS BRENDA JOCELYN   \n9  AACB850212JL9    AYALA CUEVAS BRENDA JOCELYN   \n\n                     RazonSocial                   Email cveplantilla  \\\n0  ALVARADO ARMENTA MIGUEL ANGEL     MAAR_60@HOTMAIL.COM      pFisica   \n1  ALVARADO ARMENTA MIGUEL ANGEL     MAAR_60@HOTMAIL.COM      pFisica   \n2  ALVARADO ARMENTA MIGUEL ANGEL     MAAR_60@HOTMAIL.COM      pFisica   \n3  ALVARADO ARMENTA MIGUEL ANGEL     MAAR_60@HOTMAIL.COM      pFisica   \n4  ALVARADO ARMENTA MIGUEL ANGEL     MAAR_60@HOTMAIL.COM      pFisica   \n5  ALVARADO ARMENTA MIGUEL ANGEL     MAAR_60@HOTMAIL.COM      pFisica   \n6  ALVARADO ARMENTA MIGUEL ANGEL     MAAR_60@HOTMAIL.COM      pFisica   \n7    AYALA CUEVAS BRENDA JOCELYN  CMI_MEXICO@OUTLOOK.COM      pFisica   \n8    AYALA CUEVAS BRENDA JOCELYN  CMI_MEXICO@OUTLOOK.COM      pFisica   \n9    AYALA CUEVAS BRENDA JOCELYN  CMI_MEXICO@OUTLOOK.COM      pFisica   \n\n                                     NombreDocumento Cargado Rechazado  \\\n0                              Comprobante Domicilio      NO        NO   \n1         Constancia de Situación Fiscal ante el RFC      NO        NO   \n2  Contrato Firmado con Número de Registro en el ...      NO        NO   \n3                                                INE      NO        NO   \n4                           Inscripción ante el IMSS      NO        NO   \n5  Opinión de Cumplimiento de Obligaciones ante e...      NO        NO   \n6                       Registro ante el REPSE (PDF)      NO        NO   \n7                              Comprobante Domicilio      SI        NO   \n8                                                INE      SI        NO   \n9                           Inscripción ante el IMSS      SI        NO   \n\n   DocumentosRequeridos  DocumentosCargados  DocumentosFaltantes Porcentaje  \n0                     7                   0                    7         0%  \n1                     7                   0                    7         0%  \n2                     7                   0                    7         0%  \n3                     7                   0                    7         0%  \n4                     7                   0                    7         0%  \n5                     7                   0                    7         0%  \n6                     7                   0                    7         0%  \n7                     7                   5                    2        71%  \n8                     7                   5                    2        71%  \n9                     7                   5                    2        71%  \n"
     ]
    }
   ],
   "source": [
    "print(df1.head(10))"
   ]
  },
  {
   "cell_type": "code",
   "execution_count": 8,
   "metadata": {},
   "outputs": [
    {
     "output_type": "stream",
     "name": "stdout",
     "text": [
      "1730  records.\n             RFC                                  NombreComercial  \\\n0  AAAM900204640                    ALVARADO ARMENTA MIGUEL ANGEL   \n1  AACB850212JL9                      AYALA CUEVAS BRENDA JOCELYN   \n2  AACT421003NZ8                 \\tMARIA TERESA ALFARO CABANILLAS   \n3   AAE980220TL5                  AGENCIA ADUANAL ESQUER LUKEN SC   \n4  AAGL740303BB9                        ALVAREZ GOMEZ LUIS DANIEL   \n5  AAHJ900125497               JESSICA MONERRAT ALVAREZ HERNANDEZ   \n6   AAI940623QCA                                 AAIRESA SA DE CV   \n7   AAM090224BC2  COMPAÑIA ALBORADA DE AMÉRICA S. DE R.L. DE C.V.   \n8   AAM090224BC2  COMPAÑIA ALBORADA DE AMÉRICA S. DE R.L. DE C.V.   \n9  AANV811216BL8                      ARAIZA NAVA VICTOR EMMANUEL   \n\n                                       RazonSocial  \\\n0                    ALVARADO ARMENTA MIGUEL ANGEL   \n1                      AYALA CUEVAS BRENDA JOCELYN   \n2                 \\tMARIA TERESA ALFARO CABANILLAS   \n3                  AGENCIA ADUANAL ESQUER LUKEN SC   \n4                        ALVAREZ GOMEZ LUIS DANIEL   \n5               JESSICA MONERRAT ALVAREZ HERNANDEZ   \n6                                 AAIRESA SA DE CV   \n7  COMPAÑIA ALBORADA DE AMÉRICA S. DE R.L. DE C.V.   \n8  COMPAÑIA ALBORADA DE AMÉRICA S. DE R.L. DE C.V.   \n9                      ARAIZA NAVA VICTOR EMMANUEL   \n\n                           Email cveplantilla Cargado Rechazado  \\\n0            MAAR_60@HOTMAIL.COM      pFisica      NO        NO   \n1         CMI_MEXICO@OUTLOOK.COM      pFisica      SI        NO   \n2  carpinteriatresrios@gmail.com      pFisica      SI        NO   \n3        lgarate@esquerluken.com       pMoral      SI        NO   \n4           DANIALV.SM@GMAIL.COM      pFisica      NO        NO   \n5        jalvarez25345@gmail.com      pFisica      SI        NO   \n6         aairesa.mtto@gmail.com       pMoral      NO        NO   \n7            jjnieto@kiin.com.mx       pMoral      NO        NO   \n8            jjnieto@kiin.com.mx       pMoral      SI        NO   \n9        vearaiza.vean@gmail.com      pFisica      SI        NO   \n\n   DocumentosRequeridos  DocumentosCargados  DocumentosFaltantes  \\\n0                     7                   0                    7   \n1                     7                   5                    2   \n2                     7                   7                    0   \n3                    10                  10                    0   \n4                     7                   0                    7   \n5                     7                   7                    0   \n6                    10                   0                   10   \n7                    10                   9                    1   \n8                    10                   9                    1   \n9                     7                   7                    0   \n\n   DocumentosFaltantes  \n0                    7  \n1                    2  \n2                    0  \n3                    0  \n4                    7  \n5                    0  \n6                   10  \n7                    1  \n8                    1  \n9                    0  \n"
     ]
    }
   ],
   "source": [
    "sql_query = '''\n",
    "SELECT DISTINCT RFC,NombreComercial,RazonSocial,Email,cveplantilla,\n",
    "Cargado,Rechazado,DocumentosRequeridos,DocumentosCargados,DocumentosFaltantes,DocumentosFaltantes\n",
    "FROM df1\n",
    "'''\n",
    "repsedf = ps.sqldf(sql_query)\n",
    "print(len(repsedf.index), ' records.')\n",
    "repsedf['NombreComercial'] = repsedf['NombreComercial'].str.strip().upper()\n",
    "repsedf['RazonSocial'] = repsedf['RazonSocial'].str.upper()\n",
    "print(repsedf.head(10))\n",
    "repsedf.to_csv(Path(workFolder, 'listado_repse.csv'), encoding='utf-8')"
   ]
  },
  {
   "cell_type": "code",
   "execution_count": 12,
   "metadata": {},
   "outputs": [
    {
     "output_type": "stream",
     "name": "stdout",
     "text": [
      "202  records.\n                                              NOMBRE\n0                 JUAN PABLO MIGUEL VALDIVIA VAZQUEZ\n1                              VERONICA PRADO LLAMAS\n2  SISTEMAS DE OPERACIONES INDUSTRIALES Y SUMINIS...\n3                       JESUS ABRAHAM PORTILLO LOPEZ\n4  SERVICIOS INTEGRALES Y ELECTRICOS DE SALTILLO ...\n5                                  SAMUEL VEGA MURAD\n6                               DANIEL ZAMORA ROMERO\n7                       MILTON CARLOS RIVERA OBREGON\n8                                    SIC DE VICTORIA\n9      SANCHEZ CONSTRUCTORA DE TABASCO S DE RL DE CV\n"
     ]
    }
   ],
   "source": [
    "df2 = pd.read_excel(Path(workFolder,'Proveedor con tema de repse retenidos del sistema anterior.xlsx'))\n",
    "df2['NOMBRE'] = df2['NOMBRE'].str.strip().upper()\n",
    "sql_query = '''\n",
    "SELECT DISTINCT NOMBRE FROM df2\n",
    "'''\n",
    "suppliersDf = ps.sqldf(sql_query)\n",
    "print(len(suppliersDf.index), ' records.')\n",
    "suppliersDf.to_csv(Path(workFolder, 'proveedores.csv'), encoding='utf-8')\n",
    "print(suppliersDf.head(10))"
   ]
  },
  {
   "source": [
    "### Step 3 - Read enhanced data"
   ],
   "cell_type": "markdown",
   "metadata": {}
  },
  {
   "cell_type": "code",
   "execution_count": null,
   "metadata": {},
   "outputs": [],
   "source": [
    "repseDf = pd.read_excel(Path(workFolder,'listado_repse.csv'))\n",
    "suppliersDf = pd.read_excel(Path(workFolder,'proveedores.csv'))"
   ]
  }
 ]
}