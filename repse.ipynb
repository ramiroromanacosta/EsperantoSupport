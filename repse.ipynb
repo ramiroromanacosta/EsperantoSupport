{
 "metadata": {
  "language_info": {
   "codemirror_mode": {
    "name": "ipython",
    "version": 3
   },
   "file_extension": ".py",
   "mimetype": "text/x-python",
   "name": "python",
   "nbconvert_exporter": "python",
   "pygments_lexer": "ipython3",
   "version": "3.7.12"
  },
  "orig_nbformat": 2,
  "kernelspec": {
   "name": "python2",
   "display_name": "Python 3.7.12 64-bit"
  }
 },
 "nbformat": 4,
 "nbformat_minor": 2,
 "cells": [
  {
   "source": [
    "## Repse data validation"
   ],
   "cell_type": "markdown",
   "metadata": {}
  },
  {
   "source": [
    "### Step 1. Load required packages"
   ],
   "cell_type": "markdown",
   "metadata": {}
  },
  {
   "cell_type": "code",
   "execution_count": 1,
   "metadata": {},
   "outputs": [],
   "source": [
    "import pandas as pd\n",
    "import pandasql as ps\n",
    "from pathlib import Path"
   ]
  },
  {
   "source": [
    "### Step 2 - Get sample data into dataframes"
   ],
   "cell_type": "markdown",
   "metadata": {}
  },
  {
   "cell_type": "code",
   "execution_count": 2,
   "metadata": {},
   "outputs": [],
   "source": [
    "workFolder = '/content/drive/Shareddrives/Esperanto/Supports/REPSE'\n",
    "df1 = pd.read_excel(Path(workFolder,'1738172642.xlsx'))"
   ]
  },
  {
   "cell_type": "code",
   "execution_count": 3,
   "metadata": {},
   "outputs": [
    {
     "output_type": "stream",
     "name": "stdout",
     "text": [
      "             RFC                NombreComercial  \\\n0  AAAM900204640  ALVARADO ARMENTA MIGUEL ANGEL   \n1  AAAM900204640  ALVARADO ARMENTA MIGUEL ANGEL   \n2  AAAM900204640  ALVARADO ARMENTA MIGUEL ANGEL   \n3  AAAM900204640  ALVARADO ARMENTA MIGUEL ANGEL   \n4  AAAM900204640  ALVARADO ARMENTA MIGUEL ANGEL   \n5  AAAM900204640  ALVARADO ARMENTA MIGUEL ANGEL   \n6  AAAM900204640  ALVARADO ARMENTA MIGUEL ANGEL   \n7  AACB850212JL9    AYALA CUEVAS BRENDA JOCELYN   \n8  AACB850212JL9    AYALA CUEVAS BRENDA JOCELYN   \n9  AACB850212JL9    AYALA CUEVAS BRENDA JOCELYN   \n\n                     RazonSocial                   Email cveplantilla  \\\n0  ALVARADO ARMENTA MIGUEL ANGEL     MAAR_60@HOTMAIL.COM      pFisica   \n1  ALVARADO ARMENTA MIGUEL ANGEL     MAAR_60@HOTMAIL.COM      pFisica   \n2  ALVARADO ARMENTA MIGUEL ANGEL     MAAR_60@HOTMAIL.COM      pFisica   \n3  ALVARADO ARMENTA MIGUEL ANGEL     MAAR_60@HOTMAIL.COM      pFisica   \n4  ALVARADO ARMENTA MIGUEL ANGEL     MAAR_60@HOTMAIL.COM      pFisica   \n5  ALVARADO ARMENTA MIGUEL ANGEL     MAAR_60@HOTMAIL.COM      pFisica   \n6  ALVARADO ARMENTA MIGUEL ANGEL     MAAR_60@HOTMAIL.COM      pFisica   \n7    AYALA CUEVAS BRENDA JOCELYN  CMI_MEXICO@OUTLOOK.COM      pFisica   \n8    AYALA CUEVAS BRENDA JOCELYN  CMI_MEXICO@OUTLOOK.COM      pFisica   \n9    AYALA CUEVAS BRENDA JOCELYN  CMI_MEXICO@OUTLOOK.COM      pFisica   \n\n                                     NombreDocumento Cargado Rechazado  \\\n0                              Comprobante Domicilio      NO        NO   \n1         Constancia de Situación Fiscal ante el RFC      NO        NO   \n2  Contrato Firmado con Número de Registro en el ...      NO        NO   \n3                                                INE      NO        NO   \n4                           Inscripción ante el IMSS      NO        NO   \n5  Opinión de Cumplimiento de Obligaciones ante e...      NO        NO   \n6                       Registro ante el REPSE (PDF)      NO        NO   \n7                              Comprobante Domicilio      SI        NO   \n8                                                INE      SI        NO   \n9                           Inscripción ante el IMSS      SI        NO   \n\n   DocumentosRequeridos  DocumentosCargados  DocumentosFaltantes Porcentaje  \n0                     7                   0                    7         0%  \n1                     7                   0                    7         0%  \n2                     7                   0                    7         0%  \n3                     7                   0                    7         0%  \n4                     7                   0                    7         0%  \n5                     7                   0                    7         0%  \n6                     7                   0                    7         0%  \n7                     7                   5                    2        71%  \n8                     7                   5                    2        71%  \n9                     7                   5                    2        71%  \n"
     ]
    }
   ],
   "source": [
    "print(df1.head(10))"
   ]
  },
  {
   "cell_type": "code",
   "execution_count": 4,
   "metadata": {},
   "outputs": [
    {
     "output_type": "stream",
     "name": "stdout",
     "text": [
      "1730  records.\n             RFC                                  NombreComercial  \\\n0  AAAM900204640                    ALVARADO ARMENTA MIGUEL ANGEL   \n1  AACB850212JL9                      AYALA CUEVAS BRENDA JOCELYN   \n2  AACT421003NZ8                 \\tMARIA TERESA ALFARO CABANILLAS   \n3   AAE980220TL5                  AGENCIA ADUANAL ESQUER LUKEN SC   \n4  AAGL740303BB9                        ALVAREZ GOMEZ LUIS DANIEL   \n5  AAHJ900125497               JESSICA MONERRAT ALVAREZ HERNANDEZ   \n6   AAI940623QCA                                 AAIRESA SA DE CV   \n7   AAM090224BC2  COMPAÑIA ALBORADA DE AMÉRICA S. DE R.L. DE C.V.   \n8   AAM090224BC2  COMPAÑIA ALBORADA DE AMÉRICA S. DE R.L. DE C.V.   \n9  AANV811216BL8                      ARAIZA NAVA VICTOR EMMANUEL   \n\n                                       RazonSocial  \\\n0                    ALVARADO ARMENTA MIGUEL ANGEL   \n1                      AYALA CUEVAS BRENDA JOCELYN   \n2                 \\tMARIA TERESA ALFARO CABANILLAS   \n3                  AGENCIA ADUANAL ESQUER LUKEN SC   \n4                        ALVAREZ GOMEZ LUIS DANIEL   \n5               JESSICA MONERRAT ALVAREZ HERNANDEZ   \n6                                 AAIRESA SA DE CV   \n7  COMPAÑIA ALBORADA DE AMÉRICA S. DE R.L. DE C.V.   \n8  COMPAÑIA ALBORADA DE AMÉRICA S. DE R.L. DE C.V.   \n9                      ARAIZA NAVA VICTOR EMMANUEL   \n\n                           Email cveplantilla Cargado Rechazado  \\\n0            MAAR_60@HOTMAIL.COM      pFisica      NO        NO   \n1         CMI_MEXICO@OUTLOOK.COM      pFisica      SI        NO   \n2  carpinteriatresrios@gmail.com      pFisica      SI        NO   \n3        lgarate@esquerluken.com       pMoral      SI        NO   \n4           DANIALV.SM@GMAIL.COM      pFisica      NO        NO   \n5        jalvarez25345@gmail.com      pFisica      SI        NO   \n6         aairesa.mtto@gmail.com       pMoral      NO        NO   \n7            jjnieto@kiin.com.mx       pMoral      NO        NO   \n8            jjnieto@kiin.com.mx       pMoral      SI        NO   \n9        vearaiza.vean@gmail.com      pFisica      SI        NO   \n\n   DocumentosRequeridos  DocumentosCargados  DocumentosFaltantes  \\\n0                     7                   0                    7   \n1                     7                   5                    2   \n2                     7                   7                    0   \n3                    10                  10                    0   \n4                     7                   0                    7   \n5                     7                   7                    0   \n6                    10                   0                   10   \n7                    10                   9                    1   \n8                    10                   9                    1   \n9                     7                   7                    0   \n\n   DocumentosFaltantes  \n0                    7  \n1                    2  \n2                    0  \n3                    0  \n4                    7  \n5                    0  \n6                   10  \n7                    1  \n8                    1  \n9                    0  \n"
     ]
    }
   ],
   "source": [
    "sql_query = '''\n",
    "SELECT DISTINCT RFC,NombreComercial,RazonSocial,Email,cveplantilla,\n",
    "Cargado,Rechazado,DocumentosRequeridos,DocumentosCargados,DocumentosFaltantes,DocumentosFaltantes\n",
    "FROM df1\n",
    "'''\n",
    "repsedf = ps.sqldf(sql_query)\n",
    "print(len(repsedf.index), ' records.')\n",
    "repsedf['NombreComercial'] = repsedf['NombreComercial'].str.upper()\n",
    "repsedf['RazonSocial'] = repsedf['RazonSocial'].str.upper()\n",
    "print(repsedf.head(10))\n",
    "repsedf.to_csv(Path(workFolder, 'listado_repse.csv'), encoding='utf-8')"
   ]
  },
  {
   "cell_type": "code",
   "execution_count": 5,
   "metadata": {},
   "outputs": [
    {
     "output_type": "stream",
     "name": "stdout",
     "text": [
      "202  records.\n                                              NOMBRE\n0                 JUAN PABLO MIGUEL VALDIVIA VAZQUEZ\n1                              VERONICA PRADO LLAMAS\n2  SISTEMAS DE OPERACIONES INDUSTRIALES Y SUMINIS...\n3                       JESUS ABRAHAM PORTILLO LOPEZ\n4  SERVICIOS INTEGRALES Y ELECTRICOS DE SALTILLO ...\n5                                  SAMUEL VEGA MURAD\n6                               DANIEL ZAMORA ROMERO\n7                       MILTON CARLOS RIVERA OBREGON\n8                                    SIC DE VICTORIA\n9      SANCHEZ CONSTRUCTORA DE TABASCO S DE RL DE CV\n"
     ]
    }
   ],
   "source": [
    "df2 = pd.read_excel(Path(workFolder,'Proveedor con tema de repse retenidos del sistema anterior.xlsx'))\n",
    "df2['NOMBRE'] = df2['NOMBRE'].str.upper()\n",
    "sql_query = '''\n",
    "SELECT DISTINCT NOMBRE FROM df2\n",
    "'''\n",
    "suppliersDf = ps.sqldf(sql_query)\n",
    "print(len(suppliersDf.index), ' records.')\n",
    "suppliersDf.to_csv(Path(workFolder, 'proveedores.csv'), encoding='utf-8')\n",
    "print(suppliersDf.head(10))"
   ]
  },
  {
   "source": [
    "### Step 3 - Read enhanced data"
   ],
   "cell_type": "markdown",
   "metadata": {}
  },
  {
   "cell_type": "code",
   "execution_count": 41,
   "metadata": {},
   "outputs": [],
   "source": [
    "repseDf = pd.read_csv(Path(workFolder,'listado_repse.csv'), encoding='utf-8')\n",
    "suppliersDf = pd.read_csv(Path(workFolder,'proveedores.csv'), encoding='utf-8')"
   ]
  },
  {
   "cell_type": "code",
   "execution_count": 42,
   "metadata": {
    "tags": []
   },
   "outputs": [],
   "source": [
    "def removeCommasAndDots(tmpString):\n",
    "    newString = tmpString.replace('.','').replace(',','')\n",
    "    return newString\n",
    "\n",
    "def removeAccents(tmpString):\n",
    "    newString = tmpString.replace('Á','A').replace('É','E').replace('Í','I').replace('Ó','O').replace('Ú','U')\n",
    "    return newString\n",
    "\n",
    "def removeDoubleSpaces(tmpString):\n",
    "    newString = tmpString.replace('  ',' ')\n",
    "    return newString\n",
    "\n",
    "repseDf['CampoValidacion'] = None\n",
    "repseDf['AptoValidacion'] = True\n",
    "for index, row in repseDf.iterrows():\n",
    "    tmpString = str(row['NombreComercial']).strip()\n",
    "    if len(tmpString)>1:\n",
    "        tmpString = removeCommasAndDots(tmpString)\n",
    "        tmpString = removeAccents(tmpString)\n",
    "        tmpString = removeDoubleSpaces(tmpString)\n",
    "        repseDf.loc[index, 'CampoValidacion'] = tmpString\n",
    "        pass\n",
    "    else:\n",
    "        repseDf.loc[index, 'AptoValidacion'] = False\n",
    "repseDf.to_csv(Path(workFolder, 'listado_repse_mejorado.csv'), encoding='utf-8')"
   ]
  },
  {
   "cell_type": "code",
   "execution_count": 40,
   "metadata": {},
   "outputs": [
    {
     "output_type": "stream",
     "name": "stdout",
     "text": [
      "   Unnamed: 0            RFC                                  NombreComercial  \\\n0           0  AAAM900204640                    ALVARADO ARMENTA MIGUEL ANGEL   \n1           1  AACB850212JL9                      AYALA CUEVAS BRENDA JOCELYN   \n2           2  AACT421003NZ8                 \\tMARIA TERESA ALFARO CABANILLAS   \n3           3   AAE980220TL5                  AGENCIA ADUANAL ESQUER LUKEN SC   \n4           4  AAGL740303BB9                        ALVAREZ GOMEZ LUIS DANIEL   \n5           5  AAHJ900125497               JESSICA MONERRAT ALVAREZ HERNANDEZ   \n6           6   AAI940623QCA                                 AAIRESA SA DE CV   \n7           7   AAM090224BC2  COMPAÑIA ALBORADA DE AMÉRICA S. DE R.L. DE C.V.   \n8           8   AAM090224BC2  COMPAÑIA ALBORADA DE AMÉRICA S. DE R.L. DE C.V.   \n9           9  AANV811216BL8                      ARAIZA NAVA VICTOR EMMANUEL   \n\n                                       RazonSocial  \\\n0                    ALVARADO ARMENTA MIGUEL ANGEL   \n1                      AYALA CUEVAS BRENDA JOCELYN   \n2                 \\tMARIA TERESA ALFARO CABANILLAS   \n3                  AGENCIA ADUANAL ESQUER LUKEN SC   \n4                        ALVAREZ GOMEZ LUIS DANIEL   \n5               JESSICA MONERRAT ALVAREZ HERNANDEZ   \n6                                 AAIRESA SA DE CV   \n7  COMPAÑIA ALBORADA DE AMÉRICA S. DE R.L. DE C.V.   \n8  COMPAÑIA ALBORADA DE AMÉRICA S. DE R.L. DE C.V.   \n9                      ARAIZA NAVA VICTOR EMMANUEL   \n\n                           Email cveplantilla Cargado Rechazado  \\\n0            MAAR_60@HOTMAIL.COM      pFisica      NO        NO   \n1         CMI_MEXICO@OUTLOOK.COM      pFisica      SI        NO   \n2  carpinteriatresrios@gmail.com      pFisica      SI        NO   \n3        lgarate@esquerluken.com       pMoral      SI        NO   \n4           DANIALV.SM@GMAIL.COM      pFisica      NO        NO   \n5        jalvarez25345@gmail.com      pFisica      SI        NO   \n6         aairesa.mtto@gmail.com       pMoral      NO        NO   \n7            jjnieto@kiin.com.mx       pMoral      NO        NO   \n8            jjnieto@kiin.com.mx       pMoral      SI        NO   \n9        vearaiza.vean@gmail.com      pFisica      SI        NO   \n\n   DocumentosRequeridos  DocumentosCargados  DocumentosFaltantes  \\\n0                     7                   0                    7   \n1                     7                   5                    2   \n2                     7                   7                    0   \n3                    10                  10                    0   \n4                     7                   0                    7   \n5                     7                   7                    0   \n6                    10                   0                   10   \n7                    10                   9                    1   \n8                    10                   9                    1   \n9                     7                   7                    0   \n\n   DocumentosFaltantes.1                             CampoValidacion  \\\n0                      7               ALVARADO ARMENTA MIGUEL ANGEL   \n1                      2                 AYALA CUEVAS BRENDA JOCELYN   \n2                      0              MARIA TERESA ALFARO CABANILLAS   \n3                      0             AGENCIA ADUANAL ESQUER LUKEN SC   \n4                      7                   ALVAREZ GOMEZ LUIS DANIEL   \n5                      0          JESSICA MONERRAT ALVAREZ HERNANDEZ   \n6                     10                            AAIRESA SA DE CV   \n7                      1  COMPAÑIA ALBORADA DE AMERICA S DE RL DE CV   \n8                      1  COMPAÑIA ALBORADA DE AMERICA S DE RL DE CV   \n9                      0                 ARAIZA NAVA VICTOR EMMANUEL   \n\n   AptoValidacion  \n0            True  \n1            True  \n2            True  \n3            True  \n4            True  \n5            True  \n6            True  \n7            True  \n8            True  \n9            True  \n"
     ]
    }
   ],
   "source": [
    "print(repseDf.head(10))"
   ]
  },
  {
   "cell_type": "code",
   "execution_count": 43,
   "metadata": {},
   "outputs": [],
   "source": [
    "suppliersDf['CampoValidacion'] = None\n",
    "suppliersDf['AptoValidacion'] = True\n",
    "for index, row in suppliersDf.iterrows():\n",
    "    tmpString = str(row['NOMBRE']).strip()\n",
    "    if len(tmpString)>1:\n",
    "        tmpString = removeCommasAndDots(tmpString)\n",
    "        tmpString = removeAccents(tmpString)\n",
    "        tmpString = removeDoubleSpaces(tmpString)\n",
    "        suppliersDf.loc[index, 'CampoValidacion'] = tmpString\n",
    "        pass\n",
    "    else:\n",
    "        suppliersDf.loc[index, 'AptoValidacion'] = False\n",
    "suppliersDf.to_csv(Path(workFolder, 'proveedores_mejorado.csv'), encoding='utf-8')"
   ]
  },
  {
   "cell_type": "code",
   "execution_count": 44,
   "metadata": {},
   "outputs": [
    {
     "output_type": "stream",
     "name": "stdout",
     "text": [
      "   Unnamed: 0                                             NOMBRE  \\\n0           0                 JUAN PABLO MIGUEL VALDIVIA VAZQUEZ   \n1           1                              VERONICA PRADO LLAMAS   \n2           2  SISTEMAS DE OPERACIONES INDUSTRIALES Y SUMINIS...   \n3           3                       JESUS ABRAHAM PORTILLO LOPEZ   \n4           4  SERVICIOS INTEGRALES Y ELECTRICOS DE SALTILLO ...   \n5           5                                  SAMUEL VEGA MURAD   \n6           6                               DANIEL ZAMORA ROMERO   \n7           7                       MILTON CARLOS RIVERA OBREGON   \n8           8                                    SIC DE VICTORIA   \n9           9      SANCHEZ CONSTRUCTORA DE TABASCO S DE RL DE CV   \n\n                                     CampoValidacion  AptoValidacion  \n0                 JUAN PABLO MIGUEL VALDIVIA VAZQUEZ            True  \n1                              VERONICA PRADO LLAMAS            True  \n2  SISTEMAS DE OPERACIONES INDUSTRIALES Y SUMINIS...            True  \n3                       JESUS ABRAHAM PORTILLO LOPEZ            True  \n4  SERVICIOS INTEGRALES Y ELECTRICOS DE SALTILLO ...            True  \n5                                  SAMUEL VEGA MURAD            True  \n6                               DANIEL ZAMORA ROMERO            True  \n7                       MILTON CARLOS RIVERA OBREGON            True  \n8                                    SIC DE VICTORIA            True  \n9      SANCHEZ CONSTRUCTORA DE TABASCO S DE RL DE CV            True  \n"
     ]
    }
   ],
   "source": [
    "print(suppliersDf.head(10))"
   ]
  },
  {
   "cell_type": "code",
   "execution_count": null,
   "metadata": {},
   "outputs": [],
   "source": []
  }
 ]
}