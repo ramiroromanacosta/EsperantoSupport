{
 "metadata": {
  "orig_nbformat": 2,
  "kernelspec": {
   "name": "python2",
   "display_name": "Python 2",
   "language": "python"
  }
 },
 "nbformat": 4,
 "nbformat_minor": 2,
 "cells": [
  {
   "source": [
    "## Data from File 3 Suppliers Interface"
   ],
   "cell_type": "markdown",
   "metadata": {}
  },
  {
   "source": [
    "### Step 1. Load required package"
   ],
   "cell_type": "markdown",
   "metadata": {}
  },
  {
   "cell_type": "code",
   "execution_count": 1,
   "metadata": {},
   "outputs": [],
   "source": [
    "import pandas as pd\n",
    "import pandasql as ps\n",
    "from pathlib import Path"
   ]
  },
  {
   "source": [
    "### Step 2 - Get sample from source file"
   ],
   "cell_type": "markdown",
   "metadata": {}
  },
  {
   "cell_type": "code",
   "execution_count": 2,
   "metadata": {},
   "outputs": [
    {
     "output_type": "stream",
     "name": "stdout",
     "text": [
      "'SISTEMA_LEGADO';'NUMERO_PROVEEDOR';'BATCH_ID';'IMPORT_ACTION';'VENDOR_NAME';'PROCUREMENT_BUSINESS_UNIT_NAME';'PARTY_SITE_NAME';'VENDOR_SITE_CODE';'VENDOR_SITE_CODE_NEW';'INACTIVE_DATE';'RFQ_ONLY_SITE_FLAG';'PURCHASING_SITE_FLAG';'PCARD_SITE_FLAG';'PAY_SITE_FLAG';'PRIMARY_PAY_SITE_FLAG';'TAX_REPORTING_SITE_FLAG';'VENDOR_SITE_CODE_ALT';'CUSTOMER_NUM';'B2B_COMMUNICATION_METHOD';'B2B_SITE_CODE';'SUPPLIER_NOTIF_METHOD';'EMAIL_ADDRESS';'FAX_COUNTRY_CODE';'FAX_AREA_CODE';'FAX';'HOLD_FLAG';'PURCHASING_HOLD_REASON';'CARRIER';'MODE_OF_TRANSPORT_CODE';'SERVICE_LEVEL_CODE';'FREIGHT_TERMS_LOOKUP_CODE';'PAY_ON_CODE';'FOB_LOOKUP_CODE';'COUNTRY_OF_ORIGIN_CODE';'BUYER_MANAGED_TRANSPORT_FLAG';'PAY_ON_USE_FLAG';'AGING_ONSET_POINT';'AGING_PERIOD_DAYS';'CONSUMPTION_ADVICE_FREQUENCY';'CONSUMPTION_ADVICE_SUMMARY';'DEFAULT_PAY_SITE_CODE';'PAY_ON_RECEIPT_SUMMARY_CODE';'GAPLESS_INV_NUM_FLAG';'SELLING_COMPANY_IDENTIFIER';'CREATE_DEBIT_MEMO_FLAG';'ENFORCE_SHIP_TO_LOCATION_CODE';'RECEIVING_ROUTING_ID';'QTY_RCV_TOLERANCE';'QTY_RCV_EXCEPTION_CODE';'DAYS_EARLY_RECEIPT_ALLOWED';'DAYS_LATE_RECEIPT_ALLOWED';'ALLOW_SUBSTITUTE_RECEIPTS_FLAG';'ALLOW_UNORDERED_RECEIPTS_FLAG';'RECEIPT_DAYS_EXCEPTION_CODE';'INVOICE_CURRENCY_CODE';'INVOICE_AMOUNT_LIMIT';'MATCH_OPTION';'MATCH_APPROVAL_LEVEL';'PAYMENT_CURRENCY_CODE';'PAYMENT_PRIORITY';'PAY_GROUP_LOOKUP_CODE';'TOLERANCE_NAME';'SERVICES_TOLERANCE';'HOLD_ALL_PAYMENTS_FLAG';'HOLD_UNMATCHED_INVOICES_FLAG';'HOLD_FUTURE_PAYMENTS_FLAG';'HOLD_BY';'PAYMENT_HOLD_DATE';'HOLD_REASON';'TERMS_NAME';'TERMS_DATE_BASIS';'PAY_DATE_BASIS_LOOKUP_CODE';'BANK_CHARGE_DEDUCTION_TYPE';'ALWAYS_TAKE_DISC_FLAG';'EXCLUDE_FREIGHT_FROM_DISCOUNT';'EXCLUDE_TAX_FROM_DISCOUNT';'AUTO_CALCULATE_INTEREST_FLAG';'VAT_CODE';'VAT_REGISTRATION_NUM';'PAYMENT_METHOD_LOOKUP_CODE';'DELIVERY_CHANNEL_CODE';'BANK_INSTRUCTION1_CODE';'BANK_INSTRUCTION2_CODE';'BANK_INSTRUCTION_DETAILS';'SETTLEMENT_PRIORITY';'PAYMENT_TEXT_MESSAGE1';'PAYMENT_TEXT_MESSAGE2';'PAYMENT_TEXT_MESSAGE3';'IBY_BANK_CHARGE_BEARER';'PAYMENT_REASON_CODE';'PAYMENT_REASON_COMMENTS';'REMIT_ADVICE_DELIVERY_METHOD';'REMITTANCE_EMAIL';'REMITTANCE_FAX';'ATTRIBUTE_CATEGORY';'ATTRIBUTE1';'ATTRIBUTE2';'ATTRIBUTE3';'ATTRIBUTE4';'ATTRIBUTE5';'ATTRIBUTE6';'ATTRIBUTE7';'ATTRIBUTE8';'ATTRIBUTE9';'ATTRIBUTE10';'ATTRIBUTE11';'ATTRIBUTE12';'ATTRIBUTE13';'ATTRIBUTE14';'ATTRIBUTE15';'ATTRIBUTE16';'ATTRIBUTE17';'ATTRIBUTE18';'ATTRIBUTE19';'ATTRIBUTE20';'ATTRIBUTE_DATE1';'ATTRIBUTE_DATE2';'ATTRIBUTE_DATE3';'ATTRIBUTE_DATE4';'ATTRIBUTE_DATE5';'ATTRIBUTE_DATE6';'ATTRIBUTE_DATE7';'ATTRIBUTE_DATE8';'ATTRIBUTE_DATE9';'ATTRIBUTE_DATE10';'ATTRIBUTE_TIMESTAMP1';'ATTRIBUTE_TIMESTAMP2';'ATTRIBUTE_TIMESTAMP3';'ATTRIBUTE_TIMESTAMP4';'ATTRIBUTE_TIMESTAMP5';'ATTRIBUTE_TIMESTAMP6';'ATTRIBUTE_TIMESTAMP7';'ATTRIBUTE_TIMESTAMP8';'ATTRIBUTE_TIMESTAMP9';'ATTRIBUTE_TIMESTAMP10';'ATTRIBUTE_NUMBER1';'ATTRIBUTE_NUMBER2';'ATTRIBUTE_NUMBER3';'ATTRIBUTE_NUMBER4';'ATTRIBUTE_NUMBER5';'ATTRIBUTE_NUMBER6';'ATTRIBUTE_NUMBER7';'ATTRIBUTE_NUMBER8';'ATTRIBUTE_NUMBER9';'ATTRIBUTE_NUMBER10';'GLOBAL_ATTRIBUTE_CATEGORY';'GLOBAL_ATTRIBUTE1';'GLOBAL_ATTRIBUTE2';'GLOBAL_ATTRIBUTE3';'GLOBAL_ATTRIBUTE4';'GLOBAL_ATTRIBUTE5';'GLOBAL_ATTRIBUTE6';'GLOBAL_ATTRIBUTE7';'GLOBAL_ATTRIBUTE8';'GLOBAL_ATTRIBUTE9';'GLOBAL_ATTRIBUTE10';'GLOBAL_ATTRIBUTE11';'GLOBAL_ATTRIBUTE12';'GLOBAL_ATTRIBUTE13';'GLOBAL_ATTRIBUTE14';'GLOBAL_ATTRIBUTE15';'GLOBAL_ATTRIBUTE16';'GLOBAL_ATTRIBUTE17';'GLOBAL_ATTRIBUTE18';'GLOBAL_ATTRIBUTE19';'GLOBAL_ATTRIBUTE20';'GLOBAL_ATTRIBUTE_DATE1';'GLOBAL_ATTRIBUTE_DATE2';'GLOBAL_ATTRIBUTE_DATE3';'GLOBAL_ATTRIBUTE_DATE4';'GLOBAL_ATTRIBUTE_DATE5';'GLOBAL_ATTRIBUTE_DATE6';'GLOBAL_ATTRIBUTE_DATE7';'GLOBAL_ATTRIBUTE_DATE8';'GLOBAL_ATTRIBUTE_DATE9';'GLOBAL_ATTRIBUTE_DATE10';'GLOBAL_ATTRIBUTE_DATETIME1';'GLOBAL_ATTRIBUTE_DATETIME2';'GLOBAL_ATTRIBUTE_DATETIME3';'GLOBAL_ATTRIBUTE_DATETIME4';'GLOBAL_ATTRIBUTE_DATETIME5';'GLOBAL_ATTRIBUTE_DATETIME6';'GLOBAL_ATTRIBUTE_DATETIME7';'GLOBAL_ATTRIBUTE_DATETIME8';'GLOBAL_ATTRIBUTE_DATETIME9';'GLOBAL_ATTRIBUTE_DATETIME10';'GLOBAL_ATTRIBUTE_NUMBER1';'GLOBAL_ATTRIBUTE_NUMBER2';'GLOBAL_ATTRIBUTE_NUMBER3';'GLOBAL_ATTRIBUTE_NUMBER4';'GLOBAL_ATTRIBUTE_NUMBER5';'GLOBAL_ATTRIBUTE_NUMBER6';'GLOBAL_ATTRIBUTE_NUMBER7';'GLOBAL_ATTRIBUTE_NUMBER8';'GLOBAL_ATTRIBUTE_NUMBER9';'GLOBAL_ATTRIBUTE_NUMBER10';'PO_ACK_REQD_CODE';'PO_ACK_REQD_DAYS';'INVOICE_CHANNEL';'PAYEE_SERVICE_LEVEL_CODE';'EXCLUSIVE_PAYMENT_FLAG'\n\n'SAJ';'3';'';'CREATE';'';'BU_CSACV';'PRINCIPAL';'SJ3MXN004';'';'';'N';'N';'';'Y';'N';'';'';'';'';'';'';'';'';'';'';'';'';'';'';'';'';'';'';'';'';'';'';'';'';'';'';'';'';'';'';'';'';'';'';'';'';'';'';'';'MXN';'';'';'';'MXN';'99';'';'';'';'';'';'';'';'';'';'Immediate';'Invoice';'DUE';'';'';'';'';'';'';'';'Transferencia';'';'';'';'';'';'';'';'';'';'';'';'';'';'';'';'';'';'';'';'';'';'';'';'';'';'';'';'';'';'';'';'';'';'';'';'';'';'';'';'';'';'';'';'';'';'';'';'';'';'';'';'';'';'';'';'';'';'';'';'';'';'';'';'';'';'';'';'';'';'';'';'';'';'';'';'';'';'';'';'';'';'';'';'';'';'';'';'';'';'';'';'';'';'';'';'';'';'';'';'';'';'';'';'';'';'';'';'';'';'';'';'';'';'';'';'';'';'';'';'';''\n\n'OBRAS';'GAVE860528F18';'';'CREATE';'0 VERGARA EFRAIN';'BU_CSACV';'PRINCIPAL';'SOGAVE860528F18';'';'';'N';'N';'';'Y';'N';'';'';'';'';'';'';'';'';'';'';'';'';'';'';'';'';'';'';'';'';'';'';'';'';'';'';'';'';'';'';'';'';'';'';'';'';'';'';'';'MXN';'';'';'';'MXN';'99';'';'';'';'';'';'';'';'';'';'Immediate';'Invoice';'DUE';'';'';'';'';'';'';'';'Transferencia';'';'';'';'';'';'';'';'';'';'';'';'';'';'';'';'';'';'';'';'';'';'';'';'';'';'';'';'';'';'';'';'';'';'';'';'';'';'';'';'';'';'';'';'';'';'';'';'';'';'';'';'';'';'';'';'';'';'';'';'';'';'';'';'';'';'';'';'';'';'';'';'';'';'';'';'';'';'';'';'';'';'';'';'';'';'';'';'';'';'';'';'';'';'';'';'';'';'';'';'';'';'';'';'';'';'';'';'';'';'';'';'';'';'';'';'';'';'';'';'';''\n\n'OBRAS';'CST050404CH3';'';'CREATE';'04 ST SC';'BU_CSACV';'PRINCIPAL';'SOCST050404CH3';'';'';'N';'N';'';'Y';'N';'';'';'';'';'';'';'';'';'';'';'';'';'';'';'';'';'';'';'';'';'';'';'';'';'';'';'';'';'';'';'';'';'';'';'';'';'';'';'';'MXN';'';'';'';'MXN';'99';'';'';'';'';'';'';'';'';'';'Immediate';'Invoice';'DUE';'';'';'';'';'';'';'';'Transferencia';'';'';'';'';'';'';'';'';'';'';'';'';'';'';'';'';'';'';'';'';'';'';'';'';'';'';'';'';'';'';'';'';'';'';'';'';'';'';'';'';'';'';'';'';'';'';'';'';'';'';'';'';'';'';'';'';'';'';'';'';'';'';'';'';'';'';'';'';'';'';'';'';'';'';'';'';'';'';'';'';'';'';'';'';'';'';'';'';'';'';'';'';'';'';'';'';'';'';'';'';'';'';'';'';'';'';'';'';'';'';'';'';'';'';'';'';'';'';'';'';''\n\n'GASTOS';'BIO111108JC6';'';'CREATE';'100% BIORESPONSABLES SA DE CV';'BU_CSACV';'PRINCIPAL';'GTBIO111108JC6';'';'';'N';'N';'';'Y';'N';'';'';'';'';'';'';'';'';'';'';'';'';'';'';'';'';'';'';'';'';'';'';'';'';'';'';'';'';'';'';'';'';'';'';'';'';'';'';'';'MXN';'';'';'';'MXN';'99';'';'';'';'';'';'';'';'';'';'30 DIAS';'Invoice';'DUE';'';'';'';'';'';'';'';'Transferencia';'';'';'';'';'';'';'';'';'';'';'';'';'';'';'';'';'';'';'';'';'';'';'';'';'';'';'';'';'';'';'';'';'';'';'';'';'';'';'';'';'';'';'';'';'';'';'';'';'';'';'';'';'';'';'';'';'';'';'';'';'';'';'';'';'';'';'';'';'';'';'';'';'';'';'';'';'';'';'';'';'';'';'';'';'';'';'';'';'';'';'';'';'';'';'';'';'';'';'';'';'';'';'';'';'';'';'';'';'';'';'';'';'';'';'';'';'';'';'';'';''\n\n'OBRAS';'BIO111108JC6';'';'CREATE';'100% BIORESPONSABLES SA DE CV';'BU_CSACV';'PRINCIPAL';'SOBIO111108JC6';'';'';'N';'N';'';'Y';'N';'';'';'';'';'';'';'';'';'';'';'';'';'';'';'';'';'';'';'';'';'';'';'';'';'';'';'';'';'';'';'';'';'';'';'';'';'';'';'';'MXN';'';'';'';'MXN';'99';'';'';'';'';'';'';'';'';'';'Immediate';'Invoice';'DUE';'';'';'';'';'';'';'';'Transferencia';'';'';'';'';'';'';'';'';'';'';'';'';'';'';'';'';'';'';'';'';'';'';'';'';'';'';'';'';'';'';'';'';'';'';'';'';'';'';'';'';'';'';'';'';'';'';'';'';'';'';'';'';'';'';'';'';'';'';'';'';'';'';'';'';'';'';'';'';'';'';'';'';'';'';'';'';'';'';'';'';'';'';'';'';'';'';'';'';'';'';'';'';'';'';'';'';'';'';'';'';'';'';'';'';'';'';'';'';'';'';'';'';'';'';'';'';'';'';'';'';''\n\n'OBRAS';'CDC150325SZ0';'';'CREATE';'102 CONSTRUCTORES SA DE CV';'BU_CSACV';'PRINCIPAL';'SOCDC150325SZ0';'';'';'N';'N';'';'Y';'N';'';'';'';'';'';'';'';'';'';'';'';'';'';'';'';'';'';'';'';'';'';'';'';'';'';'';'';'';'';'';'';'';'';'';'';'';'';'';'';'MXN';'';'';'';'MXN';'99';'';'';'';'';'';'';'';'';'';'Immediate';'Invoice';'DUE';'';'';'';'';'';'';'';'Transferencia';'';'';'';'';'';'';'';'';'';'';'';'';'';'';'';'';'';'';'';'';'';'';'';'';'';'';'';'';'';'';'';'';'';'';'';'';'';'';'';'';'';'';'';'';'';'';'';'';'';'';'';'';'';'';'';'';'';'';'';'';'';'';'';'';'';'';'';'';'';'';'';'';'';'';'';'';'';'';'';'';'';'';'';'';'';'';'';'';'';'';'';'';'';'';'';'';'';'';'';'';'';'';'';'';'';'';'';'';'';'';'';'';'';'';'';'';'';'';'';'';''\n\n'GASTOS';'DSE090511EW5';'';'CREATE';'12 SUAREZ EDIFICACIONES SA DE CV';'BU_CSACV';'PRINCIPAL';'GTDSE090511EW5';'';'';'N';'N';'';'Y';'N';'';'';'';'';'';'';'';'';'';'';'';'';'';'';'';'';'';'';'';'';'';'';'';'';'';'';'';'';'';'';'';'';'';'';'';'';'';'';'';'MXN';'';'';'';'MXN';'99';'';'';'';'';'';'';'';'';'';'30 DIAS';'Invoice';'DUE';'';'';'';'';'';'';'';'Transferencia';'';'';'';'';'';'';'';'';'';'';'';'';'';'';'';'';'';'';'';'';'';'';'';'';'';'';'';'';'';'';'';'';'';'';'';'';'';'';'';'';'';'';'';'';'';'';'';'';'';'';'';'';'';'';'';'';'';'';'';'';'';'';'';'';'';'';'';'';'';'';'';'';'';'';'';'';'';'';'';'';'';'';'';'';'';'';'';'';'';'';'';'';'';'';'';'';'';'';'';'';'';'';'';'';'';'';'';'';'';'';'';'';'';'';'';'';'';'';'';'';''\n\n'OBRAS';'DSE090511EW5';'';'CREATE';'12 SUAREZ EDIFICACIONES SA DE CV';'BU_CSACV';'PRINCIPAL';'SODSE090511EW5';'';'';'N';'N';'';'Y';'N';'';'';'';'';'';'';'';'';'';'';'';'';'';'';'';'';'';'';'';'';'';'';'';'';'';'';'';'';'';'';'';'';'';'';'';'';'';'';'';'MXN';'';'';'';'MXN';'99';'';'';'';'';'';'';'';'';'';'Immediate';'Invoice';'DUE';'';'';'';'';'';'';'';'Transferencia';'';'';'';'';'';'';'';'';'';'';'';'';'';'';'';'';'';'';'';'';'';'';'';'';'';'';'';'';'';'';'';'';'';'';'';'';'';'';'';'';'';'';'';'';'';'';'';'';'';'';'';'';'';'';'';'';'';'';'';'';'';'';'';'';'';'';'';'';'';'';'';'';'';'';'';'';'';'';'';'';'';'';'';'';'';'';'';'';'';'';'';'';'';'';'';'';'';'';'';'';'';'';'';'';'';'';'';'';'';'';'';'';'';'';'';'';'';'';'';'';''\n\n'GASTOS';'TVC8607234U2';'';'CREATE';'13 29 CONSTRUCCIONES SA DE CV';'BU_CSACV';'PRINCIPAL';'GTTVC8607234U2';'';'';'N';'N';'';'Y';'N';'';'';'';'';'';'';'';'';'';'';'';'';'';'';'';'';'';'';'';'';'';'';'';'';'';'';'';'';'';'';'';'';'';'';'';'';'';'';'';'MXN';'';'';'';'MXN';'99';'';'';'';'';'';'';'';'';'';'30 DIAS';'Invoice';'DUE';'';'';'';'';'';'';'';'Transferencia';'';'';'';'';'';'';'';'';'';'';'';'';'';'';'';'';'';'';'';'';'';'';'';'';'';'';'';'';'';'';'';'';'';'';'';'';'';'';'';'';'';'';'';'';'';'';'';'';'';'';'';'';'';'';'';'';'';'';'';'';'';'';'';'';'';'';'';'';'';'';'';'';'';'';'';'';'';'';'';'';'';'';'';'';'';'';'';'';'';'';'';'';'';'';'';'';'';'';'';'';'';'';'';'';'';'';'';'';'';'';'';'';'';'';'';'';'';'';'';'';''\n\n'OBRAS';'TVC8607234U2';'';'CREATE';'13 29 CONSTRUCCIONES SA DE CV';'BU_CSACV';'PRINCIPAL';'SOTVC8607234U2';'';'';'N';'N';'';'Y';'N';'';'';'';'';'';'';'';'';'';'';'';'';'';'';'';'';'';'';'';'';'';'';'';'';'';'';'';'';'';'';'';'';'';'';'';'';'';'';'';'MXN';'';'';'';'MXN';'99';'';'';'';'';'';'';'';'';'';'Immediate';'Invoice';'DUE';'';'';'';'';'';'';'';'Transferencia';'';'';'';'';'';'';'';'';'';'';'';'';'';'';'';'';'';'';'';'';'';'';'';'';'';'';'';'';'';'';'';'';'';'';'';'';'';'';'';'';'';'';'';'';'';'';'';'';'';'';'';'';'';'';'';'';'';'';'';'';'';'';'';'';'';'';'';'';'';'';'';'';'';'';'';'';'';'';'';'';'';'';'';'';'';'';'';'';'';'';'';'';'';'';'';'';'';'';'';'';'';'';'';'';'';'';'';'';'';'';'';'';'';'';'';'';'';'';'';'';''\n\n"
     ]
    }
   ],
   "source": [
    "sourceFolder = '/content/drive/Shareddrives/Esperanto/Supports/Suppliers/3_Suppliers_Sites'\n",
    "workFolder = '/content/drive/Shareddrives/Esperanto/Supports/Suppliers/Work/5_Bank_Accounts'\n",
    "fileName = '3. SUPPLIER_SITES_INTERFACE_COPPEL.csv'\n",
    "inputTextFile = open(Path(sourceFolder, fileName), 'r', encoding='latin-1')\n",
    "if inputTextFile:\n",
    "    numTextLines = 0\n",
    "    while True:\n",
    "        numTextLines += 1\n",
    "        textLine = inputTextFile.readline()\n",
    "        print(textLine)\n",
    "        if numTextLines >10:\n",
    "            break\n",
    "    inputTextFile.close()"
   ]
  },
  {
   "source": [
    "### Step 3 - Load supplier paye"
   ],
   "cell_type": "markdown",
   "metadata": {}
  },
  {
   "cell_type": "code",
   "execution_count": 3,
   "metadata": {},
   "outputs": [
    {
     "output_type": "stream",
     "name": "stdout",
     "text": [
      "  SISTEMA_LEGADO NUMERO_PROVEEDOR  BATCH_ID IMPORT_ACTION  \\\n0            SAJ                3       NaN        CREATE   \n1          OBRAS    GAVE860528F18       NaN        CREATE   \n2          OBRAS     CST050404CH3       NaN        CREATE   \n3         GASTOS     BIO111108JC6       NaN        CREATE   \n4          OBRAS     BIO111108JC6       NaN        CREATE   \n5          OBRAS     CDC150325SZ0       NaN        CREATE   \n6         GASTOS     DSE090511EW5       NaN        CREATE   \n7          OBRAS     DSE090511EW5       NaN        CREATE   \n8         GASTOS     TVC8607234U2       NaN        CREATE   \n9          OBRAS     TVC8607234U2       NaN        CREATE   \n\n                        VENDOR_NAME PROCUREMENT_BUSINESS_UNIT_NAME  \\\n0                               NaN                       BU_CSACV   \n1                  0 VERGARA EFRAIN                       BU_CSACV   \n2                          04 ST SC                       BU_CSACV   \n3     100% BIORESPONSABLES SA DE CV                       BU_CSACV   \n4     100% BIORESPONSABLES SA DE CV                       BU_CSACV   \n5        102 CONSTRUCTORES SA DE CV                       BU_CSACV   \n6  12 SUAREZ EDIFICACIONES SA DE CV                       BU_CSACV   \n7  12 SUAREZ EDIFICACIONES SA DE CV                       BU_CSACV   \n8     13 29 CONSTRUCCIONES SA DE CV                       BU_CSACV   \n9     13 29 CONSTRUCCIONES SA DE CV                       BU_CSACV   \n\n  PARTY_SITE_NAME VENDOR_SITE_CODE  VENDOR_SITE_CODE_NEW  INACTIVE_DATE  ...  \\\n0       PRINCIPAL        SJ3MXN004                   NaN            NaN  ...   \n1       PRINCIPAL  SOGAVE860528F18                   NaN            NaN  ...   \n2       PRINCIPAL   SOCST050404CH3                   NaN            NaN  ...   \n3       PRINCIPAL   GTBIO111108JC6                   NaN            NaN  ...   \n4       PRINCIPAL   SOBIO111108JC6                   NaN            NaN  ...   \n5       PRINCIPAL   SOCDC150325SZ0                   NaN            NaN  ...   \n6       PRINCIPAL   GTDSE090511EW5                   NaN            NaN  ...   \n7       PRINCIPAL   SODSE090511EW5                   NaN            NaN  ...   \n8       PRINCIPAL   GTTVC8607234U2                   NaN            NaN  ...   \n9       PRINCIPAL   SOTVC8607234U2                   NaN            NaN  ...   \n\n  GLOBAL_ATTRIBUTE_NUMBER6 GLOBAL_ATTRIBUTE_NUMBER7  GLOBAL_ATTRIBUTE_NUMBER8  \\\n0                      NaN                      NaN                       NaN   \n1                      NaN                      NaN                       NaN   \n2                      NaN                      NaN                       NaN   \n3                      NaN                      NaN                       NaN   \n4                      NaN                      NaN                       NaN   \n5                      NaN                      NaN                       NaN   \n6                      NaN                      NaN                       NaN   \n7                      NaN                      NaN                       NaN   \n8                      NaN                      NaN                       NaN   \n9                      NaN                      NaN                       NaN   \n\n  GLOBAL_ATTRIBUTE_NUMBER9 GLOBAL_ATTRIBUTE_NUMBER10  PO_ACK_REQD_CODE  \\\n0                      NaN                       NaN               NaN   \n1                      NaN                       NaN               NaN   \n2                      NaN                       NaN               NaN   \n3                      NaN                       NaN               NaN   \n4                      NaN                       NaN               NaN   \n5                      NaN                       NaN               NaN   \n6                      NaN                       NaN               NaN   \n7                      NaN                       NaN               NaN   \n8                      NaN                       NaN               NaN   \n9                      NaN                       NaN               NaN   \n\n   PO_ACK_REQD_DAYS  INVOICE_CHANNEL  PAYEE_SERVICE_LEVEL_CODE  \\\n0               NaN              NaN                       NaN   \n1               NaN              NaN                       NaN   \n2               NaN              NaN                       NaN   \n3               NaN              NaN                       NaN   \n4               NaN              NaN                       NaN   \n5               NaN              NaN                       NaN   \n6               NaN              NaN                       NaN   \n7               NaN              NaN                       NaN   \n8               NaN              NaN                       NaN   \n9               NaN              NaN                       NaN   \n\n   EXCLUSIVE_PAYMENT_FLAG  \n0                     NaN  \n1                     NaN  \n2                     NaN  \n3                     NaN  \n4                     NaN  \n5                     NaN  \n6                     NaN  \n7                     NaN  \n8                     NaN  \n9                     NaN  \n\n[10 rows x 201 columns]\n186261  records found. \n"
     ]
    }
   ],
   "source": [
    "df = pd.read_csv(Path(sourceFolder,fileName), sep=';', quotechar=chr(39), encoding='latin-1')\n",
    "print(df.head(10))\n",
    "print(len(df.index), ' records found. ')"
   ]
  },
  {
   "cell_type": "code",
   "execution_count": 5,
   "metadata": {},
   "outputs": [
    {
     "output_type": "execute_result",
     "data": {
      "text/plain": [
       "SISTEMA_LEGADO                     object\n",
       "NUMERO_PROVEEDOR                   object\n",
       "BATCH_ID                          float64\n",
       "IMPORT_ACTION                      object\n",
       "VENDOR_NAME                        object\n",
       "PROCUREMENT_BUSINESS_UNIT_NAME     object\n",
       "PARTY_SITE_NAME                    object\n",
       "VENDOR_SITE_CODE                   object\n",
       "VENDOR_SITE_CODE_NEW              float64\n",
       "INACTIVE_DATE                     float64\n",
       "RFQ_ONLY_SITE_FLAG                 object\n",
       "PURCHASING_SITE_FLAG               object\n",
       "PCARD_SITE_FLAG                   float64\n",
       "PAY_SITE_FLAG                      object\n",
       "PRIMARY_PAY_SITE_FLAG              object\n",
       "TAX_REPORTING_SITE_FLAG           float64\n",
       "VENDOR_SITE_CODE_ALT              float64\n",
       "CUSTOMER_NUM                      float64\n",
       "B2B_COMMUNICATION_METHOD          float64\n",
       "B2B_SITE_CODE                     float64\n",
       "SUPPLIER_NOTIF_METHOD             float64\n",
       "EMAIL_ADDRESS                     float64\n",
       "FAX_COUNTRY_CODE                  float64\n",
       "FAX_AREA_CODE                     float64\n",
       "FAX                               float64\n",
       "HOLD_FLAG                         float64\n",
       "PURCHASING_HOLD_REASON            float64\n",
       "CARRIER                           float64\n",
       "MODE_OF_TRANSPORT_CODE            float64\n",
       "SERVICE_LEVEL_CODE                float64\n",
       "FREIGHT_TERMS_LOOKUP_CODE         float64\n",
       "PAY_ON_CODE                       float64\n",
       "FOB_LOOKUP_CODE                   float64\n",
       "COUNTRY_OF_ORIGIN_CODE            float64\n",
       "BUYER_MANAGED_TRANSPORT_FLAG      float64\n",
       "PAY_ON_USE_FLAG                   float64\n",
       "AGING_ONSET_POINT                 float64\n",
       "AGING_PERIOD_DAYS                 float64\n",
       "CONSUMPTION_ADVICE_FREQUENCY      float64\n",
       "CONSUMPTION_ADVICE_SUMMARY        float64\n",
       "DEFAULT_PAY_SITE_CODE             float64\n",
       "PAY_ON_RECEIPT_SUMMARY_CODE       float64\n",
       "GAPLESS_INV_NUM_FLAG              float64\n",
       "SELLING_COMPANY_IDENTIFIER        float64\n",
       "CREATE_DEBIT_MEMO_FLAG            float64\n",
       "ENFORCE_SHIP_TO_LOCATION_CODE     float64\n",
       "RECEIVING_ROUTING_ID              float64\n",
       "QTY_RCV_TOLERANCE                 float64\n",
       "QTY_RCV_EXCEPTION_CODE            float64\n",
       "DAYS_EARLY_RECEIPT_ALLOWED        float64\n",
       "DAYS_LATE_RECEIPT_ALLOWED         float64\n",
       "ALLOW_SUBSTITUTE_RECEIPTS_FLAG    float64\n",
       "ALLOW_UNORDERED_RECEIPTS_FLAG     float64\n",
       "RECEIPT_DAYS_EXCEPTION_CODE       float64\n",
       "INVOICE_CURRENCY_CODE              object\n",
       "INVOICE_AMOUNT_LIMIT              float64\n",
       "MATCH_OPTION                      float64\n",
       "MATCH_APPROVAL_LEVEL              float64\n",
       "PAYMENT_CURRENCY_CODE              object\n",
       "PAYMENT_PRIORITY                    int64\n",
       "PAY_GROUP_LOOKUP_CODE             float64\n",
       "TOLERANCE_NAME                    float64\n",
       "SERVICES_TOLERANCE                float64\n",
       "HOLD_ALL_PAYMENTS_FLAG            float64\n",
       "HOLD_UNMATCHED_INVOICES_FLAG      float64\n",
       "HOLD_FUTURE_PAYMENTS_FLAG         float64\n",
       "HOLD_BY                           float64\n",
       "PAYMENT_HOLD_DATE                 float64\n",
       "HOLD_REASON                       float64\n",
       "TERMS_NAME                         object\n",
       "TERMS_DATE_BASIS                   object\n",
       "PAY_DATE_BASIS_LOOKUP_CODE         object\n",
       "BANK_CHARGE_DEDUCTION_TYPE        float64\n",
       "ALWAYS_TAKE_DISC_FLAG             float64\n",
       "EXCLUDE_FREIGHT_FROM_DISCOUNT     float64\n",
       "EXCLUDE_TAX_FROM_DISCOUNT         float64\n",
       "AUTO_CALCULATE_INTEREST_FLAG      float64\n",
       "VAT_CODE                          float64\n",
       "VAT_REGISTRATION_NUM              float64\n",
       "PAYMENT_METHOD_LOOKUP_CODE         object\n",
       "DELIVERY_CHANNEL_CODE             float64\n",
       "BANK_INSTRUCTION1_CODE            float64\n",
       "BANK_INSTRUCTION2_CODE            float64\n",
       "BANK_INSTRUCTION_DETAILS          float64\n",
       "SETTLEMENT_PRIORITY               float64\n",
       "PAYMENT_TEXT_MESSAGE1             float64\n",
       "PAYMENT_TEXT_MESSAGE2             float64\n",
       "PAYMENT_TEXT_MESSAGE3             float64\n",
       "IBY_BANK_CHARGE_BEARER            float64\n",
       "PAYMENT_REASON_CODE               float64\n",
       "PAYMENT_REASON_COMMENTS           float64\n",
       "REMIT_ADVICE_DELIVERY_METHOD      float64\n",
       "REMITTANCE_EMAIL                  float64\n",
       "REMITTANCE_FAX                    float64\n",
       "ATTRIBUTE_CATEGORY                float64\n",
       "ATTRIBUTE1                        float64\n",
       "ATTRIBUTE2                        float64\n",
       "ATTRIBUTE3                        float64\n",
       "ATTRIBUTE4                        float64\n",
       "ATTRIBUTE5                        float64\n",
       "ATTRIBUTE6                        float64\n",
       "ATTRIBUTE7                        float64\n",
       "ATTRIBUTE8                        float64\n",
       "ATTRIBUTE9                        float64\n",
       "ATTRIBUTE10                       float64\n",
       "ATTRIBUTE11                       float64\n",
       "ATTRIBUTE12                       float64\n",
       "ATTRIBUTE13                       float64\n",
       "ATTRIBUTE14                       float64\n",
       "ATTRIBUTE15                       float64\n",
       "ATTRIBUTE16                       float64\n",
       "ATTRIBUTE17                       float64\n",
       "ATTRIBUTE18                       float64\n",
       "ATTRIBUTE19                       float64\n",
       "ATTRIBUTE20                       float64\n",
       "ATTRIBUTE_DATE1                   float64\n",
       "ATTRIBUTE_DATE2                   float64\n",
       "ATTRIBUTE_DATE3                   float64\n",
       "ATTRIBUTE_DATE4                   float64\n",
       "ATTRIBUTE_DATE5                   float64\n",
       "ATTRIBUTE_DATE6                   float64\n",
       "ATTRIBUTE_DATE7                   float64\n",
       "ATTRIBUTE_DATE8                   float64\n",
       "ATTRIBUTE_DATE9                   float64\n",
       "ATTRIBUTE_DATE10                  float64\n",
       "ATTRIBUTE_TIMESTAMP1              float64\n",
       "ATTRIBUTE_TIMESTAMP2              float64\n",
       "ATTRIBUTE_TIMESTAMP3              float64\n",
       "ATTRIBUTE_TIMESTAMP4              float64\n",
       "ATTRIBUTE_TIMESTAMP5              float64\n",
       "ATTRIBUTE_TIMESTAMP6              float64\n",
       "ATTRIBUTE_TIMESTAMP7              float64\n",
       "ATTRIBUTE_TIMESTAMP8              float64\n",
       "ATTRIBUTE_TIMESTAMP9              float64\n",
       "ATTRIBUTE_TIMESTAMP10             float64\n",
       "ATTRIBUTE_NUMBER1                 float64\n",
       "ATTRIBUTE_NUMBER2                 float64\n",
       "ATTRIBUTE_NUMBER3                 float64\n",
       "ATTRIBUTE_NUMBER4                 float64\n",
       "ATTRIBUTE_NUMBER5                 float64\n",
       "ATTRIBUTE_NUMBER6                 float64\n",
       "ATTRIBUTE_NUMBER7                 float64\n",
       "ATTRIBUTE_NUMBER8                 float64\n",
       "ATTRIBUTE_NUMBER9                 float64\n",
       "ATTRIBUTE_NUMBER10                float64\n",
       "GLOBAL_ATTRIBUTE_CATEGORY         float64\n",
       "GLOBAL_ATTRIBUTE1                 float64\n",
       "GLOBAL_ATTRIBUTE2                 float64\n",
       "GLOBAL_ATTRIBUTE3                 float64\n",
       "GLOBAL_ATTRIBUTE4                 float64\n",
       "GLOBAL_ATTRIBUTE5                 float64\n",
       "GLOBAL_ATTRIBUTE6                 float64\n",
       "GLOBAL_ATTRIBUTE7                 float64\n",
       "GLOBAL_ATTRIBUTE8                 float64\n",
       "GLOBAL_ATTRIBUTE9                 float64\n",
       "GLOBAL_ATTRIBUTE10                float64\n",
       "GLOBAL_ATTRIBUTE11                float64\n",
       "GLOBAL_ATTRIBUTE12                float64\n",
       "GLOBAL_ATTRIBUTE13                float64\n",
       "GLOBAL_ATTRIBUTE14                float64\n",
       "GLOBAL_ATTRIBUTE15                float64\n",
       "GLOBAL_ATTRIBUTE16                float64\n",
       "GLOBAL_ATTRIBUTE17                float64\n",
       "GLOBAL_ATTRIBUTE18                float64\n",
       "GLOBAL_ATTRIBUTE19                float64\n",
       "GLOBAL_ATTRIBUTE20                float64\n",
       "GLOBAL_ATTRIBUTE_DATE1            float64\n",
       "GLOBAL_ATTRIBUTE_DATE2            float64\n",
       "GLOBAL_ATTRIBUTE_DATE3            float64\n",
       "GLOBAL_ATTRIBUTE_DATE4            float64\n",
       "GLOBAL_ATTRIBUTE_DATE5            float64\n",
       "GLOBAL_ATTRIBUTE_DATE6            float64\n",
       "GLOBAL_ATTRIBUTE_DATE7            float64\n",
       "GLOBAL_ATTRIBUTE_DATE8            float64\n",
       "GLOBAL_ATTRIBUTE_DATE9            float64\n",
       "GLOBAL_ATTRIBUTE_DATE10           float64\n",
       "GLOBAL_ATTRIBUTE_DATETIME1        float64\n",
       "GLOBAL_ATTRIBUTE_DATETIME2        float64\n",
       "GLOBAL_ATTRIBUTE_DATETIME3        float64\n",
       "GLOBAL_ATTRIBUTE_DATETIME4        float64\n",
       "GLOBAL_ATTRIBUTE_DATETIME5        float64\n",
       "GLOBAL_ATTRIBUTE_DATETIME6        float64\n",
       "GLOBAL_ATTRIBUTE_DATETIME7        float64\n",
       "GLOBAL_ATTRIBUTE_DATETIME8        float64\n",
       "GLOBAL_ATTRIBUTE_DATETIME9        float64\n",
       "GLOBAL_ATTRIBUTE_DATETIME10       float64\n",
       "GLOBAL_ATTRIBUTE_NUMBER1          float64\n",
       "GLOBAL_ATTRIBUTE_NUMBER2          float64\n",
       "GLOBAL_ATTRIBUTE_NUMBER3          float64\n",
       "GLOBAL_ATTRIBUTE_NUMBER4          float64\n",
       "GLOBAL_ATTRIBUTE_NUMBER5          float64\n",
       "GLOBAL_ATTRIBUTE_NUMBER6          float64\n",
       "GLOBAL_ATTRIBUTE_NUMBER7          float64\n",
       "GLOBAL_ATTRIBUTE_NUMBER8          float64\n",
       "GLOBAL_ATTRIBUTE_NUMBER9          float64\n",
       "GLOBAL_ATTRIBUTE_NUMBER10         float64\n",
       "PO_ACK_REQD_CODE                  float64\n",
       "PO_ACK_REQD_DAYS                  float64\n",
       "INVOICE_CHANNEL                   float64\n",
       "PAYEE_SERVICE_LEVEL_CODE          float64\n",
       "EXCLUSIVE_PAYMENT_FLAG            float64\n",
       "dtype: object"
      ]
     },
     "metadata": {},
     "execution_count": 5
    }
   ],
   "source": [
    "pd.set_option('display.max_rows', 250)\n",
    "df.dtypes"
   ]
  },
  {
   "source": [
    "### Step 4 - Creates a modified dataset with key field as string"
   ],
   "cell_type": "markdown",
   "metadata": {}
  },
  {
   "cell_type": "code",
   "execution_count": 6,
   "metadata": {},
   "outputs": [
    {
     "output_type": "stream",
     "name": "stdout",
     "text": [
      "  SISTEMA_LEGADO NUMERO_PROVEEDOR  BATCH_ID IMPORT_ACTION  \\\n0            SAJ                3       NaN        CREATE   \n1          OBRAS    GAVE860528F18       NaN        CREATE   \n2          OBRAS     CST050404CH3       NaN        CREATE   \n3         GASTOS     BIO111108JC6       NaN        CREATE   \n4          OBRAS     BIO111108JC6       NaN        CREATE   \n5          OBRAS     CDC150325SZ0       NaN        CREATE   \n6         GASTOS     DSE090511EW5       NaN        CREATE   \n7          OBRAS     DSE090511EW5       NaN        CREATE   \n8         GASTOS     TVC8607234U2       NaN        CREATE   \n9          OBRAS     TVC8607234U2       NaN        CREATE   \n\n                        VENDOR_NAME PROCUREMENT_BUSINESS_UNIT_NAME  \\\n0                              <NA>                       BU_CSACV   \n1                  0 VERGARA EFRAIN                       BU_CSACV   \n2                          04 ST SC                       BU_CSACV   \n3     100% BIORESPONSABLES SA DE CV                       BU_CSACV   \n4     100% BIORESPONSABLES SA DE CV                       BU_CSACV   \n5        102 CONSTRUCTORES SA DE CV                       BU_CSACV   \n6  12 SUAREZ EDIFICACIONES SA DE CV                       BU_CSACV   \n7  12 SUAREZ EDIFICACIONES SA DE CV                       BU_CSACV   \n8     13 29 CONSTRUCCIONES SA DE CV                       BU_CSACV   \n9     13 29 CONSTRUCCIONES SA DE CV                       BU_CSACV   \n\n  PARTY_SITE_NAME VENDOR_SITE_CODE  VENDOR_SITE_CODE_NEW  INACTIVE_DATE  ...  \\\n0       PRINCIPAL        SJ3MXN004                   NaN            NaN  ...   \n1       PRINCIPAL  SOGAVE860528F18                   NaN            NaN  ...   \n2       PRINCIPAL   SOCST050404CH3                   NaN            NaN  ...   \n3       PRINCIPAL   GTBIO111108JC6                   NaN            NaN  ...   \n4       PRINCIPAL   SOBIO111108JC6                   NaN            NaN  ...   \n5       PRINCIPAL   SOCDC150325SZ0                   NaN            NaN  ...   \n6       PRINCIPAL   GTDSE090511EW5                   NaN            NaN  ...   \n7       PRINCIPAL   SODSE090511EW5                   NaN            NaN  ...   \n8       PRINCIPAL   GTTVC8607234U2                   NaN            NaN  ...   \n9       PRINCIPAL   SOTVC8607234U2                   NaN            NaN  ...   \n\n  GLOBAL_ATTRIBUTE_NUMBER6 GLOBAL_ATTRIBUTE_NUMBER7  GLOBAL_ATTRIBUTE_NUMBER8  \\\n0                      NaN                      NaN                       NaN   \n1                      NaN                      NaN                       NaN   \n2                      NaN                      NaN                       NaN   \n3                      NaN                      NaN                       NaN   \n4                      NaN                      NaN                       NaN   \n5                      NaN                      NaN                       NaN   \n6                      NaN                      NaN                       NaN   \n7                      NaN                      NaN                       NaN   \n8                      NaN                      NaN                       NaN   \n9                      NaN                      NaN                       NaN   \n\n  GLOBAL_ATTRIBUTE_NUMBER9 GLOBAL_ATTRIBUTE_NUMBER10  PO_ACK_REQD_CODE  \\\n0                      NaN                       NaN               NaN   \n1                      NaN                       NaN               NaN   \n2                      NaN                       NaN               NaN   \n3                      NaN                       NaN               NaN   \n4                      NaN                       NaN               NaN   \n5                      NaN                       NaN               NaN   \n6                      NaN                       NaN               NaN   \n7                      NaN                       NaN               NaN   \n8                      NaN                       NaN               NaN   \n9                      NaN                       NaN               NaN   \n\n   PO_ACK_REQD_DAYS  INVOICE_CHANNEL  PAYEE_SERVICE_LEVEL_CODE  \\\n0               NaN              NaN                       NaN   \n1               NaN              NaN                       NaN   \n2               NaN              NaN                       NaN   \n3               NaN              NaN                       NaN   \n4               NaN              NaN                       NaN   \n5               NaN              NaN                       NaN   \n6               NaN              NaN                       NaN   \n7               NaN              NaN                       NaN   \n8               NaN              NaN                       NaN   \n9               NaN              NaN                       NaN   \n\n   EXCLUSIVE_PAYMENT_FLAG  \n0                     NaN  \n1                     NaN  \n2                     NaN  \n3                     NaN  \n4                     NaN  \n5                     NaN  \n6                     NaN  \n7                     NaN  \n8                     NaN  \n9                     NaN  \n\n[10 rows x 201 columns]\nSISTEMA_LEGADO                     string\nNUMERO_PROVEEDOR                   string\nBATCH_ID                          float64\nIMPORT_ACTION                      string\nVENDOR_NAME                        string\nPROCUREMENT_BUSINESS_UNIT_NAME     string\nPARTY_SITE_NAME                    string\nVENDOR_SITE_CODE                   string\nVENDOR_SITE_CODE_NEW              float64\nINACTIVE_DATE                     float64\nRFQ_ONLY_SITE_FLAG                 string\nPURCHASING_SITE_FLAG               string\nPCARD_SITE_FLAG                   float64\nPAY_SITE_FLAG                      string\nPRIMARY_PAY_SITE_FLAG              string\nTAX_REPORTING_SITE_FLAG           float64\nVENDOR_SITE_CODE_ALT              float64\nCUSTOMER_NUM                      float64\nB2B_COMMUNICATION_METHOD          float64\nB2B_SITE_CODE                     float64\nSUPPLIER_NOTIF_METHOD             float64\nEMAIL_ADDRESS                     float64\nFAX_COUNTRY_CODE                  float64\nFAX_AREA_CODE                     float64\nFAX                               float64\nHOLD_FLAG                         float64\nPURCHASING_HOLD_REASON            float64\nCARRIER                           float64\nMODE_OF_TRANSPORT_CODE            float64\nSERVICE_LEVEL_CODE                float64\nFREIGHT_TERMS_LOOKUP_CODE         float64\nPAY_ON_CODE                       float64\nFOB_LOOKUP_CODE                   float64\nCOUNTRY_OF_ORIGIN_CODE            float64\nBUYER_MANAGED_TRANSPORT_FLAG      float64\nPAY_ON_USE_FLAG                   float64\nAGING_ONSET_POINT                 float64\nAGING_PERIOD_DAYS                 float64\nCONSUMPTION_ADVICE_FREQUENCY      float64\nCONSUMPTION_ADVICE_SUMMARY        float64\nDEFAULT_PAY_SITE_CODE             float64\nPAY_ON_RECEIPT_SUMMARY_CODE       float64\nGAPLESS_INV_NUM_FLAG              float64\nSELLING_COMPANY_IDENTIFIER        float64\nCREATE_DEBIT_MEMO_FLAG            float64\nENFORCE_SHIP_TO_LOCATION_CODE     float64\nRECEIVING_ROUTING_ID              float64\nQTY_RCV_TOLERANCE                 float64\nQTY_RCV_EXCEPTION_CODE            float64\nDAYS_EARLY_RECEIPT_ALLOWED        float64\nDAYS_LATE_RECEIPT_ALLOWED         float64\nALLOW_SUBSTITUTE_RECEIPTS_FLAG    float64\nALLOW_UNORDERED_RECEIPTS_FLAG     float64\nRECEIPT_DAYS_EXCEPTION_CODE       float64\nINVOICE_CURRENCY_CODE              object\nINVOICE_AMOUNT_LIMIT              float64\nMATCH_OPTION                      float64\nMATCH_APPROVAL_LEVEL              float64\nPAYMENT_CURRENCY_CODE              object\nPAYMENT_PRIORITY                    int64\nPAY_GROUP_LOOKUP_CODE             float64\nTOLERANCE_NAME                    float64\nSERVICES_TOLERANCE                float64\nHOLD_ALL_PAYMENTS_FLAG            float64\nHOLD_UNMATCHED_INVOICES_FLAG      float64\nHOLD_FUTURE_PAYMENTS_FLAG         float64\nHOLD_BY                           float64\nPAYMENT_HOLD_DATE                 float64\nHOLD_REASON                       float64\nTERMS_NAME                         object\nTERMS_DATE_BASIS                   object\nPAY_DATE_BASIS_LOOKUP_CODE         object\nBANK_CHARGE_DEDUCTION_TYPE        float64\nALWAYS_TAKE_DISC_FLAG             float64\nEXCLUDE_FREIGHT_FROM_DISCOUNT     float64\nEXCLUDE_TAX_FROM_DISCOUNT         float64\nAUTO_CALCULATE_INTEREST_FLAG      float64\nVAT_CODE                          float64\nVAT_REGISTRATION_NUM              float64\nPAYMENT_METHOD_LOOKUP_CODE         object\nDELIVERY_CHANNEL_CODE             float64\nBANK_INSTRUCTION1_CODE            float64\nBANK_INSTRUCTION2_CODE            float64\nBANK_INSTRUCTION_DETAILS          float64\nSETTLEMENT_PRIORITY               float64\nPAYMENT_TEXT_MESSAGE1             float64\nPAYMENT_TEXT_MESSAGE2             float64\nPAYMENT_TEXT_MESSAGE3             float64\nIBY_BANK_CHARGE_BEARER            float64\nPAYMENT_REASON_CODE               float64\nPAYMENT_REASON_COMMENTS           float64\nREMIT_ADVICE_DELIVERY_METHOD      float64\nREMITTANCE_EMAIL                  float64\nREMITTANCE_FAX                    float64\nATTRIBUTE_CATEGORY                float64\nATTRIBUTE1                        float64\nATTRIBUTE2                        float64\nATTRIBUTE3                        float64\nATTRIBUTE4                        float64\nATTRIBUTE5                        float64\nATTRIBUTE6                        float64\nATTRIBUTE7                        float64\nATTRIBUTE8                        float64\nATTRIBUTE9                        float64\nATTRIBUTE10                       float64\nATTRIBUTE11                       float64\nATTRIBUTE12                       float64\nATTRIBUTE13                       float64\nATTRIBUTE14                       float64\nATTRIBUTE15                       float64\nATTRIBUTE16                       float64\nATTRIBUTE17                       float64\nATTRIBUTE18                       float64\nATTRIBUTE19                       float64\nATTRIBUTE20                       float64\nATTRIBUTE_DATE1                   float64\nATTRIBUTE_DATE2                   float64\nATTRIBUTE_DATE3                   float64\nATTRIBUTE_DATE4                   float64\nATTRIBUTE_DATE5                   float64\nATTRIBUTE_DATE6                   float64\nATTRIBUTE_DATE7                   float64\nATTRIBUTE_DATE8                   float64\nATTRIBUTE_DATE9                   float64\nATTRIBUTE_DATE10                  float64\nATTRIBUTE_TIMESTAMP1              float64\nATTRIBUTE_TIMESTAMP2              float64\nATTRIBUTE_TIMESTAMP3              float64\nATTRIBUTE_TIMESTAMP4              float64\nATTRIBUTE_TIMESTAMP5              float64\nATTRIBUTE_TIMESTAMP6              float64\nATTRIBUTE_TIMESTAMP7              float64\nATTRIBUTE_TIMESTAMP8              float64\nATTRIBUTE_TIMESTAMP9              float64\nATTRIBUTE_TIMESTAMP10             float64\nATTRIBUTE_NUMBER1                 float64\nATTRIBUTE_NUMBER2                 float64\nATTRIBUTE_NUMBER3                 float64\nATTRIBUTE_NUMBER4                 float64\nATTRIBUTE_NUMBER5                 float64\nATTRIBUTE_NUMBER6                 float64\nATTRIBUTE_NUMBER7                 float64\nATTRIBUTE_NUMBER8                 float64\nATTRIBUTE_NUMBER9                 float64\nATTRIBUTE_NUMBER10                float64\nGLOBAL_ATTRIBUTE_CATEGORY         float64\nGLOBAL_ATTRIBUTE1                 float64\nGLOBAL_ATTRIBUTE2                 float64\nGLOBAL_ATTRIBUTE3                 float64\nGLOBAL_ATTRIBUTE4                 float64\nGLOBAL_ATTRIBUTE5                 float64\nGLOBAL_ATTRIBUTE6                 float64\nGLOBAL_ATTRIBUTE7                 float64\nGLOBAL_ATTRIBUTE8                 float64\nGLOBAL_ATTRIBUTE9                 float64\nGLOBAL_ATTRIBUTE10                float64\nGLOBAL_ATTRIBUTE11                float64\nGLOBAL_ATTRIBUTE12                float64\nGLOBAL_ATTRIBUTE13                float64\nGLOBAL_ATTRIBUTE14                float64\nGLOBAL_ATTRIBUTE15                float64\nGLOBAL_ATTRIBUTE16                float64\nGLOBAL_ATTRIBUTE17                float64\nGLOBAL_ATTRIBUTE18                float64\nGLOBAL_ATTRIBUTE19                float64\nGLOBAL_ATTRIBUTE20                float64\nGLOBAL_ATTRIBUTE_DATE1            float64\nGLOBAL_ATTRIBUTE_DATE2            float64\nGLOBAL_ATTRIBUTE_DATE3            float64\nGLOBAL_ATTRIBUTE_DATE4            float64\nGLOBAL_ATTRIBUTE_DATE5            float64\nGLOBAL_ATTRIBUTE_DATE6            float64\nGLOBAL_ATTRIBUTE_DATE7            float64\nGLOBAL_ATTRIBUTE_DATE8            float64\nGLOBAL_ATTRIBUTE_DATE9            float64\nGLOBAL_ATTRIBUTE_DATE10           float64\nGLOBAL_ATTRIBUTE_DATETIME1        float64\nGLOBAL_ATTRIBUTE_DATETIME2        float64\nGLOBAL_ATTRIBUTE_DATETIME3        float64\nGLOBAL_ATTRIBUTE_DATETIME4        float64\nGLOBAL_ATTRIBUTE_DATETIME5        float64\nGLOBAL_ATTRIBUTE_DATETIME6        float64\nGLOBAL_ATTRIBUTE_DATETIME7        float64\nGLOBAL_ATTRIBUTE_DATETIME8        float64\nGLOBAL_ATTRIBUTE_DATETIME9        float64\nGLOBAL_ATTRIBUTE_DATETIME10       float64\nGLOBAL_ATTRIBUTE_NUMBER1          float64\nGLOBAL_ATTRIBUTE_NUMBER2          float64\nGLOBAL_ATTRIBUTE_NUMBER3          float64\nGLOBAL_ATTRIBUTE_NUMBER4          float64\nGLOBAL_ATTRIBUTE_NUMBER5          float64\nGLOBAL_ATTRIBUTE_NUMBER6          float64\nGLOBAL_ATTRIBUTE_NUMBER7          float64\nGLOBAL_ATTRIBUTE_NUMBER8          float64\nGLOBAL_ATTRIBUTE_NUMBER9          float64\nGLOBAL_ATTRIBUTE_NUMBER10         float64\nPO_ACK_REQD_CODE                  float64\nPO_ACK_REQD_DAYS                  float64\nINVOICE_CHANNEL                   float64\nPAYEE_SERVICE_LEVEL_CODE          float64\nEXCLUSIVE_PAYMENT_FLAG            float64\ndtype: object\n"
     ]
    }
   ],
   "source": [
    "modDf = df\n",
    "modDf['SISTEMA_LEGADO']=modDf['SISTEMA_LEGADO'].astype(pd.StringDtype())\n",
    "modDf['NUMERO_PROVEEDOR']=modDf['NUMERO_PROVEEDOR'].astype(pd.StringDtype())\n",
    "modDf['IMPORT_ACTION']=modDf['IMPORT_ACTION'].astype(pd.StringDtype())\n",
    "modDf['VENDOR_NAME']=modDf['VENDOR_NAME'].astype(pd.StringDtype())\n",
    "modDf['PROCUREMENT_BUSINESS_UNIT_NAME']=modDf['PROCUREMENT_BUSINESS_UNIT_NAME'].astype(pd.StringDtype())\n",
    "modDf['PARTY_SITE_NAME']=modDf['PARTY_SITE_NAME'].astype(pd.StringDtype())\n",
    "modDf['VENDOR_SITE_CODE']=modDf['VENDOR_SITE_CODE'].astype(pd.StringDtype())\n",
    "modDf['RFQ_ONLY_SITE_FLAG']=modDf['RFQ_ONLY_SITE_FLAG'].astype(pd.StringDtype())\n",
    "modDf['PURCHASING_SITE_FLAG']=modDf['PURCHASING_SITE_FLAG'].astype(pd.StringDtype())\n",
    "modDf['PAY_SITE_FLAG']=modDf['PAY_SITE_FLAG'].astype(pd.StringDtype())\n",
    "modDf['PRIMARY_PAY_SITE_FLAG']=modDf['PRIMARY_PAY_SITE_FLAG'].astype(pd.StringDtype())\n",
    "print(modDf.head(10))\n",
    "print(modDf.dtypes)"
   ]
  },
  {
   "source": [
    "### Step 5 - Reads Data in Scope"
   ],
   "cell_type": "markdown",
   "metadata": {}
  },
  {
   "cell_type": "code",
   "execution_count": 7,
   "metadata": {},
   "outputs": [
    {
     "output_type": "stream",
     "name": "stdout",
     "text": [
      "   Unnamed: 0 NUMERO_PROVEEDOR          ATTRIBUTE1\n0           0     &JE040614N51   12276001452967570\n1           1    00AL570409DC8   12650014247123077\n2           2    00BR5103152L7  137542104238981574\n3           3    00CE810603TI4  137282103200730959\n4           4             1482    2052093730305436\n5           5             1482   12320001445245786\n6           6            15020   21910040156221600\n7           7            15025   12180001719871518\n8           8            15026   30730232441602010\n9           9            15039   21743040145993103\n"
     ]
    }
   ],
   "source": [
    "dataInScopeDf = pd.read_csv(Path(workFolder, 'dataInScopeDfs.csv'), encoding='utf-8')\n",
    "print(dataInScopeDf.head(10))"
   ]
  },
  {
   "source": [
    "### Step 6 - Get Tax Id's or Supplier Id's in scope"
   ],
   "cell_type": "markdown",
   "metadata": {}
  },
  {
   "cell_type": "code",
   "execution_count": 8,
   "metadata": {},
   "outputs": [
    {
     "output_type": "stream",
     "name": "stdout",
     "text": [
      "NUMERO_PROVEEDOR    string\ndtype: object\n76565  suppliers in scope.\n  NUMERO_PROVEEDOR\n0     &JE040614N51\n1    00AL570409DC8\n2    00BR5103152L7\n3    00CE810603TI4\n4             1482\n5            15020\n6            15025\n7            15026\n8            15039\n9            15043\n"
     ]
    }
   ],
   "source": [
    "sql_query = '''\n",
    "SELECT NUMERO_PROVEEDOR FROM\n",
    "(SELECT DISTINCT NUMERO_PROVEEDOR FROM dataInScopeDf)\n",
    "ORDER BY NUMERO_PROVEEDOR ASC\n",
    "'''\n",
    "SuppliersInScope = ps.sqldf(sql_query)\n",
    "SuppliersInScope['NUMERO_PROVEEDOR'] = SuppliersInScope['NUMERO_PROVEEDOR'].astype(pd.StringDtype())\n",
    "print(SuppliersInScope.dtypes)\n",
    "print(len(SuppliersInScope.index), ' suppliers in scope.')\n",
    "print(SuppliersInScope.head(10))"
   ]
  },
  {
   "source": [
    "### Step 7 - Merge Suppliers in Scope with 5.1 Table data"
   ],
   "cell_type": "markdown",
   "metadata": {}
  },
  {
   "cell_type": "code",
   "execution_count": 9,
   "metadata": {},
   "outputs": [
    {
     "output_type": "stream",
     "name": "stdout",
     "text": [
      "164488  records obtained.\n  NUMERO_PROVEEDOR      SISTEMA_LEGADO  BATCH_ID IMPORT_ACTION  \\\n0     &JE040614N51              GASTOS       NaN        CREATE   \n1     &JE040614N51               OBRAS       NaN        CREATE   \n2    00AL570409DC8              GASTOS       NaN        CREATE   \n3    00AL570409DC8               OBRAS       NaN        CREATE   \n4    00BR5103152L7               OBRAS       NaN        CREATE   \n5    00BR5103152L7              GASTOS       NaN        CREATE   \n6    00CE810603TI4               OBRAS       NaN        CREATE   \n7    00CE810603TI4              GASTOS       NaN        CREATE   \n8             1482         PORTAL SARI       NaN        CREATE   \n9             1482  NEGOCIOS AFILIADOS       NaN        CREATE   \n\n                    VENDOR_NAME PROCUREMENT_BUSINESS_UNIT_NAME  \\\n0  A & J EXPORTACIONES SA DE CV                       BU_CSACV   \n1  A & J EXPORTACIONES SA DE CV                       BU_CSACV   \n2      OSORIO ALVAREZ JOSE LUIS                       BU_CSACV   \n3      OSORIO ALVAREZ JOSE LUIS                       BU_CSACV   \n4        ORDOÑEZ BARBA RAYMUNDO                       BU_CSACV   \n5        ORDOÑEZ BARBA RAYMUNDO                       BU_CSACV   \n6             OROSCO CORIA EMMA                       BU_CSACV   \n7             OROSCO CORIA EMMA                       BU_CSACV   \n8    CHONG BARRERA OSCAR EMILIO                       BU_CSACV   \n9    PROCOMEX MAZATLAN SA DE CV                       BU_CSACV   \n\n  PARTY_SITE_NAME VENDOR_SITE_CODE  VENDOR_SITE_CODE_NEW  INACTIVE_DATE  ...  \\\n0       PRINCIPAL   GT&JE040614N51                   NaN            NaN  ...   \n1       PRINCIPAL   SO&JE040614N51                   NaN            NaN  ...   \n2       PRINCIPAL  GT00AL570409DC8                   NaN            NaN  ...   \n3       PRINCIPAL  SO00AL570409DC8                   NaN            NaN  ...   \n4       PRINCIPAL  SO00BR5103152L7                   NaN            NaN  ...   \n5       PRINCIPAL  GT00BR5103152L7                   NaN            NaN  ...   \n6       PRINCIPAL  SO00CE810603TI4                   NaN            NaN  ...   \n7       PRINCIPAL  GT00CE810603TI4                   NaN            NaN  ...   \n8       PRINCIPAL     SA1482MXN000                   NaN            NaN  ...   \n9       PRINCIPAL           NA1482                   NaN            NaN  ...   \n\n  GLOBAL_ATTRIBUTE_NUMBER6 GLOBAL_ATTRIBUTE_NUMBER7  GLOBAL_ATTRIBUTE_NUMBER8  \\\n0                      NaN                      NaN                       NaN   \n1                      NaN                      NaN                       NaN   \n2                      NaN                      NaN                       NaN   \n3                      NaN                      NaN                       NaN   \n4                      NaN                      NaN                       NaN   \n5                      NaN                      NaN                       NaN   \n6                      NaN                      NaN                       NaN   \n7                      NaN                      NaN                       NaN   \n8                      NaN                      NaN                       NaN   \n9                      NaN                      NaN                       NaN   \n\n  GLOBAL_ATTRIBUTE_NUMBER9 GLOBAL_ATTRIBUTE_NUMBER10  PO_ACK_REQD_CODE  \\\n0                      NaN                       NaN               NaN   \n1                      NaN                       NaN               NaN   \n2                      NaN                       NaN               NaN   \n3                      NaN                       NaN               NaN   \n4                      NaN                       NaN               NaN   \n5                      NaN                       NaN               NaN   \n6                      NaN                       NaN               NaN   \n7                      NaN                       NaN               NaN   \n8                      NaN                       NaN               NaN   \n9                      NaN                       NaN               NaN   \n\n   PO_ACK_REQD_DAYS  INVOICE_CHANNEL  PAYEE_SERVICE_LEVEL_CODE  \\\n0               NaN              NaN                       NaN   \n1               NaN              NaN                       NaN   \n2               NaN              NaN                       NaN   \n3               NaN              NaN                       NaN   \n4               NaN              NaN                       NaN   \n5               NaN              NaN                       NaN   \n6               NaN              NaN                       NaN   \n7               NaN              NaN                       NaN   \n8               NaN              NaN                       NaN   \n9               NaN              NaN                       NaN   \n\n   EXCLUSIVE_PAYMENT_FLAG  \n0                     NaN  \n1                     NaN  \n2                     NaN  \n3                     NaN  \n4                     NaN  \n5                     NaN  \n6                     NaN  \n7                     NaN  \n8                     NaN  \n9                     NaN  \n\n[10 rows x 201 columns]\n"
     ]
    }
   ],
   "source": [
    "subSetDf = SuppliersInScope.merge(modDf, on='NUMERO_PROVEEDOR', how='left')\n",
    "subSetDf = subSetDf[subSetDf['VENDOR_SITE_CODE'].notna()]\n",
    "print(len(subSetDf.index), ' records obtained.')\n",
    "print(subSetDf.head(10))"
   ]
  },
  {
   "source": [
    "### Step 8 - Validate Legacy Systems in Scope"
   ],
   "cell_type": "markdown",
   "metadata": {}
  },
  {
   "cell_type": "code",
   "execution_count": 10,
   "metadata": {},
   "outputs": [
    {
     "output_type": "stream",
     "name": "stdout",
     "text": [
      "14  records found.\n['GASTOS', 'OBRAS', 'PORTAL SARI', 'NEGOCIOS AFILIADOS', 'SIM', 'CONSTRUNET', 'REFACCIONARIA', 'RXMENU', 'MXMENU', 'MUEBLES', 'TECNOLOGIA', 'SIE', 'MARKETPLACE', 'MOTOR DE SEGUIMIENTO']\n"
     ]
    }
   ],
   "source": [
    "legacySystemsFound = subSetDf.SISTEMA_LEGADO.unique()\n",
    "print(len(legacySystemsFound), ' records found.')\n",
    "print(list(legacySystemsFound))"
   ]
  },
  {
   "source": [
    "### Step 9 - check distribution of records per legacy system"
   ],
   "cell_type": "markdown",
   "metadata": {}
  },
  {
   "cell_type": "code",
   "execution_count": 11,
   "metadata": {},
   "outputs": [
    {
     "output_type": "stream",
     "name": "stdout",
     "text": [
      "GASTOS , 74690\nOBRAS , 74643\nMOTOR DE SEGUIMIENTO , 11226\nCONSTRUNET , 1922\nSIM , 1786\nNEGOCIOS AFILIADOS , 107\nTECNOLOGIA , 77\nSIE , 11\nMARKETPLACE , 10\nREFACCIONARIA , 8\nMXMENU , 4\nRXMENU , 2\nMUEBLES , 1\nPORTAL SARI , 1\n"
     ]
    }
   ],
   "source": [
    "sql_query = '''\n",
    "SELECT SISTEMA_LEGADO,COUNT(*) AS numObs FROM subSetDf\n",
    "GROUP BY SISTEMA_LEGADO\n",
    "ORDER BY numObs DESC\n",
    "'''\n",
    "distPerLegacySystemDf = ps.sqldf(sql_query)\n",
    "for index, row in distPerLegacySystemDf.iterrows():\n",
    "    print(row['SISTEMA_LEGADO'], ',', row['numObs'])"
   ]
  },
  {
   "cell_type": "code",
   "execution_count": 12,
   "metadata": {},
   "outputs": [
    {
     "output_type": "stream",
     "name": "stdout",
     "text": [
      "164357  records in scope\n",
      "  NUMERO_PROVEEDOR  numVSCs\n",
      "0            20539       16\n",
      "1            19546        6\n",
      "2            19647        6\n",
      "3            19807        6\n",
      "4            42108        6\n",
      "5            16372        5\n",
      "6            17559        5\n",
      "7            17761        5\n",
      "8            18960        5\n",
      "9            21790        5\n",
      "   numVSCs  numObs\n",
      "0        2   65118\n",
      "1        3   11223\n",
      "2        1     160\n",
      "3        4      43\n",
      "4        5      16\n",
      "5        6       4\n",
      "6       16       1\n"
     ]
    }
   ],
   "source": [
    "sql_query = '''\n",
    "SELECT DISTINCT NUMERO_PROVEEDOR,VENDOR_SITE_CODE FROM subSetDf\n",
    "'''\n",
    "SupplierBUAndVSTDf = ps.sqldf(sql_query)\n",
    "print(len(SupplierBUAndVSTDf.index), ' records in scope')\n",
    "SupplierBUAndVSTDf.to_csv(Path(workFolder, 'SupplierBUAndVSTDf.csv'), encoding='utf-8')\n",
    "sql_query = '''\n",
    "SELECT NUMERO_PROVEEDOR,COUNT(VENDOR_SITE_CODE) AS numVSCs FROM SupplierBUAndVSTDf\n",
    "GROUP BY NUMERO_PROVEEDOR\n",
    "ORDER BY numVSCs DESC\n",
    "'''\n",
    "result = ps.sqldf(sql_query)\n",
    "print(result.head(10))\n",
    "sql_query = '''\n",
    "SELECT numVSCs,COUNT(*) AS numObs FROM result\n",
    "GROUP BY numVSCs\n",
    "ORDER BY numObs DESC\n",
    "'''\n",
    "result2 = ps.sqldf(sql_query)\n",
    "print(result2.head(10))"
   ]
  },
  {
   "source": [
    "### Step 10 - Create new report structure"
   ],
   "cell_type": "markdown",
   "metadata": {}
  },
  {
   "cell_type": "code",
   "execution_count": 13,
   "metadata": {},
   "outputs": [
    {
     "output_type": "stream",
     "name": "stdout",
     "text": [
      "164488  in new report structure\n"
     ]
    }
   ],
   "source": [
    "newReportDf = subSetDf[['SISTEMA_LEGADO','NUMERO_PROVEEDOR','BATCH_ID','IMPORT_ACTION','VENDOR_NAME','PROCUREMENT_BUSINESS_UNIT_NAME','PARTY_SITE_NAME','VENDOR_SITE_CODE','VENDOR_SITE_CODE_NEW','INACTIVE_DATE','RFQ_ONLY_SITE_FLAG','PURCHASING_SITE_FLAG','PCARD_SITE_FLAG','PAY_SITE_FLAG','PRIMARY_PAY_SITE_FLAG','TAX_REPORTING_SITE_FLAG','VENDOR_SITE_CODE_ALT','CUSTOMER_NUM','B2B_COMMUNICATION_METHOD','B2B_SITE_CODE','SUPPLIER_NOTIF_METHOD','EMAIL_ADDRESS','FAX_COUNTRY_CODE','FAX_AREA_CODE','FAX','HOLD_FLAG','PURCHASING_HOLD_REASON','CARRIER','MODE_OF_TRANSPORT_CODE','SERVICE_LEVEL_CODE','FREIGHT_TERMS_LOOKUP_CODE','PAY_ON_CODE','FOB_LOOKUP_CODE','COUNTRY_OF_ORIGIN_CODE','BUYER_MANAGED_TRANSPORT_FLAG','PAY_ON_USE_FLAG','AGING_ONSET_POINT','AGING_PERIOD_DAYS','CONSUMPTION_ADVICE_FREQUENCY','CONSUMPTION_ADVICE_SUMMARY','DEFAULT_PAY_SITE_CODE','PAY_ON_RECEIPT_SUMMARY_CODE','GAPLESS_INV_NUM_FLAG','SELLING_COMPANY_IDENTIFIER','CREATE_DEBIT_MEMO_FLAG','ENFORCE_SHIP_TO_LOCATION_CODE','RECEIVING_ROUTING_ID','QTY_RCV_TOLERANCE','QTY_RCV_EXCEPTION_CODE','DAYS_EARLY_RECEIPT_ALLOWED','DAYS_LATE_RECEIPT_ALLOWED','ALLOW_SUBSTITUTE_RECEIPTS_FLAG','ALLOW_UNORDERED_RECEIPTS_FLAG','RECEIPT_DAYS_EXCEPTION_CODE','INVOICE_CURRENCY_CODE','INVOICE_AMOUNT_LIMIT','MATCH_OPTION','MATCH_APPROVAL_LEVEL','PAYMENT_CURRENCY_CODE','PAYMENT_PRIORITY','PAY_GROUP_LOOKUP_CODE','TOLERANCE_NAME','SERVICES_TOLERANCE','HOLD_ALL_PAYMENTS_FLAG','HOLD_UNMATCHED_INVOICES_FLAG','HOLD_FUTURE_PAYMENTS_FLAG','HOLD_BY','PAYMENT_HOLD_DATE','HOLD_REASON','TERMS_NAME','TERMS_DATE_BASIS','PAY_DATE_BASIS_LOOKUP_CODE','BANK_CHARGE_DEDUCTION_TYPE','ALWAYS_TAKE_DISC_FLAG','EXCLUDE_FREIGHT_FROM_DISCOUNT','EXCLUDE_TAX_FROM_DISCOUNT','AUTO_CALCULATE_INTEREST_FLAG','VAT_CODE','VAT_REGISTRATION_NUM','PAYMENT_METHOD_LOOKUP_CODE','DELIVERY_CHANNEL_CODE','BANK_INSTRUCTION1_CODE','BANK_INSTRUCTION2_CODE','BANK_INSTRUCTION_DETAILS','SETTLEMENT_PRIORITY','PAYMENT_TEXT_MESSAGE1','PAYMENT_TEXT_MESSAGE2','PAYMENT_TEXT_MESSAGE3','IBY_BANK_CHARGE_BEARER','PAYMENT_REASON_CODE','PAYMENT_REASON_COMMENTS','REMIT_ADVICE_DELIVERY_METHOD','REMITTANCE_EMAIL','REMITTANCE_FAX','ATTRIBUTE_CATEGORY','ATTRIBUTE1','ATTRIBUTE2','ATTRIBUTE3','ATTRIBUTE4','ATTRIBUTE5','ATTRIBUTE6','ATTRIBUTE7','ATTRIBUTE8','ATTRIBUTE9','ATTRIBUTE10','ATTRIBUTE11','ATTRIBUTE12','ATTRIBUTE13','ATTRIBUTE14','ATTRIBUTE15','ATTRIBUTE16','ATTRIBUTE17','ATTRIBUTE18','ATTRIBUTE19','ATTRIBUTE20','ATTRIBUTE_DATE1','ATTRIBUTE_DATE2','ATTRIBUTE_DATE3','ATTRIBUTE_DATE4','ATTRIBUTE_DATE5','ATTRIBUTE_DATE6','ATTRIBUTE_DATE7','ATTRIBUTE_DATE8','ATTRIBUTE_DATE9','ATTRIBUTE_DATE10','ATTRIBUTE_TIMESTAMP1','ATTRIBUTE_TIMESTAMP2','ATTRIBUTE_TIMESTAMP3','ATTRIBUTE_TIMESTAMP4','ATTRIBUTE_TIMESTAMP5','ATTRIBUTE_TIMESTAMP6','ATTRIBUTE_TIMESTAMP7','ATTRIBUTE_TIMESTAMP8','ATTRIBUTE_TIMESTAMP9','ATTRIBUTE_TIMESTAMP10','ATTRIBUTE_NUMBER1','ATTRIBUTE_NUMBER2','ATTRIBUTE_NUMBER3','ATTRIBUTE_NUMBER4','ATTRIBUTE_NUMBER5','ATTRIBUTE_NUMBER6','ATTRIBUTE_NUMBER7','ATTRIBUTE_NUMBER8','ATTRIBUTE_NUMBER9','ATTRIBUTE_NUMBER10','GLOBAL_ATTRIBUTE_CATEGORY','GLOBAL_ATTRIBUTE1','GLOBAL_ATTRIBUTE2','GLOBAL_ATTRIBUTE3','GLOBAL_ATTRIBUTE4','GLOBAL_ATTRIBUTE5','GLOBAL_ATTRIBUTE6','GLOBAL_ATTRIBUTE7','GLOBAL_ATTRIBUTE8','GLOBAL_ATTRIBUTE9','GLOBAL_ATTRIBUTE10','GLOBAL_ATTRIBUTE11','GLOBAL_ATTRIBUTE12','GLOBAL_ATTRIBUTE13','GLOBAL_ATTRIBUTE14','GLOBAL_ATTRIBUTE15','GLOBAL_ATTRIBUTE16','GLOBAL_ATTRIBUTE17','GLOBAL_ATTRIBUTE18','GLOBAL_ATTRIBUTE19','GLOBAL_ATTRIBUTE20','GLOBAL_ATTRIBUTE_DATE1','GLOBAL_ATTRIBUTE_DATE2','GLOBAL_ATTRIBUTE_DATE3','GLOBAL_ATTRIBUTE_DATE4','GLOBAL_ATTRIBUTE_DATE5','GLOBAL_ATTRIBUTE_DATE6','GLOBAL_ATTRIBUTE_DATE7','GLOBAL_ATTRIBUTE_DATE8','GLOBAL_ATTRIBUTE_DATE9','GLOBAL_ATTRIBUTE_DATE10','GLOBAL_ATTRIBUTE_DATETIME1','GLOBAL_ATTRIBUTE_DATETIME2','GLOBAL_ATTRIBUTE_DATETIME3','GLOBAL_ATTRIBUTE_DATETIME4','GLOBAL_ATTRIBUTE_DATETIME5','GLOBAL_ATTRIBUTE_DATETIME6','GLOBAL_ATTRIBUTE_DATETIME7','GLOBAL_ATTRIBUTE_DATETIME8','GLOBAL_ATTRIBUTE_DATETIME9','GLOBAL_ATTRIBUTE_DATETIME10','GLOBAL_ATTRIBUTE_NUMBER1','GLOBAL_ATTRIBUTE_NUMBER2','GLOBAL_ATTRIBUTE_NUMBER3','GLOBAL_ATTRIBUTE_NUMBER4','GLOBAL_ATTRIBUTE_NUMBER5','GLOBAL_ATTRIBUTE_NUMBER6','GLOBAL_ATTRIBUTE_NUMBER7','GLOBAL_ATTRIBUTE_NUMBER8','GLOBAL_ATTRIBUTE_NUMBER9','GLOBAL_ATTRIBUTE_NUMBER10','PO_ACK_REQD_CODE','PO_ACK_REQD_DAYS','INVOICE_CHANNEL','PAYEE_SERVICE_LEVEL_CODE','EXCLUSIVE_PAYMENT_FLAG']]\n",
    "print(len(newReportDf.index), ' in new report structure')\n",
    "\n",
    "\n"
   ]
  },
  {
   "cell_type": "code",
   "execution_count": 14,
   "metadata": {},
   "outputs": [
    {
     "output_type": "stream",
     "name": "stdout",
     "text": [
      "SISTEMA_LEGADO                     string\nNUMERO_PROVEEDOR                   string\nBATCH_ID                          float64\nIMPORT_ACTION                      string\nVENDOR_NAME                        string\nPROCUREMENT_BUSINESS_UNIT_NAME     string\nPARTY_SITE_NAME                    string\nVENDOR_SITE_CODE                   string\nVENDOR_SITE_CODE_NEW              float64\nINACTIVE_DATE                     float64\nRFQ_ONLY_SITE_FLAG                 string\nPURCHASING_SITE_FLAG               string\nPCARD_SITE_FLAG                   float64\nPAY_SITE_FLAG                      string\nPRIMARY_PAY_SITE_FLAG              string\nTAX_REPORTING_SITE_FLAG           float64\nVENDOR_SITE_CODE_ALT              float64\nCUSTOMER_NUM                      float64\nB2B_COMMUNICATION_METHOD          float64\nB2B_SITE_CODE                     float64\nSUPPLIER_NOTIF_METHOD             float64\nEMAIL_ADDRESS                     float64\nFAX_COUNTRY_CODE                  float64\nFAX_AREA_CODE                     float64\nFAX                               float64\nHOLD_FLAG                         float64\nPURCHASING_HOLD_REASON            float64\nCARRIER                           float64\nMODE_OF_TRANSPORT_CODE            float64\nSERVICE_LEVEL_CODE                float64\nFREIGHT_TERMS_LOOKUP_CODE         float64\nPAY_ON_CODE                       float64\nFOB_LOOKUP_CODE                   float64\nCOUNTRY_OF_ORIGIN_CODE            float64\nBUYER_MANAGED_TRANSPORT_FLAG      float64\nPAY_ON_USE_FLAG                   float64\nAGING_ONSET_POINT                 float64\nAGING_PERIOD_DAYS                 float64\nCONSUMPTION_ADVICE_FREQUENCY      float64\nCONSUMPTION_ADVICE_SUMMARY        float64\nDEFAULT_PAY_SITE_CODE             float64\nPAY_ON_RECEIPT_SUMMARY_CODE       float64\nGAPLESS_INV_NUM_FLAG              float64\nSELLING_COMPANY_IDENTIFIER        float64\nCREATE_DEBIT_MEMO_FLAG            float64\nENFORCE_SHIP_TO_LOCATION_CODE     float64\nRECEIVING_ROUTING_ID              float64\nQTY_RCV_TOLERANCE                 float64\nQTY_RCV_EXCEPTION_CODE            float64\nDAYS_EARLY_RECEIPT_ALLOWED        float64\nDAYS_LATE_RECEIPT_ALLOWED         float64\nALLOW_SUBSTITUTE_RECEIPTS_FLAG    float64\nALLOW_UNORDERED_RECEIPTS_FLAG     float64\nRECEIPT_DAYS_EXCEPTION_CODE       float64\nINVOICE_CURRENCY_CODE              object\nINVOICE_AMOUNT_LIMIT              float64\nMATCH_OPTION                      float64\nMATCH_APPROVAL_LEVEL              float64\nPAYMENT_CURRENCY_CODE              object\nPAYMENT_PRIORITY                    int64\nPAY_GROUP_LOOKUP_CODE             float64\nTOLERANCE_NAME                    float64\nSERVICES_TOLERANCE                float64\nHOLD_ALL_PAYMENTS_FLAG            float64\nHOLD_UNMATCHED_INVOICES_FLAG      float64\nHOLD_FUTURE_PAYMENTS_FLAG         float64\nHOLD_BY                           float64\nPAYMENT_HOLD_DATE                 float64\nHOLD_REASON                       float64\nTERMS_NAME                         object\nTERMS_DATE_BASIS                   object\nPAY_DATE_BASIS_LOOKUP_CODE         object\nBANK_CHARGE_DEDUCTION_TYPE        float64\nALWAYS_TAKE_DISC_FLAG             float64\nEXCLUDE_FREIGHT_FROM_DISCOUNT     float64\nEXCLUDE_TAX_FROM_DISCOUNT         float64\nAUTO_CALCULATE_INTEREST_FLAG      float64\nVAT_CODE                          float64\nVAT_REGISTRATION_NUM              float64\nPAYMENT_METHOD_LOOKUP_CODE         object\nDELIVERY_CHANNEL_CODE             float64\nBANK_INSTRUCTION1_CODE            float64\nBANK_INSTRUCTION2_CODE            float64\nBANK_INSTRUCTION_DETAILS          float64\nSETTLEMENT_PRIORITY               float64\nPAYMENT_TEXT_MESSAGE1             float64\nPAYMENT_TEXT_MESSAGE2             float64\nPAYMENT_TEXT_MESSAGE3             float64\nIBY_BANK_CHARGE_BEARER            float64\nPAYMENT_REASON_CODE               float64\nPAYMENT_REASON_COMMENTS           float64\nREMIT_ADVICE_DELIVERY_METHOD      float64\nREMITTANCE_EMAIL                  float64\nREMITTANCE_FAX                    float64\nATTRIBUTE_CATEGORY                float64\nATTRIBUTE1                        float64\nATTRIBUTE2                        float64\nATTRIBUTE3                        float64\nATTRIBUTE4                        float64\nATTRIBUTE5                        float64\nATTRIBUTE6                        float64\nATTRIBUTE7                        float64\nATTRIBUTE8                        float64\nATTRIBUTE9                        float64\nATTRIBUTE10                       float64\nATTRIBUTE11                       float64\nATTRIBUTE12                       float64\nATTRIBUTE13                       float64\nATTRIBUTE14                       float64\nATTRIBUTE15                       float64\nATTRIBUTE16                       float64\nATTRIBUTE17                       float64\nATTRIBUTE18                       float64\nATTRIBUTE19                       float64\nATTRIBUTE20                       float64\nATTRIBUTE_DATE1                   float64\nATTRIBUTE_DATE2                   float64\nATTRIBUTE_DATE3                   float64\nATTRIBUTE_DATE4                   float64\nATTRIBUTE_DATE5                   float64\nATTRIBUTE_DATE6                   float64\nATTRIBUTE_DATE7                   float64\nATTRIBUTE_DATE8                   float64\nATTRIBUTE_DATE9                   float64\nATTRIBUTE_DATE10                  float64\nATTRIBUTE_TIMESTAMP1              float64\nATTRIBUTE_TIMESTAMP2              float64\nATTRIBUTE_TIMESTAMP3              float64\nATTRIBUTE_TIMESTAMP4              float64\nATTRIBUTE_TIMESTAMP5              float64\nATTRIBUTE_TIMESTAMP6              float64\nATTRIBUTE_TIMESTAMP7              float64\nATTRIBUTE_TIMESTAMP8              float64\nATTRIBUTE_TIMESTAMP9              float64\nATTRIBUTE_TIMESTAMP10             float64\nATTRIBUTE_NUMBER1                 float64\nATTRIBUTE_NUMBER2                 float64\nATTRIBUTE_NUMBER3                 float64\nATTRIBUTE_NUMBER4                 float64\nATTRIBUTE_NUMBER5                 float64\nATTRIBUTE_NUMBER6                 float64\nATTRIBUTE_NUMBER7                 float64\nATTRIBUTE_NUMBER8                 float64\nATTRIBUTE_NUMBER9                 float64\nATTRIBUTE_NUMBER10                float64\nGLOBAL_ATTRIBUTE_CATEGORY         float64\nGLOBAL_ATTRIBUTE1                 float64\nGLOBAL_ATTRIBUTE2                 float64\nGLOBAL_ATTRIBUTE3                 float64\nGLOBAL_ATTRIBUTE4                 float64\nGLOBAL_ATTRIBUTE5                 float64\nGLOBAL_ATTRIBUTE6                 float64\nGLOBAL_ATTRIBUTE7                 float64\nGLOBAL_ATTRIBUTE8                 float64\nGLOBAL_ATTRIBUTE9                 float64\nGLOBAL_ATTRIBUTE10                float64\nGLOBAL_ATTRIBUTE11                float64\nGLOBAL_ATTRIBUTE12                float64\nGLOBAL_ATTRIBUTE13                float64\nGLOBAL_ATTRIBUTE14                float64\nGLOBAL_ATTRIBUTE15                float64\nGLOBAL_ATTRIBUTE16                float64\nGLOBAL_ATTRIBUTE17                float64\nGLOBAL_ATTRIBUTE18                float64\nGLOBAL_ATTRIBUTE19                float64\nGLOBAL_ATTRIBUTE20                float64\nGLOBAL_ATTRIBUTE_DATE1            float64\nGLOBAL_ATTRIBUTE_DATE2            float64\nGLOBAL_ATTRIBUTE_DATE3            float64\nGLOBAL_ATTRIBUTE_DATE4            float64\nGLOBAL_ATTRIBUTE_DATE5            float64\nGLOBAL_ATTRIBUTE_DATE6            float64\nGLOBAL_ATTRIBUTE_DATE7            float64\nGLOBAL_ATTRIBUTE_DATE8            float64\nGLOBAL_ATTRIBUTE_DATE9            float64\nGLOBAL_ATTRIBUTE_DATE10           float64\nGLOBAL_ATTRIBUTE_DATETIME1        float64\nGLOBAL_ATTRIBUTE_DATETIME2        float64\nGLOBAL_ATTRIBUTE_DATETIME3        float64\nGLOBAL_ATTRIBUTE_DATETIME4        float64\nGLOBAL_ATTRIBUTE_DATETIME5        float64\nGLOBAL_ATTRIBUTE_DATETIME6        float64\nGLOBAL_ATTRIBUTE_DATETIME7        float64\nGLOBAL_ATTRIBUTE_DATETIME8        float64\nGLOBAL_ATTRIBUTE_DATETIME9        float64\nGLOBAL_ATTRIBUTE_DATETIME10       float64\nGLOBAL_ATTRIBUTE_NUMBER1          float64\nGLOBAL_ATTRIBUTE_NUMBER2          float64\nGLOBAL_ATTRIBUTE_NUMBER3          float64\nGLOBAL_ATTRIBUTE_NUMBER4          float64\nGLOBAL_ATTRIBUTE_NUMBER5          float64\nGLOBAL_ATTRIBUTE_NUMBER6          float64\nGLOBAL_ATTRIBUTE_NUMBER7          float64\nGLOBAL_ATTRIBUTE_NUMBER8          float64\nGLOBAL_ATTRIBUTE_NUMBER9          float64\nGLOBAL_ATTRIBUTE_NUMBER10         float64\nPO_ACK_REQD_CODE                  float64\nPO_ACK_REQD_DAYS                  float64\nINVOICE_CHANNEL                   float64\nPAYEE_SERVICE_LEVEL_CODE          float64\nEXCLUSIVE_PAYMENT_FLAG            float64\ndtype: object\n"
     ]
    }
   ],
   "source": [
    "print(newReportDf.dtypes)"
   ]
  },
  {
   "cell_type": "code",
   "execution_count": 15,
   "metadata": {},
   "outputs": [
    {
     "output_type": "stream",
     "name": "stdout",
     "text": [
      "164488  text lines written.\n"
     ]
    }
   ],
   "source": [
    "newReportDf.fillna('', inplace=True)\n",
    "with open(Path(workFolder,'3. SUPPLIER_SITES_INTERFACE_COPPEL(NEW).csv'), 'w', encoding='utf-8') as textFile:\n",
    "    tmpVector = ['SISTEMA_LEGADO','NUMERO_PROVEEDOR','BATCH_ID','IMPORT_ACTION','VENDOR_NAME','PROCUREMENT_BUSINESS_UNIT_NAME','PARTY_SITE_NAME','VENDOR_SITE_CODE','VENDOR_SITE_CODE_NEW','INACTIVE_DATE','RFQ_ONLY_SITE_FLAG','PURCHASING_SITE_FLAG','PCARD_SITE_FLAG','PAY_SITE_FLAG','PRIMARY_PAY_SITE_FLAG','TAX_REPORTING_SITE_FLAG','VENDOR_SITE_CODE_ALT','CUSTOMER_NUM','B2B_COMMUNICATION_METHOD','B2B_SITE_CODE','SUPPLIER_NOTIF_METHOD','EMAIL_ADDRESS','FAX_COUNTRY_CODE','FAX_AREA_CODE','FAX','HOLD_FLAG','PURCHASING_HOLD_REASON','CARRIER','MODE_OF_TRANSPORT_CODE','SERVICE_LEVEL_CODE','FREIGHT_TERMS_LOOKUP_CODE','PAY_ON_CODE','FOB_LOOKUP_CODE','COUNTRY_OF_ORIGIN_CODE','BUYER_MANAGED_TRANSPORT_FLAG','PAY_ON_USE_FLAG','AGING_ONSET_POINT','AGING_PERIOD_DAYS','CONSUMPTION_ADVICE_FREQUENCY','CONSUMPTION_ADVICE_SUMMARY','DEFAULT_PAY_SITE_CODE','PAY_ON_RECEIPT_SUMMARY_CODE','GAPLESS_INV_NUM_FLAG','SELLING_COMPANY_IDENTIFIER','CREATE_DEBIT_MEMO_FLAG','ENFORCE_SHIP_TO_LOCATION_CODE','RECEIVING_ROUTING_ID','QTY_RCV_TOLERANCE','QTY_RCV_EXCEPTION_CODE','DAYS_EARLY_RECEIPT_ALLOWED','DAYS_LATE_RECEIPT_ALLOWED','ALLOW_SUBSTITUTE_RECEIPTS_FLAG','ALLOW_UNORDERED_RECEIPTS_FLAG','RECEIPT_DAYS_EXCEPTION_CODE','INVOICE_CURRENCY_CODE','INVOICE_AMOUNT_LIMIT','MATCH_OPTION','MATCH_APPROVAL_LEVEL','PAYMENT_CURRENCY_CODE','PAYMENT_PRIORITY','PAY_GROUP_LOOKUP_CODE','TOLERANCE_NAME','SERVICES_TOLERANCE','HOLD_ALL_PAYMENTS_FLAG','HOLD_UNMATCHED_INVOICES_FLAG','HOLD_FUTURE_PAYMENTS_FLAG','HOLD_BY','PAYMENT_HOLD_DATE','HOLD_REASON','TERMS_NAME','TERMS_DATE_BASIS','PAY_DATE_BASIS_LOOKUP_CODE','BANK_CHARGE_DEDUCTION_TYPE','ALWAYS_TAKE_DISC_FLAG','EXCLUDE_FREIGHT_FROM_DISCOUNT','EXCLUDE_TAX_FROM_DISCOUNT','AUTO_CALCULATE_INTEREST_FLAG','VAT_CODE','VAT_REGISTRATION_NUM','PAYMENT_METHOD_LOOKUP_CODE','DELIVERY_CHANNEL_CODE','BANK_INSTRUCTION1_CODE','BANK_INSTRUCTION2_CODE','BANK_INSTRUCTION_DETAILS','SETTLEMENT_PRIORITY','PAYMENT_TEXT_MESSAGE1','PAYMENT_TEXT_MESSAGE2','PAYMENT_TEXT_MESSAGE3','IBY_BANK_CHARGE_BEARER','PAYMENT_REASON_CODE','PAYMENT_REASON_COMMENTS','REMIT_ADVICE_DELIVERY_METHOD','REMITTANCE_EMAIL','REMITTANCE_FAX','ATTRIBUTE_CATEGORY','ATTRIBUTE1','ATTRIBUTE2','ATTRIBUTE3','ATTRIBUTE4','ATTRIBUTE5','ATTRIBUTE6','ATTRIBUTE7','ATTRIBUTE8','ATTRIBUTE9','ATTRIBUTE10','ATTRIBUTE11','ATTRIBUTE12','ATTRIBUTE13','ATTRIBUTE14','ATTRIBUTE15','ATTRIBUTE16','ATTRIBUTE17','ATTRIBUTE18','ATTRIBUTE19','ATTRIBUTE20','ATTRIBUTE_DATE1','ATTRIBUTE_DATE2','ATTRIBUTE_DATE3','ATTRIBUTE_DATE4','ATTRIBUTE_DATE5','ATTRIBUTE_DATE6','ATTRIBUTE_DATE7','ATTRIBUTE_DATE8','ATTRIBUTE_DATE9','ATTRIBUTE_DATE10','ATTRIBUTE_TIMESTAMP1','ATTRIBUTE_TIMESTAMP2','ATTRIBUTE_TIMESTAMP3','ATTRIBUTE_TIMESTAMP4','ATTRIBUTE_TIMESTAMP5','ATTRIBUTE_TIMESTAMP6','ATTRIBUTE_TIMESTAMP7','ATTRIBUTE_TIMESTAMP8','ATTRIBUTE_TIMESTAMP9','ATTRIBUTE_TIMESTAMP10','ATTRIBUTE_NUMBER1','ATTRIBUTE_NUMBER2','ATTRIBUTE_NUMBER3','ATTRIBUTE_NUMBER4','ATTRIBUTE_NUMBER5','ATTRIBUTE_NUMBER6','ATTRIBUTE_NUMBER7','ATTRIBUTE_NUMBER8','ATTRIBUTE_NUMBER9','ATTRIBUTE_NUMBER10','GLOBAL_ATTRIBUTE_CATEGORY','GLOBAL_ATTRIBUTE1','GLOBAL_ATTRIBUTE2','GLOBAL_ATTRIBUTE3','GLOBAL_ATTRIBUTE4','GLOBAL_ATTRIBUTE5','GLOBAL_ATTRIBUTE6','GLOBAL_ATTRIBUTE7','GLOBAL_ATTRIBUTE8','GLOBAL_ATTRIBUTE9','GLOBAL_ATTRIBUTE10','GLOBAL_ATTRIBUTE11','GLOBAL_ATTRIBUTE12','GLOBAL_ATTRIBUTE13','GLOBAL_ATTRIBUTE14','GLOBAL_ATTRIBUTE15','GLOBAL_ATTRIBUTE16','GLOBAL_ATTRIBUTE17','GLOBAL_ATTRIBUTE18','GLOBAL_ATTRIBUTE19','GLOBAL_ATTRIBUTE20','GLOBAL_ATTRIBUTE_DATE1','GLOBAL_ATTRIBUTE_DATE2','GLOBAL_ATTRIBUTE_DATE3','GLOBAL_ATTRIBUTE_DATE4','GLOBAL_ATTRIBUTE_DATE5','GLOBAL_ATTRIBUTE_DATE6','GLOBAL_ATTRIBUTE_DATE7','GLOBAL_ATTRIBUTE_DATE8','GLOBAL_ATTRIBUTE_DATE9','GLOBAL_ATTRIBUTE_DATE10','GLOBAL_ATTRIBUTE_DATETIME1','GLOBAL_ATTRIBUTE_DATETIME2','GLOBAL_ATTRIBUTE_DATETIME3','GLOBAL_ATTRIBUTE_DATETIME4','GLOBAL_ATTRIBUTE_DATETIME5','GLOBAL_ATTRIBUTE_DATETIME6','GLOBAL_ATTRIBUTE_DATETIME7','GLOBAL_ATTRIBUTE_DATETIME8','GLOBAL_ATTRIBUTE_DATETIME9','GLOBAL_ATTRIBUTE_DATETIME10','GLOBAL_ATTRIBUTE_NUMBER1','GLOBAL_ATTRIBUTE_NUMBER2','GLOBAL_ATTRIBUTE_NUMBER3','GLOBAL_ATTRIBUTE_NUMBER4','GLOBAL_ATTRIBUTE_NUMBER5','GLOBAL_ATTRIBUTE_NUMBER6','GLOBAL_ATTRIBUTE_NUMBER7','GLOBAL_ATTRIBUTE_NUMBER8','GLOBAL_ATTRIBUTE_NUMBER9','GLOBAL_ATTRIBUTE_NUMBER10','PO_ACK_REQD_CODE','PO_ACK_REQD_DAYS','INVOICE_CHANNEL','PAYEE_SERVICE_LEVEL_CODE','EXCLUSIVE_PAYMENT_FLAG']\n",
    "    textLine = chr(59).join([chr(39)+str(tmpColumn)+chr(39) for tmpColumn in tmpVector]) + '\\n'\n",
    "    textFile.write(textLine)\n",
    "    linesWritten = 0\n",
    "    for index, row in newReportDf.iterrows():\n",
    "        tmpVector = row.to_list()\n",
    "        textLine = chr(59).join([chr(39)+str(tmpColumn)+chr(39) for tmpColumn in tmpVector]) + '\\n'\n",
    "        textFile.write(textLine)\n",
    "        linesWritten += 1\n",
    "    textFile.close()\n",
    "print(linesWritten, ' text lines written.')"
   ]
  },
  {
   "source": [
    "### Step 11 - Validate the number of rows on file created"
   ],
   "cell_type": "markdown",
   "metadata": {}
  },
  {
   "cell_type": "code",
   "execution_count": 16,
   "metadata": {},
   "outputs": [
    {
     "output_type": "stream",
     "name": "stdout",
     "text": [
      "'SISTEMA_LEGADO';'NUMERO_PROVEEDOR';'BATCH_ID';'IMPORT_ACTION';'VENDOR_NAME';'PROCUREMENT_BUSINESS_UNIT_NAME';'PARTY_SITE_NAME';'VENDOR_SITE_CODE';'VENDOR_SITE_CODE_NEW';'INACTIVE_DATE';'RFQ_ONLY_SITE_FLAG';'PURCHASING_SITE_FLAG';'PCARD_SITE_FLAG';'PAY_SITE_FLAG';'PRIMARY_PAY_SITE_FLAG';'TAX_REPORTING_SITE_FLAG';'VENDOR_SITE_CODE_ALT';'CUSTOMER_NUM';'B2B_COMMUNICATION_METHOD';'B2B_SITE_CODE';'SUPPLIER_NOTIF_METHOD';'EMAIL_ADDRESS';'FAX_COUNTRY_CODE';'FAX_AREA_CODE';'FAX';'HOLD_FLAG';'PURCHASING_HOLD_REASON';'CARRIER';'MODE_OF_TRANSPORT_CODE';'SERVICE_LEVEL_CODE';'FREIGHT_TERMS_LOOKUP_CODE';'PAY_ON_CODE';'FOB_LOOKUP_CODE';'COUNTRY_OF_ORIGIN_CODE';'BUYER_MANAGED_TRANSPORT_FLAG';'PAY_ON_USE_FLAG';'AGING_ONSET_POINT';'AGING_PERIOD_DAYS';'CONSUMPTION_ADVICE_FREQUENCY';'CONSUMPTION_ADVICE_SUMMARY';'DEFAULT_PAY_SITE_CODE';'PAY_ON_RECEIPT_SUMMARY_CODE';'GAPLESS_INV_NUM_FLAG';'SELLING_COMPANY_IDENTIFIER';'CREATE_DEBIT_MEMO_FLAG';'ENFORCE_SHIP_TO_LOCATION_CODE';'RECEIVING_ROUTING_ID';'QTY_RCV_TOLERANCE';'QTY_RCV_EXCEPTION_CODE';'DAYS_EARLY_RECEIPT_ALLOWED';'DAYS_LATE_RECEIPT_ALLOWED';'ALLOW_SUBSTITUTE_RECEIPTS_FLAG';'ALLOW_UNORDERED_RECEIPTS_FLAG';'RECEIPT_DAYS_EXCEPTION_CODE';'INVOICE_CURRENCY_CODE';'INVOICE_AMOUNT_LIMIT';'MATCH_OPTION';'MATCH_APPROVAL_LEVEL';'PAYMENT_CURRENCY_CODE';'PAYMENT_PRIORITY';'PAY_GROUP_LOOKUP_CODE';'TOLERANCE_NAME';'SERVICES_TOLERANCE';'HOLD_ALL_PAYMENTS_FLAG';'HOLD_UNMATCHED_INVOICES_FLAG';'HOLD_FUTURE_PAYMENTS_FLAG';'HOLD_BY';'PAYMENT_HOLD_DATE';'HOLD_REASON';'TERMS_NAME';'TERMS_DATE_BASIS';'PAY_DATE_BASIS_LOOKUP_CODE';'BANK_CHARGE_DEDUCTION_TYPE';'ALWAYS_TAKE_DISC_FLAG';'EXCLUDE_FREIGHT_FROM_DISCOUNT';'EXCLUDE_TAX_FROM_DISCOUNT';'AUTO_CALCULATE_INTEREST_FLAG';'VAT_CODE';'VAT_REGISTRATION_NUM';'PAYMENT_METHOD_LOOKUP_CODE';'DELIVERY_CHANNEL_CODE';'BANK_INSTRUCTION1_CODE';'BANK_INSTRUCTION2_CODE';'BANK_INSTRUCTION_DETAILS';'SETTLEMENT_PRIORITY';'PAYMENT_TEXT_MESSAGE1';'PAYMENT_TEXT_MESSAGE2';'PAYMENT_TEXT_MESSAGE3';'IBY_BANK_CHARGE_BEARER';'PAYMENT_REASON_CODE';'PAYMENT_REASON_COMMENTS';'REMIT_ADVICE_DELIVERY_METHOD';'REMITTANCE_EMAIL';'REMITTANCE_FAX';'ATTRIBUTE_CATEGORY';'ATTRIBUTE1';'ATTRIBUTE2';'ATTRIBUTE3';'ATTRIBUTE4';'ATTRIBUTE5';'ATTRIBUTE6';'ATTRIBUTE7';'ATTRIBUTE8';'ATTRIBUTE9';'ATTRIBUTE10';'ATTRIBUTE11';'ATTRIBUTE12';'ATTRIBUTE13';'ATTRIBUTE14';'ATTRIBUTE15';'ATTRIBUTE16';'ATTRIBUTE17';'ATTRIBUTE18';'ATTRIBUTE19';'ATTRIBUTE20';'ATTRIBUTE_DATE1';'ATTRIBUTE_DATE2';'ATTRIBUTE_DATE3';'ATTRIBUTE_DATE4';'ATTRIBUTE_DATE5';'ATTRIBUTE_DATE6';'ATTRIBUTE_DATE7';'ATTRIBUTE_DATE8';'ATTRIBUTE_DATE9';'ATTRIBUTE_DATE10';'ATTRIBUTE_TIMESTAMP1';'ATTRIBUTE_TIMESTAMP2';'ATTRIBUTE_TIMESTAMP3';'ATTRIBUTE_TIMESTAMP4';'ATTRIBUTE_TIMESTAMP5';'ATTRIBUTE_TIMESTAMP6';'ATTRIBUTE_TIMESTAMP7';'ATTRIBUTE_TIMESTAMP8';'ATTRIBUTE_TIMESTAMP9';'ATTRIBUTE_TIMESTAMP10';'ATTRIBUTE_NUMBER1';'ATTRIBUTE_NUMBER2';'ATTRIBUTE_NUMBER3';'ATTRIBUTE_NUMBER4';'ATTRIBUTE_NUMBER5';'ATTRIBUTE_NUMBER6';'ATTRIBUTE_NUMBER7';'ATTRIBUTE_NUMBER8';'ATTRIBUTE_NUMBER9';'ATTRIBUTE_NUMBER10';'GLOBAL_ATTRIBUTE_CATEGORY';'GLOBAL_ATTRIBUTE1';'GLOBAL_ATTRIBUTE2';'GLOBAL_ATTRIBUTE3';'GLOBAL_ATTRIBUTE4';'GLOBAL_ATTRIBUTE5';'GLOBAL_ATTRIBUTE6';'GLOBAL_ATTRIBUTE7';'GLOBAL_ATTRIBUTE8';'GLOBAL_ATTRIBUTE9';'GLOBAL_ATTRIBUTE10';'GLOBAL_ATTRIBUTE11';'GLOBAL_ATTRIBUTE12';'GLOBAL_ATTRIBUTE13';'GLOBAL_ATTRIBUTE14';'GLOBAL_ATTRIBUTE15';'GLOBAL_ATTRIBUTE16';'GLOBAL_ATTRIBUTE17';'GLOBAL_ATTRIBUTE18';'GLOBAL_ATTRIBUTE19';'GLOBAL_ATTRIBUTE20';'GLOBAL_ATTRIBUTE_DATE1';'GLOBAL_ATTRIBUTE_DATE2';'GLOBAL_ATTRIBUTE_DATE3';'GLOBAL_ATTRIBUTE_DATE4';'GLOBAL_ATTRIBUTE_DATE5';'GLOBAL_ATTRIBUTE_DATE6';'GLOBAL_ATTRIBUTE_DATE7';'GLOBAL_ATTRIBUTE_DATE8';'GLOBAL_ATTRIBUTE_DATE9';'GLOBAL_ATTRIBUTE_DATE10';'GLOBAL_ATTRIBUTE_DATETIME1';'GLOBAL_ATTRIBUTE_DATETIME2';'GLOBAL_ATTRIBUTE_DATETIME3';'GLOBAL_ATTRIBUTE_DATETIME4';'GLOBAL_ATTRIBUTE_DATETIME5';'GLOBAL_ATTRIBUTE_DATETIME6';'GLOBAL_ATTRIBUTE_DATETIME7';'GLOBAL_ATTRIBUTE_DATETIME8';'GLOBAL_ATTRIBUTE_DATETIME9';'GLOBAL_ATTRIBUTE_DATETIME10';'GLOBAL_ATTRIBUTE_NUMBER1';'GLOBAL_ATTRIBUTE_NUMBER2';'GLOBAL_ATTRIBUTE_NUMBER3';'GLOBAL_ATTRIBUTE_NUMBER4';'GLOBAL_ATTRIBUTE_NUMBER5';'GLOBAL_ATTRIBUTE_NUMBER6';'GLOBAL_ATTRIBUTE_NUMBER7';'GLOBAL_ATTRIBUTE_NUMBER8';'GLOBAL_ATTRIBUTE_NUMBER9';'GLOBAL_ATTRIBUTE_NUMBER10';'PO_ACK_REQD_CODE';'PO_ACK_REQD_DAYS';'INVOICE_CHANNEL';'PAYEE_SERVICE_LEVEL_CODE';'EXCLUSIVE_PAYMENT_FLAG'\n\n'GASTOS';'&JE040614N51';'';'CREATE';'A & J EXPORTACIONES SA DE CV';'BU_CSACV';'PRINCIPAL';'GT&JE040614N51';'';'';'N';'N';'';'Y';'N';'';'';'';'';'';'';'';'';'';'';'';'';'';'';'';'';'';'';'';'';'';'';'';'';'';'';'';'';'';'';'';'';'';'';'';'';'';'';'';'MXN';'';'';'';'MXN';'99';'';'';'';'';'';'';'';'';'';'30 DIAS';'Invoice';'DUE';'';'';'';'';'';'';'';'Transferencia';'';'';'';'';'';'';'';'';'';'';'';'';'';'';'';'';'';'';'';'';'';'';'';'';'';'';'';'';'';'';'';'';'';'';'';'';'';'';'';'';'';'';'';'';'';'';'';'';'';'';'';'';'';'';'';'';'';'';'';'';'';'';'';'';'';'';'';'';'';'';'';'';'';'';'';'';'';'';'';'';'';'';'';'';'';'';'';'';'';'';'';'';'';'';'';'';'';'';'';'';'';'';'';'';'';'';'';'';'';'';'';'';'';'';'';'';'';'';'';'';''\n\n'OBRAS';'&JE040614N51';'';'CREATE';'A & J EXPORTACIONES SA DE CV';'BU_CSACV';'PRINCIPAL';'SO&JE040614N51';'';'';'N';'N';'';'Y';'N';'';'';'';'';'';'';'';'';'';'';'';'';'';'';'';'';'';'';'';'';'';'';'';'';'';'';'';'';'';'';'';'';'';'';'';'';'';'';'';'MXN';'';'';'';'MXN';'99';'';'';'';'';'';'';'';'';'';'Immediate';'Invoice';'DUE';'';'';'';'';'';'';'';'Transferencia';'';'';'';'';'';'';'';'';'';'';'';'';'';'';'';'';'';'';'';'';'';'';'';'';'';'';'';'';'';'';'';'';'';'';'';'';'';'';'';'';'';'';'';'';'';'';'';'';'';'';'';'';'';'';'';'';'';'';'';'';'';'';'';'';'';'';'';'';'';'';'';'';'';'';'';'';'';'';'';'';'';'';'';'';'';'';'';'';'';'';'';'';'';'';'';'';'';'';'';'';'';'';'';'';'';'';'';'';'';'';'';'';'';'';'';'';'';'';'';'';''\n\n'GASTOS';'00AL570409DC8';'';'CREATE';'OSORIO ALVAREZ JOSE LUIS';'BU_CSACV';'PRINCIPAL';'GT00AL570409DC8';'';'';'N';'N';'';'Y';'N';'';'';'';'';'';'';'';'';'';'';'';'';'';'';'';'';'';'';'';'';'';'';'';'';'';'';'';'';'';'';'';'';'';'';'';'';'';'';'';'MXN';'';'';'';'MXN';'99';'';'';'';'';'';'';'';'';'';'30 DIAS';'Invoice';'DUE';'';'';'';'';'';'';'';'Transferencia';'';'';'';'';'';'';'';'';'';'';'';'';'';'';'';'';'';'';'';'';'';'';'';'';'';'';'';'';'';'';'';'';'';'';'';'';'';'';'';'';'';'';'';'';'';'';'';'';'';'';'';'';'';'';'';'';'';'';'';'';'';'';'';'';'';'';'';'';'';'';'';'';'';'';'';'';'';'';'';'';'';'';'';'';'';'';'';'';'';'';'';'';'';'';'';'';'';'';'';'';'';'';'';'';'';'';'';'';'';'';'';'';'';'';'';'';'';'';'';'';''\n\n'OBRAS';'00AL570409DC8';'';'CREATE';'OSORIO ALVAREZ JOSE LUIS';'BU_CSACV';'PRINCIPAL';'SO00AL570409DC8';'';'';'N';'N';'';'Y';'N';'';'';'';'';'';'';'';'';'';'';'';'';'';'';'';'';'';'';'';'';'';'';'';'';'';'';'';'';'';'';'';'';'';'';'';'';'';'';'';'MXN';'';'';'';'MXN';'99';'';'';'';'';'';'';'';'';'';'Immediate';'Invoice';'DUE';'';'';'';'';'';'';'';'Transferencia';'';'';'';'';'';'';'';'';'';'';'';'';'';'';'';'';'';'';'';'';'';'';'';'';'';'';'';'';'';'';'';'';'';'';'';'';'';'';'';'';'';'';'';'';'';'';'';'';'';'';'';'';'';'';'';'';'';'';'';'';'';'';'';'';'';'';'';'';'';'';'';'';'';'';'';'';'';'';'';'';'';'';'';'';'';'';'';'';'';'';'';'';'';'';'';'';'';'';'';'';'';'';'';'';'';'';'';'';'';'';'';'';'';'';'';'';'';'';'';'';''\n\n'OBRAS';'00BR5103152L7';'';'CREATE';'ORDOÑEZ BARBA RAYMUNDO';'BU_CSACV';'PRINCIPAL';'SO00BR5103152L7';'';'';'N';'N';'';'Y';'N';'';'';'';'';'';'';'';'';'';'';'';'';'';'';'';'';'';'';'';'';'';'';'';'';'';'';'';'';'';'';'';'';'';'';'';'';'';'';'';'MXN';'';'';'';'MXN';'99';'';'';'';'';'';'';'';'';'';'Immediate';'Invoice';'DUE';'';'';'';'';'';'';'';'Transferencia';'';'';'';'';'';'';'';'';'';'';'';'';'';'';'';'';'';'';'';'';'';'';'';'';'';'';'';'';'';'';'';'';'';'';'';'';'';'';'';'';'';'';'';'';'';'';'';'';'';'';'';'';'';'';'';'';'';'';'';'';'';'';'';'';'';'';'';'';'';'';'';'';'';'';'';'';'';'';'';'';'';'';'';'';'';'';'';'';'';'';'';'';'';'';'';'';'';'';'';'';'';'';'';'';'';'';'';'';'';'';'';'';'';'';'';'';'';'';'';'';''\n\n'GASTOS';'00BR5103152L7';'';'CREATE';'ORDOÑEZ BARBA RAYMUNDO';'BU_CSACV';'PRINCIPAL';'GT00BR5103152L7';'';'';'N';'N';'';'Y';'N';'';'';'';'';'';'';'';'';'';'';'';'';'';'';'';'';'';'';'';'';'';'';'';'';'';'';'';'';'';'';'';'';'';'';'';'';'';'';'';'MXN';'';'';'';'MXN';'99';'';'';'';'';'';'';'';'';'';'30 DIAS';'Invoice';'DUE';'';'';'';'';'';'';'';'Transferencia';'';'';'';'';'';'';'';'';'';'';'';'';'';'';'';'';'';'';'';'';'';'';'';'';'';'';'';'';'';'';'';'';'';'';'';'';'';'';'';'';'';'';'';'';'';'';'';'';'';'';'';'';'';'';'';'';'';'';'';'';'';'';'';'';'';'';'';'';'';'';'';'';'';'';'';'';'';'';'';'';'';'';'';'';'';'';'';'';'';'';'';'';'';'';'';'';'';'';'';'';'';'';'';'';'';'';'';'';'';'';'';'';'';'';'';'';'';'';'';'';''\n\n'OBRAS';'00CE810603TI4';'';'CREATE';'OROSCO CORIA EMMA';'BU_CSACV';'PRINCIPAL';'SO00CE810603TI4';'';'';'N';'N';'';'Y';'N';'';'';'';'';'';'';'';'';'';'';'';'';'';'';'';'';'';'';'';'';'';'';'';'';'';'';'';'';'';'';'';'';'';'';'';'';'';'';'';'MXN';'';'';'';'MXN';'99';'';'';'';'';'';'';'';'';'';'Immediate';'Invoice';'DUE';'';'';'';'';'';'';'';'Transferencia';'';'';'';'';'';'';'';'';'';'';'';'';'';'';'';'';'';'';'';'';'';'';'';'';'';'';'';'';'';'';'';'';'';'';'';'';'';'';'';'';'';'';'';'';'';'';'';'';'';'';'';'';'';'';'';'';'';'';'';'';'';'';'';'';'';'';'';'';'';'';'';'';'';'';'';'';'';'';'';'';'';'';'';'';'';'';'';'';'';'';'';'';'';'';'';'';'';'';'';'';'';'';'';'';'';'';'';'';'';'';'';'';'';'';'';'';'';'';'';'';''\n\n'GASTOS';'00CE810603TI4';'';'CREATE';'OROSCO CORIA EMMA';'BU_CSACV';'PRINCIPAL';'GT00CE810603TI4';'';'';'N';'N';'';'Y';'N';'';'';'';'';'';'';'';'';'';'';'';'';'';'';'';'';'';'';'';'';'';'';'';'';'';'';'';'';'';'';'';'';'';'';'';'';'';'';'';'MXN';'';'';'';'MXN';'99';'';'';'';'';'';'';'';'';'';'30 DIAS';'Invoice';'DUE';'';'';'';'';'';'';'';'Transferencia';'';'';'';'';'';'';'';'';'';'';'';'';'';'';'';'';'';'';'';'';'';'';'';'';'';'';'';'';'';'';'';'';'';'';'';'';'';'';'';'';'';'';'';'';'';'';'';'';'';'';'';'';'';'';'';'';'';'';'';'';'';'';'';'';'';'';'';'';'';'';'';'';'';'';'';'';'';'';'';'';'';'';'';'';'';'';'';'';'';'';'';'';'';'';'';'';'';'';'';'';'';'';'';'';'';'';'';'';'';'';'';'';'';'';'';'';'';'';'';'';''\n\n'PORTAL SARI';'1482';'';'CREATE';'CHONG BARRERA OSCAR EMILIO';'BU_CSACV';'PRINCIPAL';'SA1482MXN000';'';'';'N';'N';'';'Y';'N';'';'';'';'';'';'';'';'';'';'';'';'';'';'';'';'';'';'';'';'';'';'';'';'';'';'';'';'';'';'';'';'';'';'';'';'';'';'';'';'MXN';'';'';'';'MXN';'99';'';'';'';'';'';'';'';'';'';'Immediate';'Invoice';'DUE';'';'';'';'';'';'';'';'Transferencia';'';'';'';'';'';'';'';'';'';'';'';'';'';'';'';'';'';'';'';'';'';'';'';'';'';'';'';'';'';'';'';'';'';'';'';'';'';'';'';'';'';'';'';'';'';'';'';'';'';'';'';'';'';'';'';'';'';'';'';'';'';'';'';'';'';'';'';'';'';'';'';'';'';'';'';'';'';'';'';'';'';'';'';'';'';'';'';'';'';'';'';'';'';'';'';'';'';'';'';'';'';'';'';'';'';'';'';'';'';'';'';'';'';'';'';'';'';'';'';'';''\n\n'NEGOCIOS AFILIADOS';'1482';'';'CREATE';'PROCOMEX MAZATLAN SA DE CV';'BU_CSACV';'PRINCIPAL';'NA1482';'';'';'N';'N';'';'Y';'N';'';'';'';'';'';'';'';'';'';'';'';'';'';'';'';'';'';'';'';'';'';'';'';'';'';'';'';'';'';'';'';'';'';'';'';'';'';'';'';'MXN';'';'';'';'MXN';'99';'';'';'';'';'';'';'';'';'';'Immediate';'Invoice';'DUE';'';'';'';'';'';'';'';'Transferencia';'';'';'';'';'';'';'';'';'';'';'';'';'';'';'';'';'';'';'';'';'';'';'';'';'';'';'';'';'';'';'';'';'';'';'';'';'';'';'';'';'';'';'';'';'';'';'';'';'';'';'';'';'';'';'';'';'';'';'';'';'';'';'';'';'';'';'';'';'';'';'';'';'';'';'';'';'';'';'';'';'';'';'';'';'';'';'';'';'';'';'';'';'';'';'';'';'';'';'';'';'';'';'';'';'';'';'';'';'';'';'';'';'';'';'';'';'';'';'';'';''\n\n"
     ]
    }
   ],
   "source": [
    "textFileToValidate = open(Path(workFolder,'3. SUPPLIER_SITES_INTERFACE_COPPEL(NEW).csv'), 'r', encoding='utf-8')\n",
    "if textFileToValidate:\n",
    "    numTextLines = 0\n",
    "    while True:\n",
    "        numTextLines += 1\n",
    "        textLine = textFileToValidate.readline()\n",
    "        print(textLine)\n",
    "        if numTextLines >10: break\n",
    "    inputTextFile.close()"
   ]
  },
  {
   "cell_type": "code",
   "execution_count": 17,
   "metadata": {},
   "outputs": [
    {
     "output_type": "stream",
     "name": "stdout",
     "text": [
      "164488  records found.\n"
     ]
    }
   ],
   "source": [
    "validationDf = pd.read_csv(Path(workFolder,'3. SUPPLIER_SITES_INTERFACE_COPPEL(NEW).csv'), sep=';', quotechar=chr(39), encoding='utf-8')\n",
    "validationDf.dtypes\n",
    "print(len(validationDf.index), ' records found.')"
   ]
  },
  {
   "source": [
    "### Step 12 - Additional Validation - duplicated names"
   ],
   "cell_type": "markdown",
   "metadata": {}
  },
  {
   "cell_type": "code",
   "execution_count": 18,
   "metadata": {},
   "outputs": [
    {
     "output_type": "stream",
     "name": "stdout",
     "text": [
      "164487  number of records.\n  NUMERO_PROVEEDOR                   VENDOR_NAME VENDOR_SITE_CODE\n0     &JE040614N51  A & J EXPORTACIONES SA DE CV   GT&JE040614N51\n1     &JE040614N51  A & J EXPORTACIONES SA DE CV   SO&JE040614N51\n2    00AL570409DC8      OSORIO ALVAREZ JOSE LUIS  GT00AL570409DC8\n3    00AL570409DC8      OSORIO ALVAREZ JOSE LUIS  SO00AL570409DC8\n4    00BR5103152L7        ORDOÑEZ BARBA RAYMUNDO  SO00BR5103152L7\n5    00BR5103152L7        ORDOÑEZ BARBA RAYMUNDO  GT00BR5103152L7\n6    00CE810603TI4             OROSCO CORIA EMMA  SO00CE810603TI4\n7    00CE810603TI4             OROSCO CORIA EMMA  GT00CE810603TI4\n8             1482    CHONG BARRERA OSCAR EMILIO     SA1482MXN000\n9             1482    PROCOMEX MAZATLAN SA DE CV           NA1482\n"
     ]
    }
   ],
   "source": [
    "sql_query = '''\n",
    "SELECT DISTINCT NUMERO_PROVEEDOR,VENDOR_NAME,VENDOR_SITE_CODE FROM newReportDf\n",
    "'''\n",
    "SupplierVendorNameVendorSiteCodeDf = ps.sqldf(sql_query)\n",
    "SupplierVendorNameVendorSiteCodeDf['NUMERO_PROVEEDOR'] = SupplierVendorNameVendorSiteCodeDf['NUMERO_PROVEEDOR'].astype(pd.StringDtype())\n",
    "SupplierVendorNameVendorSiteCodeDf['VENDOR_NAME'] = SupplierVendorNameVendorSiteCodeDf['VENDOR_NAME'].astype(pd.StringDtype())\n",
    "SupplierVendorNameVendorSiteCodeDf['VENDOR_SITE_CODE'] = SupplierVendorNameVendorSiteCodeDf['VENDOR_SITE_CODE'].astype(pd.StringDtype())\n",
    "print(len(SupplierVendorNameVendorSiteCodeDf.index), ' number of records.')\n",
    "print(SupplierVendorNameVendorSiteCodeDf.head(10))"
   ]
  },
  {
   "cell_type": "code",
   "execution_count": 20,
   "metadata": {},
   "outputs": [
    {
     "output_type": "stream",
     "name": "stdout",
     "text": [
      "164250  number of non duplicate records.\n",
      "107  number of duplicate records.\n"
     ]
    }
   ],
   "source": [
    "sql_query = '''\n",
    "SELECT NUMERO_PROVEEDOR,VENDOR_SITE_CODE,COUNT(*) AS numObs \n",
    "FROM SupplierVendorNameVendorSiteCodeDf\n",
    "GROUP BY NUMERO_PROVEEDOR,VENDOR_SITE_CODE\n",
    "ORDER BY numObs DESC\n",
    "'''\n",
    "SupplierVendorSiteCodeDf = ps.sqldf(sql_query)\n",
    "#\n",
    "sql_query = '''\n",
    "SELECT NUMERO_PROVEEDOR,VENDOR_SITE_CODE FROM SupplierVendorSiteCodeDf\n",
    "WHERE numObs=1\n",
    "'''\n",
    "noDupsSupplierVendorSiteCodeDf = ps.sqldf(sql_query)\n",
    "noDupsSupplierVendorSiteCodeDf['NUMERO_PROVEEDOR'] = noDupsSupplierVendorSiteCodeDf['NUMERO_PROVEEDOR'].astype(pd.StringDtype())\n",
    "noDupsSupplierVendorSiteCodeDf['VENDOR_SITE_CODE'] = noDupsSupplierVendorSiteCodeDf['VENDOR_SITE_CODE'].astype(pd.StringDtype())\n",
    "print(len(noDupsSupplierVendorSiteCodeDf.index), ' number of non duplicate records.')\n",
    "#\n",
    "sql_query = '''\n",
    "SELECT NUMERO_PROVEEDOR,VENDOR_SITE_CODE FROM SupplierVendorSiteCodeDf\n",
    "WHERE numObs>1\n",
    "'''\n",
    "dupSupplierVendorSiteCodeDf = ps.sqldf(sql_query)\n",
    "dupSupplierVendorSiteCodeDf['NUMERO_PROVEEDOR'] = dupSupplierVendorSiteCodeDf['NUMERO_PROVEEDOR'].astype(pd.StringDtype())\n",
    "dupSupplierVendorSiteCodeDf['VENDOR_SITE_CODE'] = dupSupplierVendorSiteCodeDf['VENDOR_SITE_CODE'].astype(pd.StringDtype())\n",
    "print(len(dupSupplierVendorSiteCodeDf.index), ' number of duplicate records.')"
   ]
  },
  {
   "cell_type": "code",
   "execution_count": 25,
   "metadata": {},
   "outputs": [
    {
     "output_type": "stream",
     "name": "stdout",
     "text": [
      "164250  non duplicated supplier id, vendor site code and name\n",
      "  NUMERO_PROVEEDOR VENDOR_SITE_CODE                   VENDOR_NAME\n",
      "0     &JE040614N51   GT&JE040614N51  A & J EXPORTACIONES SA DE CV\n",
      "1     &JE040614N51   SO&JE040614N51  A & J EXPORTACIONES SA DE CV\n",
      "2    00AL570409DC8  GT00AL570409DC8      OSORIO ALVAREZ JOSE LUIS\n",
      "3    00AL570409DC8  SO00AL570409DC8      OSORIO ALVAREZ JOSE LUIS\n",
      "4    00BR5103152L7  GT00BR5103152L7        ORDOÑEZ BARBA RAYMUNDO\n",
      "5    00BR5103152L7  SO00BR5103152L7        ORDOÑEZ BARBA RAYMUNDO\n",
      "6    00CE810603TI4  GT00CE810603TI4             OROSCO CORIA EMMA\n",
      "7    00CE810603TI4  SO00CE810603TI4             OROSCO CORIA EMMA\n",
      "8             1482           NA1482    PROCOMEX MAZATLAN SA DE CV\n",
      "9             1482     SA1482MXN000    CHONG BARRERA OSCAR EMILIO\n",
      "237  duplicated supplier id, vendor site code and name\n",
      "  NUMERO_PROVEEDOR VENDOR_SITE_CODE  \\\n",
      "0    SACE650728LK6  MSSACE650728LK6   \n",
      "1    SACE650728LK6  MSSACE650728LK6   \n",
      "2    SACE650728LK6  MSSACE650728LK6   \n",
      "3    SACE650728LK6  MSSACE650728LK6   \n",
      "4    SACE650728LK6  MSSACE650728LK6   \n",
      "5    SACE650728LK6  MSSACE650728LK6   \n",
      "6    SACE650728LK6  MSSACE650728LK6   \n",
      "7    SACE650728LK6  MSSACE650728LK6   \n",
      "8     DBM000228J35   GTDBM000228J35   \n",
      "9     DBM000228J35   GTDBM000228J35   \n",
      "\n",
      "                                         VENDOR_NAME  \n",
      "0  ABRAHAM DE JESU SALAS MOLINA                  ...  \n",
      "1  AURI BELEN MONS VIDAL SANTOS                  ...  \n",
      "2  CELSA SANCHEZ N                               ...  \n",
      "3  MARIA ISABEL ORNELAS VAZQUEZ                  ...  \n",
      "4  NANCY PATRICIA RIZO ROCHA                     ...  \n",
      "5  OLGA VENTURA BARCENAS                         ...  \n",
      "6  OMAR ISRAEL MORA FRANCO                       ...  \n",
      "7  ROMAN VALDIVIA CASTAÑEDA                      ...  \n",
      "8                      DEUTSCHE BANK MEXICO SA F1585  \n",
      "9                      DEUTSCHE BANK MEXICO SA F1790  \n"
     ]
    }
   ],
   "source": [
    "dataSetWithUniqueRecordsStep1 = noDupsSupplierVendorSiteCodeDf.merge(SupplierVendorNameVendorSiteCodeDf, on=['NUMERO_PROVEEDOR','VENDOR_SITE_CODE'], how='left')\n",
    "print(len(dataSetWithUniqueRecordsStep1.index), ' non duplicated supplier id, vendor site code and name')\n",
    "print(dataSetWithUniqueRecordsStep1.head(10))\n",
    "dataSetWithUniqueRecordsStep1.to_csv(Path(workFolder, 'uniqueSupplierVendorSitecodeandVendorNameStep1.csv'), encoding='utf-8')\n",
    "dataSetToReview = dupSupplierVendorSiteCodeDf.merge(SupplierVendorNameVendorSiteCodeDf, on=['NUMERO_PROVEEDOR','VENDOR_SITE_CODE'], how='left')\n",
    "print(len(dataSetToReview.index), ' duplicated supplier id, vendor site code and name')\n",
    "print(dataSetToReview.head(10))\n",
    "dataSetToReview.to_csv(Path(workFolder, 'duplicateSupplierVendorSitecodeandVendorName.csv'), encoding='utf-8')"
   ]
  },
  {
   "cell_type": "code",
   "execution_count": 27,
   "metadata": {},
   "outputs": [
    {
     "output_type": "error",
     "ename": "SyntaxError",
     "evalue": "invalid syntax (<ipython-input-27-0bd3db978d06>, line 7)",
     "traceback": [
      "\u001b[0;36m  File \u001b[0;32m\"<ipython-input-27-0bd3db978d06>\"\u001b[0;36m, line \u001b[0;32m7\u001b[0m\n\u001b[0;31m    print(len(dataSetWithUniqueRecordsStep2.index), ' records'))\u001b[0m\n\u001b[0m                                                               ^\u001b[0m\n\u001b[0;31mSyntaxError\u001b[0m\u001b[0;31m:\u001b[0m invalid syntax\n"
     ]
    }
   ],
   "source": [
    "sql_query = '''\n",
    "SELECT NUMERO_PROVEEDOR,COUNT(*) AS numObs FROM dataSetWithUniqueRecordsStep1\n",
    "GROUP NUMERO_PROVEEDOR\n",
    "'''\n",
    "dataSetWithUniqueRecordsStep2 = ps.sqldf(sql_query)\n",
    "dataSetWithUniqueRecordsStep2['NUMERO_PROVEEDOR'] = dataSetWithUniqueRecordsStep2['NUMERO_PROVEEDOR'].astype(pd.StringDtype())\n",
    "print(len(dataSetWithUniqueRecordsStep2.index), ' records')\n",
    "#\n",
    "sql_query = '''\n",
    "SELECT NUMERO_PROVEEDOR FROM dataSetWithUniqueRecordsStep2\n",
    "WHERE numObs=1\n",
    "'''\n",
    "uniqueSupplierIds = ps.sqldf(sql_query)\n",
    "uniqueSupplierIds['NUMERO_PROVEEDOR'] = uniqueSupplierIds['NUMERO_PROVEEDOR'].astype(pd.StringDtype()\n",
    "print(len(dataSetWithUniqueRecordsStep2.index), ' unique records')\n",
    "#\n",
    "sql_query = '''\n",
    "SELECT NUMERO_PROVEEDOR FROM dataSetWithUniqueRecordsStep2\n",
    "WHERE numObs>1\n",
    "'''\n",
    "dupsSupplierIds = ps.sqldf(sql_query)\n",
    "dupsSupplierIds['NUMERO_PROVEEDOR'] = dupsSupplierIds['NUMERO_PROVEEDOR'].astype(pd.StringDtype()\n",
    "print(len(dupsSupplierIds.index), ' non unique records'))"
   ]
  },
  {
   "cell_type": "code",
   "execution_count": null,
   "metadata": {},
   "outputs": [],
   "source": []
  }
 ]
}