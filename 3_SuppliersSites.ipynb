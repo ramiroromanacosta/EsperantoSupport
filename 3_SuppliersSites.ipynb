{
 "metadata": {
  "orig_nbformat": 2,
  "kernelspec": {
   "name": "python2",
   "display_name": "Python 2",
   "language": "python"
  }
 },
 "nbformat": 4,
 "nbformat_minor": 2,
 "cells": [
  {
   "source": [
    "## Data from File 3 Suppliers Interface"
   ],
   "cell_type": "markdown",
   "metadata": {}
  },
  {
   "source": [
    "### Step 1. Load required package"
   ],
   "cell_type": "markdown",
   "metadata": {}
  },
  {
   "cell_type": "code",
   "execution_count": 1,
   "metadata": {},
   "outputs": [],
   "source": [
    "import pandas as pd\n",
    "import pandasql as ps\n",
    "from pathlib import Path"
   ]
  },
  {
   "source": [
    "### Step 2 - Get sample from source file"
   ],
   "cell_type": "markdown",
   "metadata": {}
  },
  {
   "cell_type": "code",
   "execution_count": 2,
   "metadata": {},
   "outputs": [
    {
     "output_type": "stream",
     "name": "stdout",
     "text": [
      "'SISTEMA_LEGADO';'NUMERO_PROVEEDOR';'BATCH_ID';'IMPORT_ACTION';'VENDOR_NAME';'PROCUREMENT_BUSINESS_UNIT_NAME';'PARTY_SITE_NAME';'VENDOR_SITE_CODE';'VENDOR_SITE_CODE_NEW';'INACTIVE_DATE';'RFQ_ONLY_SITE_FLAG';'PURCHASING_SITE_FLAG';'PCARD_SITE_FLAG';'PAY_SITE_FLAG';'PRIMARY_PAY_SITE_FLAG';'TAX_REPORTING_SITE_FLAG';'VENDOR_SITE_CODE_ALT';'CUSTOMER_NUM';'B2B_COMMUNICATION_METHOD';'B2B_SITE_CODE';'SUPPLIER_NOTIF_METHOD';'EMAIL_ADDRESS';'FAX_COUNTRY_CODE';'FAX_AREA_CODE';'FAX';'HOLD_FLAG';'PURCHASING_HOLD_REASON';'CARRIER';'MODE_OF_TRANSPORT_CODE';'SERVICE_LEVEL_CODE';'FREIGHT_TERMS_LOOKUP_CODE';'PAY_ON_CODE';'FOB_LOOKUP_CODE';'COUNTRY_OF_ORIGIN_CODE';'BUYER_MANAGED_TRANSPORT_FLAG';'PAY_ON_USE_FLAG';'AGING_ONSET_POINT';'AGING_PERIOD_DAYS';'CONSUMPTION_ADVICE_FREQUENCY';'CONSUMPTION_ADVICE_SUMMARY';'DEFAULT_PAY_SITE_CODE';'PAY_ON_RECEIPT_SUMMARY_CODE';'GAPLESS_INV_NUM_FLAG';'SELLING_COMPANY_IDENTIFIER';'CREATE_DEBIT_MEMO_FLAG';'ENFORCE_SHIP_TO_LOCATION_CODE';'RECEIVING_ROUTING_ID';'QTY_RCV_TOLERANCE';'QTY_RCV_EXCEPTION_CODE';'DAYS_EARLY_RECEIPT_ALLOWED';'DAYS_LATE_RECEIPT_ALLOWED';'ALLOW_SUBSTITUTE_RECEIPTS_FLAG';'ALLOW_UNORDERED_RECEIPTS_FLAG';'RECEIPT_DAYS_EXCEPTION_CODE';'INVOICE_CURRENCY_CODE';'INVOICE_AMOUNT_LIMIT';'MATCH_OPTION';'MATCH_APPROVAL_LEVEL';'PAYMENT_CURRENCY_CODE';'PAYMENT_PRIORITY';'PAY_GROUP_LOOKUP_CODE';'TOLERANCE_NAME';'SERVICES_TOLERANCE';'HOLD_ALL_PAYMENTS_FLAG';'HOLD_UNMATCHED_INVOICES_FLAG';'HOLD_FUTURE_PAYMENTS_FLAG';'HOLD_BY';'PAYMENT_HOLD_DATE';'HOLD_REASON';'TERMS_NAME';'TERMS_DATE_BASIS';'PAY_DATE_BASIS_LOOKUP_CODE';'BANK_CHARGE_DEDUCTION_TYPE';'ALWAYS_TAKE_DISC_FLAG';'EXCLUDE_FREIGHT_FROM_DISCOUNT';'EXCLUDE_TAX_FROM_DISCOUNT';'AUTO_CALCULATE_INTEREST_FLAG';'VAT_CODE';'VAT_REGISTRATION_NUM';'PAYMENT_METHOD_LOOKUP_CODE';'DELIVERY_CHANNEL_CODE';'BANK_INSTRUCTION1_CODE';'BANK_INSTRUCTION2_CODE';'BANK_INSTRUCTION_DETAILS';'SETTLEMENT_PRIORITY';'PAYMENT_TEXT_MESSAGE1';'PAYMENT_TEXT_MESSAGE2';'PAYMENT_TEXT_MESSAGE3';'IBY_BANK_CHARGE_BEARER';'PAYMENT_REASON_CODE';'PAYMENT_REASON_COMMENTS';'REMIT_ADVICE_DELIVERY_METHOD';'REMITTANCE_EMAIL';'REMITTANCE_FAX';'ATTRIBUTE_CATEGORY';'ATTRIBUTE1';'ATTRIBUTE2';'ATTRIBUTE3';'ATTRIBUTE4';'ATTRIBUTE5';'ATTRIBUTE6';'ATTRIBUTE7';'ATTRIBUTE8';'ATTRIBUTE9';'ATTRIBUTE10';'ATTRIBUTE11';'ATTRIBUTE12';'ATTRIBUTE13';'ATTRIBUTE14';'ATTRIBUTE15';'ATTRIBUTE16';'ATTRIBUTE17';'ATTRIBUTE18';'ATTRIBUTE19';'ATTRIBUTE20';'ATTRIBUTE_DATE1';'ATTRIBUTE_DATE2';'ATTRIBUTE_DATE3';'ATTRIBUTE_DATE4';'ATTRIBUTE_DATE5';'ATTRIBUTE_DATE6';'ATTRIBUTE_DATE7';'ATTRIBUTE_DATE8';'ATTRIBUTE_DATE9';'ATTRIBUTE_DATE10';'ATTRIBUTE_TIMESTAMP1';'ATTRIBUTE_TIMESTAMP2';'ATTRIBUTE_TIMESTAMP3';'ATTRIBUTE_TIMESTAMP4';'ATTRIBUTE_TIMESTAMP5';'ATTRIBUTE_TIMESTAMP6';'ATTRIBUTE_TIMESTAMP7';'ATTRIBUTE_TIMESTAMP8';'ATTRIBUTE_TIMESTAMP9';'ATTRIBUTE_TIMESTAMP10';'ATTRIBUTE_NUMBER1';'ATTRIBUTE_NUMBER2';'ATTRIBUTE_NUMBER3';'ATTRIBUTE_NUMBER4';'ATTRIBUTE_NUMBER5';'ATTRIBUTE_NUMBER6';'ATTRIBUTE_NUMBER7';'ATTRIBUTE_NUMBER8';'ATTRIBUTE_NUMBER9';'ATTRIBUTE_NUMBER10';'GLOBAL_ATTRIBUTE_CATEGORY';'GLOBAL_ATTRIBUTE1';'GLOBAL_ATTRIBUTE2';'GLOBAL_ATTRIBUTE3';'GLOBAL_ATTRIBUTE4';'GLOBAL_ATTRIBUTE5';'GLOBAL_ATTRIBUTE6';'GLOBAL_ATTRIBUTE7';'GLOBAL_ATTRIBUTE8';'GLOBAL_ATTRIBUTE9';'GLOBAL_ATTRIBUTE10';'GLOBAL_ATTRIBUTE11';'GLOBAL_ATTRIBUTE12';'GLOBAL_ATTRIBUTE13';'GLOBAL_ATTRIBUTE14';'GLOBAL_ATTRIBUTE15';'GLOBAL_ATTRIBUTE16';'GLOBAL_ATTRIBUTE17';'GLOBAL_ATTRIBUTE18';'GLOBAL_ATTRIBUTE19';'GLOBAL_ATTRIBUTE20';'GLOBAL_ATTRIBUTE_DATE1';'GLOBAL_ATTRIBUTE_DATE2';'GLOBAL_ATTRIBUTE_DATE3';'GLOBAL_ATTRIBUTE_DATE4';'GLOBAL_ATTRIBUTE_DATE5';'GLOBAL_ATTRIBUTE_DATE6';'GLOBAL_ATTRIBUTE_DATE7';'GLOBAL_ATTRIBUTE_DATE8';'GLOBAL_ATTRIBUTE_DATE9';'GLOBAL_ATTRIBUTE_DATE10';'GLOBAL_ATTRIBUTE_DATETIME1';'GLOBAL_ATTRIBUTE_DATETIME2';'GLOBAL_ATTRIBUTE_DATETIME3';'GLOBAL_ATTRIBUTE_DATETIME4';'GLOBAL_ATTRIBUTE_DATETIME5';'GLOBAL_ATTRIBUTE_DATETIME6';'GLOBAL_ATTRIBUTE_DATETIME7';'GLOBAL_ATTRIBUTE_DATETIME8';'GLOBAL_ATTRIBUTE_DATETIME9';'GLOBAL_ATTRIBUTE_DATETIME10';'GLOBAL_ATTRIBUTE_NUMBER1';'GLOBAL_ATTRIBUTE_NUMBER2';'GLOBAL_ATTRIBUTE_NUMBER3';'GLOBAL_ATTRIBUTE_NUMBER4';'GLOBAL_ATTRIBUTE_NUMBER5';'GLOBAL_ATTRIBUTE_NUMBER6';'GLOBAL_ATTRIBUTE_NUMBER7';'GLOBAL_ATTRIBUTE_NUMBER8';'GLOBAL_ATTRIBUTE_NUMBER9';'GLOBAL_ATTRIBUTE_NUMBER10';'PO_ACK_REQD_CODE';'PO_ACK_REQD_DAYS';'INVOICE_CHANNEL';'PAYEE_SERVICE_LEVEL_CODE';'EXCLUSIVE_PAYMENT_FLAG'\n\n'SAJ';'3';'';'CREATE';'';'BU_CSACV';'PRINCIPAL';'SJ3MXN004';'';'';'N';'N';'';'Y';'N';'';'';'';'';'';'';'';'';'';'';'';'';'';'';'';'';'';'';'';'';'';'';'';'';'';'';'';'';'';'';'';'';'';'';'';'';'';'';'';'MXN';'';'';'';'MXN';'99';'';'';'';'';'';'';'';'';'';'Immediate';'Invoice';'DUE';'';'';'';'';'';'';'';'Transferencia';'';'';'';'';'';'';'';'';'';'';'';'';'';'';'';'';'';'';'';'';'';'';'';'';'';'';'';'';'';'';'';'';'';'';'';'';'';'';'';'';'';'';'';'';'';'';'';'';'';'';'';'';'';'';'';'';'';'';'';'';'';'';'';'';'';'';'';'';'';'';'';'';'';'';'';'';'';'';'';'';'';'';'';'';'';'';'';'';'';'';'';'';'';'';'';'';'';'';'';'';'';'';'';'';'';'';'';'';'';'';'';'';'';'';'';'';'';'';'';'';''\n\n'OBRAS';'GAVE860528F18';'';'CREATE';'0 VERGARA EFRAIN';'BU_CSACV';'PRINCIPAL';'SOGAVE860528F18';'';'';'N';'N';'';'Y';'N';'';'';'';'';'';'';'';'';'';'';'';'';'';'';'';'';'';'';'';'';'';'';'';'';'';'';'';'';'';'';'';'';'';'';'';'';'';'';'';'MXN';'';'';'';'MXN';'99';'';'';'';'';'';'';'';'';'';'Immediate';'Invoice';'DUE';'';'';'';'';'';'';'';'Transferencia';'';'';'';'';'';'';'';'';'';'';'';'';'';'';'';'';'';'';'';'';'';'';'';'';'';'';'';'';'';'';'';'';'';'';'';'';'';'';'';'';'';'';'';'';'';'';'';'';'';'';'';'';'';'';'';'';'';'';'';'';'';'';'';'';'';'';'';'';'';'';'';'';'';'';'';'';'';'';'';'';'';'';'';'';'';'';'';'';'';'';'';'';'';'';'';'';'';'';'';'';'';'';'';'';'';'';'';'';'';'';'';'';'';'';'';'';'';'';'';'';''\n\n'OBRAS';'CST050404CH3';'';'CREATE';'04 ST SC';'BU_CSACV';'PRINCIPAL';'SOCST050404CH3';'';'';'N';'N';'';'Y';'N';'';'';'';'';'';'';'';'';'';'';'';'';'';'';'';'';'';'';'';'';'';'';'';'';'';'';'';'';'';'';'';'';'';'';'';'';'';'';'';'MXN';'';'';'';'MXN';'99';'';'';'';'';'';'';'';'';'';'Immediate';'Invoice';'DUE';'';'';'';'';'';'';'';'Transferencia';'';'';'';'';'';'';'';'';'';'';'';'';'';'';'';'';'';'';'';'';'';'';'';'';'';'';'';'';'';'';'';'';'';'';'';'';'';'';'';'';'';'';'';'';'';'';'';'';'';'';'';'';'';'';'';'';'';'';'';'';'';'';'';'';'';'';'';'';'';'';'';'';'';'';'';'';'';'';'';'';'';'';'';'';'';'';'';'';'';'';'';'';'';'';'';'';'';'';'';'';'';'';'';'';'';'';'';'';'';'';'';'';'';'';'';'';'';'';'';'';''\n\n'GASTOS';'BIO111108JC6';'';'CREATE';'100% BIORESPONSABLES SA DE CV';'BU_CSACV';'PRINCIPAL';'GTBIO111108JC6';'';'';'N';'N';'';'Y';'N';'';'';'';'';'';'';'';'';'';'';'';'';'';'';'';'';'';'';'';'';'';'';'';'';'';'';'';'';'';'';'';'';'';'';'';'';'';'';'';'MXN';'';'';'';'MXN';'99';'';'';'';'';'';'';'';'';'';'30 DIAS';'Invoice';'DUE';'';'';'';'';'';'';'';'Transferencia';'';'';'';'';'';'';'';'';'';'';'';'';'';'';'';'';'';'';'';'';'';'';'';'';'';'';'';'';'';'';'';'';'';'';'';'';'';'';'';'';'';'';'';'';'';'';'';'';'';'';'';'';'';'';'';'';'';'';'';'';'';'';'';'';'';'';'';'';'';'';'';'';'';'';'';'';'';'';'';'';'';'';'';'';'';'';'';'';'';'';'';'';'';'';'';'';'';'';'';'';'';'';'';'';'';'';'';'';'';'';'';'';'';'';'';'';'';'';'';'';''\n\n'OBRAS';'BIO111108JC6';'';'CREATE';'100% BIORESPONSABLES SA DE CV';'BU_CSACV';'PRINCIPAL';'SOBIO111108JC6';'';'';'N';'N';'';'Y';'N';'';'';'';'';'';'';'';'';'';'';'';'';'';'';'';'';'';'';'';'';'';'';'';'';'';'';'';'';'';'';'';'';'';'';'';'';'';'';'';'MXN';'';'';'';'MXN';'99';'';'';'';'';'';'';'';'';'';'Immediate';'Invoice';'DUE';'';'';'';'';'';'';'';'Transferencia';'';'';'';'';'';'';'';'';'';'';'';'';'';'';'';'';'';'';'';'';'';'';'';'';'';'';'';'';'';'';'';'';'';'';'';'';'';'';'';'';'';'';'';'';'';'';'';'';'';'';'';'';'';'';'';'';'';'';'';'';'';'';'';'';'';'';'';'';'';'';'';'';'';'';'';'';'';'';'';'';'';'';'';'';'';'';'';'';'';'';'';'';'';'';'';'';'';'';'';'';'';'';'';'';'';'';'';'';'';'';'';'';'';'';'';'';'';'';'';'';''\n\n'OBRAS';'CDC150325SZ0';'';'CREATE';'102 CONSTRUCTORES SA DE CV';'BU_CSACV';'PRINCIPAL';'SOCDC150325SZ0';'';'';'N';'N';'';'Y';'N';'';'';'';'';'';'';'';'';'';'';'';'';'';'';'';'';'';'';'';'';'';'';'';'';'';'';'';'';'';'';'';'';'';'';'';'';'';'';'';'MXN';'';'';'';'MXN';'99';'';'';'';'';'';'';'';'';'';'Immediate';'Invoice';'DUE';'';'';'';'';'';'';'';'Transferencia';'';'';'';'';'';'';'';'';'';'';'';'';'';'';'';'';'';'';'';'';'';'';'';'';'';'';'';'';'';'';'';'';'';'';'';'';'';'';'';'';'';'';'';'';'';'';'';'';'';'';'';'';'';'';'';'';'';'';'';'';'';'';'';'';'';'';'';'';'';'';'';'';'';'';'';'';'';'';'';'';'';'';'';'';'';'';'';'';'';'';'';'';'';'';'';'';'';'';'';'';'';'';'';'';'';'';'';'';'';'';'';'';'';'';'';'';'';'';'';'';''\n\n'GASTOS';'DSE090511EW5';'';'CREATE';'12 SUAREZ EDIFICACIONES SA DE CV';'BU_CSACV';'PRINCIPAL';'GTDSE090511EW5';'';'';'N';'N';'';'Y';'N';'';'';'';'';'';'';'';'';'';'';'';'';'';'';'';'';'';'';'';'';'';'';'';'';'';'';'';'';'';'';'';'';'';'';'';'';'';'';'';'MXN';'';'';'';'MXN';'99';'';'';'';'';'';'';'';'';'';'30 DIAS';'Invoice';'DUE';'';'';'';'';'';'';'';'Transferencia';'';'';'';'';'';'';'';'';'';'';'';'';'';'';'';'';'';'';'';'';'';'';'';'';'';'';'';'';'';'';'';'';'';'';'';'';'';'';'';'';'';'';'';'';'';'';'';'';'';'';'';'';'';'';'';'';'';'';'';'';'';'';'';'';'';'';'';'';'';'';'';'';'';'';'';'';'';'';'';'';'';'';'';'';'';'';'';'';'';'';'';'';'';'';'';'';'';'';'';'';'';'';'';'';'';'';'';'';'';'';'';'';'';'';'';'';'';'';'';'';''\n\n'OBRAS';'DSE090511EW5';'';'CREATE';'12 SUAREZ EDIFICACIONES SA DE CV';'BU_CSACV';'PRINCIPAL';'SODSE090511EW5';'';'';'N';'N';'';'Y';'N';'';'';'';'';'';'';'';'';'';'';'';'';'';'';'';'';'';'';'';'';'';'';'';'';'';'';'';'';'';'';'';'';'';'';'';'';'';'';'';'MXN';'';'';'';'MXN';'99';'';'';'';'';'';'';'';'';'';'Immediate';'Invoice';'DUE';'';'';'';'';'';'';'';'Transferencia';'';'';'';'';'';'';'';'';'';'';'';'';'';'';'';'';'';'';'';'';'';'';'';'';'';'';'';'';'';'';'';'';'';'';'';'';'';'';'';'';'';'';'';'';'';'';'';'';'';'';'';'';'';'';'';'';'';'';'';'';'';'';'';'';'';'';'';'';'';'';'';'';'';'';'';'';'';'';'';'';'';'';'';'';'';'';'';'';'';'';'';'';'';'';'';'';'';'';'';'';'';'';'';'';'';'';'';'';'';'';'';'';'';'';'';'';'';'';'';'';''\n\n'GASTOS';'TVC8607234U2';'';'CREATE';'13 29 CONSTRUCCIONES SA DE CV';'BU_CSACV';'PRINCIPAL';'GTTVC8607234U2';'';'';'N';'N';'';'Y';'N';'';'';'';'';'';'';'';'';'';'';'';'';'';'';'';'';'';'';'';'';'';'';'';'';'';'';'';'';'';'';'';'';'';'';'';'';'';'';'';'MXN';'';'';'';'MXN';'99';'';'';'';'';'';'';'';'';'';'30 DIAS';'Invoice';'DUE';'';'';'';'';'';'';'';'Transferencia';'';'';'';'';'';'';'';'';'';'';'';'';'';'';'';'';'';'';'';'';'';'';'';'';'';'';'';'';'';'';'';'';'';'';'';'';'';'';'';'';'';'';'';'';'';'';'';'';'';'';'';'';'';'';'';'';'';'';'';'';'';'';'';'';'';'';'';'';'';'';'';'';'';'';'';'';'';'';'';'';'';'';'';'';'';'';'';'';'';'';'';'';'';'';'';'';'';'';'';'';'';'';'';'';'';'';'';'';'';'';'';'';'';'';'';'';'';'';'';'';''\n\n'OBRAS';'TVC8607234U2';'';'CREATE';'13 29 CONSTRUCCIONES SA DE CV';'BU_CSACV';'PRINCIPAL';'SOTVC8607234U2';'';'';'N';'N';'';'Y';'N';'';'';'';'';'';'';'';'';'';'';'';'';'';'';'';'';'';'';'';'';'';'';'';'';'';'';'';'';'';'';'';'';'';'';'';'';'';'';'';'MXN';'';'';'';'MXN';'99';'';'';'';'';'';'';'';'';'';'Immediate';'Invoice';'DUE';'';'';'';'';'';'';'';'Transferencia';'';'';'';'';'';'';'';'';'';'';'';'';'';'';'';'';'';'';'';'';'';'';'';'';'';'';'';'';'';'';'';'';'';'';'';'';'';'';'';'';'';'';'';'';'';'';'';'';'';'';'';'';'';'';'';'';'';'';'';'';'';'';'';'';'';'';'';'';'';'';'';'';'';'';'';'';'';'';'';'';'';'';'';'';'';'';'';'';'';'';'';'';'';'';'';'';'';'';'';'';'';'';'';'';'';'';'';'';'';'';'';'';'';'';'';'';'';'';'';'';''\n\n"
     ]
    }
   ],
   "source": [
    "sourceFolder = '/content/drive/Shareddrives/Esperanto/Supports/Suppliers/3_Suppliers_Sites'\n",
    "workFolder = '/content/drive/Shareddrives/Esperanto/Supports/Suppliers/Work/5_Bank_Accounts'\n",
    "fileName = '3. SUPPLIER_SITES_INTERFACE_COPPEL.csv'\n",
    "inputTextFile = open(Path(sourceFolder, fileName), 'r', encoding='latin-1')\n",
    "if inputTextFile:\n",
    "    numTextLines = 0\n",
    "    while True:\n",
    "        numTextLines += 1\n",
    "        textLine = inputTextFile.readline()\n",
    "        print(textLine)\n",
    "        if numTextLines >10:\n",
    "            break\n",
    "    inputTextFile.close()"
   ]
  },
  {
   "source": [
    "### Step 3 - Load supplier paye"
   ],
   "cell_type": "markdown",
   "metadata": {}
  },
  {
   "cell_type": "code",
   "execution_count": 3,
   "metadata": {},
   "outputs": [
    {
     "output_type": "stream",
     "name": "stdout",
     "text": [
      "  SISTEMA_LEGADO NUMERO_PROVEEDOR  BATCH_ID IMPORT_ACTION  \\\n0            SAJ                3       NaN        CREATE   \n1          OBRAS    GAVE860528F18       NaN        CREATE   \n2          OBRAS     CST050404CH3       NaN        CREATE   \n3         GASTOS     BIO111108JC6       NaN        CREATE   \n4          OBRAS     BIO111108JC6       NaN        CREATE   \n5          OBRAS     CDC150325SZ0       NaN        CREATE   \n6         GASTOS     DSE090511EW5       NaN        CREATE   \n7          OBRAS     DSE090511EW5       NaN        CREATE   \n8         GASTOS     TVC8607234U2       NaN        CREATE   \n9          OBRAS     TVC8607234U2       NaN        CREATE   \n\n                        VENDOR_NAME PROCUREMENT_BUSINESS_UNIT_NAME  \\\n0                               NaN                       BU_CSACV   \n1                  0 VERGARA EFRAIN                       BU_CSACV   \n2                          04 ST SC                       BU_CSACV   \n3     100% BIORESPONSABLES SA DE CV                       BU_CSACV   \n4     100% BIORESPONSABLES SA DE CV                       BU_CSACV   \n5        102 CONSTRUCTORES SA DE CV                       BU_CSACV   \n6  12 SUAREZ EDIFICACIONES SA DE CV                       BU_CSACV   \n7  12 SUAREZ EDIFICACIONES SA DE CV                       BU_CSACV   \n8     13 29 CONSTRUCCIONES SA DE CV                       BU_CSACV   \n9     13 29 CONSTRUCCIONES SA DE CV                       BU_CSACV   \n\n  PARTY_SITE_NAME VENDOR_SITE_CODE  VENDOR_SITE_CODE_NEW  INACTIVE_DATE  ...  \\\n0       PRINCIPAL        SJ3MXN004                   NaN            NaN  ...   \n1       PRINCIPAL  SOGAVE860528F18                   NaN            NaN  ...   \n2       PRINCIPAL   SOCST050404CH3                   NaN            NaN  ...   \n3       PRINCIPAL   GTBIO111108JC6                   NaN            NaN  ...   \n4       PRINCIPAL   SOBIO111108JC6                   NaN            NaN  ...   \n5       PRINCIPAL   SOCDC150325SZ0                   NaN            NaN  ...   \n6       PRINCIPAL   GTDSE090511EW5                   NaN            NaN  ...   \n7       PRINCIPAL   SODSE090511EW5                   NaN            NaN  ...   \n8       PRINCIPAL   GTTVC8607234U2                   NaN            NaN  ...   \n9       PRINCIPAL   SOTVC8607234U2                   NaN            NaN  ...   \n\n  GLOBAL_ATTRIBUTE_NUMBER6 GLOBAL_ATTRIBUTE_NUMBER7  GLOBAL_ATTRIBUTE_NUMBER8  \\\n0                      NaN                      NaN                       NaN   \n1                      NaN                      NaN                       NaN   \n2                      NaN                      NaN                       NaN   \n3                      NaN                      NaN                       NaN   \n4                      NaN                      NaN                       NaN   \n5                      NaN                      NaN                       NaN   \n6                      NaN                      NaN                       NaN   \n7                      NaN                      NaN                       NaN   \n8                      NaN                      NaN                       NaN   \n9                      NaN                      NaN                       NaN   \n\n  GLOBAL_ATTRIBUTE_NUMBER9 GLOBAL_ATTRIBUTE_NUMBER10  PO_ACK_REQD_CODE  \\\n0                      NaN                       NaN               NaN   \n1                      NaN                       NaN               NaN   \n2                      NaN                       NaN               NaN   \n3                      NaN                       NaN               NaN   \n4                      NaN                       NaN               NaN   \n5                      NaN                       NaN               NaN   \n6                      NaN                       NaN               NaN   \n7                      NaN                       NaN               NaN   \n8                      NaN                       NaN               NaN   \n9                      NaN                       NaN               NaN   \n\n   PO_ACK_REQD_DAYS  INVOICE_CHANNEL  PAYEE_SERVICE_LEVEL_CODE  \\\n0               NaN              NaN                       NaN   \n1               NaN              NaN                       NaN   \n2               NaN              NaN                       NaN   \n3               NaN              NaN                       NaN   \n4               NaN              NaN                       NaN   \n5               NaN              NaN                       NaN   \n6               NaN              NaN                       NaN   \n7               NaN              NaN                       NaN   \n8               NaN              NaN                       NaN   \n9               NaN              NaN                       NaN   \n\n   EXCLUSIVE_PAYMENT_FLAG  \n0                     NaN  \n1                     NaN  \n2                     NaN  \n3                     NaN  \n4                     NaN  \n5                     NaN  \n6                     NaN  \n7                     NaN  \n8                     NaN  \n9                     NaN  \n\n[10 rows x 201 columns]\n186261  records found. \n"
     ]
    }
   ],
   "source": [
    "df = pd.read_csv(Path(sourceFolder,fileName), sep=';', quotechar=chr(39), encoding='latin-1')\n",
    "print(df.head(10))\n",
    "print(len(df.index), ' records found. ')"
   ]
  },
  {
   "cell_type": "code",
   "execution_count": 5,
   "metadata": {},
   "outputs": [
    {
     "output_type": "execute_result",
     "data": {
      "text/plain": [
       "SISTEMA_LEGADO                     object\n",
       "NUMERO_PROVEEDOR                   object\n",
       "BATCH_ID                          float64\n",
       "IMPORT_ACTION                      object\n",
       "VENDOR_NAME                        object\n",
       "PROCUREMENT_BUSINESS_UNIT_NAME     object\n",
       "PARTY_SITE_NAME                    object\n",
       "VENDOR_SITE_CODE                   object\n",
       "VENDOR_SITE_CODE_NEW              float64\n",
       "INACTIVE_DATE                     float64\n",
       "RFQ_ONLY_SITE_FLAG                 object\n",
       "PURCHASING_SITE_FLAG               object\n",
       "PCARD_SITE_FLAG                   float64\n",
       "PAY_SITE_FLAG                      object\n",
       "PRIMARY_PAY_SITE_FLAG              object\n",
       "TAX_REPORTING_SITE_FLAG           float64\n",
       "VENDOR_SITE_CODE_ALT              float64\n",
       "CUSTOMER_NUM                      float64\n",
       "B2B_COMMUNICATION_METHOD          float64\n",
       "B2B_SITE_CODE                     float64\n",
       "SUPPLIER_NOTIF_METHOD             float64\n",
       "EMAIL_ADDRESS                     float64\n",
       "FAX_COUNTRY_CODE                  float64\n",
       "FAX_AREA_CODE                     float64\n",
       "FAX                               float64\n",
       "HOLD_FLAG                         float64\n",
       "PURCHASING_HOLD_REASON            float64\n",
       "CARRIER                           float64\n",
       "MODE_OF_TRANSPORT_CODE            float64\n",
       "SERVICE_LEVEL_CODE                float64\n",
       "FREIGHT_TERMS_LOOKUP_CODE         float64\n",
       "PAY_ON_CODE                       float64\n",
       "FOB_LOOKUP_CODE                   float64\n",
       "COUNTRY_OF_ORIGIN_CODE            float64\n",
       "BUYER_MANAGED_TRANSPORT_FLAG      float64\n",
       "PAY_ON_USE_FLAG                   float64\n",
       "AGING_ONSET_POINT                 float64\n",
       "AGING_PERIOD_DAYS                 float64\n",
       "CONSUMPTION_ADVICE_FREQUENCY      float64\n",
       "CONSUMPTION_ADVICE_SUMMARY        float64\n",
       "DEFAULT_PAY_SITE_CODE             float64\n",
       "PAY_ON_RECEIPT_SUMMARY_CODE       float64\n",
       "GAPLESS_INV_NUM_FLAG              float64\n",
       "SELLING_COMPANY_IDENTIFIER        float64\n",
       "CREATE_DEBIT_MEMO_FLAG            float64\n",
       "ENFORCE_SHIP_TO_LOCATION_CODE     float64\n",
       "RECEIVING_ROUTING_ID              float64\n",
       "QTY_RCV_TOLERANCE                 float64\n",
       "QTY_RCV_EXCEPTION_CODE            float64\n",
       "DAYS_EARLY_RECEIPT_ALLOWED        float64\n",
       "DAYS_LATE_RECEIPT_ALLOWED         float64\n",
       "ALLOW_SUBSTITUTE_RECEIPTS_FLAG    float64\n",
       "ALLOW_UNORDERED_RECEIPTS_FLAG     float64\n",
       "RECEIPT_DAYS_EXCEPTION_CODE       float64\n",
       "INVOICE_CURRENCY_CODE              object\n",
       "INVOICE_AMOUNT_LIMIT              float64\n",
       "MATCH_OPTION                      float64\n",
       "MATCH_APPROVAL_LEVEL              float64\n",
       "PAYMENT_CURRENCY_CODE              object\n",
       "PAYMENT_PRIORITY                    int64\n",
       "PAY_GROUP_LOOKUP_CODE             float64\n",
       "TOLERANCE_NAME                    float64\n",
       "SERVICES_TOLERANCE                float64\n",
       "HOLD_ALL_PAYMENTS_FLAG            float64\n",
       "HOLD_UNMATCHED_INVOICES_FLAG      float64\n",
       "HOLD_FUTURE_PAYMENTS_FLAG         float64\n",
       "HOLD_BY                           float64\n",
       "PAYMENT_HOLD_DATE                 float64\n",
       "HOLD_REASON                       float64\n",
       "TERMS_NAME                         object\n",
       "TERMS_DATE_BASIS                   object\n",
       "PAY_DATE_BASIS_LOOKUP_CODE         object\n",
       "BANK_CHARGE_DEDUCTION_TYPE        float64\n",
       "ALWAYS_TAKE_DISC_FLAG             float64\n",
       "EXCLUDE_FREIGHT_FROM_DISCOUNT     float64\n",
       "EXCLUDE_TAX_FROM_DISCOUNT         float64\n",
       "AUTO_CALCULATE_INTEREST_FLAG      float64\n",
       "VAT_CODE                          float64\n",
       "VAT_REGISTRATION_NUM              float64\n",
       "PAYMENT_METHOD_LOOKUP_CODE         object\n",
       "DELIVERY_CHANNEL_CODE             float64\n",
       "BANK_INSTRUCTION1_CODE            float64\n",
       "BANK_INSTRUCTION2_CODE            float64\n",
       "BANK_INSTRUCTION_DETAILS          float64\n",
       "SETTLEMENT_PRIORITY               float64\n",
       "PAYMENT_TEXT_MESSAGE1             float64\n",
       "PAYMENT_TEXT_MESSAGE2             float64\n",
       "PAYMENT_TEXT_MESSAGE3             float64\n",
       "IBY_BANK_CHARGE_BEARER            float64\n",
       "PAYMENT_REASON_CODE               float64\n",
       "PAYMENT_REASON_COMMENTS           float64\n",
       "REMIT_ADVICE_DELIVERY_METHOD      float64\n",
       "REMITTANCE_EMAIL                  float64\n",
       "REMITTANCE_FAX                    float64\n",
       "ATTRIBUTE_CATEGORY                float64\n",
       "ATTRIBUTE1                        float64\n",
       "ATTRIBUTE2                        float64\n",
       "ATTRIBUTE3                        float64\n",
       "ATTRIBUTE4                        float64\n",
       "ATTRIBUTE5                        float64\n",
       "ATTRIBUTE6                        float64\n",
       "ATTRIBUTE7                        float64\n",
       "ATTRIBUTE8                        float64\n",
       "ATTRIBUTE9                        float64\n",
       "ATTRIBUTE10                       float64\n",
       "ATTRIBUTE11                       float64\n",
       "ATTRIBUTE12                       float64\n",
       "ATTRIBUTE13                       float64\n",
       "ATTRIBUTE14                       float64\n",
       "ATTRIBUTE15                       float64\n",
       "ATTRIBUTE16                       float64\n",
       "ATTRIBUTE17                       float64\n",
       "ATTRIBUTE18                       float64\n",
       "ATTRIBUTE19                       float64\n",
       "ATTRIBUTE20                       float64\n",
       "ATTRIBUTE_DATE1                   float64\n",
       "ATTRIBUTE_DATE2                   float64\n",
       "ATTRIBUTE_DATE3                   float64\n",
       "ATTRIBUTE_DATE4                   float64\n",
       "ATTRIBUTE_DATE5                   float64\n",
       "ATTRIBUTE_DATE6                   float64\n",
       "ATTRIBUTE_DATE7                   float64\n",
       "ATTRIBUTE_DATE8                   float64\n",
       "ATTRIBUTE_DATE9                   float64\n",
       "ATTRIBUTE_DATE10                  float64\n",
       "ATTRIBUTE_TIMESTAMP1              float64\n",
       "ATTRIBUTE_TIMESTAMP2              float64\n",
       "ATTRIBUTE_TIMESTAMP3              float64\n",
       "ATTRIBUTE_TIMESTAMP4              float64\n",
       "ATTRIBUTE_TIMESTAMP5              float64\n",
       "ATTRIBUTE_TIMESTAMP6              float64\n",
       "ATTRIBUTE_TIMESTAMP7              float64\n",
       "ATTRIBUTE_TIMESTAMP8              float64\n",
       "ATTRIBUTE_TIMESTAMP9              float64\n",
       "ATTRIBUTE_TIMESTAMP10             float64\n",
       "ATTRIBUTE_NUMBER1                 float64\n",
       "ATTRIBUTE_NUMBER2                 float64\n",
       "ATTRIBUTE_NUMBER3                 float64\n",
       "ATTRIBUTE_NUMBER4                 float64\n",
       "ATTRIBUTE_NUMBER5                 float64\n",
       "ATTRIBUTE_NUMBER6                 float64\n",
       "ATTRIBUTE_NUMBER7                 float64\n",
       "ATTRIBUTE_NUMBER8                 float64\n",
       "ATTRIBUTE_NUMBER9                 float64\n",
       "ATTRIBUTE_NUMBER10                float64\n",
       "GLOBAL_ATTRIBUTE_CATEGORY         float64\n",
       "GLOBAL_ATTRIBUTE1                 float64\n",
       "GLOBAL_ATTRIBUTE2                 float64\n",
       "GLOBAL_ATTRIBUTE3                 float64\n",
       "GLOBAL_ATTRIBUTE4                 float64\n",
       "GLOBAL_ATTRIBUTE5                 float64\n",
       "GLOBAL_ATTRIBUTE6                 float64\n",
       "GLOBAL_ATTRIBUTE7                 float64\n",
       "GLOBAL_ATTRIBUTE8                 float64\n",
       "GLOBAL_ATTRIBUTE9                 float64\n",
       "GLOBAL_ATTRIBUTE10                float64\n",
       "GLOBAL_ATTRIBUTE11                float64\n",
       "GLOBAL_ATTRIBUTE12                float64\n",
       "GLOBAL_ATTRIBUTE13                float64\n",
       "GLOBAL_ATTRIBUTE14                float64\n",
       "GLOBAL_ATTRIBUTE15                float64\n",
       "GLOBAL_ATTRIBUTE16                float64\n",
       "GLOBAL_ATTRIBUTE17                float64\n",
       "GLOBAL_ATTRIBUTE18                float64\n",
       "GLOBAL_ATTRIBUTE19                float64\n",
       "GLOBAL_ATTRIBUTE20                float64\n",
       "GLOBAL_ATTRIBUTE_DATE1            float64\n",
       "GLOBAL_ATTRIBUTE_DATE2            float64\n",
       "GLOBAL_ATTRIBUTE_DATE3            float64\n",
       "GLOBAL_ATTRIBUTE_DATE4            float64\n",
       "GLOBAL_ATTRIBUTE_DATE5            float64\n",
       "GLOBAL_ATTRIBUTE_DATE6            float64\n",
       "GLOBAL_ATTRIBUTE_DATE7            float64\n",
       "GLOBAL_ATTRIBUTE_DATE8            float64\n",
       "GLOBAL_ATTRIBUTE_DATE9            float64\n",
       "GLOBAL_ATTRIBUTE_DATE10           float64\n",
       "GLOBAL_ATTRIBUTE_DATETIME1        float64\n",
       "GLOBAL_ATTRIBUTE_DATETIME2        float64\n",
       "GLOBAL_ATTRIBUTE_DATETIME3        float64\n",
       "GLOBAL_ATTRIBUTE_DATETIME4        float64\n",
       "GLOBAL_ATTRIBUTE_DATETIME5        float64\n",
       "GLOBAL_ATTRIBUTE_DATETIME6        float64\n",
       "GLOBAL_ATTRIBUTE_DATETIME7        float64\n",
       "GLOBAL_ATTRIBUTE_DATETIME8        float64\n",
       "GLOBAL_ATTRIBUTE_DATETIME9        float64\n",
       "GLOBAL_ATTRIBUTE_DATETIME10       float64\n",
       "GLOBAL_ATTRIBUTE_NUMBER1          float64\n",
       "GLOBAL_ATTRIBUTE_NUMBER2          float64\n",
       "GLOBAL_ATTRIBUTE_NUMBER3          float64\n",
       "GLOBAL_ATTRIBUTE_NUMBER4          float64\n",
       "GLOBAL_ATTRIBUTE_NUMBER5          float64\n",
       "GLOBAL_ATTRIBUTE_NUMBER6          float64\n",
       "GLOBAL_ATTRIBUTE_NUMBER7          float64\n",
       "GLOBAL_ATTRIBUTE_NUMBER8          float64\n",
       "GLOBAL_ATTRIBUTE_NUMBER9          float64\n",
       "GLOBAL_ATTRIBUTE_NUMBER10         float64\n",
       "PO_ACK_REQD_CODE                  float64\n",
       "PO_ACK_REQD_DAYS                  float64\n",
       "INVOICE_CHANNEL                   float64\n",
       "PAYEE_SERVICE_LEVEL_CODE          float64\n",
       "EXCLUSIVE_PAYMENT_FLAG            float64\n",
       "dtype: object"
      ]
     },
     "metadata": {},
     "execution_count": 5
    }
   ],
   "source": [
    "pd.set_option('display.max_rows', 250)\n",
    "df.dtypes"
   ]
  },
  {
   "source": [
    "### Step 4 - Creates a modified dataset with key field as string"
   ],
   "cell_type": "markdown",
   "metadata": {}
  },
  {
   "cell_type": "code",
   "execution_count": 7,
   "metadata": {},
   "outputs": [
    {
     "output_type": "error",
     "ename": "NameError",
     "evalue": "name 'mod' is not defined",
     "traceback": [
      "\u001b[0;31m---------------------------------------------------------------------------\u001b[0m",
      "\u001b[0;31mNameError\u001b[0m                                 Traceback (most recent call last)",
      "\u001b[0;32m<ipython-input-7-65f2d4c976f5>\u001b[0m in \u001b[0;36m<module>\u001b[0;34m()\u001b[0m\n\u001b[1;32m      1\u001b[0m \u001b[0mmodDf\u001b[0m \u001b[0;34m=\u001b[0m \u001b[0mdf\u001b[0m\u001b[0;34m\u001b[0m\u001b[0;34m\u001b[0m\u001b[0m\n\u001b[0;32m----> 2\u001b[0;31m \u001b[0mmodDf\u001b[0m\u001b[0;34m[\u001b[0m\u001b[0;34m'SISTEMA_LEGADO'\u001b[0m\u001b[0;34m]\u001b[0m\u001b[0;34m=\u001b[0m\u001b[0mmod\u001b[0m\u001b[0;34m[\u001b[0m\u001b[0;34m'SISTEMA_LEGADO'\u001b[0m\u001b[0;34m]\u001b[0m\u001b[0;34m.\u001b[0m\u001b[0mastype\u001b[0m\u001b[0;34m(\u001b[0m\u001b[0mpd\u001b[0m\u001b[0;34m.\u001b[0m\u001b[0mStringDtype\u001b[0m\u001b[0;34m(\u001b[0m\u001b[0;34m)\u001b[0m\u001b[0;34m)\u001b[0m\u001b[0;34m\u001b[0m\u001b[0;34m\u001b[0m\u001b[0m\n\u001b[0m\u001b[1;32m      3\u001b[0m \u001b[0mmodDf\u001b[0m\u001b[0;34m[\u001b[0m\u001b[0;34m'NUMERO_PROVEEDOR'\u001b[0m\u001b[0;34m]\u001b[0m\u001b[0;34m=\u001b[0m\u001b[0mmod\u001b[0m\u001b[0;34m[\u001b[0m\u001b[0;34m'NUMERO_PROVEEDOR'\u001b[0m\u001b[0;34m]\u001b[0m\u001b[0;34m.\u001b[0m\u001b[0mastype\u001b[0m\u001b[0;34m(\u001b[0m\u001b[0mpd\u001b[0m\u001b[0;34m.\u001b[0m\u001b[0mStringDtype\u001b[0m\u001b[0;34m(\u001b[0m\u001b[0;34m)\u001b[0m\u001b[0;34m)\u001b[0m\u001b[0;34m\u001b[0m\u001b[0;34m\u001b[0m\u001b[0m\n\u001b[1;32m      4\u001b[0m \u001b[0mmodDf\u001b[0m\u001b[0;34m[\u001b[0m\u001b[0;34m'IMPORT_ACTION'\u001b[0m\u001b[0;34m]\u001b[0m\u001b[0;34m=\u001b[0m\u001b[0mmod\u001b[0m\u001b[0;34m[\u001b[0m\u001b[0;34m'IMPORT_ACTION'\u001b[0m\u001b[0;34m]\u001b[0m\u001b[0;34m.\u001b[0m\u001b[0mastype\u001b[0m\u001b[0;34m(\u001b[0m\u001b[0mpd\u001b[0m\u001b[0;34m.\u001b[0m\u001b[0mStringDtype\u001b[0m\u001b[0;34m(\u001b[0m\u001b[0;34m)\u001b[0m\u001b[0;34m)\u001b[0m\u001b[0;34m\u001b[0m\u001b[0;34m\u001b[0m\u001b[0m\n\u001b[1;32m      5\u001b[0m \u001b[0mmodDf\u001b[0m\u001b[0;34m[\u001b[0m\u001b[0;34m'VENDOR_NAME'\u001b[0m\u001b[0;34m]\u001b[0m\u001b[0;34m=\u001b[0m\u001b[0mmod\u001b[0m\u001b[0;34m[\u001b[0m\u001b[0;34m'VENDOR_NAME'\u001b[0m\u001b[0;34m]\u001b[0m\u001b[0;34m.\u001b[0m\u001b[0mastype\u001b[0m\u001b[0;34m(\u001b[0m\u001b[0mpd\u001b[0m\u001b[0;34m.\u001b[0m\u001b[0mStringDtype\u001b[0m\u001b[0;34m(\u001b[0m\u001b[0;34m)\u001b[0m\u001b[0;34m)\u001b[0m\u001b[0;34m\u001b[0m\u001b[0;34m\u001b[0m\u001b[0m\n",
      "\u001b[0;31mNameError\u001b[0m: name 'mod' is not defined"
     ]
    }
   ],
   "source": [
    "modDf = df\n",
    "modDf['SISTEMA_LEGADO']=modDf['SISTEMA_LEGADO'].astype(pd.StringDtype())\n",
    "modDf['NUMERO_PROVEEDOR']=modDf['NUMERO_PROVEEDOR'].astype(pd.StringDtype())\n",
    "modDf['IMPORT_ACTION']=modDf['IMPORT_ACTION'].astype(pd.StringDtype())\n",
    "modDf['VENDOR_NAME']=modDf['VENDOR_NAME'].astype(pd.StringDtype())\n",
    "modDf['PROCUREMENT_BUSINESS_UNIT_NAME']=modDf['PROCUREMENT_BUSINESS_UNIT_NAME'].astype(pd.StringDtype())\n",
    "modDf['PARTY_SITE_NAME']=modDf['PARTY_SITE_NAME'].astype(pd.StringDtype())\n",
    "modDf['VENDOR_SITE_CODE']=modDf['VENDOR_SITE_CODE'].astype(pd.StringDtype())\n",
    "modDf['RFQ_ONLY_SITE_FLAG']=modDf['RFQ_ONLY_SITE_FLAG'].astype(pd.StringDtype())\n",
    "modDf['PURCHASING_SITE_FLAG']=modDf['PURCHASING_SITE_FLAG'].astype(pd.StringDtype())\n",
    "modDf['PAY_SITE_FLAG']=modDf['PAY_SITE_FLAG'].astype(pd.StringDtype())\n",
    "modDf['PRIMARY_PAY_SITE_FLAG']=modDf['PRIMARY_PAY_SITE_FLAG'].astype(pd.StringDtype())\n",
    "print(modDf.head(10))\n",
    "print(modDf.dtypes)"
   ]
  },
  {
   "cell_type": "code",
   "execution_count": null,
   "metadata": {},
   "outputs": [],
   "source": []
  }
 ]
}