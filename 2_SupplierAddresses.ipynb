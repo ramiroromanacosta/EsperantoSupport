{
 "metadata": {
  "orig_nbformat": 2,
  "kernelspec": {
   "name": "python2",
   "display_name": "Python 2",
   "language": "python"
  }
 },
 "nbformat": 4,
 "nbformat_minor": 2,
 "cells": [
  {
   "source": [
    "## Data from File 2 Suppliers Site"
   ],
   "cell_type": "markdown",
   "metadata": {}
  },
  {
   "source": [
    "### Step 1. Load required packages"
   ],
   "cell_type": "markdown",
   "metadata": {}
  },
  {
   "cell_type": "code",
   "execution_count": 2,
   "metadata": {},
   "outputs": [],
   "source": [
    "import pandas as pd\n",
    "import pandasql as ps\n",
    "from pathlib import Path"
   ]
  },
  {
   "source": [
    "### Step 2 - Get sample from source file"
   ],
   "cell_type": "markdown",
   "metadata": {}
  },
  {
   "cell_type": "code",
   "execution_count": 3,
   "metadata": {},
   "outputs": [
    {
     "output_type": "stream",
     "name": "stdout",
     "text": [
      "'SISTEMA_LEGADO';'NUMERO_PROVEEDOR';'BATCH_ID';'IMPORT_ACTION';'VENDOR_NAME';'PARTY_SITE_NAME';'ADDRESS_NAME_NEW';'COUNTRY';'ADDRESS_LINE1';'ADDRESS_LINE2';'ADDRESS_LINE3';'ADDRESS_LINE4';'ADDRESS_LINES_PHONETIC';'ADDR_ELEMENT_ATTRIBUTE1';'ADDR_ELEMENT_ATTRIBUTE2';'ADDR_ELEMENT_ATTRIBUTE3';'ADDR_ELEMENT_ATTRIBUTE4';'ADDR_ELEMENT_ATTRIBUTE5';'BUILDING';'FLOOR_NUMBER';'CITY';'STATE';'PROVINCE';'COUNTY';'POSTAL_CODE';'POSTAL_PLUS4_CODE';'ADDRESSEE';'GLOBAL_LOCATION_NUMBER';'PARTY_SITE_LANGUAGE';'INACTIVE_DATE';'PHONE_COUNTRY_CODE';'PHONE_AREA_CODE';'PHONE';'PHONE_EXTENSION';'FAX_COUNTRY_CODE';'FAX_AREA_CODE';'FAX';'RFQ_OR_BIDDING_PURPOSE_FLAG';'ORDERING_PURPOSE_FLAG';'REMIT_TO_PURPOSE_FLAG';'ATTRIBUTE_CATEGORY';'ATTRIBUTE1';'ATTRIBUTE2';'ATTRIBUTE3';'ATTRIBUTE4';'ATTRIBUTE5';'ATTRIBUTE6';'ATTRIBUTE7';'ATTRIBUTE8';'ATTRIBUTE9';'ATTRIBUTE10';'ATTRIBUTE11';'ATTRIBUTE12';'ATTRIBUTE13';'ATTRIBUTE14';'ATTRIBUTE15';'ATTRIBUTE16';'ATTRIBUTE17';'ATTRIBUTE18';'ATTRIBUTE19';'ATTRIBUTE20';'ATTRIBUTE21';'ATTRIBUTE22';'ATTRIBUTE23';'ATTRIBUTE24';'ATTRIBUTE25';'ATTRIBUTE26';'ATTRIBUTE27';'ATTRIBUTE28';'ATTRIBUTE29';'ATTRIBUTE30';'ATTRIBUTE_NUMBER1';'ATTRIBUTE_NUMBER2';'ATTRIBUTE_NUMBER3';'ATTRIBUTE_NUMBER4';'ATTRIBUTE_NUMBER5';'ATTRIBUTE_NUMBER6';'ATTRIBUTE_NUMBER7';'ATTRIBUTE_NUMBER8';'ATTRIBUTE_NUMBER9';'ATTRIBUTE_NUMBER10';'ATTRIBUTE_NUMBER11';'ATTRIBUTE_NUMBER12';'ATTRIBUTE_DATE1';'ATTRIBUTE_DATE2';'ATTRIBUTE_DATE3';'ATTRIBUTE_DATE4';'ATTRIBUTE_DATE5';'ATTRIBUTE_DATE6';'ATTRIBUTE_DATE7';'ATTRIBUTE_DATE8';'ATTRIBUTE_DATE9';'ATTRIBUTE_DATE10';'ATTRIBUTE_DATE11';'ATTRIBUTE_DATE12';'EMAIL_ADDRESS';'DELIVERY_CHANNEL_CODE';'BANK_INSTRUCTION1_CODE';'BANK_INSTRUCTION2_CODE';'BANK_INSTRUCTION_DETAILS';'SETTLEMENT_PRIORITY';'PAYMENT_TEXT_MESSAGE1';'PAYMENT_TEXT_MESSAGE2';'PAYMENT_TEXT_MESSAGE3';'SERVICE_LEVEL_CODE';'EXCLUSIVE_PAYMENT_FLAG';'IBY_BANK_CHARGE_BEARER';'PAYMENT_REASON_CODE';'PAYMENT_REASON_COMMENTS';'REMIT_ADVICE_DELIVERY_METHOD';'REMITTANCE_EMAIL';'REMITTANCE_FAX'\n\n'OBRAS';'GAVE860528F18';'';'CREATE';'0 VERGARA EFRAIN';'PRINCIPAL';'';'MX';'CABO SAN LUCAS 251';'';'';'';'';'';'';'';'';'';'';'';'OFICINAS CENTRALES';'SIN';'COL RECURSOS HIDRAULICOS';'';'80105';'';'';'';'';'';'';'';'';'';'';'';'';'';'';'Y';'';'';'';'';'';'';'';'';'';'';'';'';'';'';'';'';'';'';'';'';'';'';'';'';'';'';'';'';'';'';'';'';'';'';'';'';'';'';'';'';'';'';'';'';'';'';'';'';'';'';'';'';'';'';'';'';'';'';'';'';'';'';'';'';'';'';'';'';'';'';'';''\n\n'OBRAS';'BIO111108JC6';'';'CREATE';'100% BIORESPONSABLES SA DE CV';'PRINCIPAL';'';'MX';'AVE INSTITUTO TECNOLOGICO 11';'';'';'';'';'';'';'';'';'';'';'';'OFICINAS CENTRALES';'CDMX';'COL SANTA MARIA LA RIBERA';'';'80105';'';'';'';'';'';'';'';'';'';'';'';'';'';'';'Y';'';'';'';'';'';'';'';'';'';'';'';'';'';'';'';'';'';'';'';'';'';'';'';'';'';'';'';'';'';'';'';'';'';'';'';'';'';'';'';'';'';'';'';'';'';'';'';'';'';'';'';'';'';'';'';'';'';'';'';'';'';'';'';'';'';'';'';'';'';'';'';''\n\n'GASTOS';'BIO111108JC6';'';'CREATE';'100% BIORESPONSABLES SA DE CV';'PRINCIPAL';'';'MX';'AVE INSTITUTO TECNOLOGICO 11';'';'';'';'';'';'';'';'';'';'';'';'OFICINAS CENTRALES';'CDMX';'COL SANTA MARIA LA RIBERA';'';'80105';'';'';'';'';'';'';'';'';'';'';'';'';'';'';'Y';'';'';'';'';'';'';'';'';'';'';'';'';'';'';'';'';'';'';'';'';'';'';'';'';'';'';'';'';'';'';'';'';'';'';'';'';'';'';'';'';'';'';'';'';'';'';'';'';'';'';'';'';'';'';'';'';'';'';'';'';'';'';'';'';'';'';'';'';'';'';'';''\n\n'OBRAS';'DSE090511EW5';'';'CREATE';'12 SUAREZ EDIFICACIONES SA DE CV';'PRINCIPAL';'';'MX';'BONAMPAK 631';'';'';'';'';'';'';'';'';'';'';'';'OFICINAS CENTRALES';'NL';'COL BALCONES DE ANAHUAC';'';'80105';'';'';'';'';'';'';'';'';'';'';'';'';'';'';'Y';'';'';'';'';'';'';'';'';'';'';'';'';'';'';'';'';'';'';'';'';'';'';'';'';'';'';'';'';'';'';'';'';'';'';'';'';'';'';'';'';'';'';'';'';'';'';'';'';'';'';'';'';'';'';'';'ARQJGSUAREZ@12SUAREZEDIFICACIONES.COM';'';'';'';'';'';'';'';'';'';'';'';'';'';'';'';''\n\n'GASTOS';'DSE090511EW5';'';'CREATE';'12 SUAREZ EDIFICACIONES SA DE CV';'PRINCIPAL';'';'MX';'BONAMPAK 631';'';'';'';'';'';'';'';'';'';'';'';'OFICINAS CENTRALES';'NL';'COL BALCONES DE ANAHUAC';'';'80105';'';'';'';'';'';'';'';'';'';'';'';'';'';'';'Y';'';'';'';'';'';'';'';'';'';'';'';'';'';'';'';'';'';'';'';'';'';'';'';'';'';'';'';'';'';'';'';'';'';'';'';'';'';'';'';'';'';'';'';'';'';'';'';'';'';'';'';'';'';'';'';'ARQJGSUAREZ@12SUAREZEDIFICACIONESCOM';'';'';'';'';'';'';'';'';'';'';'';'';'';'';'';''\n\n'GASTOS';'TVC8607234U2';'';'CREATE';'13 29 CONSTRUCCIONES SA DE CV';'PRINCIPAL';'';'MX';'CERRADA DE TEXCO 35';'';'';'';'';'';'';'';'';'';'';'';'OFICINAS CENTRALES';'CDMX';'COL RECURSOS HIDRAULICOS';'';'80105';'';'';'';'';'';'';'';'';'';'';'';'';'';'';'Y';'';'';'';'';'';'';'';'';'';'';'';'';'';'';'';'';'';'';'';'';'';'';'';'';'';'';'';'';'';'';'';'';'';'';'';'';'';'';'';'';'';'';'';'';'';'';'';'';'';'';'';'';'';'';'';'JAGUILERA@1329COMMX';'';'';'';'';'';'';'';'';'';'';'';'';'';'';'';''\n\n'OBRAS';'TVC8607234U2';'';'CREATE';'13 29 CONSTRUCCIONES SA DE CV';'PRINCIPAL';'';'MX';'CERRADA DE TEXCO 35';'';'';'';'';'';'';'';'';'';'';'';'OFICINAS CENTRALES';'CDMX';'COL RECURSOS HIDRAULICOS';'';'80105';'';'';'';'';'';'';'';'';'';'';'';'';'';'';'Y';'';'';'';'';'';'';'';'';'';'';'';'';'';'';'';'';'';'';'';'';'';'';'';'';'';'';'';'';'';'';'';'';'';'';'';'';'';'';'';'';'';'';'';'';'';'';'';'';'';'';'';'';'';'';'';'JAGUILERA@1329.COM.MX';'';'';'';'';'';'';'';'';'';'';'';'';'';'';'';''\n\n'OBRAS';'ABS110113195';'';'CREATE';'1AAA BEST SOL DE TEC E INFORMACION SA CV';'PRINCIPAL';'';'MX';'AVE RIO MIXCOAC 185 302';'';'';'';'';'';'';'';'';'';'';'';'OFICINAS CENTRALES';'CDMX';'COL FLORIDA';'';'80105';'';'';'';'';'';'';'';'';'';'';'';'';'';'';'Y';'';'';'';'';'';'';'';'';'';'';'';'';'';'';'';'';'';'';'';'';'';'';'';'';'';'';'';'';'';'';'';'';'';'';'';'';'';'';'';'';'';'';'';'';'';'';'';'';'';'';'';'';'';'';'';'';'';'';'';'';'';'';'';'';'';'';'';'';'';'';'';''\n\n'GASTOS';'ABS110113195';'';'CREATE';'1AAA BEST SOL DE TEC E INFORMACION SA CV';'PRINCIPAL';'';'MX';'AVE RIO MIXCOAC 185 302';'';'';'';'';'';'';'';'';'';'';'';'OFICINAS CENTRALES';'CDMX';'COL FLORIDA';'';'80105';'';'';'';'';'';'';'';'';'';'';'';'';'';'';'Y';'';'';'';'';'';'';'';'';'';'';'';'';'';'';'';'';'';'';'';'';'';'';'';'';'';'';'';'';'';'';'';'';'';'';'';'';'';'';'';'';'';'';'';'';'';'';'';'';'';'';'';'';'';'';'';'';'';'';'';'';'';'';'';'';'';'';'';'';'';'';'';''\n\n'GASTOS';'DUO7511286H3';'';'CREATE';'201 OFICIAL SA DE CV';'PRINCIPAL';'';'MX';'VIADUCTO PIEDAD 97';'';'';'';'';'';'';'';'';'';'';'';'OFICINAS CENTRALES';'CDMX';'COL RECURSOS HIDRAULICOS';'';'80105';'';'';'';'';'';'';'';'';'';'';'';'';'';'';'Y';'';'';'';'';'';'';'';'';'';'';'';'';'';'';'';'';'';'';'';'';'';'';'';'';'';'';'';'';'';'';'';'';'';'';'';'';'';'';'';'';'';'';'';'';'';'';'';'';'';'';'';'';'';'';'';'';'';'';'';'';'';'';'';'';'';'';'';'';'';'';'';''\n\n"
     ]
    }
   ],
   "source": [
    "sourceFolder = '/content/drive/Shareddrives/Esperanto/Supports/Suppliers/2_Suppliers_Addresses'\n",
    "workFolder = '/content/drive/Shareddrives/Esperanto/Supports/Suppliers/Work/5_Bank_Accounts'\n",
    "fileName = '2. SUPPLIER_ADDRESSES_INTERFACE_COPPEL.csv'\n",
    "inputTextFile = open(Path(sourceFolder, fileName), 'r', encoding='latin-1')\n",
    "if inputTextFile:\n",
    "    numTextLines = 0\n",
    "    while True:\n",
    "        numTextLines += 1\n",
    "        textLine = inputTextFile.readline()\n",
    "        print(textLine)\n",
    "        if numTextLines >10:\n",
    "            break\n",
    "    inputTextFile.close()"
   ]
  },
  {
   "cell_type": "code",
   "execution_count": null,
   "metadata": {},
   "outputs": [],
   "source": []
  }
 ]
}