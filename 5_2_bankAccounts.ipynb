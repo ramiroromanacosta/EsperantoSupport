{
 "metadata": {
  "language_info": {
   "codemirror_mode": {
    "name": "ipython",
    "version": 3
   },
   "file_extension": ".py",
   "mimetype": "text/x-python",
   "name": "python",
   "nbconvert_exporter": "python",
   "pygments_lexer": "ipython3",
   "version": "3.7.12"
  },
  "orig_nbformat": 2,
  "kernelspec": {
   "name": "python3712jvsc74a57bd04cd7ab41f5fca4b9b44701077e38c5ffd31fe66a6cab21e0214b68d958d0e462",
   "display_name": "Python 3.7.12 64-bit"
  },
  "metadata": {
   "interpreter": {
    "hash": "4cd7ab41f5fca4b9b44701077e38c5ffd31fe66a6cab21e0214b68d958d0e462"
   }
  }
 },
 "nbformat": 4,
 "nbformat_minor": 2,
 "cells": [
  {
   "source": [
    "##  Data from File 5.2 Bank Accounts"
   ],
   "cell_type": "markdown",
   "metadata": {}
  },
  {
   "source": [
    "### Step 1. Load required packages"
   ],
   "cell_type": "markdown",
   "metadata": {}
  },
  {
   "cell_type": "code",
   "execution_count": 1,
   "metadata": {},
   "outputs": [],
   "source": [
    "import pandas as pd\n",
    "import pandasql as ps\n",
    "from pathlib import Path"
   ]
  },
  {
   "source": [
    "#### Step 2 - Get sample from source file"
   ],
   "cell_type": "markdown",
   "metadata": {}
  },
  {
   "cell_type": "code",
   "execution_count": 7,
   "metadata": {},
   "outputs": [
    {
     "output_type": "error",
     "ename": "NameError",
     "evalue": "name 'numTextLines' is not defined",
     "traceback": [
      "\u001b[0;31m---------------------------------------------------------------------------\u001b[0m",
      "\u001b[0;31mNameError\u001b[0m                                 Traceback (most recent call last)",
      "\u001b[0;32m<ipython-input-7-42409b67f52a>\u001b[0m in \u001b[0;36m<module>\u001b[0;34m()\u001b[0m\n\u001b[1;32m      4\u001b[0m \u001b[0minputTextFile\u001b[0m \u001b[0;34m=\u001b[0m \u001b[0mopen\u001b[0m\u001b[0;34m(\u001b[0m\u001b[0mPath\u001b[0m\u001b[0;34m(\u001b[0m\u001b[0msourceFolder\u001b[0m\u001b[0;34m,\u001b[0m \u001b[0mfileName\u001b[0m\u001b[0;34m)\u001b[0m\u001b[0;34m,\u001b[0m \u001b[0;34m'r'\u001b[0m\u001b[0;34m,\u001b[0m \u001b[0mencoding\u001b[0m\u001b[0;34m=\u001b[0m\u001b[0;34m'latin-1'\u001b[0m\u001b[0;34m)\u001b[0m\u001b[0;34m\u001b[0m\u001b[0;34m\u001b[0m\u001b[0m\n\u001b[1;32m      5\u001b[0m \u001b[0;32mif\u001b[0m \u001b[0minputTextFile\u001b[0m\u001b[0;34m:\u001b[0m\u001b[0;34m\u001b[0m\u001b[0;34m\u001b[0m\u001b[0m\n\u001b[0;32m----> 6\u001b[0;31m     \u001b[0mnumTextLines\u001b[0m\u001b[0;34m\u001b[0m\u001b[0;34m\u001b[0m\u001b[0m\n\u001b[0m\u001b[1;32m      7\u001b[0m     \u001b[0;32mwhile\u001b[0m \u001b[0;32mTrue\u001b[0m\u001b[0;34m:\u001b[0m\u001b[0;34m\u001b[0m\u001b[0;34m\u001b[0m\u001b[0m\n\u001b[1;32m      8\u001b[0m         \u001b[0mnumTextLines\u001b[0m \u001b[0;34m+=\u001b[0m \u001b[0;36m1\u001b[0m\u001b[0;34m\u001b[0m\u001b[0;34m\u001b[0m\u001b[0m\n",
      "\u001b[0;31mNameError\u001b[0m: name 'numTextLines' is not defined"
     ]
    }
   ],
   "source": [
    "sourceFolder = '/content/drive/Shareddrives/Esperanto/Supports/Suppliers/5_Suppliers_Payees_BankAccounts'\n",
    "workFolder = '/content/drive/Shareddrives/Esperanto/Supports/Suppliers/Work/5_Bank_Accounts'\n",
    "fileName = '5.2. SUPPLIER_BANK_ACCOUNTS_COPPEL.csv'\n",
    "inputTextFile = open(Path(sourceFolder, fileName), 'r', encoding='latin-1')\n",
    "if inputTextFile:\n",
    "    numTextLines = 0\n",
    "    while True:\n",
    "        numTextLines += 1\n",
    "        textLine = inputTextFile.readline()\n",
    "        print(textLine)\n",
    "        if numTextLines >10:\n",
    "            break\n",
    "    inputTextFile.close()"
   ]
  },
  {
   "source": [
    "### Step 2 Load bank account data"
   ],
   "cell_type": "markdown",
   "metadata": {}
  },
  {
   "cell_type": "code",
   "execution_count": 2,
   "metadata": {},
   "outputs": [],
   "source": [
    "\n",
    "df = pd.read_csv(Path(sourceFolder,filename), sep=';', quotechar=chr(39), encoding='latin-1')"
   ]
  },
  {
   "cell_type": "code",
   "execution_count": 4,
   "metadata": {
    "tags": []
   },
   "outputs": [
    {
     "output_type": "stream",
     "name": "stdout",
     "text": [
      "  SISTEMA_LEGADO NUMERO_PROVEEDOR  FEEDER_IMPORT_BATCH_ID  TEMP_EXT_PAYEE_ID  \\\n0          OBRAS    GAVE860528F18                     100                  9   \n1         GASTOS     BIO111108JC6                     100                 12   \n2          OBRAS     BIO111108JC6                     100                 13   \n3         GASTOS     DSE090511EW5                     100                 18   \n4          OBRAS     DSE090511EW5                     100                 19   \n5          OBRAS     TVC8607234U2                     100                 23   \n6         GASTOS     TVC8607234U2                     100                 24   \n7         GASTOS     ABS110113195                     100                 27   \n8          OBRAS     ABS110113195                     100                 28   \n9          OBRAS     DUO7511286H3                     100                 37   \n\n   TEMP_EXT_BANK_ACCT_ID   BANK_NAME  BRANCH_NAME COUNTRY_CODE  \\\n0                      9        HSBC  PROVEEDORES           MX   \n1                     12     BANORTE  PROVEEDORES           MX   \n2                     13     BANORTE  PROVEEDORES           MX   \n3                     18      AFIRME  PROVEEDORES           MX   \n4                     19      AFIRME  PROVEEDORES           MX   \n5                     23  SCOTIABANK  PROVEEDORES           MX   \n6                     24  SCOTIABANK  PROVEEDORES           MX   \n7                     27   SANTANDER  PROVEEDORES           MX   \n8                     28   SANTANDER  PROVEEDORES           MX   \n9                     37     BANAMEX  PROVEEDORES           MX   \n\n   BANK_ACCOUNT_NAME  BANK_ACCOUNT_NUM  ... ATTRIBUTE8 ATTRIBUTE9  \\\n0                NaN      4.057367e+09  ...        NaN        NaN   \n1                NaN      8.083514e+08  ...        NaN        NaN   \n2                NaN      8.083514e+08  ...        NaN        NaN   \n3                NaN      1.081199e+08  ...        NaN        NaN   \n4                NaN      1.081199e+08  ...        NaN        NaN   \n5                NaN      1.066360e+08  ...        NaN        NaN   \n6                NaN      1.066360e+08  ...        NaN        NaN   \n7                NaN      2.001660e+09  ...        NaN        NaN   \n8                NaN      2.001660e+09  ...        NaN        NaN   \n9                NaN      4.680781e+07  ...        NaN        NaN   \n\n   ATTRIBUTE10  ATTRIBUTE11  ATTRIBUTE12  ATTRIBUTE13  ATTRIBUTE14  \\\n0          NaN          NaN          NaN          NaN          NaN   \n1          NaN          NaN          NaN          NaN          NaN   \n2          NaN          NaN          NaN          NaN          NaN   \n3          NaN          NaN          NaN          NaN          NaN   \n4          NaN          NaN          NaN          NaN          NaN   \n5          NaN          NaN          NaN          NaN          NaN   \n6          NaN          NaN          NaN          NaN          NaN   \n7          NaN          NaN          NaN          NaN          NaN   \n8          NaN          NaN          NaN          NaN          NaN   \n9          NaN          NaN          NaN          NaN          NaN   \n\n   ATTRIBUTE15  CLABE_NUMCHAR  CLABE_VALIDATION  \n0          NaN             18              True  \n1          NaN             18              True  \n2          NaN             18              True  \n3          NaN             18              True  \n4          NaN             18              True  \n5          NaN             18              True  \n6          NaN             18              True  \n7          NaN             18              True  \n8          NaN             18              True  \n9          NaN             18              True  \n\n[10 rows x 43 columns]\n"
     ]
    }
   ],
   "source": [
    "df['CLABE_NUMCHAR'] = 0\n",
    "df['CLABE_VALIDATION'] = False \n",
    "df['ATTRIBUTE1'] = df['ATTRIBUTE1'].astype(str)\n",
    "for index, row in df.iterrows():\n",
    "    accountNum = row['ATTRIBUTE1'].replace('.0','')\n",
    "    numChars = len(accountNum)\n",
    "    df.loc[index, 'CLABE_NUMCHAR'] = numChars\n",
    "    if numChars == 18:\n",
    "        df.loc[index, 'CLABE_VALIDATION'] = True\n",
    "print(df.head(10))"
   ]
  },
  {
   "cell_type": "code",
   "execution_count": 5,
   "metadata": {},
   "outputs": [
    {
     "output_type": "stream",
     "name": "stdout",
     "text": [
      "1 ,  164836\n0 ,  7130\n"
     ]
    }
   ],
   "source": [
    "sql_query = '''\n",
    "SELECT CLABE_VALIDATION,COUNT(*) AS NumCases FROM df\n",
    "GROUP BY CLABE_VALIDATION\n",
    "ORDER BY NumCases DESC\n",
    "'''\n",
    "result = ps.sqldf(sql_query)\n",
    "for index, row in result.iterrows():\n",
    "    print(row['CLABE_VALIDATION'], ', ', row['NumCases'])\n"
   ]
  },
  {
   "cell_type": "code",
   "execution_count": 6,
   "metadata": {},
   "outputs": [
    {
     "output_type": "stream",
     "name": "stdout",
     "text": [
      "20  : 36\n18  : 164836\n17  : 78\n16  : 16\n15  : 4\n11  : 2\n10  : 2\n9  : 2\n1  : 6990\n"
     ]
    }
   ],
   "source": [
    "sql_query = '''\n",
    "SELECT CLABE_NUMCHAR,COUNT(*) AS NumCases FROM df\n",
    "GROUP BY CLABE_NUMCHAR\n",
    "ORDER BY CLABE_NUMCHAR DESC\n",
    "'''\n",
    "result = ps.sqldf(sql_query)\n",
    "for index, row in result.iterrows():\n",
    "    print(row['CLABE_NUMCHAR'],' :', row['NumCases'])"
   ]
  },
  {
   "cell_type": "code",
   "execution_count": 9,
   "metadata": {},
   "outputs": [],
   "source": [
    "workFolder = '/content/drive/Shareddrives/Esperanto/Supports/Suppliers/Work/5_Bank_Accounts'\n",
    "ValidClabetDf = df.loc[df['CLABE_VALIDATION'] == True]\n",
    "ValidClabetDf.to_csv(str(Path(workFolder,'ValidCabledDf.csv')), encoding='utf-8')"
   ]
  },
  {
   "cell_type": "code",
   "execution_count": 10,
   "metadata": {},
   "outputs": [
    {
     "output_type": "stream",
     "name": "stdout",
     "text": [
      "SISTEMA_LEGADO\nNUMERO_PROVEEDOR\nFEEDER_IMPORT_BATCH_ID\nTEMP_EXT_PAYEE_ID\nTEMP_EXT_BANK_ACCT_ID\nBANK_NAME\nBRANCH_NAME\nCOUNTRY_CODE\nBANK_ACCOUNT_NAME\nBANK_ACCOUNT_NUM\nCURRENCY_CODE\nFOREING_PAYMENT_USE_FLAG\nSTART_DATE\nEND_DATE\nIBAN\nCHECK_DIGITS\nBANK_ACCOUNT_NAME_ALT\nBANK_ACCOUNT_TYPE\nACCOUNT_SUFFIX\nDESCRIPTION\nAGENCY_LOCATION_CODE\nEXCHANGE_RATE_AGREEMENT_NUM\nEXCHANGE_RATE_AGREEMENT_TYPE\nEXCHANGE_RATE\nSECONDARY_ACCOUNT_REFERENCE\nATTRIBUTE_CATEGORY\nATTRIBUTE1\nATTRIBUTE2\nATTRIBUTE3\nATTRIBUTE4\nATTRIBUTE5\nATTRIBUTE6\nATTRIBUTE7\nATTRIBUTE8\nATTRIBUTE9\nATTRIBUTE10\nATTRIBUTE11\nATTRIBUTE12\nATTRIBUTE13\nATTRIBUTE14\nATTRIBUTE15\nCLABE_NUMCHAR\nCLABE_VALIDATION\n"
     ]
    }
   ],
   "source": [
    "for column in list(ValidClabetDf.columns):\n",
    "    print(column)"
   ]
  },
  {
   "cell_type": "code",
   "execution_count": 11,
   "metadata": {},
   "outputs": [
    {
     "output_type": "stream",
     "name": "stdout",
     "text": [
      "  SISTEMA_LEGADO NUMERO_PROVEEDOR  FEEDER_IMPORT_BATCH_ID  TEMP_EXT_PAYEE_ID  \\\n0          OBRAS    GAVE860528F18                     100                  9   \n1         GASTOS     BIO111108JC6                     100                 12   \n2          OBRAS     BIO111108JC6                     100                 13   \n3         GASTOS     DSE090511EW5                     100                 18   \n4          OBRAS     DSE090511EW5                     100                 19   \n5          OBRAS     TVC8607234U2                     100                 23   \n6         GASTOS     TVC8607234U2                     100                 24   \n7         GASTOS     ABS110113195                     100                 27   \n8          OBRAS     ABS110113195                     100                 28   \n9          OBRAS     DUO7511286H3                     100                 37   \n\n   TEMP_EXT_BANK_ACCT_ID   BANK_NAME  BRANCH_NAME COUNTRY_CODE  \\\n0                      9        HSBC  PROVEEDORES           MX   \n1                     12     BANORTE  PROVEEDORES           MX   \n2                     13     BANORTE  PROVEEDORES           MX   \n3                     18      AFIRME  PROVEEDORES           MX   \n4                     19      AFIRME  PROVEEDORES           MX   \n5                     23  SCOTIABANK  PROVEEDORES           MX   \n6                     24  SCOTIABANK  PROVEEDORES           MX   \n7                     27   SANTANDER  PROVEEDORES           MX   \n8                     28   SANTANDER  PROVEEDORES           MX   \n9                     37     BANAMEX  PROVEEDORES           MX   \n\n   BANK_ACCOUNT_NAME  BANK_ACCOUNT_NUM  ... ATTRIBUTE8 ATTRIBUTE9  \\\n0                NaN      4.057367e+09  ...        NaN        NaN   \n1                NaN      8.083514e+08  ...        NaN        NaN   \n2                NaN      8.083514e+08  ...        NaN        NaN   \n3                NaN      1.081199e+08  ...        NaN        NaN   \n4                NaN      1.081199e+08  ...        NaN        NaN   \n5                NaN      1.066360e+08  ...        NaN        NaN   \n6                NaN      1.066360e+08  ...        NaN        NaN   \n7                NaN      2.001660e+09  ...        NaN        NaN   \n8                NaN      2.001660e+09  ...        NaN        NaN   \n9                NaN      4.680781e+07  ...        NaN        NaN   \n\n   ATTRIBUTE10  ATTRIBUTE11  ATTRIBUTE12  ATTRIBUTE13  ATTRIBUTE14  \\\n0          NaN          NaN          NaN          NaN          NaN   \n1          NaN          NaN          NaN          NaN          NaN   \n2          NaN          NaN          NaN          NaN          NaN   \n3          NaN          NaN          NaN          NaN          NaN   \n4          NaN          NaN          NaN          NaN          NaN   \n5          NaN          NaN          NaN          NaN          NaN   \n6          NaN          NaN          NaN          NaN          NaN   \n7          NaN          NaN          NaN          NaN          NaN   \n8          NaN          NaN          NaN          NaN          NaN   \n9          NaN          NaN          NaN          NaN          NaN   \n\n   ATTRIBUTE15  CLABE_NUMCHAR  CLABE_VALIDATION  \n0          NaN             18              True  \n1          NaN             18              True  \n2          NaN             18              True  \n3          NaN             18              True  \n4          NaN             18              True  \n5          NaN             18              True  \n6          NaN             18              True  \n7          NaN             18              True  \n8          NaN             18              True  \n9          NaN             18              True  \n\n[10 rows x 43 columns]\n"
     ]
    }
   ],
   "source": [
    "print(ValidClabetDf.head(10))"
   ]
  },
  {
   "cell_type": "code",
   "execution_count": 14,
   "metadata": {},
   "outputs": [
    {
     "output_type": "stream",
     "name": "stdout",
     "text": [
      "  NUMERO_PROVEEDOR          ATTRIBUTE1  numObs  numCase\n0            45286  044630256032451519       5        1\n1            19022  002028752400228503       4        2\n2            22309  012180001147036695       4        3\n3            23649  014180655020198282       4        4\n4            30410  021671040569200104       4        5\n5            34057  062580001231008082       4        6\n6            47930  002263701144418896       4        7\n7    AAGE230113CD0  002700038305532064       4        8\n8    AEME900920V46  014650605597572727       4        9\n9     DMI041025M13  002028752400229159       4       10\n"
     ]
    }
   ],
   "source": [
    "sql_query = '''\n",
    "SELECT NUMERO_PROVEEDOR,ATTRIBUTE1,COUNT(*) AS numObs FROM ValidClabetDf\n",
    "GROUP BY NUMERO_PROVEEDOR,ATTRIBUTE1\n",
    "ORDER BY numObs DESC\n",
    "'''\n",
    "ValidClabeWithCaseNum = ps.sqldf(sql_query)\n",
    "ValidClabeWithCaseNum['numCase'] = 0\n",
    "numCases = 1\n",
    "for index, row in ValidClabeWithCaseNum.iterrows():\n",
    "    ValidClabeWithCaseNum.loc[index, 'numCase'] = numCases\n",
    "    numCases = numCases+1\n",
    "print(ValidClabeWithCaseNum.head(10))"
   ]
  },
  {
   "cell_type": "code",
   "execution_count": 15,
   "metadata": {},
   "outputs": [],
   "source": [
    "ValidClabeWithCaseNum.to_csv(str(Path(workFolder,'ValidClabeWithCaseNum.csv')), encoding='utf-8')"
   ]
  },
  {
   "cell_type": "code",
   "execution_count": null,
   "metadata": {},
   "outputs": [],
   "source": []
  }
 ]
}