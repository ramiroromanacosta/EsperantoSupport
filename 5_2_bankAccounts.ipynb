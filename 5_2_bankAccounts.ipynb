{
 "metadata": {
  "language_info": {
   "codemirror_mode": {
    "name": "ipython",
    "version": 3
   },
   "file_extension": ".py",
   "mimetype": "text/x-python",
   "name": "python",
   "nbconvert_exporter": "python",
   "pygments_lexer": "ipython3",
   "version": "3.7.12"
  },
  "orig_nbformat": 2,
  "kernelspec": {
   "name": "python3712jvsc74a57bd04cd7ab41f5fca4b9b44701077e38c5ffd31fe66a6cab21e0214b68d958d0e462",
   "display_name": "Python 3.7.12 64-bit"
  },
  "metadata": {
   "interpreter": {
    "hash": "4cd7ab41f5fca4b9b44701077e38c5ffd31fe66a6cab21e0214b68d958d0e462"
   }
  }
 },
 "nbformat": 4,
 "nbformat_minor": 2,
 "cells": [
  {
   "source": [
    "##  Data from File 5.2 Bank Accounts"
   ],
   "cell_type": "markdown",
   "metadata": {}
  },
  {
   "source": [
    "### Step 1. Load required packages"
   ],
   "cell_type": "markdown",
   "metadata": {}
  },
  {
   "cell_type": "code",
   "execution_count": 1,
   "metadata": {},
   "outputs": [],
   "source": [
    "import pandas as pd\n",
    "import pandasql as ps\n",
    "from pathlib import Path"
   ]
  },
  {
   "source": [
    "#### Step 2 - Get sample from source file"
   ],
   "cell_type": "markdown",
   "metadata": {}
  },
  {
   "cell_type": "code",
   "execution_count": 2,
   "metadata": {},
   "outputs": [
    {
     "output_type": "stream",
     "name": "stdout",
     "text": [
      "'SISTEMA_LEGADO';'NUMERO_PROVEEDOR';'FEEDER_IMPORT_BATCH_ID';'TEMP_EXT_PAYEE_ID';'TEMP_EXT_BANK_ACCT_ID';'BANK_NAME';'BRANCH_NAME';'COUNTRY_CODE';'BANK_ACCOUNT_NAME';'BANK_ACCOUNT_NUM';'CURRENCY_CODE';'FOREING_PAYMENT_USE_FLAG';'START_DATE';'END_DATE';'IBAN';'CHECK_DIGITS';'BANK_ACCOUNT_NAME_ALT';'BANK_ACCOUNT_TYPE';'ACCOUNT_SUFFIX';'DESCRIPTION';'AGENCY_LOCATION_CODE';'EXCHANGE_RATE_AGREEMENT_NUM';'EXCHANGE_RATE_AGREEMENT_TYPE';'EXCHANGE_RATE';'SECONDARY_ACCOUNT_REFERENCE';'ATTRIBUTE_CATEGORY';'ATTRIBUTE1';'ATTRIBUTE2';'ATTRIBUTE3';'ATTRIBUTE4';'ATTRIBUTE5';'ATTRIBUTE6';'ATTRIBUTE7';'ATTRIBUTE8';'ATTRIBUTE9';'ATTRIBUTE10';'ATTRIBUTE11';'ATTRIBUTE12';'ATTRIBUTE13';'ATTRIBUTE14';'ATTRIBUTE15'\n\n'OBRAS';'GAVE860528F18';'100';'9';'0009';'HSBC';'PROVEEDORES';'MX';'';'4057367294';'MXN';'N';'';'';'';'';'';'';'';'';'';'';'';'';'';'';'021741040573672946';'';'';'';'';'';'';'';'';'';'';'';'';'';''\n\n'GASTOS';'BIO111108JC6';'100';'12';'00012';'BANORTE';'PROVEEDORES';'MX';'';'0808351359';'MXN';'N';'';'';'';'';'';'';'';'';'';'';'';'';'';'';'072180008083513590';'';'';'';'';'';'';'';'';'';'';'';'';'';''\n\n'OBRAS';'BIO111108JC6';'100';'13';'00013';'BANORTE';'PROVEEDORES';'MX';'';'0808351359';'MXN';'N';'';'';'';'';'';'';'';'';'';'';'';'';'';'';'072180008083513590';'';'';'';'';'';'';'';'';'';'';'';'';'';''\n\n'GASTOS';'DSE090511EW5';'100';'18';'00018';'AFIRME';'PROVEEDORES';'MX';'';'0108119934';'MXN';'N';'';'';'';'';'';'';'';'';'';'';'';'';'';'';'062580001081199345';'';'';'';'';'';'';'';'';'';'';'';'';'';''\n\n'OBRAS';'DSE090511EW5';'100';'19';'00019';'AFIRME';'PROVEEDORES';'MX';'';'0108119934';'MXN';'N';'';'';'';'';'';'';'';'';'';'';'';'';'';'';'062580001081199345';'';'';'';'';'';'';'';'';'';'';'';'';'';''\n\n'OBRAS';'TVC8607234U2';'100';'23';'00023';'SCOTIABANK';'PROVEEDORES';'MX';'';'0106635989';'MXN';'N';'';'';'';'';'';'';'';'';'';'';'';'';'';'';'044180001066359890';'';'';'';'';'';'';'';'';'';'';'';'';'';''\n\n'GASTOS';'TVC8607234U2';'100';'24';'00024';'SCOTIABANK';'PROVEEDORES';'MX';'';'0106635989';'MXN';'N';'';'';'';'';'';'';'';'';'';'';'';'';'';'';'044180001066359890';'';'';'';'';'';'';'';'';'';'';'';'';'';''\n\n'GASTOS';'ABS110113195';'100';'27';'00027';'SANTANDER';'PROVEEDORES';'MX';'';'2001659940';'MXN';'N';'';'';'';'';'';'';'';'';'';'';'';'';'';'';'014180920016599407';'';'';'';'';'';'';'';'';'';'';'';'';'';''\n\n'OBRAS';'ABS110113195';'100';'28';'00028';'SANTANDER';'PROVEEDORES';'MX';'';'2001659940';'MXN';'N';'';'';'';'';'';'';'';'';'';'';'';'';'';'';'014180920016599407';'';'';'';'';'';'';'';'';'';'';'';'';'';''\n\n'OBRAS';'DUO7511286H3';'100';'37';'00037';'BANAMEX';'PROVEEDORES';'MX';'';'0046807810';'MXN';'N';'';'';'';'';'';'';'';'';'';'';'';'';'';'';'002180700468078106';'';'';'';'';'';'';'';'';'';'';'';'';'';''\n\n"
     ]
    }
   ],
   "source": [
    "sourceFolder = '/content/drive/Shareddrives/Esperanto/Supports/Suppliers/5_Suppliers_Payees_BankAccounts'\n",
    "workFolder = '/content/drive/Shareddrives/Esperanto/Supports/Suppliers/Work/5_Bank_Accounts'\n",
    "fileName = '5.2. SUPPLIER_BANK_ACCOUNTS_COPPEL.csv'\n",
    "inputTextFile = open(Path(sourceFolder, fileName), 'r', encoding='latin-1')\n",
    "if inputTextFile:\n",
    "    numTextLines = 0\n",
    "    while True:\n",
    "        numTextLines += 1\n",
    "        textLine = inputTextFile.readline()\n",
    "        print(textLine)\n",
    "        if numTextLines >10:\n",
    "            break\n",
    "    inputTextFile.close()"
   ]
  },
  {
   "source": [
    "### Step 3 - Load bank account data"
   ],
   "cell_type": "markdown",
   "metadata": {}
  },
  {
   "cell_type": "code",
   "execution_count": 3,
   "metadata": {},
   "outputs": [
    {
     "output_type": "execute_result",
     "data": {
      "text/plain": [
       "SISTEMA_LEGADO                   object\n",
       "NUMERO_PROVEEDOR                 object\n",
       "FEEDER_IMPORT_BATCH_ID            int64\n",
       "TEMP_EXT_PAYEE_ID                 int64\n",
       "TEMP_EXT_BANK_ACCT_ID             int64\n",
       "BANK_NAME                        object\n",
       "BRANCH_NAME                      object\n",
       "COUNTRY_CODE                     object\n",
       "BANK_ACCOUNT_NAME               float64\n",
       "BANK_ACCOUNT_NUM                float64\n",
       "CURRENCY_CODE                    object\n",
       "FOREING_PAYMENT_USE_FLAG         object\n",
       "START_DATE                      float64\n",
       "END_DATE                        float64\n",
       "IBAN                            float64\n",
       "CHECK_DIGITS                    float64\n",
       "BANK_ACCOUNT_NAME_ALT           float64\n",
       "BANK_ACCOUNT_TYPE               float64\n",
       "ACCOUNT_SUFFIX                  float64\n",
       "DESCRIPTION                     float64\n",
       "AGENCY_LOCATION_CODE            float64\n",
       "EXCHANGE_RATE_AGREEMENT_NUM     float64\n",
       "EXCHANGE_RATE_AGREEMENT_TYPE    float64\n",
       "EXCHANGE_RATE                   float64\n",
       "SECONDARY_ACCOUNT_REFERENCE     float64\n",
       "ATTRIBUTE_CATEGORY              float64\n",
       "ATTRIBUTE1                       object\n",
       "ATTRIBUTE2                      float64\n",
       "ATTRIBUTE3                      float64\n",
       "ATTRIBUTE4                      float64\n",
       "ATTRIBUTE5                      float64\n",
       "ATTRIBUTE6                      float64\n",
       "ATTRIBUTE7                      float64\n",
       "ATTRIBUTE8                      float64\n",
       "ATTRIBUTE9                      float64\n",
       "ATTRIBUTE10                     float64\n",
       "ATTRIBUTE11                     float64\n",
       "ATTRIBUTE12                     float64\n",
       "ATTRIBUTE13                     float64\n",
       "ATTRIBUTE14                     float64\n",
       "ATTRIBUTE15                     float64\n",
       "dtype: object"
      ]
     },
     "metadata": {},
     "execution_count": 3
    }
   ],
   "source": [
    "df = pd.read_csv(Path(sourceFolder,fileName), sep=';', quotechar=chr(39), encoding='latin-1')\n",
    "df.dtypes"
   ]
  },
  {
   "source": [
    "### Step 4 - Create a New Dataset (Modified) and Validate Bank Account"
   ],
   "cell_type": "markdown",
   "metadata": {}
  },
  {
   "cell_type": "code",
   "execution_count": 4,
   "metadata": {
    "tags": []
   },
   "outputs": [
    {
     "output_type": "stream",
     "name": "stdout",
     "text": [
      "the orignal dataset contains  171966  records\nthe modified dataset contains  171966  records.\n  SISTEMA_LEGADO NUMERO_PROVEEDOR  FEEDER_IMPORT_BATCH_ID  TEMP_EXT_PAYEE_ID  \\\n0          OBRAS    GAVE860528F18                     100                  9   \n1         GASTOS     BIO111108JC6                     100                 12   \n2          OBRAS     BIO111108JC6                     100                 13   \n3         GASTOS     DSE090511EW5                     100                 18   \n4          OBRAS     DSE090511EW5                     100                 19   \n5          OBRAS     TVC8607234U2                     100                 23   \n6         GASTOS     TVC8607234U2                     100                 24   \n7         GASTOS     ABS110113195                     100                 27   \n8          OBRAS     ABS110113195                     100                 28   \n9          OBRAS     DUO7511286H3                     100                 37   \n\n   TEMP_EXT_BANK_ACCT_ID   BANK_NAME  BRANCH_NAME COUNTRY_CODE  \\\n0                      9        HSBC  PROVEEDORES           MX   \n1                     12     BANORTE  PROVEEDORES           MX   \n2                     13     BANORTE  PROVEEDORES           MX   \n3                     18      AFIRME  PROVEEDORES           MX   \n4                     19      AFIRME  PROVEEDORES           MX   \n5                     23  SCOTIABANK  PROVEEDORES           MX   \n6                     24  SCOTIABANK  PROVEEDORES           MX   \n7                     27   SANTANDER  PROVEEDORES           MX   \n8                     28   SANTANDER  PROVEEDORES           MX   \n9                     37     BANAMEX  PROVEEDORES           MX   \n\n   BANK_ACCOUNT_NAME BANK_ACCOUNT_NUM  ... ATTRIBUTE7 ATTRIBUTE8  ATTRIBUTE9  \\\n0                NaN     4057367294.0  ...        NaN        NaN         NaN   \n1                NaN      808351359.0  ...        NaN        NaN         NaN   \n2                NaN      808351359.0  ...        NaN        NaN         NaN   \n3                NaN      108119934.0  ...        NaN        NaN         NaN   \n4                NaN      108119934.0  ...        NaN        NaN         NaN   \n5                NaN      106635989.0  ...        NaN        NaN         NaN   \n6                NaN      106635989.0  ...        NaN        NaN         NaN   \n7                NaN     2001659940.0  ...        NaN        NaN         NaN   \n8                NaN     2001659940.0  ...        NaN        NaN         NaN   \n9                NaN       46807810.0  ...        NaN        NaN         NaN   \n\n   ATTRIBUTE10  ATTRIBUTE11  ATTRIBUTE12  ATTRIBUTE13  ATTRIBUTE14  \\\n0          NaN          NaN          NaN          NaN          NaN   \n1          NaN          NaN          NaN          NaN          NaN   \n2          NaN          NaN          NaN          NaN          NaN   \n3          NaN          NaN          NaN          NaN          NaN   \n4          NaN          NaN          NaN          NaN          NaN   \n5          NaN          NaN          NaN          NaN          NaN   \n6          NaN          NaN          NaN          NaN          NaN   \n7          NaN          NaN          NaN          NaN          NaN   \n8          NaN          NaN          NaN          NaN          NaN   \n9          NaN          NaN          NaN          NaN          NaN   \n\n   ATTRIBUTE15  CLABE_VALIDATION  \n0          NaN              True  \n1          NaN              True  \n2          NaN              True  \n3          NaN              True  \n4          NaN              True  \n5          NaN              True  \n6          NaN              True  \n7          NaN              True  \n8          NaN              True  \n9          NaN              True  \n\n[10 rows x 42 columns]\nSISTEMA_LEGADO                   string\nNUMERO_PROVEEDOR                 string\nFEEDER_IMPORT_BATCH_ID            int64\nTEMP_EXT_PAYEE_ID                 int64\nTEMP_EXT_BANK_ACCT_ID             int64\nBANK_NAME                        string\nBRANCH_NAME                      string\nCOUNTRY_CODE                     string\nBANK_ACCOUNT_NAME               float64\nBANK_ACCOUNT_NUM                 string\nCURRENCY_CODE                    string\nFOREING_PAYMENT_USE_FLAG         string\nSTART_DATE                      float64\nEND_DATE                        float64\nIBAN                            float64\nCHECK_DIGITS                    float64\nBANK_ACCOUNT_NAME_ALT           float64\nBANK_ACCOUNT_TYPE               float64\nACCOUNT_SUFFIX                  float64\nDESCRIPTION                     float64\nAGENCY_LOCATION_CODE            float64\nEXCHANGE_RATE_AGREEMENT_NUM     float64\nEXCHANGE_RATE_AGREEMENT_TYPE    float64\nEXCHANGE_RATE                   float64\nSECONDARY_ACCOUNT_REFERENCE     float64\nATTRIBUTE_CATEGORY              float64\nATTRIBUTE1                       string\nATTRIBUTE2                      float64\nATTRIBUTE3                      float64\nATTRIBUTE4                      float64\nATTRIBUTE5                      float64\nATTRIBUTE6                      float64\nATTRIBUTE7                      float64\nATTRIBUTE8                      float64\nATTRIBUTE9                      float64\nATTRIBUTE10                     float64\nATTRIBUTE11                     float64\nATTRIBUTE12                     float64\nATTRIBUTE13                     float64\nATTRIBUTE14                     float64\nATTRIBUTE15                     float64\nCLABE_VALIDATION                   bool\ndtype: object\n"
     ]
    }
   ],
   "source": [
    "modDf = df\n",
    "modDf['CLABE_VALIDATION'] = False\n",
    "modDf['SISTEMA_LEGADO'] = modDf['SISTEMA_LEGADO'].astype(pd.StringDtype())\n",
    "modDf['NUMERO_PROVEEDOR'] = modDf['NUMERO_PROVEEDOR'].astype(pd.StringDtype())\n",
    "modDf['BANK_NAME'] = modDf['BANK_NAME'].astype(pd.StringDtype())\n",
    "modDf['BRANCH_NAME'] = modDf['BRANCH_NAME'].astype(pd.StringDtype())\n",
    "modDf['COUNTRY_CODE'] = modDf['COUNTRY_CODE'].astype(pd.StringDtype())\n",
    "modDf['CURRENCY_CODE'] = modDf['CURRENCY_CODE'].astype(pd.StringDtype())\n",
    "modDf['FOREING_PAYMENT_USE_FLAG'] = modDf['FOREING_PAYMENT_USE_FLAG'].astype(pd.StringDtype())\n",
    "modDf['ATTRIBUTE1'] = modDf['ATTRIBUTE1'].astype(pd.StringDtype())\n",
    "modDf['BANK_ACCOUNT_NUM'] = modDf['BANK_ACCOUNT_NUM'].astype(pd.StringDtype()) \n",
    "modDf['ATTRIBUTE1'] = modDf['ATTRIBUTE1'].astype(pd.StringDtype())\n",
    "for index, row in modDf.iterrows():\n",
    "    if len(str(row['ATTRIBUTE1']).replace('.0',''))==18:\n",
    "        modDf.loc[index, 'CLABE_VALIDATION'] = True\n",
    "#\n",
    "modDf = modDf[modDf['NUMERO_PROVEEDOR'].notna()]\n",
    "print('the orignal dataset contains ', len(df.index), ' records')\n",
    "print('the modified dataset contains ', len(modDf.index), ' records.')\n",
    "print(modDf.head(10))\n",
    "print(modDf.dtypes)"
   ]
  },
  {
   "source": [
    "### Step 5 - Creates a subset with elements whose taxt id and bank account are valid"
   ],
   "cell_type": "markdown",
   "metadata": {}
  },
  {
   "cell_type": "code",
   "execution_count": 5,
   "metadata": {},
   "outputs": [
    {
     "output_type": "stream",
     "name": "stdout",
     "text": [
      "171966  records in original dataset\n164836  records with a valid bank account (18 digits)\n  SISTEMA_LEGADO NUMERO_PROVEEDOR  FEEDER_IMPORT_BATCH_ID  TEMP_EXT_PAYEE_ID  \\\n0          OBRAS    GAVE860528F18                     100                  9   \n1         GASTOS     BIO111108JC6                     100                 12   \n2          OBRAS     BIO111108JC6                     100                 13   \n3         GASTOS     DSE090511EW5                     100                 18   \n4          OBRAS     DSE090511EW5                     100                 19   \n5          OBRAS     TVC8607234U2                     100                 23   \n6         GASTOS     TVC8607234U2                     100                 24   \n7         GASTOS     ABS110113195                     100                 27   \n8          OBRAS     ABS110113195                     100                 28   \n9          OBRAS     DUO7511286H3                     100                 37   \n\n   TEMP_EXT_BANK_ACCT_ID   BANK_NAME  BRANCH_NAME COUNTRY_CODE  \\\n0                      9        HSBC  PROVEEDORES           MX   \n1                     12     BANORTE  PROVEEDORES           MX   \n2                     13     BANORTE  PROVEEDORES           MX   \n3                     18      AFIRME  PROVEEDORES           MX   \n4                     19      AFIRME  PROVEEDORES           MX   \n5                     23  SCOTIABANK  PROVEEDORES           MX   \n6                     24  SCOTIABANK  PROVEEDORES           MX   \n7                     27   SANTANDER  PROVEEDORES           MX   \n8                     28   SANTANDER  PROVEEDORES           MX   \n9                     37     BANAMEX  PROVEEDORES           MX   \n\n   BANK_ACCOUNT_NAME BANK_ACCOUNT_NUM  ... ATTRIBUTE7 ATTRIBUTE8  ATTRIBUTE9  \\\n0                NaN       4057367294  ...        NaN        NaN         NaN   \n1                NaN        808351359  ...        NaN        NaN         NaN   \n2                NaN        808351359  ...        NaN        NaN         NaN   \n3                NaN        108119934  ...        NaN        NaN         NaN   \n4                NaN        108119934  ...        NaN        NaN         NaN   \n5                NaN        106635989  ...        NaN        NaN         NaN   \n6                NaN        106635989  ...        NaN        NaN         NaN   \n7                NaN       2001659940  ...        NaN        NaN         NaN   \n8                NaN       2001659940  ...        NaN        NaN         NaN   \n9                NaN         46807810  ...        NaN        NaN         NaN   \n\n   ATTRIBUTE10  ATTRIBUTE11  ATTRIBUTE12  ATTRIBUTE13  ATTRIBUTE14  \\\n0          NaN          NaN          NaN          NaN          NaN   \n1          NaN          NaN          NaN          NaN          NaN   \n2          NaN          NaN          NaN          NaN          NaN   \n3          NaN          NaN          NaN          NaN          NaN   \n4          NaN          NaN          NaN          NaN          NaN   \n5          NaN          NaN          NaN          NaN          NaN   \n6          NaN          NaN          NaN          NaN          NaN   \n7          NaN          NaN          NaN          NaN          NaN   \n8          NaN          NaN          NaN          NaN          NaN   \n9          NaN          NaN          NaN          NaN          NaN   \n\n   ATTRIBUTE15  CLABE_VALIDATION  \n0          NaN              True  \n1          NaN              True  \n2          NaN              True  \n3          NaN              True  \n4          NaN              True  \n5          NaN              True  \n6          NaN              True  \n7          NaN              True  \n8          NaN              True  \n9          NaN              True  \n\n[10 rows x 42 columns]\n"
     ]
    }
   ],
   "source": [
    "subSetDf = modDf[modDf['CLABE_VALIDATION']==True]\n",
    "for index, row in subSetDf.iterrows():\n",
    "    bankAccountStr = str(row['BANK_ACCOUNT_NUM'])\n",
    "    clabeAccountStr = str(row['ATTRIBUTE1'])\n",
    "    subSetDf.at[index, 'BANK_ACCOUNT_NUM'] = bankAccountStr.replace('.0','')\n",
    "    subSetDf.at[index, 'ATTRIBUTE1'] = clabeAccountStr.replace('.0','')\n",
    "print(len(modDf.index) ,' records in original dataset')\n",
    "print(len(subSetDf.index), ' records with a valid bank account (18 digits)')\n",
    "print(subSetDf.head(10))"
   ]
  },
  {
   "source": [
    "### Step 6 - Performs analysis for duplicate records based on taxt id or supplier id"
   ],
   "cell_type": "markdown",
   "metadata": {}
  },
  {
   "cell_type": "code",
   "execution_count": 6,
   "metadata": {},
   "outputs": [
    {
     "output_type": "stream",
     "name": "stdout",
     "text": [
      "76565  taxt ids in daset\n",
      "193  unique taxt ids\n",
      "76372  duplicate taxt ids\n",
      "GASTOS , 74841\n",
      "OBRAS , 74826\n",
      "MOTOR DE SEGUIMIENTO , 11147\n",
      "CONSTRUNET , 1913\n",
      "SIM , 1913\n",
      "NEGOCIOS AFILIADOS , 107\n",
      "TECNOLOGIA , 59\n",
      "SIE , 11\n",
      "MARKETPLACE , 10\n",
      "REFACCIONARIA , 8\n",
      "PORTAL SARI , 1\n"
     ]
    }
   ],
   "source": [
    "sql_query = '''\n",
    "SELECT NUMERO_PROVEEDOR,COUNT(*) AS numObs FROM subSetDf\n",
    "GROUP BY NUMERO_PROVEEDOR\n",
    "ORDER BY numObs DESC\n",
    "'''\n",
    "dupsAnalysis = ps.sqldf(sql_query)\n",
    "print(len(dupsAnalysis.index), ' taxt ids in daset')\n",
    "uniqueTaxdIds = dupsAnalysis[dupsAnalysis['numObs']==1]\n",
    "print(len(uniqueTaxdIds.index), ' unique taxt ids')\n",
    "duplicateTaxdIds = dupsAnalysis[dupsAnalysis['numObs']>1]\n",
    "print(len(duplicateTaxdIds.index), ' duplicate taxt ids')\n",
    "#\n",
    "sql_query = '''\n",
    "SELECT SISTEMA_LEGADO,COUNT(*) AS numObs FROM \n",
    "(SELECT SISTEMA_LEGADO,NUMERO_PROVEEDOR FROM subSetDf)\n",
    "GROUP BY SISTEMA_LEGADO\n",
    "ORDER BY numObs DESC\n",
    "'''\n",
    "distPerLegacy = ps.sqldf(sql_query)\n",
    "for index, row in distPerLegacy.iterrows():\n",
    "    print(row['SISTEMA_LEGADO'], ',', row['numObs'])"
   ]
  },
  {
   "cell_type": "code",
   "execution_count": 7,
   "metadata": {},
   "outputs": [
    {
     "output_type": "stream",
     "name": "stdout",
     "text": [
      "unique taxt ids: \n      NUMERO_PROVEEDOR  numObs\n76372            16291       1\n76373            16826       1\n76374            17147       1\n76375             1796       1\n76376            18005       1\n76377            18247       1\n76378            18337       1\n76379            18434       1\n76380            18606       1\n76381            18798       1\nduplicate taxt ids: \n   NUMERO_PROVEEDOR  numObs\n0             20539      27\n1      DBM000228J35      14\n2      ASO0408178B2      12\n3      PMC9601107JA      12\n4             19546      10\n..              ...     ...\n95            36928       5\n96            37929       5\n97            38728       5\n98            40530       5\n99            40834       5\n\n[100 rows x 2 columns]\n"
     ]
    }
   ],
   "source": [
    "print('unique taxt ids: ')\n",
    "print(uniqueTaxdIds.head(10))\n",
    "print('duplicate taxt ids: ')\n",
    "print(duplicateTaxdIds.head(100))"
   ]
  },
  {
   "cell_type": "code",
   "execution_count": 8,
   "metadata": {},
   "outputs": [
    {
     "output_type": "stream",
     "name": "stdout",
     "text": [
      "27  duplicates,  1  cases\n14  duplicates,  1  cases\n12  duplicates,  2  cases\n10  duplicates,  3  cases\n9  duplicates,  2  cases\n8  duplicates,  18  cases\n7  duplicates,  5  cases\n6  duplicates,  50  cases\n5  duplicates,  24  cases\n4  duplicates,  98  cases\n3  duplicates,  11203  cases\n2  duplicates,  64965  cases\n"
     ]
    }
   ],
   "source": [
    "sql_query = '''\n",
    "SELECT numObs,COUNT(*) AS NumCases FROM duplicateTaxdIds\n",
    "GROUP BY numObs\n",
    "ORDER BY numObs DESC\n",
    "'''\n",
    "result = ps.sqldf(sql_query)\n",
    "for index, row in result.iterrows():\n",
    "    print(row['numObs'], ' duplicates, ', row['NumCases'], ' cases')"
   ]
  },
  {
   "source": [
    "### Step 7 - Perfoms analysis of distribution of accounts per supplier"
   ],
   "cell_type": "markdown",
   "metadata": {}
  },
  {
   "cell_type": "code",
   "execution_count": 9,
   "metadata": {},
   "outputs": [
    {
     "output_type": "stream",
     "name": "stdout",
     "text": [
      "76928  records in scope\n",
      "76565  suppliers in dataset\n",
      "12 ,  1\n",
      "7 ,  1\n",
      "6 ,  1\n",
      "5 ,  4\n",
      "4 ,  19\n",
      "3 ,  45\n",
      "2 ,  178\n",
      "1 ,  76316\n",
      "11  legacy sistems in scope\n"
     ]
    }
   ],
   "source": [
    "sql_query = '''\n",
    "SELECT DISTINCT NUMERO_PROVEEDOR,ATTRIBUTE1 FROM subSetDf\n",
    "ORDER BY NUMERO_PROVEEDOR\n",
    "'''\n",
    "dataInScopeDf = ps.sqldf(sql_query)\n",
    "print(len(dataInScopeDf.index), ' records in scope')\n",
    "dataInScopeDf.to_csv(Path(workFolder, 'dataInScopeDfs.csv'), encoding='utf-8')\n",
    "sql_query = '''\n",
    "SELECT NUMERO_PROVEEDOR,COUNT(*) AS numObs FROM dataInScopeDf\n",
    "GROUP BY NUMERO_PROVEEDOR\n",
    "ORDER BY numObs DESC\n",
    "'''\n",
    "accountsPerSupplierDf = ps.sqldf(sql_query)\n",
    "print(len(accountsPerSupplierDf.index), ' suppliers in dataset')\n",
    "sql_query = '''\n",
    "SELECT numObs,COUNT(*) AS numCases FROM accountsPerSupplierDf\n",
    "GROUP BY numObs\n",
    "ORDER BY numObs DESC\n",
    "'''\n",
    "result = ps.sqldf(sql_query)\n",
    "for index, row in result.iterrows():\n",
    "    print(row['numObs'], ', ', row['numCases'])\n",
    "#\n",
    "sql_query = '''\n",
    "SELECT DISTINCT SISTEMA_LEGADO FROM subSetDf\n",
    "''' \n",
    "legacySystemsInScopeDf = ps.sqldf(sql_query)\n",
    "print(len(legacySystemsInScopeDf.index), ' legacy sistems in scope')\n",
    "legacySystemsInScopeDf.to_csv(Path(workFolder, 'legacySystemsInScopeDfs.csv'), encoding='utf-8')"
   ]
  },
  {
   "source": [
    "### Step 8 - Create new reporting structure from subset"
   ],
   "cell_type": "markdown",
   "metadata": {}
  },
  {
   "cell_type": "code",
   "execution_count": 10,
   "metadata": {},
   "outputs": [
    {
     "output_type": "stream",
     "name": "stdout",
     "text": [
      "164836  in new report structure\n"
     ]
    }
   ],
   "source": [
    "newReportDf = subSetDf[['SISTEMA_LEGADO','NUMERO_PROVEEDOR','FEEDER_IMPORT_BATCH_ID','TEMP_EXT_PAYEE_ID','TEMP_EXT_BANK_ACCT_ID',\n",
    "'BANK_NAME','BRANCH_NAME','COUNTRY_CODE','BANK_ACCOUNT_NAME','BANK_ACCOUNT_NUM','CURRENCY_CODE','FOREING_PAYMENT_USE_FLAG',\n",
    "'START_DATE','END_DATE','IBAN','CHECK_DIGITS','BANK_ACCOUNT_NAME_ALT','BANK_ACCOUNT_TYPE','ACCOUNT_SUFFIX','DESCRIPTION',\n",
    "'AGENCY_LOCATION_CODE','EXCHANGE_RATE_AGREEMENT_NUM','EXCHANGE_RATE_AGREEMENT_TYPE','EXCHANGE_RATE','SECONDARY_ACCOUNT_REFERENCE',\n",
    "'ATTRIBUTE_CATEGORY','ATTRIBUTE1','ATTRIBUTE2','ATTRIBUTE3','ATTRIBUTE4','ATTRIBUTE5','ATTRIBUTE6','ATTRIBUTE7','ATTRIBUTE8',\n",
    "'ATTRIBUTE9','ATTRIBUTE10','ATTRIBUTE11','ATTRIBUTE12','ATTRIBUTE13','ATTRIBUTE14','ATTRIBUTE15']]\n",
    "print(len(newReportDf.index), ' in new report structure')"
   ]
  },
  {
   "source": [
    "### Step 9 - Create new textfile"
   ],
   "cell_type": "markdown",
   "metadata": {}
  },
  {
   "cell_type": "code",
   "execution_count": 11,
   "metadata": {},
   "outputs": [
    {
     "output_type": "stream",
     "name": "stdout",
     "text": [
      "SISTEMA_LEGADO                   string\nNUMERO_PROVEEDOR                 string\nFEEDER_IMPORT_BATCH_ID            int64\nTEMP_EXT_PAYEE_ID                 int64\nTEMP_EXT_BANK_ACCT_ID             int64\nBANK_NAME                        string\nBRANCH_NAME                      string\nCOUNTRY_CODE                     string\nBANK_ACCOUNT_NAME               float64\nBANK_ACCOUNT_NUM                 string\nCURRENCY_CODE                    string\nFOREING_PAYMENT_USE_FLAG         string\nSTART_DATE                      float64\nEND_DATE                        float64\nIBAN                            float64\nCHECK_DIGITS                    float64\nBANK_ACCOUNT_NAME_ALT           float64\nBANK_ACCOUNT_TYPE               float64\nACCOUNT_SUFFIX                  float64\nDESCRIPTION                     float64\nAGENCY_LOCATION_CODE            float64\nEXCHANGE_RATE_AGREEMENT_NUM     float64\nEXCHANGE_RATE_AGREEMENT_TYPE    float64\nEXCHANGE_RATE                   float64\nSECONDARY_ACCOUNT_REFERENCE     float64\nATTRIBUTE_CATEGORY              float64\nATTRIBUTE1                       string\nATTRIBUTE2                      float64\nATTRIBUTE3                      float64\nATTRIBUTE4                      float64\nATTRIBUTE5                      float64\nATTRIBUTE6                      float64\nATTRIBUTE7                      float64\nATTRIBUTE8                      float64\nATTRIBUTE9                      float64\nATTRIBUTE10                     float64\nATTRIBUTE11                     float64\nATTRIBUTE12                     float64\nATTRIBUTE13                     float64\nATTRIBUTE14                     float64\nATTRIBUTE15                     float64\ndtype: object\n"
     ]
    }
   ],
   "source": [
    "print(newReportDf.dtypes)"
   ]
  },
  {
   "cell_type": "code",
   "execution_count": 13,
   "metadata": {},
   "outputs": [
    {
     "output_type": "stream",
     "name": "stderr",
     "text": [
      "/usr/local/lib/python3.7/dist-packages/pandas/core/frame.py:5182: SettingWithCopyWarning: \n",
      "A value is trying to be set on a copy of a slice from a DataFrame\n",
      "\n",
      "See the caveats in the documentation: https://pandas.pydata.org/pandas-docs/stable/user_guide/indexing.html#returning-a-view-versus-a-copy\n",
      "  downcast=downcast,\n",
      "164836  text lines written.\n"
     ]
    }
   ],
   "source": [
    "newReportDf.fillna('', inplace=True)\n",
    "with open(Path(workFolder,'5.2 SUPPLIER_BANK_ACCOUNTS_COPPEL(NEW).csv'), 'w', encoding='utf-8') as textFile:\n",
    "    tmpVector = ['SISTEMA_LEGADO','NUMERO_PROVEEDOR','FEEDER_IMPORT_BATCH_ID','TEMP_EXT_PAYEE_ID','TEMP_EXT_BANK_ACCT_ID',\n",
    "                 'BANK_NAME','BRANCH_NAME','COUNTRY_CODE','BANK_ACCOUNT_NAME','BANK_ACCOUNT_NUM','CURRENCY_CODE','FOREING_PAYMENT_USE_FLAG',\n",
    "                 'START_DATE','END_DATE','IBAN','CHECK_DIGITS','BANK_ACCOUNT_NAME_ALT','BANK_ACCOUNT_TYPE','ACCOUNT_SUFFIX','DESCRIPTION',\n",
    "                 'AGENCY_LOCATION_CODE','EXCHANGE_RATE_AGREEMENT_NUM','EXCHANGE_RATE_AGREEMENT_TYPE','EXCHANGE_RATE','SECONDARY_ACCOUNT_REFERENCE',\n",
    "                 'ATTRIBUTE_CATEGORY','ATTRIBUTE1','ATTRIBUTE2','ATTRIBUTE3','ATTRIBUTE4','ATTRIBUTE5','ATTRIBUTE6','ATTRIBUTE7','ATTRIBUTE8',\n",
    "                 'ATTRIBUTE9','ATTRIBUTE10','ATTRIBUTE11','ATTRIBUTE12','ATTRIBUTE13','ATTRIBUTE14','ATTRIBUTE15']\n",
    "    textLine = chr(59).join([chr(39)+str(tmpColumn)+chr(39) for tmpColumn in tmpVector]) + '\\n'\n",
    "    textFile.write(textLine)\n",
    "    linesWritten = 0\n",
    "    for index, row in newReportDf.iterrows():\n",
    "        tmpVector = row.to_list()\n",
    "        textLine = chr(59).join([chr(39)+str(tmpColumn)+chr(39) for tmpColumn in tmpVector]) + '\\n'\n",
    "        textFile.write(textLine)\n",
    "        linesWritten += 1\n",
    "    textFile.close()\n",
    "print(linesWritten, ' text lines written.')"
   ]
  },
  {
   "source": [
    "### Step 10 - Validate the number of rows on file created"
   ],
   "cell_type": "markdown",
   "metadata": {}
  },
  {
   "cell_type": "code",
   "execution_count": 14,
   "metadata": {
    "tags": []
   },
   "outputs": [
    {
     "output_type": "stream",
     "name": "stdout",
     "text": [
      "'SISTEMA_LEGADO';'NUMERO_PROVEEDOR';'FEEDER_IMPORT_BATCH_ID';'TEMP_EXT_PAYEE_ID';'TEMP_EXT_BANK_ACCT_ID';'BANK_NAME';'BRANCH_NAME';'COUNTRY_CODE';'BANK_ACCOUNT_NAME';'BANK_ACCOUNT_NUM';'CURRENCY_CODE';'FOREING_PAYMENT_USE_FLAG';'START_DATE';'END_DATE';'IBAN';'CHECK_DIGITS';'BANK_ACCOUNT_NAME_ALT';'BANK_ACCOUNT_TYPE';'ACCOUNT_SUFFIX';'DESCRIPTION';'AGENCY_LOCATION_CODE';'EXCHANGE_RATE_AGREEMENT_NUM';'EXCHANGE_RATE_AGREEMENT_TYPE';'EXCHANGE_RATE';'SECONDARY_ACCOUNT_REFERENCE';'ATTRIBUTE_CATEGORY';'ATTRIBUTE1';'ATTRIBUTE2';'ATTRIBUTE3';'ATTRIBUTE4';'ATTRIBUTE5';'ATTRIBUTE6';'ATTRIBUTE7';'ATTRIBUTE8';'ATTRIBUTE9';'ATTRIBUTE10';'ATTRIBUTE11';'ATTRIBUTE12';'ATTRIBUTE13';'ATTRIBUTE14';'ATTRIBUTE15'\n\n'OBRAS';'GAVE860528F18';'100';'9';'9';'HSBC';'PROVEEDORES';'MX';'';'4057367294';'MXN';'N';'';'';'';'';'';'';'';'';'';'';'';'';'';'';'021741040573672946';'';'';'';'';'';'';'';'';'';'';'';'';'';''\n\n'GASTOS';'BIO111108JC6';'100';'12';'12';'BANORTE';'PROVEEDORES';'MX';'';'808351359';'MXN';'N';'';'';'';'';'';'';'';'';'';'';'';'';'';'';'072180008083513590';'';'';'';'';'';'';'';'';'';'';'';'';'';''\n\n'OBRAS';'BIO111108JC6';'100';'13';'13';'BANORTE';'PROVEEDORES';'MX';'';'808351359';'MXN';'N';'';'';'';'';'';'';'';'';'';'';'';'';'';'';'072180008083513590';'';'';'';'';'';'';'';'';'';'';'';'';'';''\n\n'GASTOS';'DSE090511EW5';'100';'18';'18';'AFIRME';'PROVEEDORES';'MX';'';'108119934';'MXN';'N';'';'';'';'';'';'';'';'';'';'';'';'';'';'';'062580001081199345';'';'';'';'';'';'';'';'';'';'';'';'';'';''\n\n'OBRAS';'DSE090511EW5';'100';'19';'19';'AFIRME';'PROVEEDORES';'MX';'';'108119934';'MXN';'N';'';'';'';'';'';'';'';'';'';'';'';'';'';'';'062580001081199345';'';'';'';'';'';'';'';'';'';'';'';'';'';''\n\n'OBRAS';'TVC8607234U2';'100';'23';'23';'SCOTIABANK';'PROVEEDORES';'MX';'';'106635989';'MXN';'N';'';'';'';'';'';'';'';'';'';'';'';'';'';'';'044180001066359890';'';'';'';'';'';'';'';'';'';'';'';'';'';''\n\n'GASTOS';'TVC8607234U2';'100';'24';'24';'SCOTIABANK';'PROVEEDORES';'MX';'';'106635989';'MXN';'N';'';'';'';'';'';'';'';'';'';'';'';'';'';'';'044180001066359890';'';'';'';'';'';'';'';'';'';'';'';'';'';''\n\n'GASTOS';'ABS110113195';'100';'27';'27';'SANTANDER';'PROVEEDORES';'MX';'';'2001659940';'MXN';'N';'';'';'';'';'';'';'';'';'';'';'';'';'';'';'014180920016599407';'';'';'';'';'';'';'';'';'';'';'';'';'';''\n\n'OBRAS';'ABS110113195';'100';'28';'28';'SANTANDER';'PROVEEDORES';'MX';'';'2001659940';'MXN';'N';'';'';'';'';'';'';'';'';'';'';'';'';'';'';'014180920016599407';'';'';'';'';'';'';'';'';'';'';'';'';'';''\n\n'OBRAS';'DUO7511286H3';'100';'37';'37';'BANAMEX';'PROVEEDORES';'MX';'';'46807810';'MXN';'N';'';'';'';'';'';'';'';'';'';'';'';'';'';'';'002180700468078106';'';'';'';'';'';'';'';'';'';'';'';'';'';''\n\n"
     ]
    }
   ],
   "source": [
    "textFileToValidate = open(Path(workFolder,'5.2 SUPPLIER_BANK_ACCOUNTS_COPPEL(NEW).csv'), 'r', encoding='utf-8')\n",
    "if textFileToValidate:\n",
    "    numTextLines = 0\n",
    "    while True:\n",
    "        numTextLines += 1\n",
    "        textLine = textFileToValidate.readline()\n",
    "        print(textLine)\n",
    "        if numTextLines >10: break\n",
    "    inputTextFile.close()"
   ]
  },
  {
   "cell_type": "code",
   "execution_count": 15,
   "metadata": {},
   "outputs": [
    {
     "output_type": "stream",
     "name": "stdout",
     "text": [
      "164836  records found.\n"
     ]
    }
   ],
   "source": [
    "validationDf = pd.read_csv(Path(workFolder,'5.2 SUPPLIER_BANK_ACCOUNTS_COPPEL(NEW).csv'), sep=';', quotechar=chr(39), encoding='utf-8')\n",
    "validationDf.dtypes\n",
    "print(len(validationDf.index), ' records found.')"
   ]
  },
  {
   "cell_type": "code",
   "execution_count": null,
   "metadata": {},
   "outputs": [],
   "source": []
  }
 ]
}