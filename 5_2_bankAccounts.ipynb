{
 "metadata": {
  "language_info": {
   "codemirror_mode": {
    "name": "ipython",
    "version": 3
   },
   "file_extension": ".py",
   "mimetype": "text/x-python",
   "name": "python",
   "nbconvert_exporter": "python",
   "pygments_lexer": "ipython3",
   "version": "3.7.12"
  },
  "orig_nbformat": 2,
  "kernelspec": {
   "name": "python3712jvsc74a57bd04cd7ab41f5fca4b9b44701077e38c5ffd31fe66a6cab21e0214b68d958d0e462",
   "display_name": "Python 3.7.12 64-bit"
  },
  "metadata": {
   "interpreter": {
    "hash": "4cd7ab41f5fca4b9b44701077e38c5ffd31fe66a6cab21e0214b68d958d0e462"
   }
  }
 },
 "nbformat": 4,
 "nbformat_minor": 2,
 "cells": [
  {
   "source": [
    "##  Data from File 5.2 Bank Accounts"
   ],
   "cell_type": "markdown",
   "metadata": {}
  },
  {
   "source": [
    "### Step 1. Load required packages"
   ],
   "cell_type": "markdown",
   "metadata": {}
  },
  {
   "cell_type": "code",
   "execution_count": 1,
   "metadata": {},
   "outputs": [],
   "source": [
    "import pandas as pd\n",
    "import pandasql as ps\n",
    "from pathlib import Path"
   ]
  },
  {
   "source": [
    "#### Step 2 - Get sample from source file"
   ],
   "cell_type": "markdown",
   "metadata": {}
  },
  {
   "cell_type": "code",
   "execution_count": 2,
   "metadata": {},
   "outputs": [
    {
     "output_type": "stream",
     "name": "stdout",
     "text": [
      "'SISTEMA_LEGADO';'NUMERO_PROVEEDOR';'FEEDER_IMPORT_BATCH_ID';'TEMP_EXT_PAYEE_ID';'TEMP_EXT_BANK_ACCT_ID';'BANK_NAME';'BRANCH_NAME';'COUNTRY_CODE';'BANK_ACCOUNT_NAME';'BANK_ACCOUNT_NUM';'CURRENCY_CODE';'FOREING_PAYMENT_USE_FLAG';'START_DATE';'END_DATE';'IBAN';'CHECK_DIGITS';'BANK_ACCOUNT_NAME_ALT';'BANK_ACCOUNT_TYPE';'ACCOUNT_SUFFIX';'DESCRIPTION';'AGENCY_LOCATION_CODE';'EXCHANGE_RATE_AGREEMENT_NUM';'EXCHANGE_RATE_AGREEMENT_TYPE';'EXCHANGE_RATE';'SECONDARY_ACCOUNT_REFERENCE';'ATTRIBUTE_CATEGORY';'ATTRIBUTE1';'ATTRIBUTE2';'ATTRIBUTE3';'ATTRIBUTE4';'ATTRIBUTE5';'ATTRIBUTE6';'ATTRIBUTE7';'ATTRIBUTE8';'ATTRIBUTE9';'ATTRIBUTE10';'ATTRIBUTE11';'ATTRIBUTE12';'ATTRIBUTE13';'ATTRIBUTE14';'ATTRIBUTE15'\n\n'OBRAS';'GAVE860528F18';'100';'9';'0009';'HSBC';'PROVEEDORES';'MX';'';'4057367294';'MXN';'N';'';'';'';'';'';'';'';'';'';'';'';'';'';'';'021741040573672946';'';'';'';'';'';'';'';'';'';'';'';'';'';''\n\n'GASTOS';'BIO111108JC6';'100';'12';'00012';'BANORTE';'PROVEEDORES';'MX';'';'0808351359';'MXN';'N';'';'';'';'';'';'';'';'';'';'';'';'';'';'';'072180008083513590';'';'';'';'';'';'';'';'';'';'';'';'';'';''\n\n'OBRAS';'BIO111108JC6';'100';'13';'00013';'BANORTE';'PROVEEDORES';'MX';'';'0808351359';'MXN';'N';'';'';'';'';'';'';'';'';'';'';'';'';'';'';'072180008083513590';'';'';'';'';'';'';'';'';'';'';'';'';'';''\n\n'GASTOS';'DSE090511EW5';'100';'18';'00018';'AFIRME';'PROVEEDORES';'MX';'';'0108119934';'MXN';'N';'';'';'';'';'';'';'';'';'';'';'';'';'';'';'062580001081199345';'';'';'';'';'';'';'';'';'';'';'';'';'';''\n\n'OBRAS';'DSE090511EW5';'100';'19';'00019';'AFIRME';'PROVEEDORES';'MX';'';'0108119934';'MXN';'N';'';'';'';'';'';'';'';'';'';'';'';'';'';'';'062580001081199345';'';'';'';'';'';'';'';'';'';'';'';'';'';''\n\n'OBRAS';'TVC8607234U2';'100';'23';'00023';'SCOTIABANK';'PROVEEDORES';'MX';'';'0106635989';'MXN';'N';'';'';'';'';'';'';'';'';'';'';'';'';'';'';'044180001066359890';'';'';'';'';'';'';'';'';'';'';'';'';'';''\n\n'GASTOS';'TVC8607234U2';'100';'24';'00024';'SCOTIABANK';'PROVEEDORES';'MX';'';'0106635989';'MXN';'N';'';'';'';'';'';'';'';'';'';'';'';'';'';'';'044180001066359890';'';'';'';'';'';'';'';'';'';'';'';'';'';''\n\n'GASTOS';'ABS110113195';'100';'27';'00027';'SANTANDER';'PROVEEDORES';'MX';'';'2001659940';'MXN';'N';'';'';'';'';'';'';'';'';'';'';'';'';'';'';'014180920016599407';'';'';'';'';'';'';'';'';'';'';'';'';'';''\n\n'OBRAS';'ABS110113195';'100';'28';'00028';'SANTANDER';'PROVEEDORES';'MX';'';'2001659940';'MXN';'N';'';'';'';'';'';'';'';'';'';'';'';'';'';'';'014180920016599407';'';'';'';'';'';'';'';'';'';'';'';'';'';''\n\n'OBRAS';'DUO7511286H3';'100';'37';'00037';'BANAMEX';'PROVEEDORES';'MX';'';'0046807810';'MXN';'N';'';'';'';'';'';'';'';'';'';'';'';'';'';'';'002180700468078106';'';'';'';'';'';'';'';'';'';'';'';'';'';''\n\n"
     ]
    }
   ],
   "source": [
    "sourceFolder = '/content/drive/Shareddrives/Esperanto/Supports/Suppliers/5_Suppliers_Payees_BankAccounts'\n",
    "workFolder = '/content/drive/Shareddrives/Esperanto/Supports/Suppliers/Work/5_Bank_Accounts'\n",
    "fileName = '5.2. SUPPLIER_BANK_ACCOUNTS_COPPEL.csv'\n",
    "inputTextFile = open(Path(sourceFolder, fileName), 'r', encoding='latin-1')\n",
    "if inputTextFile:\n",
    "    numTextLines = 0\n",
    "    while True:\n",
    "        numTextLines += 1\n",
    "        textLine = inputTextFile.readline()\n",
    "        print(textLine)\n",
    "        if numTextLines >10:\n",
    "            break\n",
    "    inputTextFile.close()"
   ]
  },
  {
   "source": [
    "### Step 3 - Load bank account data"
   ],
   "cell_type": "markdown",
   "metadata": {}
  },
  {
   "cell_type": "code",
   "execution_count": 3,
   "metadata": {},
   "outputs": [
    {
     "output_type": "execute_result",
     "data": {
      "text/plain": [
       "SISTEMA_LEGADO                   object\n",
       "NUMERO_PROVEEDOR                 object\n",
       "FEEDER_IMPORT_BATCH_ID            int64\n",
       "TEMP_EXT_PAYEE_ID                 int64\n",
       "TEMP_EXT_BANK_ACCT_ID             int64\n",
       "BANK_NAME                        object\n",
       "BRANCH_NAME                      object\n",
       "COUNTRY_CODE                     object\n",
       "BANK_ACCOUNT_NAME               float64\n",
       "BANK_ACCOUNT_NUM                float64\n",
       "CURRENCY_CODE                    object\n",
       "FOREING_PAYMENT_USE_FLAG         object\n",
       "START_DATE                      float64\n",
       "END_DATE                        float64\n",
       "IBAN                            float64\n",
       "CHECK_DIGITS                    float64\n",
       "BANK_ACCOUNT_NAME_ALT           float64\n",
       "BANK_ACCOUNT_TYPE               float64\n",
       "ACCOUNT_SUFFIX                  float64\n",
       "DESCRIPTION                     float64\n",
       "AGENCY_LOCATION_CODE            float64\n",
       "EXCHANGE_RATE_AGREEMENT_NUM     float64\n",
       "EXCHANGE_RATE_AGREEMENT_TYPE    float64\n",
       "EXCHANGE_RATE                   float64\n",
       "SECONDARY_ACCOUNT_REFERENCE     float64\n",
       "ATTRIBUTE_CATEGORY              float64\n",
       "ATTRIBUTE1                       object\n",
       "ATTRIBUTE2                      float64\n",
       "ATTRIBUTE3                      float64\n",
       "ATTRIBUTE4                      float64\n",
       "ATTRIBUTE5                      float64\n",
       "ATTRIBUTE6                      float64\n",
       "ATTRIBUTE7                      float64\n",
       "ATTRIBUTE8                      float64\n",
       "ATTRIBUTE9                      float64\n",
       "ATTRIBUTE10                     float64\n",
       "ATTRIBUTE11                     float64\n",
       "ATTRIBUTE12                     float64\n",
       "ATTRIBUTE13                     float64\n",
       "ATTRIBUTE14                     float64\n",
       "ATTRIBUTE15                     float64\n",
       "dtype: object"
      ]
     },
     "metadata": {},
     "execution_count": 3
    }
   ],
   "source": [
    "df = pd.read_csv(Path(sourceFolder,fileName), sep=';', quotechar=chr(39), encoding='latin-1')\n",
    "df.dtypes"
   ]
  },
  {
   "source": [
    "### Step 4 - Validate Bank Account & Tax ID"
   ],
   "cell_type": "markdown",
   "metadata": {}
  },
  {
   "cell_type": "code",
   "execution_count": 5,
   "metadata": {
    "tags": []
   },
   "outputs": [
    {
     "output_type": "stream",
     "name": "stdout",
     "text": [
      "the orignal dataset contains  171966  records\nthe modified dataset contains  171966  records.\n  SISTEMA_LEGADO NUMERO_PROVEEDOR  FEEDER_IMPORT_BATCH_ID  TEMP_EXT_PAYEE_ID  \\\n0          OBRAS    GAVE860528F18                     100                  9   \n1         GASTOS     BIO111108JC6                     100                 12   \n2          OBRAS     BIO111108JC6                     100                 13   \n3         GASTOS     DSE090511EW5                     100                 18   \n4          OBRAS     DSE090511EW5                     100                 19   \n5          OBRAS     TVC8607234U2                     100                 23   \n6         GASTOS     TVC8607234U2                     100                 24   \n7         GASTOS     ABS110113195                     100                 27   \n8          OBRAS     ABS110113195                     100                 28   \n9          OBRAS     DUO7511286H3                     100                 37   \n\n   TEMP_EXT_BANK_ACCT_ID   BANK_NAME  BRANCH_NAME COUNTRY_CODE  \\\n0                      9        HSBC  PROVEEDORES           MX   \n1                     12     BANORTE  PROVEEDORES           MX   \n2                     13     BANORTE  PROVEEDORES           MX   \n3                     18      AFIRME  PROVEEDORES           MX   \n4                     19      AFIRME  PROVEEDORES           MX   \n5                     23  SCOTIABANK  PROVEEDORES           MX   \n6                     24  SCOTIABANK  PROVEEDORES           MX   \n7                     27   SANTANDER  PROVEEDORES           MX   \n8                     28   SANTANDER  PROVEEDORES           MX   \n9                     37     BANAMEX  PROVEEDORES           MX   \n\n   BANK_ACCOUNT_NAME  BANK_ACCOUNT_NUM  ... ATTRIBUTE7 ATTRIBUTE8  ATTRIBUTE9  \\\n0                NaN      4.057367e+09  ...        NaN        NaN         NaN   \n1                NaN      8.083514e+08  ...        NaN        NaN         NaN   \n2                NaN      8.083514e+08  ...        NaN        NaN         NaN   \n3                NaN      1.081199e+08  ...        NaN        NaN         NaN   \n4                NaN      1.081199e+08  ...        NaN        NaN         NaN   \n5                NaN      1.066360e+08  ...        NaN        NaN         NaN   \n6                NaN      1.066360e+08  ...        NaN        NaN         NaN   \n7                NaN      2.001660e+09  ...        NaN        NaN         NaN   \n8                NaN      2.001660e+09  ...        NaN        NaN         NaN   \n9                NaN      4.680781e+07  ...        NaN        NaN         NaN   \n\n   ATTRIBUTE10  ATTRIBUTE11  ATTRIBUTE12  ATTRIBUTE13  ATTRIBUTE14  \\\n0          NaN          NaN          NaN          NaN          NaN   \n1          NaN          NaN          NaN          NaN          NaN   \n2          NaN          NaN          NaN          NaN          NaN   \n3          NaN          NaN          NaN          NaN          NaN   \n4          NaN          NaN          NaN          NaN          NaN   \n5          NaN          NaN          NaN          NaN          NaN   \n6          NaN          NaN          NaN          NaN          NaN   \n7          NaN          NaN          NaN          NaN          NaN   \n8          NaN          NaN          NaN          NaN          NaN   \n9          NaN          NaN          NaN          NaN          NaN   \n\n   ATTRIBUTE15  CLABE_VALIDATION  \n0          NaN              True  \n1          NaN              True  \n2          NaN              True  \n3          NaN              True  \n4          NaN              True  \n5          NaN              True  \n6          NaN              True  \n7          NaN              True  \n8          NaN              True  \n9          NaN              True  \n\n[10 rows x 42 columns]\n"
     ]
    }
   ],
   "source": [
    "modDf = df\n",
    "modDf['CLABE_VALIDATION'] = False\n",
    "modDf['ATTRIBUTE1'] = modDf['ATTRIBUTE1'].astype(str)\n",
    "for index, row in modDf.iterrows():\n",
    "    if len(row['ATTRIBUTE1'].replace('.0',''))==18:\n",
    "        modDf.loc[index, 'CLABE_VALIDATION'] = True\n",
    "modDf = modDf[modDf['NUMERO_PROVEEDOR'].notna()]\n",
    "print('the orignal dataset contains ', len(df.index), ' records')\n",
    "print('the modified dataset contains ', len(modDf.index), ' records.')\n",
    "print(modDf.head(10))"
   ]
  },
  {
   "source": [
    "### Step 5 - Creates a subset with elements whose taxt id and bank account are valid"
   ],
   "cell_type": "markdown",
   "metadata": {}
  },
  {
   "cell_type": "code",
   "execution_count": 7,
   "metadata": {},
   "outputs": [
    {
     "output_type": "stream",
     "name": "stdout",
     "text": [
      "171966  records in original dataset\n164836  records with a valid bank account (18 digits)\n"
     ]
    }
   ],
   "source": [
    "subSetDf = modDf[modDf['CLABE_VALIDATION']==True]\n",
    "print(len(modDf.index) ,' records in original dataset')\n",
    "print(len(subSetDf.index), ' records with a valid bank account (18 digits)')"
   ]
  },
  {
   "source": [
    "### Step 6 - Performs analysis for duplicate records based on taxt id or supplier id"
   ],
   "cell_type": "markdown",
   "metadata": {}
  },
  {
   "cell_type": "code",
   "execution_count": 8,
   "metadata": {},
   "outputs": [
    {
     "output_type": "stream",
     "name": "stdout",
     "text": [
      "76565  taxt ids in daset\n",
      "193  unique taxt ids\n",
      "76372  duplicate taxt ids\n",
      "GASTOS , 74841\n",
      "OBRAS , 74826\n",
      "MOTOR DE SEGUIMIENTO , 11147\n",
      "CONSTRUNET , 1913\n",
      "SIM , 1913\n",
      "NEGOCIOS AFILIADOS , 107\n",
      "TECNOLOGIA , 59\n",
      "SIE , 11\n",
      "MARKETPLACE , 10\n",
      "REFACCIONARIA , 8\n",
      "PORTAL SARI , 1\n"
     ]
    }
   ],
   "source": [
    "sql_query = '''\n",
    "SELECT NUMERO_PROVEEDOR,COUNT(*) AS numObs FROM subSetDf\n",
    "GROUP BY NUMERO_PROVEEDOR\n",
    "ORDER BY numObs DESC\n",
    "'''\n",
    "dupsAnalysis = ps.sqldf(sql_query)\n",
    "print(len(dupsAnalysis.index), ' taxt ids in daset')\n",
    "uniqueTaxdIds = dupsAnalysis[dupsAnalysis['numObs']==1]\n",
    "print(len(uniqueTaxdIds.index), ' unique taxt ids')\n",
    "duplicateTaxdIds = dupsAnalysis[dupsAnalysis['numObs']>1]\n",
    "print(len(duplicateTaxdIds.index), ' duplicate taxt ids')\n",
    "#\n",
    "sql_query = '''\n",
    "SELECT SISTEMA_LEGADO,COUNT(*) AS numObs FROM \n",
    "(SELECT SISTEMA_LEGADO,NUMERO_PROVEEDOR FROM subSetDf)\n",
    "GROUP BY SISTEMA_LEGADO\n",
    "ORDER BY numObs DESC\n",
    "'''\n",
    "distPerLegacy = ps.sqldf(sql_query)\n",
    "for index, row in distPerLegacy.iterrows():\n",
    "    print(row['SISTEMA_LEGADO'], ',', row['numObs'])"
   ]
  },
  {
   "cell_type": "code",
   "execution_count": 9,
   "metadata": {},
   "outputs": [
    {
     "output_type": "stream",
     "name": "stdout",
     "text": [
      "unique taxt ids: \n      NUMERO_PROVEEDOR  numObs\n76372            16291       1\n76373            16826       1\n76374            17147       1\n76375             1796       1\n76376            18005       1\n76377            18247       1\n76378            18337       1\n76379            18434       1\n76380            18606       1\n76381            18798       1\nduplicate taxt ids: \n   NUMERO_PROVEEDOR  numObs\n0             20539      27\n1      DBM000228J35      14\n2      ASO0408178B2      12\n3      PMC9601107JA      12\n4             19546      10\n..              ...     ...\n95            36928       5\n96            37929       5\n97            38728       5\n98            40530       5\n99            40834       5\n\n[100 rows x 2 columns]\n"
     ]
    }
   ],
   "source": [
    "print('unique taxt ids: ')\n",
    "print(uniqueTaxdIds.head(10))\n",
    "print('duplicate taxt ids: ')\n",
    "print(duplicateTaxdIds.head(100))"
   ]
  },
  {
   "cell_type": "code",
   "execution_count": 10,
   "metadata": {},
   "outputs": [
    {
     "output_type": "stream",
     "name": "stdout",
     "text": [
      "27  duplicates,  1  cases\n14  duplicates,  1  cases\n12  duplicates,  2  cases\n10  duplicates,  3  cases\n9  duplicates,  2  cases\n8  duplicates,  18  cases\n7  duplicates,  5  cases\n6  duplicates,  50  cases\n5  duplicates,  24  cases\n4  duplicates,  98  cases\n3  duplicates,  11203  cases\n2  duplicates,  64965  cases\n"
     ]
    }
   ],
   "source": [
    "sql_query = '''\n",
    "SELECT numObs,COUNT(*) AS NumCases FROM duplicateTaxdIds\n",
    "GROUP BY numObs\n",
    "ORDER BY numObs DESC\n",
    "'''\n",
    "result = ps.sqldf(sql_query)\n",
    "for index, row in result.iterrows():\n",
    "    print(row['numObs'], ' duplicates, ', row['NumCases'], ' cases')"
   ]
  },
  {
   "source": [
    "### Step 7 - Perfoms analysis of distribution of accounts per supplier"
   ],
   "cell_type": "markdown",
   "metadata": {}
  },
  {
   "cell_type": "code",
   "execution_count": 12,
   "metadata": {},
   "outputs": [
    {
     "output_type": "stream",
     "name": "stdout",
     "text": [
      "14 ,  1\n27 ,  1\n9 ,  2\n12 ,  2\n7 ,  5\n10 ,  5\n8 ,  22\n5 ,  28\n6 ,  53\n4 ,  121\n1 ,  179\n3 ,  11207\n2 ,  68440\n"
     ]
    }
   ],
   "source": [
    "sql_query = '''\n",
    "SELECT NUMERO_PROVEEDOR,COUNT(*) AS numObs FROM\n",
    "(SELECT NUMERO_PROVEEDOR,ATTRIBUTE1 FROM modDf)\n",
    "GROUP BY NUMERO_PROVEEDOR\n",
    "ORDER BY numObs DESC\n",
    "'''\n",
    "accountsPerSupplierDf = ps.sqldf(sql_query)\n",
    "sql_query = '''\n",
    "SELECT numObs,COUNT(*) AS numCases FROM accountsPerSupplierDf\n",
    "GROUP BY numObs\n",
    "ORDER BY numObs DESC\n",
    "'''\n",
    "result = ps.sqldf(sql_query)\n",
    "for index, row in result.iterrows():\n",
    "    print(row['numObs'], ', ', row['numCases'])"
   ]
  },
  {
   "source": [
    "### Step 7 - Create sets for duplicates elimination rules validation"
   ],
   "cell_type": "markdown",
   "metadata": {}
  },
  {
   "cell_type": "code",
   "execution_count": 31,
   "metadata": {},
   "outputs": [],
   "source": [
    "dupsSet1 = duplicateTaxdIds[duplicateTaxdIds['numObs']==2]\n",
    "dupsSet2 = duplicateTaxdIds[duplicateTaxdIds['numObs']==3]\n",
    "dupsSet3 = duplicateTaxdIds[duplicateTaxdIds['numObs']>3]"
   ]
  },
  {
   "cell_type": "code",
   "execution_count": 43,
   "metadata": {},
   "outputs": [
    {
     "output_type": "stream",
     "name": "stdout",
     "text": [
      "   SISTEMA_LEGADO NUMERO_PROVEEDOR  FEEDER_IMPORT_BATCH_ID  TEMP_EXT_PAYEE_ID  \\\n0          GASTOS     AME050428RN2                     100              16554   \n1          GASTOS     CES100929KP8                     100              29713   \n2          GASTOS     COR500328B10                     100              46860   \n3          GASTOS     CSB080408DB8                     100              45531   \n4          GASTOS     DIL1107085H3                     100              59935   \n5          GASTOS     EME030203JAA                     100              63648   \n6          GASTOS     FFM130226AY7                     100              72581   \n7          GASTOS     ISE0402136VA                     100             108358   \n8          GASTOS     MTE140127HH1                     100             149533   \n9          GASTOS     OCO131019H46                     100             162312   \n10         GASTOS     SAA1610043Q6                     100             199990   \n11         GASTOS     SIN120103HV4                     100             212516   \n12         GASTOS     SOI090605PD5                     100             215829   \n13         GASTOS     WLA161124IX4                     100             233957   \n\n    TEMP_EXT_BANK_ACCT_ID      BANK_NAME  BRANCH_NAME COUNTRY_CODE  \\\n0                   16538  BBVA BANCOMER  PROVEEDORES           MX   \n1                   29770  BBVA BANCOMER  PROVEEDORES           MX   \n2                   47107  BBVA BANCOMER  PROVEEDORES           MX   \n3                   45762  BBVA BANCOMER  PROVEEDORES           MX   \n4                   60493  BBVA BANCOMER  PROVEEDORES           MX   \n5                   64194  BBVA BANCOMER  PROVEEDORES           MX   \n6                   73300  BBVA BANCOMER  PROVEEDORES           MX   \n7                    9095  BBVA BANCOMER  PROVEEDORES           MX   \n8                   50190  BBVA BANCOMER  PROVEEDORES           MX   \n9                   63241  BBVA BANCOMER  PROVEEDORES           MX   \n10                   1007  BBVA BANCOMER  PROVEEDORES           MX   \n11                  13439  BBVA BANCOMER  PROVEEDORES           MX   \n12                  16777  BBVA BANCOMER  PROVEEDORES           MX   \n13                  34769  BBVA BANCOMER  PROVEEDORES           MX   \n\n    BANK_ACCOUNT_NAME  BANK_ACCOUNT_NUM  ... ATTRIBUTE6 ATTRIBUTE7  \\\n0                 NaN      1.596525e+08  ...        NaN        NaN   \n1                 NaN      3.136204e+08  ...        NaN        NaN   \n2                 NaN      1.968119e+08  ...        NaN        NaN   \n3                 NaN      1.631532e+08  ...        NaN        NaN   \n4                 NaN      1.900413e+08  ...        NaN        NaN   \n5                 NaN      1.009216e+08  ...        NaN        NaN   \n6                 NaN      1.927755e+08  ...        NaN        NaN   \n7                 NaN      1.432982e+08  ...        NaN        NaN   \n8                 NaN      2.877744e+06  ...        NaN        NaN   \n9                 NaN      1.985072e+08  ...        NaN        NaN   \n10                NaN      1.090613e+08  ...        NaN        NaN   \n11                NaN      7.003811e+09  ...        NaN        NaN   \n12                NaN      9.157660e+06  ...        NaN        NaN   \n13                NaN      1.102550e+08  ...        NaN        NaN   \n\n    ATTRIBUTE8  ATTRIBUTE9  ATTRIBUTE10  ATTRIBUTE11  ATTRIBUTE12  \\\n0          NaN         NaN          NaN          NaN          NaN   \n1          NaN         NaN          NaN          NaN          NaN   \n2          NaN         NaN          NaN          NaN          NaN   \n3          NaN         NaN          NaN          NaN          NaN   \n4          NaN         NaN          NaN          NaN          NaN   \n5          NaN         NaN          NaN          NaN          NaN   \n6          NaN         NaN          NaN          NaN          NaN   \n7          NaN         NaN          NaN          NaN          NaN   \n8          NaN         NaN          NaN          NaN          NaN   \n9          NaN         NaN          NaN          NaN          NaN   \n10         NaN         NaN          NaN          NaN          NaN   \n11         NaN         NaN          NaN          NaN          NaN   \n12         NaN         NaN          NaN          NaN          NaN   \n13         NaN         NaN          NaN          NaN          NaN   \n\n    ATTRIBUTE13  ATTRIBUTE14  ATTRIBUTE15  \n0           NaN          NaN          NaN  \n1           NaN          NaN          NaN  \n2           NaN          NaN          NaN  \n3           NaN          NaN          NaN  \n4           NaN          NaN          NaN  \n5           NaN          NaN          NaN  \n6           NaN          NaN          NaN  \n7           NaN          NaN          NaN  \n8           NaN          NaN          NaN  \n9           NaN          NaN          NaN  \n10          NaN          NaN          NaN  \n11          NaN          NaN          NaN  \n12          NaN          NaN          NaN  \n13          NaN          NaN          NaN  \n\n[14 rows x 41 columns]\n"
     ]
    }
   ],
   "source": [
    "example1Df = uniqueTaxdIds.merge(subSetDf, on='NUMERO_PROVEEDOR', how='left')\n",
    "example1Df = example1Df[['SISTEMA_LEGADO','NUMERO_PROVEEDOR','FEEDER_IMPORT_BATCH_ID','TEMP_EXT_PAYEE_ID','TEMP_EXT_BANK_ACCT_ID',\n",
    "'BANK_NAME','BRANCH_NAME','COUNTRY_CODE','BANK_ACCOUNT_NAME','BANK_ACCOUNT_NUM','CURRENCY_CODE','FOREING_PAYMENT_USE_FLAG',\n",
    "'START_DATE','END_DATE','IBAN','CHECK_DIGITS','BANK_ACCOUNT_NAME_ALT','BANK_ACCOUNT_TYPE','ACCOUNT_SUFFIX','DESCRIPTION',\n",
    "'AGENCY_LOCATION_CODE','EXCHANGE_RATE_AGREEMENT_NUM','EXCHANGE_RATE_AGREEMENT_TYPE','EXCHANGE_RATE','SECONDARY_ACCOUNT_REFERENCE',\n",
    "'ATTRIBUTE_CATEGORY','ATTRIBUTE1','ATTRIBUTE2','ATTRIBUTE3','ATTRIBUTE4','ATTRIBUTE5','ATTRIBUTE6','ATTRIBUTE7','ATTRIBUTE8',\n",
    "'ATTRIBUTE9','ATTRIBUTE10','ATTRIBUTE11','ATTRIBUTE12','ATTRIBUTE13','ATTRIBUTE14','ATTRIBUTE15']]\n",
    "print(example1Df)\n",
    "example1Df.to_csv(Path(workFolder, '5.2 Bank Accounts - RFCS Unicos.csv'), encoding='utf-8')"
   ]
  },
  {
   "cell_type": "code",
   "execution_count": 46,
   "metadata": {},
   "outputs": [
    {
     "output_type": "stream",
     "name": "stdout",
     "text": [
      "  SISTEMA_LEGADO NUMERO_PROVEEDOR  FEEDER_IMPORT_BATCH_ID  TEMP_EXT_PAYEE_ID  \\\n0         GASTOS     &JE040614N51                     100                139   \n1          OBRAS     &JE040614N51                     100                140   \n2         GASTOS    00AL570409DC8                     100             166443   \n3          OBRAS    00AL570409DC8                     100             166445   \n4          OBRAS    00BR5103152L7                     100             164158   \n5         GASTOS    00BR5103152L7                     100             164159   \n6          OBRAS    00CE810603TI4                     100             164715   \n7         GASTOS    00CE810603TI4                     100             164716   \n8         GASTOS     A&G060523IW9                     100              52878   \n9          OBRAS     A&G060523IW9                     100              52879   \n\n   TEMP_EXT_BANK_ACCT_ID      BANK_NAME  BRANCH_NAME COUNTRY_CODE  \\\n0                    134  BBVA BANCOMER  PROVEEDORES           MX   \n1                    135  BBVA BANCOMER  PROVEEDORES           MX   \n2                  67376  BBVA BANCOMER  PROVEEDORES           MX   \n3                  67378  BBVA BANCOMER  PROVEEDORES           MX   \n4                  65088      BANCOPPEL  PROVEEDORES           MX   \n5                  65089      BANCOPPEL  PROVEEDORES           MX   \n6                  65649      BANCOPPEL  PROVEEDORES           MX   \n7                  65650      BANCOPPEL  PROVEEDORES           MX   \n8                  53258      SANTANDER  PROVEEDORES           MX   \n9                  53259      SANTANDER  PROVEEDORES           MX   \n\n   BANK_ACCOUNT_NAME  BANK_ACCOUNT_NUM  ... ATTRIBUTE6 ATTRIBUTE7  ATTRIBUTE8  \\\n0                NaN      1.452968e+08  ...        NaN        NaN         NaN   \n1                NaN      1.452968e+08  ...        NaN        NaN         NaN   \n2                NaN      1.424712e+09  ...        NaN        NaN         NaN   \n3                NaN      1.424712e+09  ...        NaN        NaN         NaN   \n4                NaN      4.238982e+08  ...        NaN        NaN         NaN   \n5                NaN      4.238982e+08  ...        NaN        NaN         NaN   \n6                NaN      3.200731e+08  ...        NaN        NaN         NaN   \n7                NaN      3.200731e+08  ...        NaN        NaN         NaN   \n8                NaN      9.200060e+09  ...        NaN        NaN         NaN   \n9                NaN      9.200060e+09  ...        NaN        NaN         NaN   \n\n   ATTRIBUTE9  ATTRIBUTE10  ATTRIBUTE11  ATTRIBUTE12  ATTRIBUTE13  \\\n0         NaN          NaN          NaN          NaN          NaN   \n1         NaN          NaN          NaN          NaN          NaN   \n2         NaN          NaN          NaN          NaN          NaN   \n3         NaN          NaN          NaN          NaN          NaN   \n4         NaN          NaN          NaN          NaN          NaN   \n5         NaN          NaN          NaN          NaN          NaN   \n6         NaN          NaN          NaN          NaN          NaN   \n7         NaN          NaN          NaN          NaN          NaN   \n8         NaN          NaN          NaN          NaN          NaN   \n9         NaN          NaN          NaN          NaN          NaN   \n\n   ATTRIBUTE14  ATTRIBUTE15  \n0          NaN          NaN  \n1          NaN          NaN  \n2          NaN          NaN  \n3          NaN          NaN  \n4          NaN          NaN  \n5          NaN          NaN  \n6          NaN          NaN  \n7          NaN          NaN  \n8          NaN          NaN  \n9          NaN          NaN  \n\n[10 rows x 41 columns]\n"
     ]
    }
   ],
   "source": [
    "example2Df = dupsSet1.merge(subSetDf, on='NUMERO_PROVEEDOR', how='left')\n",
    "example2Df = example2Df[['SISTEMA_LEGADO','NUMERO_PROVEEDOR','FEEDER_IMPORT_BATCH_ID','TEMP_EXT_PAYEE_ID','TEMP_EXT_BANK_ACCT_ID',\n",
    "'BANK_NAME','BRANCH_NAME','COUNTRY_CODE','BANK_ACCOUNT_NAME','BANK_ACCOUNT_NUM','CURRENCY_CODE','FOREING_PAYMENT_USE_FLAG',\n",
    "'START_DATE','END_DATE','IBAN','CHECK_DIGITS','BANK_ACCOUNT_NAME_ALT','BANK_ACCOUNT_TYPE','ACCOUNT_SUFFIX','DESCRIPTION',\n",
    "'AGENCY_LOCATION_CODE','EXCHANGE_RATE_AGREEMENT_NUM','EXCHANGE_RATE_AGREEMENT_TYPE','EXCHANGE_RATE','SECONDARY_ACCOUNT_REFERENCE',\n",
    "'ATTRIBUTE_CATEGORY','ATTRIBUTE1','ATTRIBUTE2','ATTRIBUTE3','ATTRIBUTE4','ATTRIBUTE5','ATTRIBUTE6','ATTRIBUTE7','ATTRIBUTE8',\n",
    "'ATTRIBUTE9','ATTRIBUTE10','ATTRIBUTE11','ATTRIBUTE12','ATTRIBUTE13','ATTRIBUTE14','ATTRIBUTE15']]\n",
    "print(example2Df.head(10))\n",
    "example2Df.to_csv(Path(workFolder, '5.2 Bank Accounts - RFCS Duplicados -2.csv'), encoding='utf-8')"
   ]
  },
  {
   "cell_type": "code",
   "execution_count": 47,
   "metadata": {},
   "outputs": [
    {
     "output_type": "stream",
     "name": "stdout",
     "text": [
      "         SISTEMA_LEGADO NUMERO_PROVEEDOR  FEEDER_IMPORT_BATCH_ID  \\\n0                GASTOS    AAAA680827Q89                     100   \n1                 OBRAS    AAAA680827Q89                     100   \n2  MOTOR DE SEGUIMIENTO    AAAA680827Q89                     100   \n3                GASTOS    AAAB950402HX6                     100   \n4                 OBRAS    AAAB950402HX6                     100   \n5  MOTOR DE SEGUIMIENTO    AAAB950402HX6                     100   \n6                GASTOS    AAAD590706PW8                     100   \n7                 OBRAS    AAAD590706PW8                     100   \n8  MOTOR DE SEGUIMIENTO    AAAD590706PW8                     100   \n9                GASTOS    AAAE551201CT0                     100   \n\n   TEMP_EXT_PAYEE_ID  TEMP_EXT_BANK_ACCT_ID  BANK_NAME  BRANCH_NAME  \\\n0               7301                   7306  BANCOPPEL  PROVEEDORES   \n1               7302                   7307  BANCOPPEL  PROVEEDORES   \n2             115765                  16498  BANCOPPEL  PROVEEDORES   \n3               8407                   8408  BANCOPPEL  PROVEEDORES   \n4               8408                   8409  BANCOPPEL  PROVEEDORES   \n5              25594                  25624  BANCOPPEL  PROVEEDORES   \n6               7375                   7379  BANCOPPEL  PROVEEDORES   \n7               7376                   7380  BANCOPPEL  PROVEEDORES   \n8             135572                  36277  BANCOPPEL  PROVEEDORES   \n9              18329                  18342  BANCOPPEL  PROVEEDORES   \n\n  COUNTRY_CODE  BANK_ACCOUNT_NAME  BANK_ACCOUNT_NUM  ... ATTRIBUTE6  \\\n0           MX                NaN      1.041455e+10  ...        NaN   \n1           MX                NaN      1.041455e+10  ...        NaN   \n2           MX                NaN      1.041455e+10  ...        NaN   \n3           MX                NaN      1.020885e+10  ...        NaN   \n4           MX                NaN      1.020885e+10  ...        NaN   \n5           MX                NaN      1.020885e+10  ...        NaN   \n6           MX                NaN      1.040489e+10  ...        NaN   \n7           MX                NaN      1.040489e+10  ...        NaN   \n8           MX                NaN      1.040489e+10  ...        NaN   \n9           MX                NaN      1.012505e+10  ...        NaN   \n\n  ATTRIBUTE7  ATTRIBUTE8  ATTRIBUTE9  ATTRIBUTE10  ATTRIBUTE11  ATTRIBUTE12  \\\n0        NaN         NaN         NaN          NaN          NaN          NaN   \n1        NaN         NaN         NaN          NaN          NaN          NaN   \n2        NaN         NaN         NaN          NaN          NaN          NaN   \n3        NaN         NaN         NaN          NaN          NaN          NaN   \n4        NaN         NaN         NaN          NaN          NaN          NaN   \n5        NaN         NaN         NaN          NaN          NaN          NaN   \n6        NaN         NaN         NaN          NaN          NaN          NaN   \n7        NaN         NaN         NaN          NaN          NaN          NaN   \n8        NaN         NaN         NaN          NaN          NaN          NaN   \n9        NaN         NaN         NaN          NaN          NaN          NaN   \n\n   ATTRIBUTE13  ATTRIBUTE14  ATTRIBUTE15  \n0          NaN          NaN          NaN  \n1          NaN          NaN          NaN  \n2          NaN          NaN          NaN  \n3          NaN          NaN          NaN  \n4          NaN          NaN          NaN  \n5          NaN          NaN          NaN  \n6          NaN          NaN          NaN  \n7          NaN          NaN          NaN  \n8          NaN          NaN          NaN  \n9          NaN          NaN          NaN  \n\n[10 rows x 41 columns]\n"
     ]
    }
   ],
   "source": [
    "example3Df = dupsSet2.merge(subSetDf, on='NUMERO_PROVEEDOR', how='left')\n",
    "example3Df = example3Df[['SISTEMA_LEGADO','NUMERO_PROVEEDOR','FEEDER_IMPORT_BATCH_ID','TEMP_EXT_PAYEE_ID','TEMP_EXT_BANK_ACCT_ID',\n",
    "'BANK_NAME','BRANCH_NAME','COUNTRY_CODE','BANK_ACCOUNT_NAME','BANK_ACCOUNT_NUM','CURRENCY_CODE','FOREING_PAYMENT_USE_FLAG',\n",
    "'START_DATE','END_DATE','IBAN','CHECK_DIGITS','BANK_ACCOUNT_NAME_ALT','BANK_ACCOUNT_TYPE','ACCOUNT_SUFFIX','DESCRIPTION',\n",
    "'AGENCY_LOCATION_CODE','EXCHANGE_RATE_AGREEMENT_NUM','EXCHANGE_RATE_AGREEMENT_TYPE','EXCHANGE_RATE','SECONDARY_ACCOUNT_REFERENCE',\n",
    "'ATTRIBUTE_CATEGORY','ATTRIBUTE1','ATTRIBUTE2','ATTRIBUTE3','ATTRIBUTE4','ATTRIBUTE5','ATTRIBUTE6','ATTRIBUTE7','ATTRIBUTE8',\n",
    "'ATTRIBUTE9','ATTRIBUTE10','ATTRIBUTE11','ATTRIBUTE12','ATTRIBUTE13','ATTRIBUTE14','ATTRIBUTE15']]\n",
    "print(example3Df.head(10))\n",
    "example3Df.to_csv(Path(workFolder, '5.2 Bank Accounts - RFCS Duplicados - 3.csv'), encoding='utf-8')"
   ]
  },
  {
   "cell_type": "code",
   "execution_count": 48,
   "metadata": {},
   "outputs": [
    {
     "output_type": "stream",
     "name": "stdout",
     "text": [
      "  SISTEMA_LEGADO NUMERO_PROVEEDOR  FEEDER_IMPORT_BATCH_ID  TEMP_EXT_PAYEE_ID  \\\n0         GASTOS     DBM000228J35                     100              56179   \n1         GASTOS     DBM000228J35                     100              56179   \n2         GASTOS     DBM000228J35                     100              56179   \n3         GASTOS     DBM000228J35                     100              56179   \n4         GASTOS     DBM000228J35                     100              56179   \n5         GASTOS     DBM000228J35                     100              56179   \n6         GASTOS     DBM000228J35                     100              56179   \n7          OBRAS     DBM000228J35                     100              56185   \n8          OBRAS     DBM000228J35                     100              56185   \n9          OBRAS     DBM000228J35                     100              56185   \n\n   TEMP_EXT_BANK_ACCT_ID      BANK_NAME  BRANCH_NAME COUNTRY_CODE  \\\n0                  56702  BBVA BANCOMER  PROVEEDORES           MX   \n1                  56704  BBVA BANCOMER  PROVEEDORES           MX   \n2                  56699  BBVA BANCOMER  PROVEEDORES           MX   \n3                  56698  BBVA BANCOMER  PROVEEDORES           MX   \n4                  56703  BBVA BANCOMER  PROVEEDORES           MX   \n5                  56700  BBVA BANCOMER  PROVEEDORES           MX   \n6                  56701        BANORTE  PROVEEDORES           MX   \n7                  56713        BANORTE  PROVEEDORES           MX   \n8                  56715  BBVA BANCOMER  PROVEEDORES           MX   \n9                  56714  BBVA BANCOMER  PROVEEDORES           MX   \n\n   BANK_ACCOUNT_NAME  BANK_ACCOUNT_NUM  ... ATTRIBUTE6 ATTRIBUTE7  ATTRIBUTE8  \\\n0                NaN       188343284.0  ...        NaN        NaN         NaN   \n1                NaN       175384133.0  ...        NaN        NaN         NaN   \n2                NaN       147442092.0  ...        NaN        NaN         NaN   \n3                NaN       158099162.0  ...        NaN        NaN         NaN   \n4                NaN       191573624.0  ...        NaN        NaN         NaN   \n5                NaN       195797209.0  ...        NaN        NaN         NaN   \n6                NaN       692176582.0  ...        NaN        NaN         NaN   \n7                NaN       692176582.0  ...        NaN        NaN         NaN   \n8                NaN       158099162.0  ...        NaN        NaN         NaN   \n9                NaN       147442092.0  ...        NaN        NaN         NaN   \n\n   ATTRIBUTE9  ATTRIBUTE10  ATTRIBUTE11  ATTRIBUTE12  ATTRIBUTE13  \\\n0         NaN          NaN          NaN          NaN          NaN   \n1         NaN          NaN          NaN          NaN          NaN   \n2         NaN          NaN          NaN          NaN          NaN   \n3         NaN          NaN          NaN          NaN          NaN   \n4         NaN          NaN          NaN          NaN          NaN   \n5         NaN          NaN          NaN          NaN          NaN   \n6         NaN          NaN          NaN          NaN          NaN   \n7         NaN          NaN          NaN          NaN          NaN   \n8         NaN          NaN          NaN          NaN          NaN   \n9         NaN          NaN          NaN          NaN          NaN   \n\n   ATTRIBUTE14  ATTRIBUTE15  \n0          NaN          NaN  \n1          NaN          NaN  \n2          NaN          NaN  \n3          NaN          NaN  \n4          NaN          NaN  \n5          NaN          NaN  \n6          NaN          NaN  \n7          NaN          NaN  \n8          NaN          NaN  \n9          NaN          NaN  \n\n[10 rows x 41 columns]\n"
     ]
    }
   ],
   "source": [
    "example4Df = dupsSet3.merge(subSetDf, on='NUMERO_PROVEEDOR', how='left')\n",
    "example4Df = example4Df[['SISTEMA_LEGADO','NUMERO_PROVEEDOR','FEEDER_IMPORT_BATCH_ID','TEMP_EXT_PAYEE_ID','TEMP_EXT_BANK_ACCT_ID',\n",
    "'BANK_NAME','BRANCH_NAME','COUNTRY_CODE','BANK_ACCOUNT_NAME','BANK_ACCOUNT_NUM','CURRENCY_CODE','FOREING_PAYMENT_USE_FLAG',\n",
    "'START_DATE','END_DATE','IBAN','CHECK_DIGITS','BANK_ACCOUNT_NAME_ALT','BANK_ACCOUNT_TYPE','ACCOUNT_SUFFIX','DESCRIPTION',\n",
    "'AGENCY_LOCATION_CODE','EXCHANGE_RATE_AGREEMENT_NUM','EXCHANGE_RATE_AGREEMENT_TYPE','EXCHANGE_RATE','SECONDARY_ACCOUNT_REFERENCE',\n",
    "'ATTRIBUTE_CATEGORY','ATTRIBUTE1','ATTRIBUTE2','ATTRIBUTE3','ATTRIBUTE4','ATTRIBUTE5','ATTRIBUTE6','ATTRIBUTE7','ATTRIBUTE8',\n",
    "'ATTRIBUTE9','ATTRIBUTE10','ATTRIBUTE11','ATTRIBUTE12','ATTRIBUTE13','ATTRIBUTE14','ATTRIBUTE15']]\n",
    "print(example4Df.head(10))\n",
    "example4Df.to_csv(Path(workFolder, '5.2 Bank Accounts - RFCS Duplicados > 3.csv'), encoding='utf-8')"
   ]
  },
  {
   "cell_type": "code",
   "execution_count": 51,
   "metadata": {},
   "outputs": [
    {
     "output_type": "stream",
     "name": "stdout",
     "text": [
      "160814  records of interest.\n"
     ]
    }
   ],
   "source": [
    "#sql_query = '''\n",
    "#SELECT DISTINCT SISTEMA_LEGADO,NUMERO_PROVEEDOR,FEEDER_IMPORT_BATCH_ID,TEMP_EXT_PAYEE_ID,\n",
    "#TEMP_EXT_BANK_ACCT_ID,BANK_NAME,BRANCH_NAME,COUNTRY_CODE,BANK_ACCOUNT_NUM,CURRENCY_CODE,\n",
    "#FOREING_PAYMENT_USE_FLAG,ATTRIBUTE1\n",
    "#FROM subSetDf\n",
    "#'''\n",
    "dataToSave = ps.sqldf(sql_query)\n",
    "datatoSave = subSetDf[['SISTEMA_LEGADO','NUMERO_PROVEEDOR','FEEDER_IMPORT_BATCH_ID','TEMP_EXT_PAYEE_ID','TEMP_EXT_BANK_ACCT_ID',\n",
    "'BANK_NAME','BRANCH_NAME','COUNTRY_CODE','BANK_ACCOUNT_NAME','BANK_ACCOUNT_NUM','CURRENCY_CODE','FOREING_PAYMENT_USE_FLAG',\n",
    "'START_DATE','END_DATE','IBAN','CHECK_DIGITS','BANK_ACCOUNT_NAME_ALT','BANK_ACCOUNT_TYPE','ACCOUNT_SUFFIX','DESCRIPTION',\n",
    "'AGENCY_LOCATION_CODE','EXCHANGE_RATE_AGREEMENT_NUM','EXCHANGE_RATE_AGREEMENT_TYPE','EXCHANGE_RATE','SECONDARY_ACCOUNT_REFERENCE',\n",
    "'ATTRIBUTE_CATEGORY','ATTRIBUTE1','ATTRIBUTE2','ATTRIBUTE3','ATTRIBUTE4','ATTRIBUTE5','ATTRIBUTE6','ATTRIBUTE7','ATTRIBUTE8',\n",
    "'ATTRIBUTE9','ATTRIBUTE10','ATTRIBUTE11','ATTRIBUTE12','ATTRIBUTE13','ATTRIBUTE14','ATTRIBUTE15']]\n",
    "print(len(dataToSave.index), ' records of interest.')\n",
    "dataToSave.to_csv(Path(workFolder, '5_2_Bank_Accounts.csv'), encoding='utf-8')"
   ]
  },
  {
   "cell_type": "code",
   "execution_count": null,
   "metadata": {},
   "outputs": [],
   "source": []
  }
 ]
}