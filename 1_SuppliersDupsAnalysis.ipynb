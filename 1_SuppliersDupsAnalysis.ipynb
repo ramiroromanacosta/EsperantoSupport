{
 "metadata": {
  "language_info": {
   "codemirror_mode": {
    "name": "ipython",
    "version": 3
   },
   "file_extension": ".py",
   "mimetype": "text/x-python",
   "name": "python",
   "nbconvert_exporter": "python",
   "pygments_lexer": "ipython3",
   "version": "3.7.12"
  },
  "orig_nbformat": 2,
  "kernelspec": {
   "name": "python3712jvsc74a57bd04cd7ab41f5fca4b9b44701077e38c5ffd31fe66a6cab21e0214b68d958d0e462",
   "display_name": "Python 3.7.12 64-bit"
  },
  "metadata": {
   "interpreter": {
    "hash": "4cd7ab41f5fca4b9b44701077e38c5ffd31fe66a6cab21e0214b68d958d0e462"
   }
  }
 },
 "nbformat": 4,
 "nbformat_minor": 2,
 "cells": [
  {
   "source": [
    "### Step 1. Load required packages"
   ],
   "cell_type": "markdown",
   "metadata": {}
  },
  {
   "cell_type": "code",
   "execution_count": 1,
   "metadata": {},
   "outputs": [],
   "source": [
    "import pandas as pd\n",
    "import pandasql as ps"
   ]
  },
  {
   "source": [
    "### Step 2 - Loads suppliers interface data"
   ],
   "cell_type": "markdown",
   "metadata": {}
  },
  {
   "cell_type": "code",
   "execution_count": 2,
   "metadata": {},
   "outputs": [
    {
     "output_type": "stream",
     "name": "stdout",
     "text": [
      "/content/drive/Shareddrives/Esperanto/Supports/Suppliers/1_Suppliers_Interface/1. SUPPLIERS_INTERFACE_COPPEL.csv\n",
      "=> Columns loaded\n",
      "SISTEMA_LEGADO\n",
      "NUMERO_PROVEEDOR\n",
      "BATCH_ID\n",
      "IMPORT_ACTION\n",
      "VENDOR_NAME\n",
      "VENDOR_NAME_NEW\n",
      "SEGMENT1\n",
      "VENDOR_NAME_ALT\n",
      "ORGANIZATION_TYPE_LOOKUP_CODE\n",
      "VENDOR_TYPE_LOOKUP_CODE\n",
      "END_DATE_ACTIVE\n",
      "BUSINESS_RELATIONSHIP\n",
      "PARENT_SUPPLIER_NAME\n",
      "ALIAS\n",
      "DUNS_NUMBER\n",
      "ONE_TIME_FLAG\n",
      "CUSTOMER_NUM\n",
      "STANDARD_INDUSTRY_CLASS\n",
      "NI_NUMBER\n",
      "CORPORATE_WEBSITE\n",
      "CHIEF_EXECUTIVE_TITLE\n",
      "CHIEF_EXECUTIVE_NAME\n",
      "BUS_CLASS_NOT_APPLICABLE\n",
      "TAX_COUNTRY_CODE\n",
      "NUM_1099\n",
      "FEDERAL_REPORTABLE_FLAG\n",
      "TYPE_1099\n",
      "STATE_REPORTABLE_FLAG\n",
      "TAX_REPORTING_NAME\n",
      "NAME_CONTROL\n",
      "TAX_VERIFICATION_DATE\n",
      "ALLOW_AWT_FLAG\n",
      "AWT_GROUP_NAME\n",
      "VAT_CODE\n",
      "VAT_REGISTRATION_NUM\n",
      "AUTO_TAX_CALC_OVERRIDE\n",
      "PAYMENT_METHOD_LOOKUP_CODE\n",
      "DELIVERY_CHANNEL\n",
      "BRANK_INSTRUCTION1\n",
      "BRANK_INSTRUCTION2\n",
      "BRANK_INSTRUCTION_DETAILS\n",
      "SETTLEMENT_PRIORITY\n",
      "PAYMENT_TEXT_MESSAGE_1\n",
      "PAYMENT_TEXT_MESSAGE_2\n",
      "PAYMENT_TEXT_MESSAGE_3\n",
      "IBY_BANK_CHARGE_BEARER\n",
      "PAYMENT_REASON_CODE\n",
      "PAYMENT_REASON_COMMENTS\n",
      "PAYMENT_FORMAT_CODE\n",
      "ATTRIBUTE_CATEGORY\n",
      "ATTRIBUTE1\n",
      "ATTRIBUTE2\n",
      "ATTRIBUTE3\n",
      "ATTRIBUTE4\n",
      "ATTRIBUTE5\n",
      "ATTRIBUTE6\n",
      "ATTRIBUTE7\n",
      "ATTRIBUTE8\n",
      "ATTRIBUTE9\n",
      "ATTRIBUTE10\n",
      "ATTRIBUTE11\n",
      "ATTRIBUTE12\n",
      "ATTRIBUTE13\n",
      "ATTRIBUTE14\n",
      "ATTRIBUTE15\n",
      "ATTRIBUTE16\n",
      "ATTRIBUTE17\n",
      "ATTRIBUTE18\n",
      "ATTRIBUTE19\n",
      "ATTRIBUTE20\n",
      "ATTRIBUTE_DATE1\n",
      "ATTRIBUTE_DATE2\n",
      "ATTRIBUTE_DATE3\n",
      "ATTRIBUTE_DATE4\n",
      "ATTRIBUTE_DATE5\n",
      "ATTRIBUTE_DATE6\n",
      "ATTRIBUTE_DATE7\n",
      "ATTRIBUTE_DATE8\n",
      "ATTRIBUTE_DATE9\n",
      "ATTRIBUTE_DATE10\n",
      "ATTRIBUTE_TIMESTAMP1\n",
      "ATTRIBUTE_TIMESTAMP2\n",
      "ATTRIBUTE_TIMESTAMP3\n",
      "ATTRIBUTE_TIMESTAMP4\n",
      "ATTRIBUTE_TIMESTAMP5\n",
      "ATTRIBUTE_TIMESTAMP6\n",
      "ATTRIBUTE_TIMESTAMP7\n",
      "ATTRIBUTE_TIMESTAMP8\n",
      "ATTRIBUTE_TIMESTAMP9\n",
      "ATTRIBUTE_TIMESTAMP10\n",
      "ATTRIBUTE_NUMBER1\n",
      "ATTRIBUTE_NUMBER2\n",
      "ATTRIBUTE_NUMBER3\n",
      "ATTRIBUTE_NUMBER4\n",
      "ATTRIBUTE_NUMBER5\n",
      "ATTRIBUTE_NUMBER6\n",
      "ATTRIBUTE_NUMBER7\n",
      "ATTRIBUTE_NUMBER8\n",
      "ATTRIBUTE_NUMBER9\n",
      "ATTRIBUTE_NUMBER10\n",
      "GLOBAL_ATTRIBUTE_CATEGORY\n",
      "GLOBAL_ATTRIBUTE1\n",
      "GLOBAL_ATTRIBUTE2\n",
      "GLOBAL_ATTRIBUTE3\n",
      "GLOBAL_ATTRIBUTE4\n",
      "GLOBAL_ATTRIBUTE5\n",
      "GLOBAL_ATTRIBUTE6\n",
      "GLOBAL_ATTRIBUTE7\n",
      "GLOBAL_ATTRIBUTE8\n",
      "GLOBAL_ATTRIBUTE9\n",
      "GLOBAL_ATTRIBUTE10\n",
      "GLOBAL_ATTRIBUTE11\n",
      "GLOBAL_ATTRIBUTE12\n",
      "GLOBAL_ATTRIBUTE13\n",
      "GLOBAL_ATTRIBUTE14\n",
      "GLOBAL_ATTRIBUTE15\n",
      "GLOBAL_ATTRIBUTE16\n",
      "GLOBAL_ATTRIBUTE17\n",
      "GLOBAL_ATTRIBUTE18\n",
      "GLOBAL_ATTRIBUTE19\n",
      "GLOBAL_ATTRIBUTE20\n",
      "GLOBAL_ATTRIBUTE_DATE1\n",
      "GLOBAL_ATTRIBUTE_DATE2\n",
      "GLOBAL_ATTRIBUTE_DATE3\n",
      "GLOBAL_ATTRIBUTE_DATE4\n",
      "GLOBAL_ATTRIBUTE_DATE5\n",
      "GLOBAL_ATTRIBUTE_DATE6\n",
      "GLOBAL_ATTRIBUTE_DATE7\n",
      "GLOBAL_ATTRIBUTE_DATE8\n",
      "GLOBAL_ATTRIBUTE_DATE9\n",
      "GLOBAL_ATTRIBUTE_DATE10\n",
      "GLOBAL_ATTRIBUTE_TIMESTAMP1\n",
      "GLOBAL_ATTRIBUTE_TIMESTAMP2\n",
      "GLOBAL_ATTRIBUTE_TIMESTAMP3\n",
      "GLOBAL_ATTRIBUTE_TIMESTAMP4\n",
      "GLOBAL_ATTRIBUTE_TIMESTAMP5\n",
      "GLOBAL_ATTRIBUTE_TIMESTAMP6\n",
      "GLOBAL_ATTRIBUTE_TIMESTAMP7\n",
      "GLOBAL_ATTRIBUTE_TIMESTAMP8\n",
      "GLOBAL_ATTRIBUTE_TIMESTAMP9\n",
      "GLOBAL_ATTRIBUTE_TIMESTAMP10\n",
      "GLOBAL_ATTRIBUTE_NUMBER1\n",
      "GLOBAL_ATTRIBUTE_NUMBER2\n",
      "GLOBAL_ATTRIBUTE_NUMBER3\n",
      "GLOBAL_ATTRIBUTE_NUMBER4\n",
      "GLOBAL_ATTRIBUTE_NUMBER5\n",
      "GLOBAL_ATTRIBUTE_NUMBER6\n",
      "GLOBAL_ATTRIBUTE_NUMBER7\n",
      "GLOBAL_ATTRIBUTE_NUMBER8\n",
      "GLOBAL_ATTRIBUTE_NUMBER9\n",
      "GLOBAL_ATTRIBUTE_NUMBER10\n",
      "PARTY_NUMBER\n",
      "SERVICE_LEVEL_CODE\n",
      "EXCLUSIVE_PAYMENT_FLAG\n",
      "REMIT_ADVICE_DELIVERY_METHOD\n",
      "REMIT_ADVICE_EMAIL\n",
      "REMIT_ADVICE_FAX\n",
      "DATAFOX_COMPANY_ID\n",
      "171549  records loaded\n"
     ]
    }
   ],
   "source": [
    "\n",
    "from custom_procedures import newestFile\n",
    "sourceFolder = '/content/drive/Shareddrives/Esperanto/Supports/Suppliers/1_Suppliers_Interface'\n",
    "workFolder = '/content/drive/Shareddrives/Esperanto/Supports/Suppliers/Work/1_Suppliers_Interface'\n",
    "sourceFile = newestFile(sourceFolder)\n",
    "if sourceFile:\n",
    "    print(sourceFile)\n",
    "    df = pd.read_csv(sourceFile, sep=';', quotechar=chr(39), encoding='latin-1')\n",
    "    print('=> Columns loaded')\n",
    "    for columnName in df.columns: \n",
    "        print(columnName)\n",
    "print(len(df.index),' records loaded')"
   ]
  },
  {
   "source": [
    "### Step 3 - Find duplicates by NUM_1099"
   ],
   "cell_type": "markdown",
   "metadata": {}
  },
  {
   "cell_type": "code",
   "execution_count": 3,
   "metadata": {},
   "outputs": [
    {
     "output_type": "stream",
     "name": "stdout",
     "text": [
      "Total number of records,  78584\n",
      "Total number unique records,  257\n",
      "Total number unique records,  78327\n"
     ]
    }
   ],
   "source": [
    "sql_query = '''\n",
    "SELECT NUM_1099,numObs FROM\n",
    "(SELECT NUM_1099,COUNT(*) AS numObs FROM df\n",
    "GROUP BY NUM_1099)\n",
    "ORDER BY numObs DESC\n",
    "'''\n",
    "dupsAnalysisDf = ps.sqldf(sql_query)\n",
    "print('Total number of records, ', len(dupsAnalysisDf.index))\n",
    "#\n",
    "sql_query = '''\n",
    "SELECT * FROM dupsAnalysisDf\n",
    "WHERE numObs=1\n",
    "ORDER BY NUM_1099 ASC\n",
    "'''\n",
    "uniqueRecordsDf = ps.sqldf(sql_query)\n",
    "print('Total number unique records, ', len(uniqueRecordsDf.index))\n",
    "#\n",
    "sql_query = '''\n",
    "SELECT * FROM dupsAnalysisDf\n",
    "WHERE numObs>1\n",
    "ORDER BY numObs DESC\n",
    "'''\n",
    "duplicateRecordsDf = ps.sqldf(sql_query)\n",
    "print('Total number unique records, ', len(duplicateRecordsDf.index))"
   ]
  },
  {
   "source": [
    "### Step 4 - Asigns a case number to each duplicate record"
   ],
   "cell_type": "markdown",
   "metadata": {}
  },
  {
   "cell_type": "code",
   "execution_count": 4,
   "metadata": {},
   "outputs": [
    {
     "output_type": "stream",
     "name": "stdout",
     "text": [
      "Index(['NUM_1099', 'numObs', 'caseNum'], dtype='object')\n",
      "78328  Number of cases to be inspected.\n",
      "            NUM_1099  numObs  caseNum\n",
      "0      SACE650728LK6      10        1\n",
      "1       DBM000228J35       8        2\n",
      "2      MOEC6102155J0       7        3\n",
      "3       AMC950330JM3       6        4\n",
      "4       GSI910222KY9       6        5\n",
      "...              ...     ...      ...\n",
      "78322  ZUVJ9804029R8       2    78323\n",
      "78323  ZUVY870930DQ5       2    78324\n",
      "78324  ZUZD751014A10       2    78325\n",
      "78325  ZUZM690116CK1       2    78326\n",
      "78326  ZUZP751127FU3       2    78327\n",
      "\n",
      "[78327 rows x 3 columns]\n"
     ]
    }
   ],
   "source": [
    "duplicateRecordsDf['caseNum'] = 0\n",
    "duplicateRecordsDf['caseNum'].astype(int)\n",
    "print(duplicateRecordsDf.columns)\n",
    "caseNum = 1\n",
    "for index, row in duplicateRecordsDf.iterrows():\n",
    "    duplicateRecordsDf.loc[index, 'caseNum'] = caseNum\n",
    "    caseNum +=1\n",
    "print(caseNum, ' Number of cases to be inspected.')\n",
    "print(duplicateRecordsDf)"
   ]
  },
  {
   "source": [
    "### Step 5 - Validate the number of duplicater per cases matches the total number of records"
   ],
   "cell_type": "markdown",
   "metadata": {}
  },
  {
   "cell_type": "code",
   "execution_count": 5,
   "metadata": {},
   "outputs": [
    {
     "output_type": "stream",
     "name": "stdout",
     "text": [
      "171292  records contained in  78328  cases.\n"
     ]
    }
   ],
   "source": [
    "numRecordsVal = 0\n",
    "for index, row in duplicateRecordsDf.iterrows():\n",
    "    numRecordsVal = numRecordsVal + int(row['numObs'])\n",
    "print(numRecordsVal, ' records contained in ', caseNum, ' cases.')"
   ]
  },
  {
   "source": [
    "### Step 6 - Save dataframes to csv files"
   ],
   "cell_type": "markdown",
   "metadata": {}
  },
  {
   "cell_type": "code",
   "execution_count": 19,
   "metadata": {},
   "outputs": [
    {
     "output_type": "stream",
     "name": "stdout",
     "text": [
      "            NUM_1099  numObs  caseNum\n0      SACE650728LK6      10        1\n1       DBM000228J35       8        2\n2      MOEC6102155J0       7        3\n3       AMC950330JM3       6        4\n4       GSI910222KY9       6        5\n...              ...     ...      ...\n78322  ZUVJ9804029R8       2    78323\n78323  ZUVY870930DQ5       2    78324\n78324  ZUZD751014A10       2    78325\n78325  ZUZM690116CK1       2    78326\n78326  ZUZP751127FU3       2    78327\n\n[78327 rows x 3 columns]\n"
     ]
    }
   ],
   "source": [
    "print(dupsAnalysisDf)"
   ]
  }
 ]
}